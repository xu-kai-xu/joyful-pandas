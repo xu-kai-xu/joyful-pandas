{
 "cells": [
  {
   "cell_type": "markdown",
   "metadata": {},
   "source": [
    "<center><h1>第十章 时序数据</h1></center>"
   ]
  },
  {
   "cell_type": "code",
   "execution_count": 1,
   "metadata": {},
   "outputs": [],
   "source": [
    "import numpy as np\n",
    "import pandas as pd"
   ]
  },
  {
   "cell_type": "markdown",
   "metadata": {},
   "source": [
    "## 一、时序中的基本对象\n",
    "\n",
    "时间序列的概念在日常生活中十分常见，但对于一个具体的时序事件而言，可以从多个时间对象的角度来描述。例如2020年9月7日周一早上8点整需要到教室上课，这个课会在当天早上10点结束，其中包含了哪些时间概念？\n",
    "\n",
    "* 第一，会出现时间戳（Date times）的概念，即'2020-9-7 08:00:00'和'2020-9-7 10:00:00'这两个时间点分别代表了上课和下课的时刻，在`pandas`中称为`Timestamp`。同时，一系列的时间戳可以组成`DatetimeIndex`，而将它放到`Series`中后，`Series`的类型就变为了`datetime64[ns]`，如果有涉及时区则为`datetime64[ns, tz]`，其中tz是timezone的简写。\n",
    "\n",
    "* 第二，会出现时间差（Time deltas）的概念，即上课需要的时间，两个`Timestamp`做差就得到了时间差，pandas中利用`Timedelta`来表示。类似的，一系列的时间差就组成了`TimedeltaIndex`， 而将它放到`Series`中后，`Series`的类型就变为了`timedelta64[ns]`。\n",
    "\n",
    "* 第三，会出现时间段（Time spans）的概念，即在8点到10点这个区间都会持续地在上课，在`pandas`利用`Period`来表示。类似的，一系列的时间段就组成了`PeriodIndex`， 而将它放到`Series`中后，`Series`的类型就变为了`Period`。\n",
    "\n",
    "* 第四，会出现日期偏置（Date offsets）的概念，假设你只知道9月的第一个周一早上8点要去上课，但不知道具体的日期，那么就需要一个类型来处理此类需求。再例如，想要知道2020年9月7日后的第30个工作日是哪一天，那么时间差就解决不了你的问题，从而`pandas`中的`DateOffset`就出现了。同时，`pandas`中没有为一列时间偏置专门设计存储类型，理由也很简单，因为需求比较奇怪，一般来说我们只需要对一批时间特征做一个统一的特殊日期偏置。\n",
    "\n",
    "通过这个简单的例子，就能够容易地总结出官方文档中的这个[表格](https://pandas.pydata.org/docs/user_guide/timeseries.html#overview)：\n",
    "\n",
    "|概念 |                          单元素类型              |    数组类型         |                pandas数据类型|\n",
    "|:---------|:----------|:-----------|:------------|\n",
    "|Date times           |           `Timestamp`       |       `DatetimeIndex`  |   `datetime64[ns]`|\n",
    "|Time deltas          |           `Timedelta`        |      `TimedeltaIndex` |  `timedelta64[ns]`|\n",
    "|Time spans            |          `Period`           |      `PeriodIndex`   |    `period[freq]`|\n",
    "|Date offsets          |          `DateOffset`         |    `None`          |    `None`|\n",
    "\n",
    "由于时间段对象`Period/PeriodIndex`的使用频率并不高，因此将不进行讲解，而只涉及时间戳序列、时间差序列和日期偏置的相关内容。\n",
    "\n",
    "## 二、时间戳\n",
    "### 1. Timestamp的构造与属性\n",
    "\n",
    "单个时间戳的生成利用`pd.Timestamp`实现，一般而言的常见日期格式都能被成功地转换：\n"
   ]
  },
  {
   "cell_type": "code",
   "execution_count": null,
   "metadata": {},
   "outputs": [],
   "source": [
    "ts = pd.Timestamp('2022/10/18')\n",
    "ts"
   ]
  },
  {
   "cell_type": "code",
   "execution_count": null,
   "metadata": {},
   "outputs": [],
   "source": [
    "ts = pd.Timestamp('2022-10-18 08:10:30')\n",
    "ts"
   ]
  },
  {
   "cell_type": "markdown",
   "metadata": {},
   "source": [
    "通过`year, month, day, hour, min, second`可以获取具体的数值："
   ]
  },
  {
   "cell_type": "code",
   "execution_count": null,
   "metadata": {},
   "outputs": [],
   "source": [
    "ts.year"
   ]
  },
  {
   "cell_type": "code",
   "execution_count": null,
   "metadata": {},
   "outputs": [],
   "source": [
    "ts.month"
   ]
  },
  {
   "cell_type": "code",
   "execution_count": null,
   "metadata": {},
   "outputs": [],
   "source": [
    "ts.day"
   ]
  },
  {
   "cell_type": "code",
   "execution_count": null,
   "metadata": {},
   "outputs": [],
   "source": [
    "ts.hour"
   ]
  },
  {
   "cell_type": "code",
   "execution_count": null,
   "metadata": {},
   "outputs": [],
   "source": [
    "ts.minute"
   ]
  },
  {
   "cell_type": "code",
   "execution_count": null,
   "metadata": {},
   "outputs": [],
   "source": [
    "ts.second"
   ]
  },
  {
   "cell_type": "markdown",
   "metadata": {},
   "source": [
    "在`pandas`中，时间戳的最小精度为纳秒`ns`，由于使用了64位存储，可以表示的时间范围大约可以如下计算：\n",
    "$$\\rm Time\\,Range = \\frac{2^{64}}{10^9\\times 60\\times 60\\times 24\\times 365} \\approx 585 (Years)$$\n",
    "通过`pd.Timestamp.max`和`pd.Timestamp.min`可以获取时间戳表示的范围，可以看到确实表示的区间年数大小正如上述计算结果："
   ]
  },
  {
   "cell_type": "markdown",
   "metadata": {},
   "source": [
    "10$^9$ ns = 1 s"
   ]
  },
  {
   "cell_type": "code",
   "execution_count": null,
   "metadata": {},
   "outputs": [],
   "source": [
    "pd.Timestamp.max"
   ]
  },
  {
   "cell_type": "code",
   "execution_count": null,
   "metadata": {},
   "outputs": [],
   "source": [
    "pd.Timestamp.min"
   ]
  },
  {
   "cell_type": "code",
   "execution_count": null,
   "metadata": {},
   "outputs": [],
   "source": [
    "pd.Timestamp.max.year - pd.Timestamp.min.year"
   ]
  },
  {
   "cell_type": "markdown",
   "metadata": {},
   "source": [
    "### 2. Datetime序列的生成\n",
    "\n",
    "一组时间戳可以组成时间序列，可以用`to_datetime`和`date_range`来生成。其中，`to_datetime`能够把一列时间戳格式的对象转换成为`datetime64[ns]`类型的时间序列："
   ]
  },
  {
   "cell_type": "code",
   "execution_count": null,
   "metadata": {},
   "outputs": [],
   "source": [
    "pd.to_datetime(['2020-1-1', '2020-1-3', '2020-1-6'])"
   ]
  },
  {
   "cell_type": "code",
   "execution_count": null,
   "metadata": {},
   "outputs": [],
   "source": [
    "df = pd.read_csv('../data/learn_pandas.csv')\n",
    "df"
   ]
  },
  {
   "cell_type": "code",
   "execution_count": null,
   "metadata": {},
   "outputs": [],
   "source": [
    "df['Grade'].values"
   ]
  },
  {
   "cell_type": "code",
   "execution_count": null,
   "metadata": {},
   "outputs": [],
   "source": [
    "s = pd.to_datetime(df.Test_Date)\n",
    "s.head()"
   ]
  },
  {
   "cell_type": "markdown",
   "metadata": {},
   "source": [
    "在极少数情况，时间戳的格式不满足转换时，可以强制使用`format`进行匹配："
   ]
  },
  {
   "cell_type": "code",
   "execution_count": null,
   "metadata": {},
   "outputs": [],
   "source": [
    "temp = pd.to_datetime(['2020\\\\1\\\\1','2020\\\\1\\\\3'],format='%Y\\\\%m\\\\%d')\n",
    "temp"
   ]
  },
  {
   "cell_type": "code",
   "execution_count": null,
   "metadata": {},
   "outputs": [],
   "source": [
    "temp = pd.to_datetime(['2020\\\\1\\\\1','2020\\\\1\\\\3'])\n",
    "temp"
   ]
  },
  {
   "cell_type": "markdown",
   "metadata": {},
   "source": [
    "注意上面由于传入的是列表，而非`pandas`内部的`Series`，因此返回的是`DatetimeIndex`，如果想要转为`datetime64[ns]`的序列，需要显式用`Series`转化："
   ]
  },
  {
   "cell_type": "code",
   "execution_count": null,
   "metadata": {},
   "outputs": [],
   "source": [
    "pd.Series(temp).head()"
   ]
  },
  {
   "cell_type": "markdown",
   "metadata": {},
   "source": [
    "另外，还存在一种把表的多列时间属性拼接转为时间序列的`to_datetime`操作，此时的列名必须和以下给定的时间关键词列名一致："
   ]
  },
  {
   "cell_type": "code",
   "execution_count": null,
   "metadata": {},
   "outputs": [],
   "source": [
    "df_date_cols = pd.DataFrame({'year': [2020, 2020],\n",
    "                             'month': [1, 1],\n",
    "                             'day': [1, 2],\n",
    "                             'hour': [10, 20],\n",
    "                             'minute': [30, 50],\n",
    "                             'second': [20, 40]})\n",
    "pd.to_datetime(df_date_cols)"
   ]
  },
  {
   "cell_type": "code",
   "execution_count": null,
   "metadata": {},
   "outputs": [],
   "source": [
    "df_date_cols = pd.DataFrame({'year': [2020, 2020],\n",
    "                             'month': [1, 1],\n",
    "                             'hour': [10, 20],\n",
    "                             'minute': [30, 50],\n",
    "                             'second': [20, 40]})\n",
    "pd.to_datetime(df_date_cols)\n",
    "# 年 月 日 是必不可少的三条数据"
   ]
  },
  {
   "cell_type": "code",
   "execution_count": null,
   "metadata": {},
   "outputs": [],
   "source": [
    "df_date_cols = pd.DataFrame({'year': [2020, 2020],\n",
    "                             'month': [1, 1],\n",
    "                             'day': [1, 2],\n",
    "                             'hour': [10, 20],\n",
    "                             'second': [20, 40]})\n",
    "pd.to_datetime(df_date_cols)"
   ]
  },
  {
   "cell_type": "markdown",
   "metadata": {},
   "source": [
    "`date_range`是一种生成连续间隔时间的一种方法，其重要的参数为`start, end, freq, periods`，它们分别表示开始时间，结束时间，时间间隔，时间戳个数。其中，四个中的三个参数决定了，那么剩下的一个就随之确定了。这里要注意，开始或结束日期如果作为端点则它会被包含："
   ]
  },
  {
   "cell_type": "code",
   "execution_count": null,
   "metadata": {},
   "outputs": [],
   "source": [
    "pd.date_range('2020-1-1','2020-1-21', freq='10D') # 包含"
   ]
  },
  {
   "cell_type": "code",
   "execution_count": null,
   "metadata": {},
   "outputs": [],
   "source": [
    "pd.date_range('2020-1-1','2020-2-28', freq='10D')"
   ]
  },
  {
   "cell_type": "code",
   "execution_count": null,
   "metadata": {},
   "outputs": [],
   "source": [
    "pd.date_range('2020-1-1', '2020-2-28', periods=6) # 由于结束日期无法取到，freq不为10天"
   ]
  },
  {
   "cell_type": "code",
   "execution_count": null,
   "metadata": {},
   "outputs": [],
   "source": [
    "pd.date_range('2020-1-1', '2020-2-20', periods=6)"
   ]
  },
  {
   "cell_type": "markdown",
   "metadata": {},
   "source": [
    "这里的`freq`参数与`DateOffset`对象紧密相关，将在第四节介绍其具体的用法。\n",
    "#### 【练一练】\n",
    "`Timestamp`上定义了一个`value`属性，其返回的整数值代表了从1970年1月1日零点到给定时间戳相差的纳秒数，请利用这个属性构造一个随机生成给定日期区间内日期序列的函数。"
   ]
  },
  {
   "cell_type": "code",
   "execution_count": null,
   "metadata": {},
   "outputs": [],
   "source": [
    "ts = pd.Timestamp('2022/10/18')\n",
    "ts.value"
   ]
  },
  {
   "cell_type": "code",
   "execution_count": null,
   "metadata": {},
   "outputs": [],
   "source": [
    "# 给定两个日期/时间节点，然后分别转换为纳秒数，\n",
    "#再在这个区间内取一个随机数，\n",
    "#然后再折算回日期。\n",
    "\n",
    "def rand_ts(t1, t2):\n",
    "    t1 = pd.to_datetime(t1)\n",
    "    t2 = pd.to_datetime(t2)\n",
    "    m1 = t1.value\n",
    "    m2 = t2.value\n",
    "    trand =np.random.randint(m1, m2, dtype='int64')\n",
    "    return pd.to_datetime(trand)"
   ]
  },
  {
   "cell_type": "code",
   "execution_count": null,
   "metadata": {},
   "outputs": [],
   "source": [
    "import datetime\n",
    "datetime.datetime.now()"
   ]
  },
  {
   "cell_type": "code",
   "execution_count": null,
   "metadata": {},
   "outputs": [],
   "source": [
    "t1 = '2022-6-26'\n",
    "#t2 = '2022-8-30'\n",
    "t2 = datetime.datetime.now()\n",
    "rand_ts(t1, t2)"
   ]
  },
  {
   "cell_type": "markdown",
   "metadata": {},
   "source": [
    "#### 【END】\n",
    "最后，要介绍一种改变序列采样频率的方法`asfreq`，它能够根据给定的`freq`对序列进行类似于`reindex`的操作："
   ]
  },
  {
   "cell_type": "code",
   "execution_count": null,
   "metadata": {},
   "outputs": [],
   "source": [
    "s = pd.Series(np.random.rand(5), index=pd.to_datetime(['2020-1-%d'%i for i in range(1,10,2)]))\n",
    "s.head()"
   ]
  },
  {
   "cell_type": "code",
   "execution_count": null,
   "metadata": {},
   "outputs": [],
   "source": [
    "s.asfreq('D').head()"
   ]
  },
  {
   "cell_type": "code",
   "execution_count": null,
   "metadata": {},
   "outputs": [],
   "source": [
    "s.asfreq('12H').head()"
   ]
  },
  {
   "cell_type": "markdown",
   "metadata": {},
   "source": [
    "#### 【NOTE】\n",
    "前面提到了`datetime64[ns]`本质上可以理解为一个大整数，对于一个该类型的序列，可以使用`max, min, mean`，来取得最大时间戳、最小时间戳和“平均”时间戳。\n",
    "#### 【END】\n",
    "### 3. dt对象\n",
    "\n",
    "如同`category, string`的序列上定义了`cat, str`来完成分类数据和文本数据的操作，在时序类型的序列上定义了`dt`对象来完成许多时间序列的相关操作。这里对于`datetime64[ns]`类型而言，可以大致分为三类操作：取出时间相关的属性、判断时间戳是否满足条件、取整操作。\n",
    "\n",
    "第一类操作的常用属性包括：`date, time, year, month, day, hour, minute, second, microsecond, nanosecond, dayofweek, dayofyear, weekofyear, daysinmonth, quarter`，其中`daysinmonth, quarter`分别表示该月一共有几天和季度。"
   ]
  },
  {
   "cell_type": "code",
   "execution_count": null,
   "metadata": {},
   "outputs": [],
   "source": [
    "s = pd.Series(pd.date_range('2020-1-1','2020-1-3', freq='D'))\n",
    "s.dt.date"
   ]
  },
  {
   "cell_type": "code",
   "execution_count": null,
   "metadata": {},
   "outputs": [],
   "source": [
    "s.values"
   ]
  },
  {
   "cell_type": "code",
   "execution_count": null,
   "metadata": {},
   "outputs": [],
   "source": [
    "s.dt.time"
   ]
  },
  {
   "cell_type": "code",
   "execution_count": null,
   "metadata": {},
   "outputs": [],
   "source": [
    "s.dt.day"
   ]
  },
  {
   "cell_type": "code",
   "execution_count": null,
   "metadata": {},
   "outputs": [],
   "source": [
    "s.dt.daysinmonth"
   ]
  },
  {
   "cell_type": "code",
   "execution_count": null,
   "metadata": {},
   "outputs": [],
   "source": [
    "s.dt"
   ]
  },
  {
   "cell_type": "markdown",
   "metadata": {},
   "source": [
    "在这些属性中，经常使用的是`dayofweek`，它返回了周中的星期情况，周一为0、周二为1，以此类推："
   ]
  },
  {
   "cell_type": "code",
   "execution_count": null,
   "metadata": {},
   "outputs": [],
   "source": [
    "s.dt.dayofweek"
   ]
  },
  {
   "cell_type": "markdown",
   "metadata": {},
   "source": [
    "此外，可以通过`month_name, day_name`返回英文的月名和星期名，注意它们是方法而不是属性："
   ]
  },
  {
   "cell_type": "code",
   "execution_count": null,
   "metadata": {},
   "outputs": [],
   "source": [
    "s.dt.month_name()"
   ]
  },
  {
   "cell_type": "code",
   "execution_count": null,
   "metadata": {},
   "outputs": [],
   "source": [
    "s.dt.day_name()"
   ]
  },
  {
   "cell_type": "markdown",
   "metadata": {},
   "source": [
    "第二类判断操作主要用于测试是否为月/季/年的第一天或者最后一天："
   ]
  },
  {
   "cell_type": "code",
   "execution_count": null,
   "metadata": {},
   "outputs": [],
   "source": [
    "s.dt.is_year_start # 还可选 is_quarter/month_start"
   ]
  },
  {
   "cell_type": "code",
   "execution_count": null,
   "metadata": {},
   "outputs": [],
   "source": [
    "s.dt.is_quarter_start"
   ]
  },
  {
   "cell_type": "code",
   "execution_count": null,
   "metadata": {},
   "outputs": [],
   "source": [
    "s.dt.is_month_end"
   ]
  },
  {
   "cell_type": "code",
   "execution_count": null,
   "metadata": {},
   "outputs": [],
   "source": [
    "s.dt.is_year_end # 还可选 is_quarter/month_end"
   ]
  },
  {
   "cell_type": "markdown",
   "metadata": {},
   "source": [
    "第三类的取整操作包含`round, ceil, floor`，它们的公共参数为`freq`，常用的包括`H, min, S`（小时、分钟、秒），所有可选的`freq`可参考[此处](https://pandas.pydata.org/docs/user_guide/timeseries.html#offset-aliases>)。"
   ]
  },
  {
   "cell_type": "code",
   "execution_count": null,
   "metadata": {},
   "outputs": [],
   "source": [
    "s = pd.Series(pd.date_range('2020-1-1 20:35:00', '2020-1-1 22:35:00', freq='45min'))\n",
    "s"
   ]
  },
  {
   "cell_type": "code",
   "execution_count": null,
   "metadata": {},
   "outputs": [],
   "source": [
    "s.dt.round('1H')"
   ]
  },
  {
   "cell_type": "code",
   "execution_count": null,
   "metadata": {},
   "outputs": [],
   "source": [
    "s.dt.ceil('1H')"
   ]
  },
  {
   "cell_type": "code",
   "execution_count": null,
   "metadata": {},
   "outputs": [],
   "source": [
    "s.dt.floor('1H')"
   ]
  },
  {
   "cell_type": "markdown",
   "metadata": {},
   "source": [
    "### 4. 时间戳的切片与索引\n",
    "\n",
    "一般而言，时间戳序列作为索引使用。如果想要选出某个子时间戳序列，第一类方法是利用`dt`对象和布尔条件联合使用，另一种方式是利用切片，后者常用于连续时间戳。下面，举一些例子说明："
   ]
  },
  {
   "cell_type": "code",
   "execution_count": null,
   "metadata": {},
   "outputs": [],
   "source": [
    "s = pd.Series(np.random.randint(2,size=366), index=pd.date_range('2020-01-01','2020-12-31'))\n",
    "s"
   ]
  },
  {
   "cell_type": "code",
   "execution_count": null,
   "metadata": {},
   "outputs": [],
   "source": [
    "idx = pd.Series(s.index).dt\n",
    "idx"
   ]
  },
  {
   "cell_type": "code",
   "execution_count": null,
   "metadata": {},
   "outputs": [],
   "source": [
    "pd.Series(s.index)"
   ]
  },
  {
   "cell_type": "code",
   "execution_count": null,
   "metadata": {},
   "outputs": [],
   "source": [
    "s.head()"
   ]
  },
  {
   "cell_type": "markdown",
   "metadata": {},
   "source": [
    "Example1：每月的第一天或者最后一天"
   ]
  },
  {
   "cell_type": "code",
   "execution_count": null,
   "metadata": {},
   "outputs": [],
   "source": [
    "s[(idx.is_month_start|idx.is_month_end).values].head()"
   ]
  },
  {
   "cell_type": "code",
   "execution_count": null,
   "metadata": {},
   "outputs": [],
   "source": [
    "s[(idx.is_month_start|idx.is_month_end)]"
   ]
  },
  {
   "cell_type": "markdown",
   "metadata": {},
   "source": [
    "Example2：双休日"
   ]
  },
  {
   "cell_type": "code",
   "execution_count": null,
   "metadata": {},
   "outputs": [],
   "source": [
    "s[idx.dayofweek.isin([5,6]).values].head()"
   ]
  },
  {
   "cell_type": "markdown",
   "metadata": {},
   "source": [
    "Example3：取出单日值"
   ]
  },
  {
   "cell_type": "code",
   "execution_count": null,
   "metadata": {},
   "outputs": [],
   "source": [
    "s['2020-01-01']"
   ]
  },
  {
   "cell_type": "code",
   "execution_count": null,
   "metadata": {},
   "outputs": [],
   "source": [
    "s['20200101'] # 自动转换标准格式"
   ]
  },
  {
   "cell_type": "markdown",
   "metadata": {},
   "source": [
    "Example4：取出七月"
   ]
  },
  {
   "cell_type": "code",
   "execution_count": null,
   "metadata": {},
   "outputs": [],
   "source": [
    "s['2020-07'].head()"
   ]
  },
  {
   "cell_type": "markdown",
   "metadata": {},
   "source": [
    "Example5：取出5月初至7月15日"
   ]
  },
  {
   "cell_type": "code",
   "execution_count": null,
   "metadata": {},
   "outputs": [],
   "source": [
    "s['2020-05':'2020-7-15'].head()"
   ]
  },
  {
   "cell_type": "code",
   "execution_count": null,
   "metadata": {},
   "outputs": [],
   "source": [
    "s['2020-05':'2020-7-15'].tail()"
   ]
  },
  {
   "cell_type": "markdown",
   "metadata": {},
   "source": [
    "## 三、时间差\n",
    "### 1. Timedelta的生成\n",
    "\n",
    "正如在第一节中所说，时间差可以理解为两个时间戳的差，这里也可以通过`pd.Timedelta`来构造："
   ]
  },
  {
   "cell_type": "code",
   "execution_count": null,
   "metadata": {},
   "outputs": [],
   "source": [
    "pd.Timestamp('20200102 08:00:00')-pd.Timestamp('20200101 07:35:00')"
   ]
  },
  {
   "cell_type": "code",
   "execution_count": null,
   "metadata": {},
   "outputs": [],
   "source": [
    "pd.Timedelta(days=1, minutes=25) # 需要注意加s"
   ]
  },
  {
   "cell_type": "code",
   "execution_count": null,
   "metadata": {},
   "outputs": [],
   "source": [
    "pd.Timedelta('1 days 25 minutes') # 字符串生成"
   ]
  },
  {
   "cell_type": "markdown",
   "metadata": {},
   "source": [
    "生成时间差序列的主要方式是`pd.to_timedelta`，其类型为`timedelta64[ns]`："
   ]
  },
  {
   "cell_type": "code",
   "execution_count": null,
   "metadata": {},
   "outputs": [],
   "source": [
    "df"
   ]
  },
  {
   "cell_type": "code",
   "execution_count": null,
   "metadata": {},
   "outputs": [],
   "source": [
    "df.Time_Record"
   ]
  },
  {
   "cell_type": "code",
   "execution_count": null,
   "metadata": {},
   "outputs": [],
   "source": [
    "s = pd.to_timedelta(df.Time_Record)"
   ]
  },
  {
   "cell_type": "code",
   "execution_count": null,
   "metadata": {},
   "outputs": [],
   "source": [
    "s = pd.to_timedelta(df.Time_Record)\n",
    "s"
   ]
  },
  {
   "cell_type": "markdown",
   "metadata": {},
   "source": [
    "与`date_range`一样，时间差序列也可以用`timedelta_range`来生成，它们两者具有一致的参数："
   ]
  },
  {
   "cell_type": "code",
   "execution_count": null,
   "metadata": {},
   "outputs": [],
   "source": [
    "pd.timedelta_range('0s', '1000s', freq='6min')"
   ]
  },
  {
   "cell_type": "code",
   "execution_count": null,
   "metadata": {},
   "outputs": [],
   "source": [
    "pd.timedelta_range('0s', '1000s', periods=3)"
   ]
  },
  {
   "cell_type": "markdown",
   "metadata": {},
   "source": [
    "对于`Timedelta`序列，同样也定义了`dt`对象，上面主要定义了的属性包括`days, seconds, mircroseconds, nanoseconds`，它们分别返回了对应的时间差特征。需要注意的是，这里的`seconds`不是指单纯的秒，而是对天数取余后剩余的秒数："
   ]
  },
  {
   "cell_type": "code",
   "execution_count": null,
   "metadata": {},
   "outputs": [],
   "source": [
    "s.dt.seconds.head()"
   ]
  },
  {
   "cell_type": "code",
   "execution_count": null,
   "metadata": {},
   "outputs": [],
   "source": [
    "s.dt.microseconds"
   ]
  },
  {
   "cell_type": "code",
   "execution_count": null,
   "metadata": {},
   "outputs": [],
   "source": [
    "s.dt.days"
   ]
  },
  {
   "cell_type": "markdown",
   "metadata": {},
   "source": [
    "如果不想对天数取余而直接对应秒数，可以使用`total_seconds`"
   ]
  },
  {
   "cell_type": "code",
   "execution_count": null,
   "metadata": {},
   "outputs": [],
   "source": [
    "s.dt.total_seconds().head()"
   ]
  },
  {
   "cell_type": "markdown",
   "metadata": {},
   "source": [
    "与时间戳序列类似，取整函数也是可以在`dt`对象上使用的："
   ]
  },
  {
   "cell_type": "code",
   "execution_count": null,
   "metadata": {},
   "outputs": [],
   "source": [
    "pd.to_timedelta(df.Time_Record).dt.round('min').head()\n",
    "# 这里的 min 是按分钟"
   ]
  },
  {
   "cell_type": "markdown",
   "metadata": {},
   "source": [
    "### 2. Timedelta的运算\n",
    "\n",
    "时间差支持的常用运算有三类：与标量的乘法运算、与时间戳的加减法运算、与时间差的加减法与除法运算："
   ]
  },
  {
   "cell_type": "code",
   "execution_count": null,
   "metadata": {},
   "outputs": [],
   "source": [
    "td1 = pd.Timedelta(days=1)\n",
    "td2 = pd.Timedelta(days=3)\n",
    "ts = pd.Timestamp('20200101')\n",
    "td1 * 2"
   ]
  },
  {
   "cell_type": "code",
   "execution_count": null,
   "metadata": {},
   "outputs": [],
   "source": [
    "td2 - td1"
   ]
  },
  {
   "cell_type": "code",
   "execution_count": null,
   "metadata": {},
   "outputs": [],
   "source": [
    "ts + td1"
   ]
  },
  {
   "cell_type": "code",
   "execution_count": null,
   "metadata": {},
   "outputs": [],
   "source": [
    "ts - td1"
   ]
  },
  {
   "cell_type": "markdown",
   "metadata": {},
   "source": [
    "这些运算都可以移植到时间差的序列上："
   ]
  },
  {
   "cell_type": "code",
   "execution_count": null,
   "metadata": {},
   "outputs": [],
   "source": [
    "td1 = pd.timedelta_range(start='1 days', periods=5)\n",
    "td2 = pd.timedelta_range(start='12 hours', freq='2H', periods=5)\n",
    "ts = pd.date_range('20200101', '20200105')\n",
    "td1 * 5"
   ]
  },
  {
   "cell_type": "code",
   "execution_count": null,
   "metadata": {},
   "outputs": [],
   "source": [
    "td1"
   ]
  },
  {
   "cell_type": "code",
   "execution_count": null,
   "metadata": {},
   "outputs": [],
   "source": [
    "td2"
   ]
  },
  {
   "cell_type": "code",
   "execution_count": null,
   "metadata": {},
   "outputs": [],
   "source": []
  },
  {
   "cell_type": "code",
   "execution_count": null,
   "metadata": {},
   "outputs": [],
   "source": []
  },
  {
   "cell_type": "code",
   "execution_count": null,
   "metadata": {},
   "outputs": [],
   "source": [
    "td1 * pd.Series(list(range(5))) # 逐个相乘"
   ]
  },
  {
   "cell_type": "code",
   "execution_count": null,
   "metadata": {},
   "outputs": [],
   "source": []
  },
  {
   "cell_type": "code",
   "execution_count": null,
   "metadata": {},
   "outputs": [],
   "source": [
    "td1 - td2"
   ]
  },
  {
   "cell_type": "code",
   "execution_count": null,
   "metadata": {},
   "outputs": [],
   "source": [
    "td2 - td1\n",
    "# 时间差 允许有负值出现"
   ]
  },
  {
   "cell_type": "code",
   "execution_count": null,
   "metadata": {},
   "outputs": [],
   "source": [
    "td1 + pd.Timestamp('20200101')"
   ]
  },
  {
   "cell_type": "code",
   "execution_count": null,
   "metadata": {},
   "outputs": [],
   "source": [
    "td1 + ts # 逐个相加"
   ]
  },
  {
   "cell_type": "code",
   "execution_count": null,
   "metadata": {},
   "outputs": [],
   "source": [
    "td1"
   ]
  },
  {
   "cell_type": "code",
   "execution_count": null,
   "metadata": {},
   "outputs": [],
   "source": [
    "ts"
   ]
  },
  {
   "cell_type": "code",
   "execution_count": null,
   "metadata": {},
   "outputs": [],
   "source": [
    "td1[:-1] + ts\n",
    "# 两个序列长度不同时会报错"
   ]
  },
  {
   "cell_type": "markdown",
   "metadata": {},
   "source": [
    "## 四、日期偏置\n",
    "### 1. Offset对象\n",
    "\n",
    "日期偏置是一种和日历相关的特殊时间差，例如回到第一节中的两个问题：如何求2020年9月第一个周一的日期，以及如何求2020年9月7日后的第30个工作日是哪一天。"
   ]
  },
  {
   "cell_type": "code",
   "execution_count": null,
   "metadata": {},
   "outputs": [],
   "source": [
    "pd.Timestamp('20200831') + pd.offsets.WeekOfMonth(week=0,weekday=0)"
   ]
  },
  {
   "cell_type": "code",
   "execution_count": null,
   "metadata": {},
   "outputs": [],
   "source": [
    "pd.Timestamp('20200907') + pd.offsets.BDay(30)"
   ]
  },
  {
   "cell_type": "markdown",
   "metadata": {},
   "source": [
    "从上面的例子中可以看到，`Offset`对象在`pd.offsets`中被定义。当使用`+`时获取离其最近的下一个日期，当使用`-`时获取离其最近的上一个日期："
   ]
  },
  {
   "cell_type": "code",
   "execution_count": null,
   "metadata": {},
   "outputs": [],
   "source": [
    "pd.Timestamp('20200831') - pd.offsets.WeekOfMonth(week=0,weekday=0)"
   ]
  },
  {
   "cell_type": "code",
   "execution_count": null,
   "metadata": {},
   "outputs": [],
   "source": [
    "pd.Timestamp('20200907') - pd.offsets.BDay(30)"
   ]
  },
  {
   "cell_type": "code",
   "execution_count": null,
   "metadata": {},
   "outputs": [],
   "source": [
    "pd.Timestamp('20200907') + pd.offsets.MonthEnd()"
   ]
  },
  {
   "cell_type": "markdown",
   "metadata": {},
   "source": [
    "常用的日期偏置如下可以查阅这里的[文档](https://pandas.pydata.org/docs/user_guide/timeseries.html#dateoffset-objects)描述。在文档罗列的`Offset`中，需要介绍一个特殊的`Offset`对象`CDay`，其中的`holidays, weekmask`参数能够分别对自定义的日期和星期进行过滤，前者传入了需要过滤的日期列表，后者传入的是三个字母的星期缩写构成的星期字符串，其作用是只保留字符串中出现的星期："
   ]
  },
  {
   "cell_type": "code",
   "execution_count": null,
   "metadata": {},
   "outputs": [],
   "source": [
    "# holidays 对应的日期会被过滤掉，排除掉\n",
    "my_filter = pd.offsets.CDay(n=1,weekmask='Wed Fri',holidays=['20200109'])\n",
    "dr = pd.date_range('20200108', '20200111')\n",
    "dr.to_series().dt.dayofweek"
   ]
  },
  {
   "cell_type": "code",
   "execution_count": null,
   "metadata": {},
   "outputs": [],
   "source": [
    "[i + my_filter for i in dr]"
   ]
  },
  {
   "cell_type": "code",
   "execution_count": null,
   "metadata": {},
   "outputs": [],
   "source": [
    "pd.to_datetime(['2020-01-15']).to_series().dt.dayofweek\n",
    "# 说明是周三"
   ]
  },
  {
   "cell_type": "code",
   "execution_count": null,
   "metadata": {},
   "outputs": [],
   "source": [
    "pd.to_datetime('2020-01-15')"
   ]
  },
  {
   "cell_type": "markdown",
   "metadata": {},
   "source": [
    "上面的例子中，`n`表示增加一天`CDay`，`dr`中的第一天为`20200108`，但由于下一天`20200109`被排除了，并且`20200110`是合法的周五，因此转为`20200110`，其他后面的日期处理类似。\n",
    "#### 【CAUTION】不要使用部分`Offset`\n",
    "在当前版本下由于一些 ``bug`` ，不要使用 ``Day`` 级别以下的 ``Offset`` 对象，比如 ``Hour, Second`` 等，请使用对应的 ``Timedelta`` 对象来代替。\n",
    "#### 【END】\n",
    "### 2. 偏置字符串\n",
    "\n",
    "前面提到了关于`date_range`的`freq`取值可用`Offset`对象，同时在`pandas`中几乎每一个`Offset`对象绑定了日期偏置字符串（`frequencies strings/offset aliases`），可以指定`Offset`对应的字符串来替代使用。下面举一些常见的例子。"
   ]
  },
  {
   "cell_type": "code",
   "execution_count": null,
   "metadata": {},
   "outputs": [],
   "source": [
    "pd.date_range('20200101','20200331', freq='MS') # 月初 month begin"
   ]
  },
  {
   "cell_type": "code",
   "execution_count": null,
   "metadata": {},
   "outputs": [],
   "source": [
    "pd.date_range('20200101','20200331', freq='M') # 月末"
   ]
  },
  {
   "cell_type": "code",
   "execution_count": null,
   "metadata": {},
   "outputs": [],
   "source": [
    "pd.date_range('20200101','20200110', freq='B') # 工作日"
   ]
  },
  {
   "cell_type": "code",
   "execution_count": null,
   "metadata": {},
   "outputs": [],
   "source": [
    "pd.date_range('20200101','20200201', freq='W-MON') # 周一"
   ]
  },
  {
   "cell_type": "code",
   "execution_count": null,
   "metadata": {},
   "outputs": [],
   "source": [
    "pd.date_range('20200101','20200201', freq='WOM-1MON') # 每月第一个周一"
   ]
  },
  {
   "cell_type": "code",
   "execution_count": null,
   "metadata": {},
   "outputs": [],
   "source": [
    "pd.date_range('20200101','20200201', freq='WOM-2TUE') # 每月第二个周二"
   ]
  },
  {
   "cell_type": "markdown",
   "metadata": {},
   "source": [
    "上面的这些字符串，等价于使用如下的`Offset`对象："
   ]
  },
  {
   "cell_type": "code",
   "execution_count": null,
   "metadata": {},
   "outputs": [],
   "source": [
    "pd.date_range('20200101','20200331', freq=pd.offsets.MonthBegin())"
   ]
  },
  {
   "cell_type": "code",
   "execution_count": null,
   "metadata": {},
   "outputs": [],
   "source": [
    "pd.date_range('20200101','20200331', freq=pd.offsets.MonthEnd())"
   ]
  },
  {
   "cell_type": "code",
   "execution_count": null,
   "metadata": {},
   "outputs": [],
   "source": [
    "pd.date_range('20200101','20200110', freq=pd.offsets.BDay())"
   ]
  },
  {
   "cell_type": "code",
   "execution_count": null,
   "metadata": {},
   "outputs": [],
   "source": [
    "pd.date_range('20200101','20200201', freq=pd.offsets.CDay(weekmask='Mon'))\n",
    "# 这里的weekmask，得到的是认可的工作日"
   ]
  },
  {
   "cell_type": "code",
   "execution_count": null,
   "metadata": {},
   "outputs": [],
   "source": [
    "pd.offsets.CDay(weekmask='Mon').weekmask"
   ]
  },
  {
   "cell_type": "code",
   "execution_count": null,
   "metadata": {},
   "outputs": [],
   "source": [
    "pd.date_range('20200101','20200201', freq=pd.offsets.WeekOfMonth(week=0,weekday=0))"
   ]
  },
  {
   "cell_type": "markdown",
   "metadata": {},
   "source": [
    "#### 【CAUTION】关于时区问题的说明\n",
    "各类时间对象的开发，除了使用`python`内置的`datetime`模块，`pandas`还利用了`dateutil`模块，很大一部分是为了处理时区问题。总所周知，我国是没有夏令时调整时间一说的，但有些国家会有这种做法，导致了相对而言一天里可能会有23/24/25个小时，也就是`relativedelta`，这使得`Offset`对象和`Timedelta`对象有了对同一问题处理产生不同结果的现象，其中的规则也较为复杂，官方文档的写法存在部分描述错误，并且难以对描述做出统一修正，因为牵涉到了`Offset`相关的很多组件。因此，本教程完全不考虑时区处理，如果对时区处理的时间偏置有兴趣了解讨论，可以联系我或者参见[这里](https://github.com/pandas-dev/pandas/pull/36516)的讨论。\n",
    "#### 【END】\n",
    "## 五、时序中的滑窗与分组\n",
    "### 1. 滑动窗口\n",
    "\n",
    "所谓时序的滑窗函数，即把滑动窗口用`freq`关键词代替，下面给出一个具体的应用案例：在股票市场中有一个指标为`BOLL`指标，它由中轨线、上轨线、下轨线这三根线构成，具体的计算方法分别是`N`日均值线、`N`日均值加两倍`N`日标准差线、`N`日均值减两倍`N`日标准差线。利用`rolling`对象计算`N=30`的`BOLL`指标可以如下写出："
   ]
  },
  {
   "cell_type": "code",
   "execution_count": null,
   "metadata": {},
   "outputs": [],
   "source": [
    "import matplotlib.pyplot as plt\n",
    "idx = pd.date_range('20200101', '20201231', freq='B')\n",
    "np.random.seed(2020)\n",
    "data = np.random.randint(-1,2,len(idx)).cumsum() # 随机游动构造模拟序列\n",
    "s = pd.Series(data,index=idx)\n",
    "s.head()"
   ]
  },
  {
   "cell_type": "code",
   "execution_count": null,
   "metadata": {},
   "outputs": [],
   "source": [
    "data"
   ]
  },
  {
   "cell_type": "code",
   "execution_count": null,
   "metadata": {},
   "outputs": [],
   "source": [
    "r = s.rolling('30D')\n",
    "plt.plot(s)\n",
    "plt.title('BOLL LINES')\n",
    "plt.plot(r.mean())\n",
    "plt.plot(r.mean()+r.std()*2)\n",
    "plt.plot(r.mean()-r.std()*2)"
   ]
  },
  {
   "cell_type": "markdown",
   "metadata": {},
   "source": [
    "对于`shift`函数而言，作用在`datetime64`为索引的序列上时，可以指定`freq`单位进行滑动："
   ]
  },
  {
   "cell_type": "code",
   "execution_count": null,
   "metadata": {},
   "outputs": [],
   "source": [
    "s.shift(freq='50D').head()"
   ]
  },
  {
   "cell_type": "markdown",
   "metadata": {},
   "source": [
    "https://pandas.pydata.org/docs/reference/api/pandas.DataFrame.shift.html\n",
    "\n",
    "shift，把数据进行偏移。"
   ]
  },
  {
   "cell_type": "code",
   "execution_count": null,
   "metadata": {},
   "outputs": [],
   "source": [
    "s"
   ]
  },
  {
   "cell_type": "code",
   "execution_count": null,
   "metadata": {},
   "outputs": [],
   "source": [
    "s.shift(freq='50D')\n",
    "# 所有日期向后偏移了50天，"
   ]
  },
  {
   "cell_type": "code",
   "execution_count": null,
   "metadata": {},
   "outputs": [],
   "source": [
    "s.rolling('30D').mean()"
   ]
  },
  {
   "cell_type": "code",
   "execution_count": null,
   "metadata": {},
   "outputs": [],
   "source": [
    "r = s.shift(freq='50D')\n",
    "plt.plot(s)\n",
    "plt.title('BOLL LINES')\n",
    "plt.plot(r.mean())\n",
    "plt.plot(r.mean()+r.std()*2)\n",
    "plt.plot(r.mean()-r.std()*2)"
   ]
  },
  {
   "cell_type": "markdown",
   "metadata": {},
   "source": [
    "另外，`datetime64[ns]`的序列进行`diff`后就能够得到`timedelta64[ns]`的序列，这能够使用户方便地观察有序时间序列的间隔："
   ]
  },
  {
   "cell_type": "code",
   "execution_count": null,
   "metadata": {},
   "outputs": [],
   "source": [
    "my_series = pd.Series(s.index)\n",
    "my_series.head()"
   ]
  },
  {
   "cell_type": "code",
   "execution_count": null,
   "metadata": {},
   "outputs": [],
   "source": [
    "my_series.diff(1).head()"
   ]
  },
  {
   "cell_type": "markdown",
   "metadata": {},
   "source": [
    "伯克希尔的数据\n"
   ]
  },
  {
   "cell_type": "code",
   "execution_count": null,
   "metadata": {},
   "outputs": [],
   "source": [
    "bek = pd.read_excel('D:/xu/misc/berkshire-2021.xlsx', index_col='year')"
   ]
  },
  {
   "cell_type": "code",
   "execution_count": null,
   "metadata": {},
   "outputs": [],
   "source": [
    "bk = pd.Series(bek['sccu-berkshire'][:-3], index=bek.index[:-3])"
   ]
  },
  {
   "cell_type": "code",
   "execution_count": null,
   "metadata": {},
   "outputs": [],
   "source": [
    "#bk.index = pd.to_datetime(bk.index, format='%Y')"
   ]
  },
  {
   "cell_type": "code",
   "execution_count": null,
   "metadata": {},
   "outputs": [],
   "source": [
    "r = bk.rolling(5)"
   ]
  },
  {
   "cell_type": "code",
   "execution_count": null,
   "metadata": {},
   "outputs": [],
   "source": [
    "r = bk.rolling(5)\n",
    "plt.plot(bk, color='r')\n",
    "plt.title('BOLL LINES')\n",
    "plt.plot(r.mean(), color='b')"
   ]
  },
  {
   "cell_type": "code",
   "execution_count": null,
   "metadata": {},
   "outputs": [],
   "source": [
    "r = bk.rolling(5)\n",
    "plt.plot(bk, color='r')\n",
    "plt.title('BOLL LINES')\n",
    "plt.plot(r.mean(), color='b')\n",
    "plt.plot(r.mean()+r.std()*2, color='g')\n",
    "plt.plot(r.mean()-r.std()*2)"
   ]
  },
  {
   "cell_type": "code",
   "execution_count": null,
   "metadata": {},
   "outputs": [],
   "source": []
  },
  {
   "cell_type": "markdown",
   "metadata": {},
   "source": [
    "### 2. 重采样\n",
    "\n",
    "重采样对象`resample`和第四章中分组对象`groupby`的用法类似，前者是针对时间序列的分组计算而设计的分组对象。\n",
    "\n",
    "例如，对上面的序列计算每10天的均值："
   ]
  },
  {
   "cell_type": "code",
   "execution_count": null,
   "metadata": {},
   "outputs": [],
   "source": [
    "s.resample('10D').mean().head()"
   ]
  },
  {
   "cell_type": "code",
   "execution_count": null,
   "metadata": {},
   "outputs": [],
   "source": [
    "s.resample('10D').mean()"
   ]
  },
  {
   "cell_type": "markdown",
   "metadata": {},
   "source": [
    "同时，如果没有内置定义的处理函数，可以通过`apply`方法自定义："
   ]
  },
  {
   "cell_type": "code",
   "execution_count": null,
   "metadata": {},
   "outputs": [],
   "source": [
    "s.resample('10D').apply(lambda x:x.max()-x.min()).head() # 极差"
   ]
  },
  {
   "cell_type": "markdown",
   "metadata": {},
   "source": [
    "在`resample`中要特别注意组边界值的处理情况，默认情况下起始值的计算方法是从最小值时间戳对应日期的午夜`00:00:00`开始增加`freq`，直到不超过该最小时间戳的最大时间戳，由此对应的时间戳为起始值，然后每次累加`freq`参数作为分割结点进行分组，区间情况为左闭右开。下面构造一个不均匀的例子："
   ]
  },
  {
   "cell_type": "code",
   "execution_count": null,
   "metadata": {},
   "outputs": [],
   "source": [
    "idx = pd.date_range('20200101 8:26:35', '20200101 9:31:58', freq='77s')\n",
    "data = np.random.randint(-1,2,len(idx)).cumsum()\n",
    "s = pd.Series(data,index=idx)\n",
    "s.head()"
   ]
  },
  {
   "cell_type": "code",
   "execution_count": null,
   "metadata": {},
   "outputs": [],
   "source": [
    "s"
   ]
  },
  {
   "cell_type": "markdown",
   "metadata": {},
   "source": [
    "下面对应的第一个组起始值为`08:24:00`，其是从当天0点增加72个`freq=7 min`得到的，如果再增加一个`freq`则超出了序列的最小时间戳`08:26:35`："
   ]
  },
  {
   "cell_type": "code",
   "execution_count": null,
   "metadata": {},
   "outputs": [],
   "source": [
    "s.resample('7min').mean().head()"
   ]
  },
  {
   "cell_type": "markdown",
   "metadata": {},
   "source": [
    "有时候，用户希望从序列的最小时间戳开始依次增加`freq`进行分组，此时可以指定`origin`参数为`start`："
   ]
  },
  {
   "cell_type": "code",
   "execution_count": null,
   "metadata": {},
   "outputs": [],
   "source": [
    "s.resample('7min', origin='start').mean().head()"
   ]
  },
  {
   "cell_type": "markdown",
   "metadata": {},
   "source": [
    "在返回值中，要注意索引一般是取组的第一个时间戳，但`M, A, Q, BM, BA, BQ, W`这七个是取对应区间的最后一个时间戳："
   ]
  },
  {
   "cell_type": "code",
   "execution_count": null,
   "metadata": {},
   "outputs": [],
   "source": [
    "s = pd.Series(np.random.randint(2,size=366), index=pd.date_range('2020-01-01', '2020-12-31'))\n",
    "s.resample('M').mean().head()"
   ]
  },
  {
   "cell_type": "code",
   "execution_count": null,
   "metadata": {},
   "outputs": [],
   "source": [
    "s.resample('MS').mean().head() # 结果一样，但索引不同"
   ]
  },
  {
   "cell_type": "markdown",
   "metadata": {},
   "source": [
    "## 六、练习\n",
    "### Ex1：太阳辐射数据集\n",
    "\n",
    "现有一份关于太阳辐射的数据集："
   ]
  },
  {
   "cell_type": "code",
   "execution_count": null,
   "metadata": {},
   "outputs": [],
   "source": [
    "pd.read_csv('../data/solar.csv')"
   ]
  },
  {
   "cell_type": "code",
   "execution_count": null,
   "metadata": {},
   "outputs": [],
   "source": [
    "df = pd.read_csv('../data/solar.csv', usecols=['Data','Time','Radiation','Temperature'])\n",
    "df.head(3)"
   ]
  },
  {
   "cell_type": "markdown",
   "metadata": {},
   "source": [
    "1. 将`Datetime, Time`合并为一个时间列`Datetime`，同时把它作为索引后排序。\n",
    "2. 每条记录时间的间隔显然并不一致，请解决如下问题：\n",
    "* 找出间隔时间的前三个最大值所对应的三组时间戳。\n",
    "* 是否存在一个大致的范围，使得绝大多数的间隔时间都落在这个区间中？如果存在，请对此范围内的样本间隔秒数画出柱状图，设置`bins=50`。\n",
    "3. 求如下指标对应的`Series`：\n",
    "* 温度与辐射量的6小时滑动相关系数\n",
    "* 以三点、九点、十五点、二十一点为分割，该观测所在时间区间的温度均值序列\n",
    "* 每个观测6小时前的辐射量（一般而言不会恰好取到，此时取最近时间戳对应的辐射量）\n"
   ]
  },
  {
   "cell_type": "markdown",
   "metadata": {},
   "source": [
    "1. 将`Datetime, Time`合并为一个时间列`Datetime`，同时把它作为索引后排序。"
   ]
  },
  {
   "cell_type": "code",
   "execution_count": null,
   "metadata": {},
   "outputs": [],
   "source": [
    "df1 = df.copy()"
   ]
  },
  {
   "cell_type": "code",
   "execution_count": null,
   "metadata": {},
   "outputs": [],
   "source": [
    "df1['Time']"
   ]
  },
  {
   "cell_type": "code",
   "execution_count": null,
   "metadata": {},
   "outputs": [],
   "source": [
    "date = df1['Data'].str.extract(r'(\\d{1,2}\\/\\d{1,2}\\/\\d{4})')\n",
    "time = df1['Time']"
   ]
  },
  {
   "cell_type": "code",
   "execution_count": null,
   "metadata": {},
   "outputs": [],
   "source": [
    "date = pd.Series(date[0])"
   ]
  },
  {
   "cell_type": "code",
   "execution_count": null,
   "metadata": {},
   "outputs": [],
   "source": [
    "df1['Datetime'] = date.str.cat(time, sep=' ')"
   ]
  },
  {
   "cell_type": "code",
   "execution_count": null,
   "metadata": {},
   "outputs": [],
   "source": [
    "df1['Datetime'] = pd.to_datetime(df1['Datetime'])"
   ]
  },
  {
   "cell_type": "code",
   "execution_count": null,
   "metadata": {},
   "outputs": [],
   "source": [
    "df1"
   ]
  },
  {
   "cell_type": "code",
   "execution_count": null,
   "metadata": {},
   "outputs": [],
   "source": [
    "df1.set_index('Datetime', inplace=True, drop=False)"
   ]
  },
  {
   "cell_type": "code",
   "execution_count": null,
   "metadata": {},
   "outputs": [],
   "source": [
    "df1.sort_index(inplace=True)"
   ]
  },
  {
   "cell_type": "code",
   "execution_count": null,
   "metadata": {},
   "outputs": [],
   "source": [
    "df1"
   ]
  },
  {
   "cell_type": "markdown",
   "metadata": {},
   "source": [
    "2. 每条记录时间的间隔显然并不一致，请解决如下问题：\n",
    "* 找出间隔时间的前三个最大值所对应的三组时间戳。\n",
    "* 是否存在一个大致的范围，使得绝大多数的间隔时间都落在这个区间中？如果存在，请对此范围内的样本间隔秒数画出柱状图，设置`bins=50`。"
   ]
  },
  {
   "cell_type": "code",
   "execution_count": null,
   "metadata": {},
   "outputs": [],
   "source": [
    "pd.to_timedelta(df1.index[0] - df1.index[1])"
   ]
  },
  {
   "cell_type": "code",
   "execution_count": null,
   "metadata": {},
   "outputs": [],
   "source": [
    "pd.Series(pd.to_timedelta([df1.index[i+1] - df1.index[i] for i in range(df1.shape[0] - 1)]), index=df1.index[1:])"
   ]
  },
  {
   "cell_type": "code",
   "execution_count": null,
   "metadata": {},
   "outputs": [],
   "source": []
  },
  {
   "cell_type": "code",
   "execution_count": null,
   "metadata": {},
   "outputs": [],
   "source": [
    "df1['tdelta'] = pd.Series(pd.to_timedelta([df1.index[i+1] - df1.index[i] for i in range(df1.shape[0] - 1)]), index=df1.index[1:])"
   ]
  },
  {
   "cell_type": "code",
   "execution_count": null,
   "metadata": {},
   "outputs": [],
   "source": [
    "delta = df1.sort_values('tdelta', ascending=False).head(3)"
   ]
  },
  {
   "cell_type": "code",
   "execution_count": null,
   "metadata": {},
   "outputs": [],
   "source": [
    "delta"
   ]
  },
  {
   "cell_type": "code",
   "execution_count": null,
   "metadata": {},
   "outputs": [],
   "source": [
    "df1.index.to_series().reset_index(drop=True).diff().dt.total_seconds()"
   ]
  },
  {
   "cell_type": "code",
   "execution_count": null,
   "metadata": {},
   "outputs": [],
   "source": [
    "# 参考答案\n",
    "s = df1.index.to_series().reset_index(drop=True).diff().dt.total_seconds()"
   ]
  },
  {
   "cell_type": "code",
   "execution_count": null,
   "metadata": {},
   "outputs": [],
   "source": [
    "max_3 = s.nlargest(3).index"
   ]
  },
  {
   "cell_type": "code",
   "execution_count": null,
   "metadata": {},
   "outputs": [],
   "source": [
    "max_3"
   ]
  },
  {
   "cell_type": "code",
   "execution_count": null,
   "metadata": {},
   "outputs": [],
   "source": [
    "max_3.union(max_3-1)"
   ]
  },
  {
   "cell_type": "code",
   "execution_count": null,
   "metadata": {},
   "outputs": [],
   "source": [
    "df1.index[max_3.union(max_3-1)]"
   ]
  },
  {
   "cell_type": "code",
   "execution_count": null,
   "metadata": {},
   "outputs": [],
   "source": [
    "df1['tdelta'].dt.total_seconds().values"
   ]
  },
  {
   "cell_type": "code",
   "execution_count": null,
   "metadata": {},
   "outputs": [],
   "source": [
    "tmp = df1['tdelta'].dt.seconds.values"
   ]
  },
  {
   "cell_type": "code",
   "execution_count": null,
   "metadata": {},
   "outputs": [],
   "source": [
    "pd.Series(tmp).nlargest(20)"
   ]
  },
  {
   "cell_type": "code",
   "execution_count": null,
   "metadata": {},
   "outputs": [],
   "source": [
    "pd.Series(tmp).nsmallest(20)"
   ]
  },
  {
   "cell_type": "code",
   "execution_count": null,
   "metadata": {},
   "outputs": [],
   "source": [
    "import matplotlib.pyplot as plt\n",
    "\n",
    "plt.hist(df1['tdelta'].dt.seconds.values)"
   ]
  },
  {
   "cell_type": "code",
   "execution_count": null,
   "metadata": {},
   "outputs": [],
   "source": [
    "(s>s.quantile(0.99))|(s<s.quantile(0.01))"
   ]
  },
  {
   "cell_type": "code",
   "execution_count": null,
   "metadata": {},
   "outputs": [],
   "source": [
    "res = s.mask((s>s.quantile(0.99))|(s<s.quantile(0.01)))\n",
    "# where the cond is False, keep the original value.\n",
    "# where true, replace with corresponding value from other, default is nan\n",
    "_ = plt.hist(res, 50)"
   ]
  },
  {
   "cell_type": "code",
   "execution_count": null,
   "metadata": {},
   "outputs": [],
   "source": []
  },
  {
   "cell_type": "markdown",
   "metadata": {},
   "source": [
    "3. 求如下指标对应的`Series`：\n",
    "* 温度与辐射量的6小时滑动相关系数\n",
    "* 以三点、九点、十五点、二十一点为分割，该观测所在时间区间的温度均值序列\n",
    "* 每个观测6小时前的辐射量（一般而言不会恰好取到，此时取最近时间戳对应的辐射量）"
   ]
  },
  {
   "cell_type": "code",
   "execution_count": null,
   "metadata": {},
   "outputs": [],
   "source": [
    "temp = pd.Series(df1['Temperature'], index=df1.index)\n",
    "radi = pd.Series(df1['Radiation'], index=df1.index)"
   ]
  },
  {
   "cell_type": "code",
   "execution_count": null,
   "metadata": {},
   "outputs": [],
   "source": [
    "res_temp = temp.rolling('6H')\n",
    "res_radi = radi.rolling('6H')"
   ]
  },
  {
   "cell_type": "code",
   "execution_count": null,
   "metadata": {},
   "outputs": [],
   "source": [
    "res_temp.corr(df1['Radiation'])"
   ]
  },
  {
   "cell_type": "code",
   "execution_count": null,
   "metadata": {},
   "outputs": [],
   "source": [
    "df1['Radiation'].rolling('6H').corr(df1['Temperature'])"
   ]
  },
  {
   "cell_type": "code",
   "execution_count": null,
   "metadata": {},
   "outputs": [],
   "source": [
    "temp.resample('6H', origin='03:00:00').mean()"
   ]
  },
  {
   "cell_type": "code",
   "execution_count": null,
   "metadata": {},
   "outputs": [],
   "source": [
    "radi.shift(freq='-6H')"
   ]
  },
  {
   "cell_type": "code",
   "execution_count": null,
   "metadata": {},
   "outputs": [],
   "source": [
    "# 参考答案\n",
    "my_dt = df1.index.shift(freq='-6H')"
   ]
  },
  {
   "cell_type": "code",
   "execution_count": null,
   "metadata": {},
   "outputs": [],
   "source": [
    "my_dt[20]"
   ]
  },
  {
   "cell_type": "code",
   "execution_count": null,
   "metadata": {},
   "outputs": [],
   "source": [
    "df1.index.get_loc(my_dt[20], method='nearest')"
   ]
  },
  {
   "cell_type": "code",
   "execution_count": null,
   "metadata": {},
   "outputs": [],
   "source": [
    "int_loc = [df1.index.get_indexer(i, method='nearest') for i in my_dt]"
   ]
  },
  {
   "cell_type": "code",
   "execution_count": null,
   "metadata": {},
   "outputs": [],
   "source": [
    "my_dt"
   ]
  },
  {
   "cell_type": "code",
   "execution_count": 2,
   "metadata": {},
   "outputs": [
    {
     "data": {
      "text/plain": [
       "DatetimeIndex(['2016-09-29 23:55:26', '2016-10-01 00:00:19',\n",
       "               '2016-11-29 19:05:02', '2016-12-01 00:00:02',\n",
       "               '2016-12-05 20:45:53', '2016-12-08 11:10:42'],\n",
       "              dtype='datetime64[ns]', name='Datetime', freq=None)"
      ]
     },
     "execution_count": 2,
     "metadata": {},
     "output_type": "execute_result"
    }
   ],
   "source": [
    "df = pd.read_csv('../data/solar.csv', usecols=['Data','Time','Radiation','Temperature'])\n",
    "solar_date = df.Data.str.extract('([/|\\w]+\\s).+')[0]\n",
    "df['Data'] = pd.to_datetime(solar_date + df.Time)\n",
    "df = df.drop(columns='Time').rename(columns={'Data':'Datetime'}).set_index('Datetime').sort_index()\n",
    "df.head(3)\n",
    "\n",
    "s = df.index.to_series().reset_index(drop=True).diff().dt.total_seconds()\n",
    "max_3 = s.nlargest(3).index\n",
    "df.index[max_3.union(max_3-1)]"
   ]
  },
  {
   "cell_type": "code",
   "execution_count": 3,
   "metadata": {},
   "outputs": [],
   "source": [
    "my_dt = df.index.shift(freq='-6H')\n"
   ]
  },
  {
   "cell_type": "code",
   "execution_count": 25,
   "metadata": {},
   "outputs": [],
   "source": [
    "int_loc = [df.index.get_indexer([i], method='nearest') for i in my_dt]"
   ]
  },
  {
   "cell_type": "code",
   "execution_count": 36,
   "metadata": {},
   "outputs": [],
   "source": [
    "int_loc = np.array(int_loc).reshape(-1)"
   ]
  },
  {
   "cell_type": "code",
   "execution_count": 38,
   "metadata": {},
   "outputs": [
    {
     "data": {
      "text/plain": [
       "Datetime\n",
       "2016-12-31 17:45:02    9.33\n",
       "2016-12-31 17:50:01    8.49\n",
       "2016-12-31 17:55:02    5.84\n",
       "Name: Radiation, dtype: float64"
      ]
     },
     "execution_count": 38,
     "metadata": {},
     "output_type": "execute_result"
    }
   ],
   "source": [
    "res = df.Radiation.iloc[int_loc]\n",
    "res.tail(3)"
   ]
  },
  {
   "cell_type": "code",
   "execution_count": 3,
   "metadata": {},
   "outputs": [
    {
     "data": {
      "text/plain": [
       "Datetime\n",
       "2016-12-31 17:45:02    9.33\n",
       "2016-12-31 17:50:01    8.49\n",
       "2016-12-31 17:55:02    5.84\n",
       "Name: Radiation, dtype: float64"
      ]
     },
     "execution_count": 3,
     "metadata": {},
     "output_type": "execute_result"
    }
   ],
   "source": [
    "# work for version 1.4.2\n",
    "my_dt = df.index.shift(freq='-6H')\n",
    "int_loc = [df.index.get_indexer([i], method='nearest') for i in my_dt]\n",
    "int_loc = np.array(int_loc).reshape(-1)\n",
    "res = df.Radiation.iloc[int_loc]\n",
    "res.tail(3)"
   ]
  },
  {
   "cell_type": "code",
   "execution_count": 6,
   "metadata": {},
   "outputs": [
    {
     "data": {
      "text/plain": [
       "Datetime\n",
       "2016-12-31 23:45:04    9.33\n",
       "2016-12-31 23:50:03    8.49\n",
       "2016-12-31 23:55:01    5.84\n",
       "Name: Radiation, dtype: float64"
      ]
     },
     "execution_count": 6,
     "metadata": {},
     "output_type": "execute_result"
    }
   ],
   "source": [
    "my_dt = df.index.shift(freq='-6H')\n",
    "int_loc = [df.index.get_indexer([i], method='nearest') for i in my_dt]\n",
    "int_loc = np.array(int_loc).reshape(-1)\n",
    "res = df.Radiation.iloc[int_loc]\n",
    "res.index = df.index\n",
    "res.tail(3)"
   ]
  },
  {
   "cell_type": "code",
   "execution_count": 8,
   "metadata": {},
   "outputs": [
    {
     "data": {
      "text/plain": [
       "DatetimeIndex(['2016-12-31 17:45:04', '2016-12-31 17:50:03'], dtype='datetime64[ns]', name='Datetime', freq=None)"
      ]
     },
     "execution_count": 8,
     "metadata": {},
     "output_type": "execute_result"
    }
   ],
   "source": [
    "my_dt[-3:-1]"
   ]
  },
  {
   "cell_type": "code",
   "execution_count": 10,
   "metadata": {},
   "outputs": [
    {
     "data": {
      "text/plain": [
       "Datetime\n",
       "2016-09-01 00:00:08     2.58\n",
       "2016-09-01 00:05:10     2.58\n",
       "2016-09-01 00:20:06     2.58\n",
       "2016-09-01 00:25:05     2.58\n",
       "2016-09-01 00:30:09     2.58\n",
       "                       ...  \n",
       "2016-12-31 23:35:02    15.96\n",
       "2016-12-31 23:40:01    11.98\n",
       "2016-12-31 23:45:04     9.33\n",
       "2016-12-31 23:50:03     8.49\n",
       "2016-12-31 23:55:01     5.84\n",
       "Name: Radiation, Length: 32686, dtype: float64"
      ]
     },
     "execution_count": 10,
     "metadata": {},
     "output_type": "execute_result"
    }
   ],
   "source": [
    "target = pd.DataFrame(\n",
    "    {\n",
    "        \"Time\": df.index.shift(freq='-6H'),\n",
    "        \"Datetime\": df.index,\n",
    "    }\n",
    ")\n",
    "res = pd.merge_asof(\n",
    "    target,\n",
    "    df.reset_index().rename(columns={\"Datetime\": \"Time\"}),\n",
    "    left_on=\"Time\",\n",
    "    right_on=\"Time\",\n",
    "    direction=\"nearest\"\n",
    ").set_index(\"Datetime\").Radiation\n",
    "res"
   ]
  },
  {
   "cell_type": "code",
   "execution_count": null,
   "metadata": {},
   "outputs": [],
   "source": []
  },
  {
   "cell_type": "markdown",
   "metadata": {},
   "source": [
    "### Ex2：水果销量数据集\n",
    "\n",
    "现有一份2019年每日水果销量记录表："
   ]
  },
  {
   "cell_type": "code",
   "execution_count": 198,
   "metadata": {},
   "outputs": [
    {
     "data": {
      "text/html": [
       "<div>\n",
       "<style scoped>\n",
       "    .dataframe tbody tr th:only-of-type {\n",
       "        vertical-align: middle;\n",
       "    }\n",
       "\n",
       "    .dataframe tbody tr th {\n",
       "        vertical-align: top;\n",
       "    }\n",
       "\n",
       "    .dataframe thead th {\n",
       "        text-align: right;\n",
       "    }\n",
       "</style>\n",
       "<table border=\"1\" class=\"dataframe\">\n",
       "  <thead>\n",
       "    <tr style=\"text-align: right;\">\n",
       "      <th></th>\n",
       "      <th>Date</th>\n",
       "      <th>Fruit</th>\n",
       "      <th>Sale</th>\n",
       "    </tr>\n",
       "  </thead>\n",
       "  <tbody>\n",
       "    <tr>\n",
       "      <th>0</th>\n",
       "      <td>2019-04-18</td>\n",
       "      <td>Peach</td>\n",
       "      <td>15</td>\n",
       "    </tr>\n",
       "    <tr>\n",
       "      <th>1</th>\n",
       "      <td>2019-12-29</td>\n",
       "      <td>Peach</td>\n",
       "      <td>15</td>\n",
       "    </tr>\n",
       "    <tr>\n",
       "      <th>2</th>\n",
       "      <td>2019-06-05</td>\n",
       "      <td>Peach</td>\n",
       "      <td>19</td>\n",
       "    </tr>\n",
       "  </tbody>\n",
       "</table>\n",
       "</div>"
      ],
      "text/plain": [
       "         Date  Fruit  Sale\n",
       "0  2019-04-18  Peach    15\n",
       "1  2019-12-29  Peach    15\n",
       "2  2019-06-05  Peach    19"
      ]
     },
     "execution_count": 198,
     "metadata": {},
     "output_type": "execute_result"
    }
   ],
   "source": [
    "df = pd.read_csv('../data/fruit.csv')\n",
    "df.head(3)"
   ]
  },
  {
   "cell_type": "code",
   "execution_count": 119,
   "metadata": {},
   "outputs": [],
   "source": [
    "df1 = df.copy()"
   ]
  },
  {
   "cell_type": "markdown",
   "metadata": {},
   "source": [
    "1. 统计如下指标：\n",
    "* 每月上半月（15号及之前）与下半月葡萄销量的比值\n",
    "* 每月最后一天的生梨销量总和\n",
    "* 每月最后一天工作日的生梨销量总和\n",
    "* 每月最后五天的苹果销量均值\n",
    "2. 按月计算周一至周日各品种水果的平均记录条数，行索引外层为水果名称，内层为月份，列索引为星期。\n",
    "3. 按天计算向前10个工作日窗口的苹果销量均值序列，非工作日的值用上一个工作日的结果填充。\n"
   ]
  },
  {
   "cell_type": "markdown",
   "metadata": {},
   "source": [
    "1. 统计如下指标：\n",
    "* 每月上半月（15号及之前）与下半月葡萄销量的比值\n",
    "* 每月最后一天的生梨销量总和\n",
    "* 每月最后一天工作日的生梨销量总和\n",
    "* 每月最后五天的苹果销量均值"
   ]
  },
  {
   "cell_type": "code",
   "execution_count": 121,
   "metadata": {},
   "outputs": [],
   "source": [
    "# * 每月上半月（15号及之前）与下半月葡萄销量的比值\n",
    "df1['Date'] = pd.to_datetime(df1['Date']).values"
   ]
  },
  {
   "cell_type": "code",
   "execution_count": 128,
   "metadata": {},
   "outputs": [],
   "source": [
    "df1.set_index('Date', drop=True, inplace=True)"
   ]
  },
  {
   "cell_type": "code",
   "execution_count": 133,
   "metadata": {},
   "outputs": [],
   "source": [
    "#df1.set_index(df1['Date'], drop=True, inplace=True)\n",
    "#如果写成这句，得到的表中，就会还有 Date 列，如果写上面那句，得到的表中，就没有Date列，而只有index"
   ]
  },
  {
   "cell_type": "code",
   "execution_count": 37,
   "metadata": {},
   "outputs": [
    {
     "data": {
      "text/plain": [
       "Peach     5665\n",
       "Grape     4368\n",
       "Pear      3944\n",
       "Apple     3657\n",
       "Banana    2366\n",
       "Name: Fruit, dtype: int64"
      ]
     },
     "execution_count": 37,
     "metadata": {},
     "output_type": "execute_result"
    }
   ],
   "source": [
    "df1['Fruit'].value_counts()"
   ]
  },
  {
   "cell_type": "code",
   "execution_count": 44,
   "metadata": {},
   "outputs": [],
   "source": [
    "# 每月上半月和下半月葡萄销量的比值\n",
    "grape = df1[df1['Fruit']=='Grape'].sort_index()"
   ]
  },
  {
   "cell_type": "code",
   "execution_count": 57,
   "metadata": {},
   "outputs": [
    {
     "data": {
      "text/plain": [
       "Date\n",
       "2018-12-31    64.512048\n",
       "2019-01-15    58.217617\n",
       "2019-01-31    60.806061\n",
       "2019-02-15    60.791667\n",
       "2019-02-28    58.922619\n",
       "2019-03-15    59.572072\n",
       "2019-03-31    60.123596\n",
       "2019-04-15    58.386243\n",
       "2019-04-30    57.751445\n",
       "2019-05-15    61.402174\n",
       "2019-05-31    64.537143\n",
       "2019-06-15    55.585366\n",
       "2019-06-30    66.331429\n",
       "2019-07-15    55.647799\n",
       "2019-07-31    64.973958\n",
       "2019-08-15    61.561224\n",
       "2019-08-31    63.340314\n",
       "2019-09-15    59.664894\n",
       "2019-09-30    60.212121\n",
       "2019-10-15    61.060000\n",
       "2019-10-31    61.016129\n",
       "2019-11-15    55.032895\n",
       "2019-11-30    59.938650\n",
       "2019-12-15    62.664835\n",
       "Freq: SM-15, Name: Sale, dtype: float64"
      ]
     },
     "execution_count": 57,
     "metadata": {},
     "output_type": "execute_result"
    }
   ],
   "source": [
    "grape['Sale'].resample('SM').mean()\n",
    "# https://pandas.pydata.org/docs/user_guide/timeseries.html\n",
    "# 每个半月的最后一天计算销量平均值"
   ]
  },
  {
   "cell_type": "code",
   "execution_count": 60,
   "metadata": {},
   "outputs": [
    {
     "data": {
      "text/plain": [
       "Date\n",
       "2019-01-01    64.512048\n",
       "2019-01-15    58.907767\n",
       "2019-02-01    60.092105\n",
       "2019-02-15    60.624309\n",
       "2019-03-01    58.961290\n",
       "2019-03-15    59.230435\n",
       "2019-04-01    60.611765\n",
       "2019-04-15    59.150754\n",
       "2019-05-01    56.779141\n",
       "2019-05-15    61.360406\n",
       "2019-06-01    64.839506\n",
       "2019-06-15    56.250000\n",
       "2019-07-01    65.940476\n",
       "2019-07-15    55.791667\n",
       "2019-08-01    65.300546\n",
       "2019-08-15    61.656863\n",
       "2019-09-01    63.311475\n",
       "2019-09-15    59.356784\n",
       "2019-10-01    60.572193\n",
       "2019-10-15    62.018692\n",
       "2019-11-01    59.819767\n",
       "2019-11-15    55.918750\n",
       "2019-12-01    59.277419\n",
       "2019-12-15    62.664835\n",
       "Freq: SMS-15, Name: Sale, dtype: float64"
      ]
     },
     "execution_count": 60,
     "metadata": {},
     "output_type": "execute_result"
    }
   ],
   "source": [
    "grape['Sale'].resample('SMS').mean()"
   ]
  },
  {
   "cell_type": "code",
   "execution_count": 71,
   "metadata": {},
   "outputs": [],
   "source": [
    "# 参考答案\n",
    "res = grape.groupby([np.where(grape.Date.dt.day<=15, 'First', 'Second'), \n",
    "                     grape.Date.dt.month])['Sale'].mean().to_frame().unstack(0).droplevel(0, axis=1)"
   ]
  },
  {
   "cell_type": "code",
   "execution_count": 72,
   "metadata": {},
   "outputs": [
    {
     "data": {
      "text/html": [
       "<div>\n",
       "<style scoped>\n",
       "    .dataframe tbody tr th:only-of-type {\n",
       "        vertical-align: middle;\n",
       "    }\n",
       "\n",
       "    .dataframe tbody tr th {\n",
       "        vertical-align: top;\n",
       "    }\n",
       "\n",
       "    .dataframe thead th {\n",
       "        text-align: right;\n",
       "    }\n",
       "</style>\n",
       "<table border=\"1\" class=\"dataframe\">\n",
       "  <thead>\n",
       "    <tr style=\"text-align: right;\">\n",
       "      <th></th>\n",
       "      <th>First</th>\n",
       "      <th>Second</th>\n",
       "    </tr>\n",
       "    <tr>\n",
       "      <th>Date</th>\n",
       "      <th></th>\n",
       "      <th></th>\n",
       "    </tr>\n",
       "  </thead>\n",
       "  <tbody>\n",
       "    <tr>\n",
       "      <th>1</th>\n",
       "      <td>66.349462</td>\n",
       "      <td>56.467742</td>\n",
       "    </tr>\n",
       "    <tr>\n",
       "      <th>2</th>\n",
       "      <td>59.447059</td>\n",
       "      <td>61.355828</td>\n",
       "    </tr>\n",
       "    <tr>\n",
       "      <th>3</th>\n",
       "      <td>57.502890</td>\n",
       "      <td>60.443396</td>\n",
       "    </tr>\n",
       "    <tr>\n",
       "      <th>4</th>\n",
       "      <td>60.437838</td>\n",
       "      <td>59.206522</td>\n",
       "    </tr>\n",
       "    <tr>\n",
       "      <th>5</th>\n",
       "      <td>57.135593</td>\n",
       "      <td>61.366120</td>\n",
       "    </tr>\n",
       "    <tr>\n",
       "      <th>6</th>\n",
       "      <td>64.923977</td>\n",
       "      <td>55.798030</td>\n",
       "    </tr>\n",
       "    <tr>\n",
       "      <th>7</th>\n",
       "      <td>65.653631</td>\n",
       "      <td>55.407643</td>\n",
       "    </tr>\n",
       "    <tr>\n",
       "      <th>8</th>\n",
       "      <td>64.651515</td>\n",
       "      <td>62.047619</td>\n",
       "    </tr>\n",
       "    <tr>\n",
       "      <th>9</th>\n",
       "      <td>63.297436</td>\n",
       "      <td>59.117647</td>\n",
       "    </tr>\n",
       "    <tr>\n",
       "      <th>10</th>\n",
       "      <td>61.514851</td>\n",
       "      <td>61.170854</td>\n",
       "    </tr>\n",
       "    <tr>\n",
       "      <th>11</th>\n",
       "      <td>58.608696</td>\n",
       "      <td>57.108108</td>\n",
       "    </tr>\n",
       "    <tr>\n",
       "      <th>12</th>\n",
       "      <td>60.252941</td>\n",
       "      <td>61.976048</td>\n",
       "    </tr>\n",
       "  </tbody>\n",
       "</table>\n",
       "</div>"
      ],
      "text/plain": [
       "          First     Second\n",
       "Date                      \n",
       "1     66.349462  56.467742\n",
       "2     59.447059  61.355828\n",
       "3     57.502890  60.443396\n",
       "4     60.437838  59.206522\n",
       "5     57.135593  61.366120\n",
       "6     64.923977  55.798030\n",
       "7     65.653631  55.407643\n",
       "8     64.651515  62.047619\n",
       "9     63.297436  59.117647\n",
       "10    61.514851  61.170854\n",
       "11    58.608696  57.108108\n",
       "12    60.252941  61.976048"
      ]
     },
     "execution_count": 72,
     "metadata": {},
     "output_type": "execute_result"
    }
   ],
   "source": [
    "res"
   ]
  },
  {
   "cell_type": "code",
   "execution_count": 58,
   "metadata": {},
   "outputs": [],
   "source": [
    "res = (res.First / res.Second).rename_axis(\"Month\")"
   ]
  },
  {
   "cell_type": "code",
   "execution_count": 59,
   "metadata": {},
   "outputs": [
    {
     "data": {
      "text/plain": [
       "Month\n",
       "1     1.174998\n",
       "2     0.968890\n",
       "3     0.951351\n",
       "4     1.020797\n",
       "5     0.931061\n",
       "6     1.163553\n",
       "7     1.184920\n",
       "8     1.041966\n",
       "9     1.070703\n",
       "10    1.005624\n",
       "11    1.026276\n",
       "12    0.972197\n",
       "dtype: float64"
      ]
     },
     "execution_count": 59,
     "metadata": {},
     "output_type": "execute_result"
    }
   ],
   "source": [
    "res"
   ]
  },
  {
   "cell_type": "code",
   "execution_count": 68,
   "metadata": {},
   "outputs": [],
   "source": [
    "tmp = grape[(grape.Date.dt.day<=15) & (grape.Date.dt.month==1)]"
   ]
  },
  {
   "cell_type": "code",
   "execution_count": 70,
   "metadata": {},
   "outputs": [
    {
     "data": {
      "text/plain": [
       "66.34946236559139"
      ]
     },
     "execution_count": 70,
     "metadata": {},
     "output_type": "execute_result"
    }
   ],
   "source": [
    "tmp['Sale'].mean()"
   ]
  },
  {
   "cell_type": "code",
   "execution_count": 74,
   "metadata": {},
   "outputs": [],
   "source": [
    "# 每月最后一天的生梨销量总和\n",
    "pear = df1[df1['Fruit']=='Pear'].sort_index()"
   ]
  },
  {
   "cell_type": "code",
   "execution_count": 77,
   "metadata": {},
   "outputs": [
    {
     "data": {
      "text/plain": [
       "Date\n",
       "2019-01-31    20756\n",
       "2019-02-28    18594\n",
       "2019-03-31    18459\n",
       "2019-04-30    19021\n",
       "2019-05-31    21578\n",
       "2019-06-30    17888\n",
       "2019-07-31    21544\n",
       "2019-08-31    20872\n",
       "2019-09-30    19801\n",
       "2019-10-31    21238\n",
       "2019-11-30    19037\n",
       "2019-12-31    19565\n",
       "Freq: M, Name: Sale, dtype: int64"
      ]
     },
     "execution_count": 77,
     "metadata": {},
     "output_type": "execute_result"
    }
   ],
   "source": [
    "pear['Sale'].resample('M').sum()"
   ]
  },
  {
   "cell_type": "code",
   "execution_count": 98,
   "metadata": {},
   "outputs": [
    {
     "data": {
      "text/plain": [
       "Date\n",
       "2019-01-31    847\n",
       "2019-02-28    774\n",
       "2019-03-31    761\n",
       "2019-04-30    648\n",
       "2019-05-31    616\n",
       "2019-06-30    179\n",
       "2019-07-31    757\n",
       "2019-08-31    813\n",
       "2019-09-30    858\n",
       "2019-10-31    753\n",
       "2019-11-30    859\n",
       "Name: Sale, dtype: int64"
      ]
     },
     "execution_count": 98,
     "metadata": {},
     "output_type": "execute_result"
    }
   ],
   "source": [
    "# 答案\n",
    "pear[pear.Date.dt.is_month_end].Sale.groupby('Date').sum()"
   ]
  },
  {
   "cell_type": "code",
   "execution_count": 100,
   "metadata": {},
   "outputs": [
    {
     "data": {
      "text/plain": [
       "DatetimeIndex(['2019-01-31', '2019-02-28', '2019-03-29', '2019-04-30',\n",
       "               '2019-05-31', '2019-06-28', '2019-07-31', '2019-08-30',\n",
       "               '2019-09-30', '2019-10-31', '2019-11-29', '2019-12-31'],\n",
       "              dtype='datetime64[ns]', freq='BM')"
      ]
     },
     "execution_count": 100,
     "metadata": {},
     "output_type": "execute_result"
    }
   ],
   "source": [
    "pd.date_range('20190101', '20191231', freq='BM')"
   ]
  },
  {
   "cell_type": "code",
   "execution_count": 104,
   "metadata": {},
   "outputs": [
    {
     "data": {
      "text/plain": [
       "Date\n",
       "2019-01-31    60.500000\n",
       "2019-02-28    59.538462\n",
       "2019-03-29    56.666667\n",
       "2019-04-30    64.800000\n",
       "2019-05-31    61.600000\n",
       "2019-06-28    67.222222\n",
       "2019-07-31    63.083333\n",
       "2019-08-30    71.714286\n",
       "2019-09-30    78.000000\n",
       "2019-10-31    62.750000\n",
       "2019-11-29    62.789474\n",
       "Name: Sale, dtype: float64"
      ]
     },
     "execution_count": 104,
     "metadata": {},
     "output_type": "execute_result"
    }
   ],
   "source": [
    "# 每月最后一天工作日的生梨销量总和\n",
    "pear[pear.Date.isin(pd.date_range('20190101', '20191231', freq='BM'))]['Sale'].groupby('Date').mean()"
   ]
  },
  {
   "cell_type": "code",
   "execution_count": 232,
   "metadata": {},
   "outputs": [],
   "source": [
    "# 每月最后五天的苹果销量均值\n",
    "apple = df1[df1['Fruit']=='Apple'].sort_index()"
   ]
  },
  {
   "cell_type": "code",
   "execution_count": 200,
   "metadata": {},
   "outputs": [
    {
     "data": {
      "text/plain": [
       "0        4\n",
       "1       12\n",
       "2        6\n",
       "3       10\n",
       "4        6\n",
       "        ..\n",
       "1479     1\n",
       "1545    10\n",
       "1621    10\n",
       "1691     5\n",
       "1716     7\n",
       "Name: Date, Length: 364, dtype: int64"
      ]
     },
     "execution_count": 200,
     "metadata": {},
     "output_type": "execute_result"
    }
   ],
   "source": [
    "df.Date = pd.to_datetime(df.Date)\n",
    "df.Date.drop_duplicates().dt.month"
   ]
  },
  {
   "cell_type": "code",
   "execution_count": 205,
   "metadata": {},
   "outputs": [
    {
     "data": {
      "text/plain": [
       "0    2019-01-31\n",
       "1    2019-01-30\n",
       "2    2019-01-29\n",
       "3    2019-01-28\n",
       "4    2019-01-27\n",
       "5    2019-02-28\n",
       "6    2019-02-27\n",
       "7    2019-02-26\n",
       "8    2019-02-25\n",
       "9    2019-02-24\n",
       "10   2019-03-31\n",
       "11   2019-03-30\n",
       "12   2019-03-29\n",
       "13   2019-03-28\n",
       "14   2019-03-27\n",
       "15   2019-04-30\n",
       "16   2019-04-29\n",
       "17   2019-04-28\n",
       "18   2019-04-27\n",
       "19   2019-04-26\n",
       "20   2019-05-31\n",
       "21   2019-05-30\n",
       "22   2019-05-29\n",
       "23   2019-05-28\n",
       "24   2019-05-27\n",
       "25   2019-06-30\n",
       "26   2019-06-29\n",
       "27   2019-06-28\n",
       "28   2019-06-27\n",
       "29   2019-06-26\n",
       "30   2019-07-31\n",
       "31   2019-07-30\n",
       "32   2019-07-29\n",
       "33   2019-07-28\n",
       "34   2019-07-27\n",
       "35   2019-08-31\n",
       "36   2019-08-30\n",
       "37   2019-08-29\n",
       "38   2019-08-28\n",
       "39   2019-08-27\n",
       "40   2019-09-30\n",
       "41   2019-09-29\n",
       "42   2019-09-28\n",
       "43   2019-09-27\n",
       "44   2019-09-26\n",
       "45   2019-10-31\n",
       "46   2019-10-30\n",
       "47   2019-10-29\n",
       "48   2019-10-28\n",
       "49   2019-10-27\n",
       "50   2019-11-30\n",
       "51   2019-11-29\n",
       "52   2019-11-28\n",
       "53   2019-11-27\n",
       "54   2019-11-26\n",
       "55   2019-12-30\n",
       "56   2019-12-29\n",
       "57   2019-12-28\n",
       "58   2019-12-27\n",
       "59   2019-12-26\n",
       "Name: Date, dtype: datetime64[ns]"
      ]
     },
     "execution_count": 205,
     "metadata": {},
     "output_type": "execute_result"
    }
   ],
   "source": [
    "df.drop_duplicates().groupby(df.Date.drop_duplicates().dt.month)['Date'].nlargest(5).reset_index(drop=True)"
   ]
  },
  {
   "cell_type": "code",
   "execution_count": 224,
   "metadata": {},
   "outputs": [
    {
     "data": {
      "text/plain": [
       "0        4\n",
       "1       12\n",
       "2        6\n",
       "3       10\n",
       "4        6\n",
       "        ..\n",
       "1479     1\n",
       "1545    10\n",
       "1621    10\n",
       "1691     5\n",
       "1716     7\n",
       "Name: Date, Length: 364, dtype: int64"
      ]
     },
     "execution_count": 224,
     "metadata": {},
     "output_type": "execute_result"
    }
   ],
   "source": [
    "df.Date.drop_duplicates().dt.month"
   ]
  },
  {
   "cell_type": "code",
   "execution_count": 242,
   "metadata": {},
   "outputs": [],
   "source": [
    "apple.reset_index(inplace=True)"
   ]
  },
  {
   "cell_type": "code",
   "execution_count": 245,
   "metadata": {},
   "outputs": [],
   "source": [
    "target_dt = apple.drop_duplicates().groupby(apple.Date.drop_duplicates().dt.month)['Date'].nlargest(5).reset_index(drop=True)"
   ]
  },
  {
   "cell_type": "code",
   "execution_count": 251,
   "metadata": {},
   "outputs": [
    {
     "data": {
      "text/html": [
       "<div>\n",
       "<style scoped>\n",
       "    .dataframe tbody tr th:only-of-type {\n",
       "        vertical-align: middle;\n",
       "    }\n",
       "\n",
       "    .dataframe tbody tr th {\n",
       "        vertical-align: top;\n",
       "    }\n",
       "\n",
       "    .dataframe thead th {\n",
       "        text-align: right;\n",
       "    }\n",
       "</style>\n",
       "<table border=\"1\" class=\"dataframe\">\n",
       "  <thead>\n",
       "    <tr style=\"text-align: right;\">\n",
       "      <th></th>\n",
       "      <th>Date</th>\n",
       "      <th>Fruit</th>\n",
       "      <th>Sale</th>\n",
       "    </tr>\n",
       "  </thead>\n",
       "  <tbody>\n",
       "    <tr>\n",
       "      <th>0</th>\n",
       "      <td>2019-01-31</td>\n",
       "      <td>Apple</td>\n",
       "      <td>65</td>\n",
       "    </tr>\n",
       "    <tr>\n",
       "      <th>1</th>\n",
       "      <td>2019-01-31</td>\n",
       "      <td>Apple</td>\n",
       "      <td>36</td>\n",
       "    </tr>\n",
       "    <tr>\n",
       "      <th>2</th>\n",
       "      <td>2019-01-31</td>\n",
       "      <td>Apple</td>\n",
       "      <td>59</td>\n",
       "    </tr>\n",
       "    <tr>\n",
       "      <th>3</th>\n",
       "      <td>2019-01-31</td>\n",
       "      <td>Apple</td>\n",
       "      <td>72</td>\n",
       "    </tr>\n",
       "    <tr>\n",
       "      <th>4</th>\n",
       "      <td>2019-01-31</td>\n",
       "      <td>Apple</td>\n",
       "      <td>74</td>\n",
       "    </tr>\n",
       "    <tr>\n",
       "      <th>...</th>\n",
       "      <td>...</td>\n",
       "      <td>...</td>\n",
       "      <td>...</td>\n",
       "    </tr>\n",
       "    <tr>\n",
       "      <th>583</th>\n",
       "      <td>2019-12-26</td>\n",
       "      <td>Apple</td>\n",
       "      <td>126</td>\n",
       "    </tr>\n",
       "    <tr>\n",
       "      <th>584</th>\n",
       "      <td>2019-12-26</td>\n",
       "      <td>Apple</td>\n",
       "      <td>34</td>\n",
       "    </tr>\n",
       "    <tr>\n",
       "      <th>585</th>\n",
       "      <td>2019-12-26</td>\n",
       "      <td>Apple</td>\n",
       "      <td>17</td>\n",
       "    </tr>\n",
       "    <tr>\n",
       "      <th>586</th>\n",
       "      <td>2019-12-26</td>\n",
       "      <td>Apple</td>\n",
       "      <td>78</td>\n",
       "    </tr>\n",
       "    <tr>\n",
       "      <th>587</th>\n",
       "      <td>2019-12-26</td>\n",
       "      <td>Apple</td>\n",
       "      <td>69</td>\n",
       "    </tr>\n",
       "  </tbody>\n",
       "</table>\n",
       "<p>588 rows × 3 columns</p>\n",
       "</div>"
      ],
      "text/plain": [
       "          Date  Fruit  Sale\n",
       "0   2019-01-31  Apple    65\n",
       "1   2019-01-31  Apple    36\n",
       "2   2019-01-31  Apple    59\n",
       "3   2019-01-31  Apple    72\n",
       "4   2019-01-31  Apple    74\n",
       "..         ...    ...   ...\n",
       "583 2019-12-26  Apple   126\n",
       "584 2019-12-26  Apple    34\n",
       "585 2019-12-26  Apple    17\n",
       "586 2019-12-26  Apple    78\n",
       "587 2019-12-26  Apple    69\n",
       "\n",
       "[588 rows x 3 columns]"
      ]
     },
     "execution_count": 251,
     "metadata": {},
     "output_type": "execute_result"
    }
   ],
   "source": [
    "res"
   ]
  },
  {
   "cell_type": "code",
   "execution_count": 259,
   "metadata": {},
   "outputs": [],
   "source": [
    "res = apple.set_index('Date').loc[target_dt].reset_index()"
   ]
  },
  {
   "cell_type": "code",
   "execution_count": 260,
   "metadata": {},
   "outputs": [],
   "source": [
    "res = res.groupby(res.Date.dt.month)['Sale'].mean().rename_axis('Month')"
   ]
  },
  {
   "cell_type": "code",
   "execution_count": 261,
   "metadata": {},
   "outputs": [
    {
     "data": {
      "text/plain": [
       "Month\n",
       "1     65.313725\n",
       "2     54.061538\n",
       "3     59.325581\n",
       "4     65.795455\n",
       "5     57.465116\n",
       "6     61.897436\n",
       "7     57.000000\n",
       "8     73.636364\n",
       "9     62.301887\n",
       "10    59.562500\n",
       "11    64.437500\n",
       "12    66.020000\n",
       "Name: Sale, dtype: float64"
      ]
     },
     "execution_count": 261,
     "metadata": {},
     "output_type": "execute_result"
    }
   ],
   "source": [
    "res"
   ]
  },
  {
   "cell_type": "code",
   "execution_count": null,
   "metadata": {},
   "outputs": [],
   "source": []
  },
  {
   "cell_type": "code",
   "execution_count": null,
   "metadata": {},
   "outputs": [],
   "source": []
  },
  {
   "cell_type": "markdown",
   "metadata": {},
   "source": [
    "2. 按月计算周一至周日各品种水果的平均记录条数，行索引外层为水果名称，内层为月份，列索引为星期。"
   ]
  },
  {
   "cell_type": "code",
   "execution_count": 262,
   "metadata": {},
   "outputs": [],
   "source": [
    "month_order = ['January', 'February', 'March', 'April', 'May', 'June',\n",
    "               'July', 'August', 'September', 'October', 'November', 'December']\n",
    "\n",
    "week_order = ['Mon', 'Tue', 'Wed', 'Thu', 'Fri', 'Sat', 'Sum']"
   ]
  },
  {
   "cell_type": "code",
   "execution_count": 264,
   "metadata": {},
   "outputs": [],
   "source": [
    "group1 = df.Date.dt.month_name().astype('category').cat.reorder_categories(month_order, ordered=True)"
   ]
  },
  {
   "cell_type": "code",
   "execution_count": 265,
   "metadata": {},
   "outputs": [
    {
     "data": {
      "text/plain": [
       "0            April\n",
       "1         December\n",
       "2             June\n",
       "3          October\n",
       "4             June\n",
       "           ...    \n",
       "19995         July\n",
       "19996      October\n",
       "19997        April\n",
       "19998    September\n",
       "19999    September\n",
       "Name: Date, Length: 20000, dtype: category\n",
       "Categories (12, object): ['January' < 'February' < 'March' < 'April' ... 'September' < 'October' < 'November' < 'December']"
      ]
     },
     "execution_count": 265,
     "metadata": {},
     "output_type": "execute_result"
    }
   ],
   "source": [
    "group1"
   ]
  },
  {
   "cell_type": "code",
   "execution_count": 267,
   "metadata": {},
   "outputs": [],
   "source": [
    "group2 = df.Fruit"
   ]
  },
  {
   "cell_type": "code",
   "execution_count": 270,
   "metadata": {},
   "outputs": [],
   "source": [
    "group3 = df.Date.dt.dayofweek.replace(dict(zip(range(7), week_order))).astype('category').cat.reorder_categories(week_order, ordered=True)"
   ]
  },
  {
   "cell_type": "code",
   "execution_count": 271,
   "metadata": {},
   "outputs": [
    {
     "data": {
      "text/plain": [
       "0        Thu\n",
       "1        Sum\n",
       "2        Wed\n",
       "3        Mon\n",
       "4        Tue\n",
       "        ... \n",
       "19995    Sat\n",
       "19996    Mon\n",
       "19997    Thu\n",
       "19998    Sum\n",
       "19999    Fri\n",
       "Name: Date, Length: 20000, dtype: category\n",
       "Categories (7, object): ['Mon' < 'Tue' < 'Wed' < 'Thu' < 'Fri' < 'Sat' < 'Sum']"
      ]
     },
     "execution_count": 271,
     "metadata": {},
     "output_type": "execute_result"
    }
   ],
   "source": [
    "group3"
   ]
  },
  {
   "cell_type": "code",
   "execution_count": 295,
   "metadata": {},
   "outputs": [
    {
     "data": {
      "text/html": [
       "<div>\n",
       "<style scoped>\n",
       "    .dataframe tbody tr th:only-of-type {\n",
       "        vertical-align: middle;\n",
       "    }\n",
       "\n",
       "    .dataframe tbody tr th {\n",
       "        vertical-align: top;\n",
       "    }\n",
       "\n",
       "    .dataframe thead th {\n",
       "        text-align: right;\n",
       "    }\n",
       "</style>\n",
       "<table border=\"1\" class=\"dataframe\">\n",
       "  <thead>\n",
       "    <tr style=\"text-align: right;\">\n",
       "      <th></th>\n",
       "      <th>Date</th>\n",
       "      <th>January</th>\n",
       "      <th>February</th>\n",
       "      <th>March</th>\n",
       "      <th>April</th>\n",
       "      <th>May</th>\n",
       "      <th>June</th>\n",
       "      <th>July</th>\n",
       "      <th>August</th>\n",
       "      <th>September</th>\n",
       "      <th>October</th>\n",
       "      <th>November</th>\n",
       "      <th>December</th>\n",
       "    </tr>\n",
       "    <tr>\n",
       "      <th>Fruit</th>\n",
       "      <th>Date</th>\n",
       "      <th></th>\n",
       "      <th></th>\n",
       "      <th></th>\n",
       "      <th></th>\n",
       "      <th></th>\n",
       "      <th></th>\n",
       "      <th></th>\n",
       "      <th></th>\n",
       "      <th></th>\n",
       "      <th></th>\n",
       "      <th></th>\n",
       "      <th></th>\n",
       "    </tr>\n",
       "  </thead>\n",
       "  <tbody>\n",
       "    <tr>\n",
       "      <th rowspan=\"7\" valign=\"top\">Apple</th>\n",
       "      <th>Mon</th>\n",
       "      <td>46</td>\n",
       "      <td>43</td>\n",
       "      <td>43</td>\n",
       "      <td>47</td>\n",
       "      <td>43</td>\n",
       "      <td>40</td>\n",
       "      <td>41</td>\n",
       "      <td>38</td>\n",
       "      <td>59</td>\n",
       "      <td>42</td>\n",
       "      <td>39</td>\n",
       "      <td>45</td>\n",
       "    </tr>\n",
       "    <tr>\n",
       "      <th>Tue</th>\n",
       "      <td>50</td>\n",
       "      <td>40</td>\n",
       "      <td>44</td>\n",
       "      <td>52</td>\n",
       "      <td>46</td>\n",
       "      <td>39</td>\n",
       "      <td>50</td>\n",
       "      <td>42</td>\n",
       "      <td>40</td>\n",
       "      <td>57</td>\n",
       "      <td>47</td>\n",
       "      <td>47</td>\n",
       "    </tr>\n",
       "    <tr>\n",
       "      <th>Wed</th>\n",
       "      <td>50</td>\n",
       "      <td>47</td>\n",
       "      <td>37</td>\n",
       "      <td>43</td>\n",
       "      <td>39</td>\n",
       "      <td>39</td>\n",
       "      <td>58</td>\n",
       "      <td>43</td>\n",
       "      <td>35</td>\n",
       "      <td>46</td>\n",
       "      <td>47</td>\n",
       "      <td>38</td>\n",
       "    </tr>\n",
       "    <tr>\n",
       "      <th>Thu</th>\n",
       "      <td>45</td>\n",
       "      <td>35</td>\n",
       "      <td>31</td>\n",
       "      <td>47</td>\n",
       "      <td>58</td>\n",
       "      <td>33</td>\n",
       "      <td>52</td>\n",
       "      <td>44</td>\n",
       "      <td>36</td>\n",
       "      <td>63</td>\n",
       "      <td>37</td>\n",
       "      <td>40</td>\n",
       "    </tr>\n",
       "    <tr>\n",
       "      <th>Fri</th>\n",
       "      <td>32</td>\n",
       "      <td>33</td>\n",
       "      <td>52</td>\n",
       "      <td>31</td>\n",
       "      <td>46</td>\n",
       "      <td>38</td>\n",
       "      <td>37</td>\n",
       "      <td>48</td>\n",
       "      <td>34</td>\n",
       "      <td>37</td>\n",
       "      <td>46</td>\n",
       "      <td>41</td>\n",
       "    </tr>\n",
       "    <tr>\n",
       "      <th>Sat</th>\n",
       "      <td>42</td>\n",
       "      <td>38</td>\n",
       "      <td>42</td>\n",
       "      <td>35</td>\n",
       "      <td>55</td>\n",
       "      <td>58</td>\n",
       "      <td>40</td>\n",
       "      <td>67</td>\n",
       "      <td>45</td>\n",
       "      <td>35</td>\n",
       "      <td>53</td>\n",
       "      <td>47</td>\n",
       "    </tr>\n",
       "    <tr>\n",
       "      <th>Sum</th>\n",
       "      <td>23</td>\n",
       "      <td>45</td>\n",
       "      <td>42</td>\n",
       "      <td>37</td>\n",
       "      <td>31</td>\n",
       "      <td>52</td>\n",
       "      <td>34</td>\n",
       "      <td>46</td>\n",
       "      <td>49</td>\n",
       "      <td>51</td>\n",
       "      <td>37</td>\n",
       "      <td>55</td>\n",
       "    </tr>\n",
       "    <tr>\n",
       "      <th rowspan=\"7\" valign=\"top\">Banana</th>\n",
       "      <th>Mon</th>\n",
       "      <td>27</td>\n",
       "      <td>24</td>\n",
       "      <td>29</td>\n",
       "      <td>36</td>\n",
       "      <td>20</td>\n",
       "      <td>27</td>\n",
       "      <td>26</td>\n",
       "      <td>30</td>\n",
       "      <td>30</td>\n",
       "      <td>27</td>\n",
       "      <td>19</td>\n",
       "      <td>32</td>\n",
       "    </tr>\n",
       "    <tr>\n",
       "      <th>Tue</th>\n",
       "      <td>29</td>\n",
       "      <td>24</td>\n",
       "      <td>19</td>\n",
       "      <td>24</td>\n",
       "      <td>23</td>\n",
       "      <td>22</td>\n",
       "      <td>33</td>\n",
       "      <td>24</td>\n",
       "      <td>17</td>\n",
       "      <td>29</td>\n",
       "      <td>26</td>\n",
       "      <td>28</td>\n",
       "    </tr>\n",
       "    <tr>\n",
       "      <th>Wed</th>\n",
       "      <td>24</td>\n",
       "      <td>35</td>\n",
       "      <td>18</td>\n",
       "      <td>28</td>\n",
       "      <td>35</td>\n",
       "      <td>31</td>\n",
       "      <td>23</td>\n",
       "      <td>24</td>\n",
       "      <td>34</td>\n",
       "      <td>38</td>\n",
       "      <td>20</td>\n",
       "      <td>21</td>\n",
       "    </tr>\n",
       "    <tr>\n",
       "      <th>Thu</th>\n",
       "      <td>42</td>\n",
       "      <td>23</td>\n",
       "      <td>22</td>\n",
       "      <td>33</td>\n",
       "      <td>26</td>\n",
       "      <td>32</td>\n",
       "      <td>24</td>\n",
       "      <td>39</td>\n",
       "      <td>24</td>\n",
       "      <td>34</td>\n",
       "      <td>22</td>\n",
       "      <td>27</td>\n",
       "    </tr>\n",
       "    <tr>\n",
       "      <th>Fri</th>\n",
       "      <td>36</td>\n",
       "      <td>35</td>\n",
       "      <td>32</td>\n",
       "      <td>24</td>\n",
       "      <td>34</td>\n",
       "      <td>22</td>\n",
       "      <td>28</td>\n",
       "      <td>30</td>\n",
       "      <td>23</td>\n",
       "      <td>27</td>\n",
       "      <td>30</td>\n",
       "      <td>28</td>\n",
       "    </tr>\n",
       "    <tr>\n",
       "      <th>Sat</th>\n",
       "      <td>24</td>\n",
       "      <td>27</td>\n",
       "      <td>37</td>\n",
       "      <td>23</td>\n",
       "      <td>32</td>\n",
       "      <td>37</td>\n",
       "      <td>29</td>\n",
       "      <td>35</td>\n",
       "      <td>31</td>\n",
       "      <td>34</td>\n",
       "      <td>32</td>\n",
       "      <td>30</td>\n",
       "    </tr>\n",
       "    <tr>\n",
       "      <th>Sum</th>\n",
       "      <td>35</td>\n",
       "      <td>23</td>\n",
       "      <td>31</td>\n",
       "      <td>27</td>\n",
       "      <td>31</td>\n",
       "      <td>28</td>\n",
       "      <td>14</td>\n",
       "      <td>43</td>\n",
       "      <td>34</td>\n",
       "      <td>21</td>\n",
       "      <td>27</td>\n",
       "      <td>28</td>\n",
       "    </tr>\n",
       "    <tr>\n",
       "      <th rowspan=\"7\" valign=\"top\">Grape</th>\n",
       "      <th>Mon</th>\n",
       "      <td>42</td>\n",
       "      <td>53</td>\n",
       "      <td>52</td>\n",
       "      <td>61</td>\n",
       "      <td>52</td>\n",
       "      <td>42</td>\n",
       "      <td>50</td>\n",
       "      <td>41</td>\n",
       "      <td>57</td>\n",
       "      <td>66</td>\n",
       "      <td>37</td>\n",
       "      <td>59</td>\n",
       "    </tr>\n",
       "    <tr>\n",
       "      <th>Tue</th>\n",
       "      <td>75</td>\n",
       "      <td>39</td>\n",
       "      <td>62</td>\n",
       "      <td>71</td>\n",
       "      <td>48</td>\n",
       "      <td>53</td>\n",
       "      <td>55</td>\n",
       "      <td>42</td>\n",
       "      <td>55</td>\n",
       "      <td>63</td>\n",
       "      <td>48</td>\n",
       "      <td>38</td>\n",
       "    </tr>\n",
       "    <tr>\n",
       "      <th>Wed</th>\n",
       "      <td>53</td>\n",
       "      <td>42</td>\n",
       "      <td>39</td>\n",
       "      <td>34</td>\n",
       "      <td>53</td>\n",
       "      <td>56</td>\n",
       "      <td>52</td>\n",
       "      <td>53</td>\n",
       "      <td>58</td>\n",
       "      <td>73</td>\n",
       "      <td>44</td>\n",
       "      <td>50</td>\n",
       "    </tr>\n",
       "    <tr>\n",
       "      <th>Thu</th>\n",
       "      <td>63</td>\n",
       "      <td>46</td>\n",
       "      <td>51</td>\n",
       "      <td>49</td>\n",
       "      <td>71</td>\n",
       "      <td>58</td>\n",
       "      <td>37</td>\n",
       "      <td>72</td>\n",
       "      <td>40</td>\n",
       "      <td>62</td>\n",
       "      <td>45</td>\n",
       "      <td>36</td>\n",
       "    </tr>\n",
       "    <tr>\n",
       "      <th>Fri</th>\n",
       "      <td>36</td>\n",
       "      <td>62</td>\n",
       "      <td>64</td>\n",
       "      <td>51</td>\n",
       "      <td>55</td>\n",
       "      <td>46</td>\n",
       "      <td>49</td>\n",
       "      <td>72</td>\n",
       "      <td>51</td>\n",
       "      <td>42</td>\n",
       "      <td>58</td>\n",
       "      <td>47</td>\n",
       "    </tr>\n",
       "    <tr>\n",
       "      <th>Sat</th>\n",
       "      <td>57</td>\n",
       "      <td>44</td>\n",
       "      <td>60</td>\n",
       "      <td>54</td>\n",
       "      <td>40</td>\n",
       "      <td>60</td>\n",
       "      <td>50</td>\n",
       "      <td>45</td>\n",
       "      <td>55</td>\n",
       "      <td>47</td>\n",
       "      <td>56</td>\n",
       "      <td>44</td>\n",
       "    </tr>\n",
       "    <tr>\n",
       "      <th>Sum</th>\n",
       "      <td>46</td>\n",
       "      <td>47</td>\n",
       "      <td>57</td>\n",
       "      <td>49</td>\n",
       "      <td>41</td>\n",
       "      <td>59</td>\n",
       "      <td>43</td>\n",
       "      <td>62</td>\n",
       "      <td>66</td>\n",
       "      <td>48</td>\n",
       "      <td>44</td>\n",
       "      <td>63</td>\n",
       "    </tr>\n",
       "    <tr>\n",
       "      <th rowspan=\"7\" valign=\"top\">Peach</th>\n",
       "      <th>Mon</th>\n",
       "      <td>67</td>\n",
       "      <td>75</td>\n",
       "      <td>61</td>\n",
       "      <td>86</td>\n",
       "      <td>60</td>\n",
       "      <td>74</td>\n",
       "      <td>64</td>\n",
       "      <td>63</td>\n",
       "      <td>82</td>\n",
       "      <td>62</td>\n",
       "      <td>54</td>\n",
       "      <td>81</td>\n",
       "    </tr>\n",
       "    <tr>\n",
       "      <th>Tue</th>\n",
       "      <td>78</td>\n",
       "      <td>68</td>\n",
       "      <td>56</td>\n",
       "      <td>91</td>\n",
       "      <td>64</td>\n",
       "      <td>59</td>\n",
       "      <td>51</td>\n",
       "      <td>59</td>\n",
       "      <td>60</td>\n",
       "      <td>84</td>\n",
       "      <td>59</td>\n",
       "      <td>63</td>\n",
       "    </tr>\n",
       "    <tr>\n",
       "      <th>Wed</th>\n",
       "      <td>73</td>\n",
       "      <td>61</td>\n",
       "      <td>69</td>\n",
       "      <td>55</td>\n",
       "      <td>84</td>\n",
       "      <td>65</td>\n",
       "      <td>90</td>\n",
       "      <td>55</td>\n",
       "      <td>61</td>\n",
       "      <td>72</td>\n",
       "      <td>66</td>\n",
       "      <td>56</td>\n",
       "    </tr>\n",
       "    <tr>\n",
       "      <th>Thu</th>\n",
       "      <td>88</td>\n",
       "      <td>55</td>\n",
       "      <td>49</td>\n",
       "      <td>75</td>\n",
       "      <td>77</td>\n",
       "      <td>64</td>\n",
       "      <td>63</td>\n",
       "      <td>94</td>\n",
       "      <td>60</td>\n",
       "      <td>65</td>\n",
       "      <td>63</td>\n",
       "      <td>66</td>\n",
       "    </tr>\n",
       "    <tr>\n",
       "      <th>Fri</th>\n",
       "      <td>59</td>\n",
       "      <td>58</td>\n",
       "      <td>78</td>\n",
       "      <td>65</td>\n",
       "      <td>71</td>\n",
       "      <td>61</td>\n",
       "      <td>50</td>\n",
       "      <td>66</td>\n",
       "      <td>79</td>\n",
       "      <td>58</td>\n",
       "      <td>64</td>\n",
       "      <td>70</td>\n",
       "    </tr>\n",
       "    <tr>\n",
       "      <th>Sat</th>\n",
       "      <td>49</td>\n",
       "      <td>56</td>\n",
       "      <td>73</td>\n",
       "      <td>74</td>\n",
       "      <td>80</td>\n",
       "      <td>74</td>\n",
       "      <td>65</td>\n",
       "      <td>75</td>\n",
       "      <td>64</td>\n",
       "      <td>58</td>\n",
       "      <td>86</td>\n",
       "      <td>67</td>\n",
       "    </tr>\n",
       "    <tr>\n",
       "      <th>Sum</th>\n",
       "      <td>72</td>\n",
       "      <td>62</td>\n",
       "      <td>81</td>\n",
       "      <td>57</td>\n",
       "      <td>74</td>\n",
       "      <td>73</td>\n",
       "      <td>64</td>\n",
       "      <td>64</td>\n",
       "      <td>72</td>\n",
       "      <td>58</td>\n",
       "      <td>57</td>\n",
       "      <td>84</td>\n",
       "    </tr>\n",
       "    <tr>\n",
       "      <th rowspan=\"7\" valign=\"top\">Pear</th>\n",
       "      <th>Mon</th>\n",
       "      <td>39</td>\n",
       "      <td>44</td>\n",
       "      <td>42</td>\n",
       "      <td>57</td>\n",
       "      <td>45</td>\n",
       "      <td>28</td>\n",
       "      <td>57</td>\n",
       "      <td>45</td>\n",
       "      <td>50</td>\n",
       "      <td>48</td>\n",
       "      <td>56</td>\n",
       "      <td>45</td>\n",
       "    </tr>\n",
       "    <tr>\n",
       "      <th>Tue</th>\n",
       "      <td>69</td>\n",
       "      <td>42</td>\n",
       "      <td>43</td>\n",
       "      <td>48</td>\n",
       "      <td>40</td>\n",
       "      <td>45</td>\n",
       "      <td>50</td>\n",
       "      <td>47</td>\n",
       "      <td>41</td>\n",
       "      <td>48</td>\n",
       "      <td>34</td>\n",
       "      <td>52</td>\n",
       "    </tr>\n",
       "    <tr>\n",
       "      <th>Wed</th>\n",
       "      <td>51</td>\n",
       "      <td>49</td>\n",
       "      <td>36</td>\n",
       "      <td>47</td>\n",
       "      <td>60</td>\n",
       "      <td>46</td>\n",
       "      <td>46</td>\n",
       "      <td>31</td>\n",
       "      <td>40</td>\n",
       "      <td>67</td>\n",
       "      <td>43</td>\n",
       "      <td>41</td>\n",
       "    </tr>\n",
       "    <tr>\n",
       "      <th>Thu</th>\n",
       "      <td>54</td>\n",
       "      <td>46</td>\n",
       "      <td>41</td>\n",
       "      <td>36</td>\n",
       "      <td>59</td>\n",
       "      <td>40</td>\n",
       "      <td>38</td>\n",
       "      <td>63</td>\n",
       "      <td>43</td>\n",
       "      <td>58</td>\n",
       "      <td>36</td>\n",
       "      <td>33</td>\n",
       "    </tr>\n",
       "    <tr>\n",
       "      <th>Fri</th>\n",
       "      <td>48</td>\n",
       "      <td>55</td>\n",
       "      <td>49</td>\n",
       "      <td>45</td>\n",
       "      <td>58</td>\n",
       "      <td>43</td>\n",
       "      <td>50</td>\n",
       "      <td>43</td>\n",
       "      <td>46</td>\n",
       "      <td>51</td>\n",
       "      <td>57</td>\n",
       "      <td>52</td>\n",
       "    </tr>\n",
       "    <tr>\n",
       "      <th>Sat</th>\n",
       "      <td>36</td>\n",
       "      <td>35</td>\n",
       "      <td>51</td>\n",
       "      <td>47</td>\n",
       "      <td>45</td>\n",
       "      <td>62</td>\n",
       "      <td>41</td>\n",
       "      <td>50</td>\n",
       "      <td>36</td>\n",
       "      <td>40</td>\n",
       "      <td>62</td>\n",
       "      <td>40</td>\n",
       "    </tr>\n",
       "    <tr>\n",
       "      <th>Sum</th>\n",
       "      <td>40</td>\n",
       "      <td>54</td>\n",
       "      <td>58</td>\n",
       "      <td>39</td>\n",
       "      <td>45</td>\n",
       "      <td>45</td>\n",
       "      <td>63</td>\n",
       "      <td>44</td>\n",
       "      <td>60</td>\n",
       "      <td>44</td>\n",
       "      <td>39</td>\n",
       "      <td>52</td>\n",
       "    </tr>\n",
       "  </tbody>\n",
       "</table>\n",
       "</div>"
      ],
      "text/plain": [
       "Date         January  February  March  April  May  June  July  August  \\\n",
       "Fruit  Date                                                             \n",
       "Apple  Mon        46        43     43     47   43    40    41      38   \n",
       "       Tue        50        40     44     52   46    39    50      42   \n",
       "       Wed        50        47     37     43   39    39    58      43   \n",
       "       Thu        45        35     31     47   58    33    52      44   \n",
       "       Fri        32        33     52     31   46    38    37      48   \n",
       "       Sat        42        38     42     35   55    58    40      67   \n",
       "       Sum        23        45     42     37   31    52    34      46   \n",
       "Banana Mon        27        24     29     36   20    27    26      30   \n",
       "       Tue        29        24     19     24   23    22    33      24   \n",
       "       Wed        24        35     18     28   35    31    23      24   \n",
       "       Thu        42        23     22     33   26    32    24      39   \n",
       "       Fri        36        35     32     24   34    22    28      30   \n",
       "       Sat        24        27     37     23   32    37    29      35   \n",
       "       Sum        35        23     31     27   31    28    14      43   \n",
       "Grape  Mon        42        53     52     61   52    42    50      41   \n",
       "       Tue        75        39     62     71   48    53    55      42   \n",
       "       Wed        53        42     39     34   53    56    52      53   \n",
       "       Thu        63        46     51     49   71    58    37      72   \n",
       "       Fri        36        62     64     51   55    46    49      72   \n",
       "       Sat        57        44     60     54   40    60    50      45   \n",
       "       Sum        46        47     57     49   41    59    43      62   \n",
       "Peach  Mon        67        75     61     86   60    74    64      63   \n",
       "       Tue        78        68     56     91   64    59    51      59   \n",
       "       Wed        73        61     69     55   84    65    90      55   \n",
       "       Thu        88        55     49     75   77    64    63      94   \n",
       "       Fri        59        58     78     65   71    61    50      66   \n",
       "       Sat        49        56     73     74   80    74    65      75   \n",
       "       Sum        72        62     81     57   74    73    64      64   \n",
       "Pear   Mon        39        44     42     57   45    28    57      45   \n",
       "       Tue        69        42     43     48   40    45    50      47   \n",
       "       Wed        51        49     36     47   60    46    46      31   \n",
       "       Thu        54        46     41     36   59    40    38      63   \n",
       "       Fri        48        55     49     45   58    43    50      43   \n",
       "       Sat        36        35     51     47   45    62    41      50   \n",
       "       Sum        40        54     58     39   45    45    63      44   \n",
       "\n",
       "Date         September  October  November  December  \n",
       "Fruit  Date                                          \n",
       "Apple  Mon          59       42        39        45  \n",
       "       Tue          40       57        47        47  \n",
       "       Wed          35       46        47        38  \n",
       "       Thu          36       63        37        40  \n",
       "       Fri          34       37        46        41  \n",
       "       Sat          45       35        53        47  \n",
       "       Sum          49       51        37        55  \n",
       "Banana Mon          30       27        19        32  \n",
       "       Tue          17       29        26        28  \n",
       "       Wed          34       38        20        21  \n",
       "       Thu          24       34        22        27  \n",
       "       Fri          23       27        30        28  \n",
       "       Sat          31       34        32        30  \n",
       "       Sum          34       21        27        28  \n",
       "Grape  Mon          57       66        37        59  \n",
       "       Tue          55       63        48        38  \n",
       "       Wed          58       73        44        50  \n",
       "       Thu          40       62        45        36  \n",
       "       Fri          51       42        58        47  \n",
       "       Sat          55       47        56        44  \n",
       "       Sum          66       48        44        63  \n",
       "Peach  Mon          82       62        54        81  \n",
       "       Tue          60       84        59        63  \n",
       "       Wed          61       72        66        56  \n",
       "       Thu          60       65        63        66  \n",
       "       Fri          79       58        64        70  \n",
       "       Sat          64       58        86        67  \n",
       "       Sum          72       58        57        84  \n",
       "Pear   Mon          50       48        56        45  \n",
       "       Tue          41       48        34        52  \n",
       "       Wed          40       67        43        41  \n",
       "       Thu          43       58        36        33  \n",
       "       Fri          46       51        57        52  \n",
       "       Sat          36       40        62        40  \n",
       "       Sum          60       44        39        52  "
      ]
     },
     "execution_count": 295,
     "metadata": {},
     "output_type": "execute_result"
    }
   ],
   "source": [
    "df.groupby([group1, group2, group3])['Sale'].count().to_frame().unstack(0).droplevel(0, axis=1)"
   ]
  },
  {
   "cell_type": "code",
   "execution_count": 272,
   "metadata": {},
   "outputs": [],
   "source": [
    "res = df.groupby([group1, group2, group3])['Sale'].count().to_frame().unstack(0).droplevel(0, axis=1)"
   ]
  },
  {
   "cell_type": "code",
   "execution_count": 276,
   "metadata": {},
   "outputs": [
    {
     "data": {
      "text/html": [
       "<div>\n",
       "<style scoped>\n",
       "    .dataframe tbody tr th:only-of-type {\n",
       "        vertical-align: middle;\n",
       "    }\n",
       "\n",
       "    .dataframe tbody tr th {\n",
       "        vertical-align: top;\n",
       "    }\n",
       "\n",
       "    .dataframe thead th {\n",
       "        text-align: right;\n",
       "    }\n",
       "</style>\n",
       "<table border=\"1\" class=\"dataframe\">\n",
       "  <thead>\n",
       "    <tr style=\"text-align: right;\">\n",
       "      <th></th>\n",
       "      <th>Date</th>\n",
       "      <th>January</th>\n",
       "      <th>February</th>\n",
       "      <th>March</th>\n",
       "      <th>April</th>\n",
       "      <th>May</th>\n",
       "      <th>June</th>\n",
       "      <th>July</th>\n",
       "      <th>August</th>\n",
       "      <th>September</th>\n",
       "      <th>October</th>\n",
       "      <th>November</th>\n",
       "      <th>December</th>\n",
       "    </tr>\n",
       "    <tr>\n",
       "      <th>Fruit</th>\n",
       "      <th>Date</th>\n",
       "      <th></th>\n",
       "      <th></th>\n",
       "      <th></th>\n",
       "      <th></th>\n",
       "      <th></th>\n",
       "      <th></th>\n",
       "      <th></th>\n",
       "      <th></th>\n",
       "      <th></th>\n",
       "      <th></th>\n",
       "      <th></th>\n",
       "      <th></th>\n",
       "    </tr>\n",
       "  </thead>\n",
       "  <tbody>\n",
       "    <tr>\n",
       "      <th rowspan=\"7\" valign=\"top\">Apple</th>\n",
       "      <th>Mon</th>\n",
       "      <td>46</td>\n",
       "      <td>43</td>\n",
       "      <td>43</td>\n",
       "      <td>47</td>\n",
       "      <td>43</td>\n",
       "      <td>40</td>\n",
       "      <td>41</td>\n",
       "      <td>38</td>\n",
       "      <td>59</td>\n",
       "      <td>42</td>\n",
       "      <td>39</td>\n",
       "      <td>45</td>\n",
       "    </tr>\n",
       "    <tr>\n",
       "      <th>Tue</th>\n",
       "      <td>50</td>\n",
       "      <td>40</td>\n",
       "      <td>44</td>\n",
       "      <td>52</td>\n",
       "      <td>46</td>\n",
       "      <td>39</td>\n",
       "      <td>50</td>\n",
       "      <td>42</td>\n",
       "      <td>40</td>\n",
       "      <td>57</td>\n",
       "      <td>47</td>\n",
       "      <td>47</td>\n",
       "    </tr>\n",
       "    <tr>\n",
       "      <th>Wed</th>\n",
       "      <td>50</td>\n",
       "      <td>47</td>\n",
       "      <td>37</td>\n",
       "      <td>43</td>\n",
       "      <td>39</td>\n",
       "      <td>39</td>\n",
       "      <td>58</td>\n",
       "      <td>43</td>\n",
       "      <td>35</td>\n",
       "      <td>46</td>\n",
       "      <td>47</td>\n",
       "      <td>38</td>\n",
       "    </tr>\n",
       "    <tr>\n",
       "      <th>Thu</th>\n",
       "      <td>45</td>\n",
       "      <td>35</td>\n",
       "      <td>31</td>\n",
       "      <td>47</td>\n",
       "      <td>58</td>\n",
       "      <td>33</td>\n",
       "      <td>52</td>\n",
       "      <td>44</td>\n",
       "      <td>36</td>\n",
       "      <td>63</td>\n",
       "      <td>37</td>\n",
       "      <td>40</td>\n",
       "    </tr>\n",
       "    <tr>\n",
       "      <th>Fri</th>\n",
       "      <td>32</td>\n",
       "      <td>33</td>\n",
       "      <td>52</td>\n",
       "      <td>31</td>\n",
       "      <td>46</td>\n",
       "      <td>38</td>\n",
       "      <td>37</td>\n",
       "      <td>48</td>\n",
       "      <td>34</td>\n",
       "      <td>37</td>\n",
       "      <td>46</td>\n",
       "      <td>41</td>\n",
       "    </tr>\n",
       "    <tr>\n",
       "      <th>Sat</th>\n",
       "      <td>42</td>\n",
       "      <td>38</td>\n",
       "      <td>42</td>\n",
       "      <td>35</td>\n",
       "      <td>55</td>\n",
       "      <td>58</td>\n",
       "      <td>40</td>\n",
       "      <td>67</td>\n",
       "      <td>45</td>\n",
       "      <td>35</td>\n",
       "      <td>53</td>\n",
       "      <td>47</td>\n",
       "    </tr>\n",
       "    <tr>\n",
       "      <th>Sum</th>\n",
       "      <td>23</td>\n",
       "      <td>45</td>\n",
       "      <td>42</td>\n",
       "      <td>37</td>\n",
       "      <td>31</td>\n",
       "      <td>52</td>\n",
       "      <td>34</td>\n",
       "      <td>46</td>\n",
       "      <td>49</td>\n",
       "      <td>51</td>\n",
       "      <td>37</td>\n",
       "      <td>55</td>\n",
       "    </tr>\n",
       "    <tr>\n",
       "      <th rowspan=\"7\" valign=\"top\">Banana</th>\n",
       "      <th>Mon</th>\n",
       "      <td>27</td>\n",
       "      <td>24</td>\n",
       "      <td>29</td>\n",
       "      <td>36</td>\n",
       "      <td>20</td>\n",
       "      <td>27</td>\n",
       "      <td>26</td>\n",
       "      <td>30</td>\n",
       "      <td>30</td>\n",
       "      <td>27</td>\n",
       "      <td>19</td>\n",
       "      <td>32</td>\n",
       "    </tr>\n",
       "    <tr>\n",
       "      <th>Tue</th>\n",
       "      <td>29</td>\n",
       "      <td>24</td>\n",
       "      <td>19</td>\n",
       "      <td>24</td>\n",
       "      <td>23</td>\n",
       "      <td>22</td>\n",
       "      <td>33</td>\n",
       "      <td>24</td>\n",
       "      <td>17</td>\n",
       "      <td>29</td>\n",
       "      <td>26</td>\n",
       "      <td>28</td>\n",
       "    </tr>\n",
       "    <tr>\n",
       "      <th>Wed</th>\n",
       "      <td>24</td>\n",
       "      <td>35</td>\n",
       "      <td>18</td>\n",
       "      <td>28</td>\n",
       "      <td>35</td>\n",
       "      <td>31</td>\n",
       "      <td>23</td>\n",
       "      <td>24</td>\n",
       "      <td>34</td>\n",
       "      <td>38</td>\n",
       "      <td>20</td>\n",
       "      <td>21</td>\n",
       "    </tr>\n",
       "    <tr>\n",
       "      <th>Thu</th>\n",
       "      <td>42</td>\n",
       "      <td>23</td>\n",
       "      <td>22</td>\n",
       "      <td>33</td>\n",
       "      <td>26</td>\n",
       "      <td>32</td>\n",
       "      <td>24</td>\n",
       "      <td>39</td>\n",
       "      <td>24</td>\n",
       "      <td>34</td>\n",
       "      <td>22</td>\n",
       "      <td>27</td>\n",
       "    </tr>\n",
       "    <tr>\n",
       "      <th>Fri</th>\n",
       "      <td>36</td>\n",
       "      <td>35</td>\n",
       "      <td>32</td>\n",
       "      <td>24</td>\n",
       "      <td>34</td>\n",
       "      <td>22</td>\n",
       "      <td>28</td>\n",
       "      <td>30</td>\n",
       "      <td>23</td>\n",
       "      <td>27</td>\n",
       "      <td>30</td>\n",
       "      <td>28</td>\n",
       "    </tr>\n",
       "    <tr>\n",
       "      <th>Sat</th>\n",
       "      <td>24</td>\n",
       "      <td>27</td>\n",
       "      <td>37</td>\n",
       "      <td>23</td>\n",
       "      <td>32</td>\n",
       "      <td>37</td>\n",
       "      <td>29</td>\n",
       "      <td>35</td>\n",
       "      <td>31</td>\n",
       "      <td>34</td>\n",
       "      <td>32</td>\n",
       "      <td>30</td>\n",
       "    </tr>\n",
       "    <tr>\n",
       "      <th>Sum</th>\n",
       "      <td>35</td>\n",
       "      <td>23</td>\n",
       "      <td>31</td>\n",
       "      <td>27</td>\n",
       "      <td>31</td>\n",
       "      <td>28</td>\n",
       "      <td>14</td>\n",
       "      <td>43</td>\n",
       "      <td>34</td>\n",
       "      <td>21</td>\n",
       "      <td>27</td>\n",
       "      <td>28</td>\n",
       "    </tr>\n",
       "    <tr>\n",
       "      <th rowspan=\"7\" valign=\"top\">Grape</th>\n",
       "      <th>Mon</th>\n",
       "      <td>42</td>\n",
       "      <td>53</td>\n",
       "      <td>52</td>\n",
       "      <td>61</td>\n",
       "      <td>52</td>\n",
       "      <td>42</td>\n",
       "      <td>50</td>\n",
       "      <td>41</td>\n",
       "      <td>57</td>\n",
       "      <td>66</td>\n",
       "      <td>37</td>\n",
       "      <td>59</td>\n",
       "    </tr>\n",
       "    <tr>\n",
       "      <th>Tue</th>\n",
       "      <td>75</td>\n",
       "      <td>39</td>\n",
       "      <td>62</td>\n",
       "      <td>71</td>\n",
       "      <td>48</td>\n",
       "      <td>53</td>\n",
       "      <td>55</td>\n",
       "      <td>42</td>\n",
       "      <td>55</td>\n",
       "      <td>63</td>\n",
       "      <td>48</td>\n",
       "      <td>38</td>\n",
       "    </tr>\n",
       "    <tr>\n",
       "      <th>Wed</th>\n",
       "      <td>53</td>\n",
       "      <td>42</td>\n",
       "      <td>39</td>\n",
       "      <td>34</td>\n",
       "      <td>53</td>\n",
       "      <td>56</td>\n",
       "      <td>52</td>\n",
       "      <td>53</td>\n",
       "      <td>58</td>\n",
       "      <td>73</td>\n",
       "      <td>44</td>\n",
       "      <td>50</td>\n",
       "    </tr>\n",
       "    <tr>\n",
       "      <th>Thu</th>\n",
       "      <td>63</td>\n",
       "      <td>46</td>\n",
       "      <td>51</td>\n",
       "      <td>49</td>\n",
       "      <td>71</td>\n",
       "      <td>58</td>\n",
       "      <td>37</td>\n",
       "      <td>72</td>\n",
       "      <td>40</td>\n",
       "      <td>62</td>\n",
       "      <td>45</td>\n",
       "      <td>36</td>\n",
       "    </tr>\n",
       "    <tr>\n",
       "      <th>Fri</th>\n",
       "      <td>36</td>\n",
       "      <td>62</td>\n",
       "      <td>64</td>\n",
       "      <td>51</td>\n",
       "      <td>55</td>\n",
       "      <td>46</td>\n",
       "      <td>49</td>\n",
       "      <td>72</td>\n",
       "      <td>51</td>\n",
       "      <td>42</td>\n",
       "      <td>58</td>\n",
       "      <td>47</td>\n",
       "    </tr>\n",
       "    <tr>\n",
       "      <th>Sat</th>\n",
       "      <td>57</td>\n",
       "      <td>44</td>\n",
       "      <td>60</td>\n",
       "      <td>54</td>\n",
       "      <td>40</td>\n",
       "      <td>60</td>\n",
       "      <td>50</td>\n",
       "      <td>45</td>\n",
       "      <td>55</td>\n",
       "      <td>47</td>\n",
       "      <td>56</td>\n",
       "      <td>44</td>\n",
       "    </tr>\n",
       "    <tr>\n",
       "      <th>Sum</th>\n",
       "      <td>46</td>\n",
       "      <td>47</td>\n",
       "      <td>57</td>\n",
       "      <td>49</td>\n",
       "      <td>41</td>\n",
       "      <td>59</td>\n",
       "      <td>43</td>\n",
       "      <td>62</td>\n",
       "      <td>66</td>\n",
       "      <td>48</td>\n",
       "      <td>44</td>\n",
       "      <td>63</td>\n",
       "    </tr>\n",
       "    <tr>\n",
       "      <th rowspan=\"7\" valign=\"top\">Peach</th>\n",
       "      <th>Mon</th>\n",
       "      <td>67</td>\n",
       "      <td>75</td>\n",
       "      <td>61</td>\n",
       "      <td>86</td>\n",
       "      <td>60</td>\n",
       "      <td>74</td>\n",
       "      <td>64</td>\n",
       "      <td>63</td>\n",
       "      <td>82</td>\n",
       "      <td>62</td>\n",
       "      <td>54</td>\n",
       "      <td>81</td>\n",
       "    </tr>\n",
       "    <tr>\n",
       "      <th>Tue</th>\n",
       "      <td>78</td>\n",
       "      <td>68</td>\n",
       "      <td>56</td>\n",
       "      <td>91</td>\n",
       "      <td>64</td>\n",
       "      <td>59</td>\n",
       "      <td>51</td>\n",
       "      <td>59</td>\n",
       "      <td>60</td>\n",
       "      <td>84</td>\n",
       "      <td>59</td>\n",
       "      <td>63</td>\n",
       "    </tr>\n",
       "    <tr>\n",
       "      <th>Wed</th>\n",
       "      <td>73</td>\n",
       "      <td>61</td>\n",
       "      <td>69</td>\n",
       "      <td>55</td>\n",
       "      <td>84</td>\n",
       "      <td>65</td>\n",
       "      <td>90</td>\n",
       "      <td>55</td>\n",
       "      <td>61</td>\n",
       "      <td>72</td>\n",
       "      <td>66</td>\n",
       "      <td>56</td>\n",
       "    </tr>\n",
       "    <tr>\n",
       "      <th>Thu</th>\n",
       "      <td>88</td>\n",
       "      <td>55</td>\n",
       "      <td>49</td>\n",
       "      <td>75</td>\n",
       "      <td>77</td>\n",
       "      <td>64</td>\n",
       "      <td>63</td>\n",
       "      <td>94</td>\n",
       "      <td>60</td>\n",
       "      <td>65</td>\n",
       "      <td>63</td>\n",
       "      <td>66</td>\n",
       "    </tr>\n",
       "    <tr>\n",
       "      <th>Fri</th>\n",
       "      <td>59</td>\n",
       "      <td>58</td>\n",
       "      <td>78</td>\n",
       "      <td>65</td>\n",
       "      <td>71</td>\n",
       "      <td>61</td>\n",
       "      <td>50</td>\n",
       "      <td>66</td>\n",
       "      <td>79</td>\n",
       "      <td>58</td>\n",
       "      <td>64</td>\n",
       "      <td>70</td>\n",
       "    </tr>\n",
       "    <tr>\n",
       "      <th>Sat</th>\n",
       "      <td>49</td>\n",
       "      <td>56</td>\n",
       "      <td>73</td>\n",
       "      <td>74</td>\n",
       "      <td>80</td>\n",
       "      <td>74</td>\n",
       "      <td>65</td>\n",
       "      <td>75</td>\n",
       "      <td>64</td>\n",
       "      <td>58</td>\n",
       "      <td>86</td>\n",
       "      <td>67</td>\n",
       "    </tr>\n",
       "    <tr>\n",
       "      <th>Sum</th>\n",
       "      <td>72</td>\n",
       "      <td>62</td>\n",
       "      <td>81</td>\n",
       "      <td>57</td>\n",
       "      <td>74</td>\n",
       "      <td>73</td>\n",
       "      <td>64</td>\n",
       "      <td>64</td>\n",
       "      <td>72</td>\n",
       "      <td>58</td>\n",
       "      <td>57</td>\n",
       "      <td>84</td>\n",
       "    </tr>\n",
       "    <tr>\n",
       "      <th rowspan=\"7\" valign=\"top\">Pear</th>\n",
       "      <th>Mon</th>\n",
       "      <td>39</td>\n",
       "      <td>44</td>\n",
       "      <td>42</td>\n",
       "      <td>57</td>\n",
       "      <td>45</td>\n",
       "      <td>28</td>\n",
       "      <td>57</td>\n",
       "      <td>45</td>\n",
       "      <td>50</td>\n",
       "      <td>48</td>\n",
       "      <td>56</td>\n",
       "      <td>45</td>\n",
       "    </tr>\n",
       "    <tr>\n",
       "      <th>Tue</th>\n",
       "      <td>69</td>\n",
       "      <td>42</td>\n",
       "      <td>43</td>\n",
       "      <td>48</td>\n",
       "      <td>40</td>\n",
       "      <td>45</td>\n",
       "      <td>50</td>\n",
       "      <td>47</td>\n",
       "      <td>41</td>\n",
       "      <td>48</td>\n",
       "      <td>34</td>\n",
       "      <td>52</td>\n",
       "    </tr>\n",
       "    <tr>\n",
       "      <th>Wed</th>\n",
       "      <td>51</td>\n",
       "      <td>49</td>\n",
       "      <td>36</td>\n",
       "      <td>47</td>\n",
       "      <td>60</td>\n",
       "      <td>46</td>\n",
       "      <td>46</td>\n",
       "      <td>31</td>\n",
       "      <td>40</td>\n",
       "      <td>67</td>\n",
       "      <td>43</td>\n",
       "      <td>41</td>\n",
       "    </tr>\n",
       "    <tr>\n",
       "      <th>Thu</th>\n",
       "      <td>54</td>\n",
       "      <td>46</td>\n",
       "      <td>41</td>\n",
       "      <td>36</td>\n",
       "      <td>59</td>\n",
       "      <td>40</td>\n",
       "      <td>38</td>\n",
       "      <td>63</td>\n",
       "      <td>43</td>\n",
       "      <td>58</td>\n",
       "      <td>36</td>\n",
       "      <td>33</td>\n",
       "    </tr>\n",
       "    <tr>\n",
       "      <th>Fri</th>\n",
       "      <td>48</td>\n",
       "      <td>55</td>\n",
       "      <td>49</td>\n",
       "      <td>45</td>\n",
       "      <td>58</td>\n",
       "      <td>43</td>\n",
       "      <td>50</td>\n",
       "      <td>43</td>\n",
       "      <td>46</td>\n",
       "      <td>51</td>\n",
       "      <td>57</td>\n",
       "      <td>52</td>\n",
       "    </tr>\n",
       "    <tr>\n",
       "      <th>Sat</th>\n",
       "      <td>36</td>\n",
       "      <td>35</td>\n",
       "      <td>51</td>\n",
       "      <td>47</td>\n",
       "      <td>45</td>\n",
       "      <td>62</td>\n",
       "      <td>41</td>\n",
       "      <td>50</td>\n",
       "      <td>36</td>\n",
       "      <td>40</td>\n",
       "      <td>62</td>\n",
       "      <td>40</td>\n",
       "    </tr>\n",
       "    <tr>\n",
       "      <th>Sum</th>\n",
       "      <td>40</td>\n",
       "      <td>54</td>\n",
       "      <td>58</td>\n",
       "      <td>39</td>\n",
       "      <td>45</td>\n",
       "      <td>45</td>\n",
       "      <td>63</td>\n",
       "      <td>44</td>\n",
       "      <td>60</td>\n",
       "      <td>44</td>\n",
       "      <td>39</td>\n",
       "      <td>52</td>\n",
       "    </tr>\n",
       "  </tbody>\n",
       "</table>\n",
       "</div>"
      ],
      "text/plain": [
       "Date         January  February  March  April  May  June  July  August  \\\n",
       "Fruit  Date                                                             \n",
       "Apple  Mon        46        43     43     47   43    40    41      38   \n",
       "       Tue        50        40     44     52   46    39    50      42   \n",
       "       Wed        50        47     37     43   39    39    58      43   \n",
       "       Thu        45        35     31     47   58    33    52      44   \n",
       "       Fri        32        33     52     31   46    38    37      48   \n",
       "       Sat        42        38     42     35   55    58    40      67   \n",
       "       Sum        23        45     42     37   31    52    34      46   \n",
       "Banana Mon        27        24     29     36   20    27    26      30   \n",
       "       Tue        29        24     19     24   23    22    33      24   \n",
       "       Wed        24        35     18     28   35    31    23      24   \n",
       "       Thu        42        23     22     33   26    32    24      39   \n",
       "       Fri        36        35     32     24   34    22    28      30   \n",
       "       Sat        24        27     37     23   32    37    29      35   \n",
       "       Sum        35        23     31     27   31    28    14      43   \n",
       "Grape  Mon        42        53     52     61   52    42    50      41   \n",
       "       Tue        75        39     62     71   48    53    55      42   \n",
       "       Wed        53        42     39     34   53    56    52      53   \n",
       "       Thu        63        46     51     49   71    58    37      72   \n",
       "       Fri        36        62     64     51   55    46    49      72   \n",
       "       Sat        57        44     60     54   40    60    50      45   \n",
       "       Sum        46        47     57     49   41    59    43      62   \n",
       "Peach  Mon        67        75     61     86   60    74    64      63   \n",
       "       Tue        78        68     56     91   64    59    51      59   \n",
       "       Wed        73        61     69     55   84    65    90      55   \n",
       "       Thu        88        55     49     75   77    64    63      94   \n",
       "       Fri        59        58     78     65   71    61    50      66   \n",
       "       Sat        49        56     73     74   80    74    65      75   \n",
       "       Sum        72        62     81     57   74    73    64      64   \n",
       "Pear   Mon        39        44     42     57   45    28    57      45   \n",
       "       Tue        69        42     43     48   40    45    50      47   \n",
       "       Wed        51        49     36     47   60    46    46      31   \n",
       "       Thu        54        46     41     36   59    40    38      63   \n",
       "       Fri        48        55     49     45   58    43    50      43   \n",
       "       Sat        36        35     51     47   45    62    41      50   \n",
       "       Sum        40        54     58     39   45    45    63      44   \n",
       "\n",
       "Date         September  October  November  December  \n",
       "Fruit  Date                                          \n",
       "Apple  Mon          59       42        39        45  \n",
       "       Tue          40       57        47        47  \n",
       "       Wed          35       46        47        38  \n",
       "       Thu          36       63        37        40  \n",
       "       Fri          34       37        46        41  \n",
       "       Sat          45       35        53        47  \n",
       "       Sum          49       51        37        55  \n",
       "Banana Mon          30       27        19        32  \n",
       "       Tue          17       29        26        28  \n",
       "       Wed          34       38        20        21  \n",
       "       Thu          24       34        22        27  \n",
       "       Fri          23       27        30        28  \n",
       "       Sat          31       34        32        30  \n",
       "       Sum          34       21        27        28  \n",
       "Grape  Mon          57       66        37        59  \n",
       "       Tue          55       63        48        38  \n",
       "       Wed          58       73        44        50  \n",
       "       Thu          40       62        45        36  \n",
       "       Fri          51       42        58        47  \n",
       "       Sat          55       47        56        44  \n",
       "       Sum          66       48        44        63  \n",
       "Peach  Mon          82       62        54        81  \n",
       "       Tue          60       84        59        63  \n",
       "       Wed          61       72        66        56  \n",
       "       Thu          60       65        63        66  \n",
       "       Fri          79       58        64        70  \n",
       "       Sat          64       58        86        67  \n",
       "       Sum          72       58        57        84  \n",
       "Pear   Mon          50       48        56        45  \n",
       "       Tue          41       48        34        52  \n",
       "       Wed          40       67        43        41  \n",
       "       Thu          43       58        36        33  \n",
       "       Fri          46       51        57        52  \n",
       "       Sat          36       40        62        40  \n",
       "       Sum          60       44        39        52  "
      ]
     },
     "execution_count": 276,
     "metadata": {},
     "output_type": "execute_result"
    }
   ],
   "source": [
    "res"
   ]
  },
  {
   "cell_type": "markdown",
   "metadata": {},
   "source": [
    "3. 按天计算向前10个工作日窗口的苹果销量均值序列，非工作日的值用上一个工作日的结果填充。"
   ]
  },
  {
   "cell_type": "code",
   "execution_count": 299,
   "metadata": {},
   "outputs": [],
   "source": [
    "df_apple = df[(df.Fruit=='Apple')&(~df.Date.dt.dayofweek.isin([5, 6]))]"
   ]
  },
  {
   "cell_type": "code",
   "execution_count": 302,
   "metadata": {},
   "outputs": [
    {
     "data": {
      "text/plain": [
       "Date\n",
       "2019-01-01    189\n",
       "2019-01-02    482\n",
       "2019-01-03    890\n",
       "2019-01-04    550\n",
       "2019-01-07    494\n",
       "             ... \n",
       "2019-12-24    863\n",
       "2019-12-25    919\n",
       "2019-12-26    650\n",
       "2019-12-27    808\n",
       "2019-12-30    531\n",
       "Length: 260, dtype: int64"
      ]
     },
     "execution_count": 302,
     "metadata": {},
     "output_type": "execute_result"
    }
   ],
   "source": [
    "s = pd.Series(df_apple.Sale.values, index=df_apple.Date).groupby('Date').sum()\n",
    "s"
   ]
  },
  {
   "cell_type": "code",
   "execution_count": 303,
   "metadata": {},
   "outputs": [],
   "source": [
    "res = s.rolling('10D').mean().reindex(pd.date_range('20190101', '20191231')).fillna(method='ffill')"
   ]
  },
  {
   "cell_type": "code",
   "execution_count": 304,
   "metadata": {},
   "outputs": [
    {
     "data": {
      "text/plain": [
       "2019-01-01    189.000000\n",
       "2019-01-02    335.500000\n",
       "2019-01-03    520.333333\n",
       "2019-01-04    527.750000\n",
       "2019-01-05    527.750000\n",
       "                 ...    \n",
       "2019-12-27    626.875000\n",
       "2019-12-28    626.875000\n",
       "2019-12-29    626.875000\n",
       "2019-12-30    710.166667\n",
       "2019-12-31    710.166667\n",
       "Freq: D, Length: 365, dtype: float64"
      ]
     },
     "execution_count": 304,
     "metadata": {},
     "output_type": "execute_result"
    }
   ],
   "source": [
    "res"
   ]
  },
  {
   "cell_type": "code",
   "execution_count": null,
   "metadata": {},
   "outputs": [],
   "source": []
  }
 ],
 "metadata": {
  "kernelspec": {
   "display_name": "Python 3 (ipykernel)",
   "language": "python",
   "name": "python3"
  },
  "language_info": {
   "codemirror_mode": {
    "name": "ipython",
    "version": 3
   },
   "file_extension": ".py",
   "mimetype": "text/x-python",
   "name": "python",
   "nbconvert_exporter": "python",
   "pygments_lexer": "ipython3",
   "version": "3.9.12"
  }
 },
 "nbformat": 4,
 "nbformat_minor": 2
}
