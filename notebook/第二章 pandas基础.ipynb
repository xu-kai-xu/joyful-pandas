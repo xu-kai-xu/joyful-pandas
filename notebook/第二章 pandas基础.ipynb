{
 "cells": [
  {
   "cell_type": "markdown",
   "metadata": {},
   "source": [
    "<center><h1>第二章 pandas基础</h1></center>"
   ]
  },
  {
   "cell_type": "code",
   "execution_count": null,
   "metadata": {},
   "outputs": [],
   "source": [
    "import numpy as np\n",
    "import pandas as pd"
   ]
  },
  {
   "cell_type": "markdown",
   "metadata": {},
   "source": [
    "在开始学习前，请保证`pandas`的版本号不低于如下所示的版本，否则请务必升级！请确认已经安装了`xlrd, xlwt, openpyxl`这三个包，其中`xlrd`版本不得高于`2.0.0`。"
   ]
  },
  {
   "cell_type": "code",
   "execution_count": null,
   "metadata": {},
   "outputs": [],
   "source": [
    "pd.__version__"
   ]
  },
  {
   "cell_type": "markdown",
   "metadata": {},
   "source": [
    "## 一、文件的读取和写入\n",
    "### 1. 文件读取"
   ]
  },
  {
   "cell_type": "markdown",
   "metadata": {},
   "source": [
    "`pandas`可以读取的文件格式有很多，这里主要介绍读取`csv, excel, txt`文件。"
   ]
  },
  {
   "cell_type": "code",
   "execution_count": null,
   "metadata": {},
   "outputs": [],
   "source": [
    "df_csv = pd.read_csv('../data/my_csv.csv')\n",
    "df_csv"
   ]
  },
  {
   "cell_type": "code",
   "execution_count": null,
   "metadata": {},
   "outputs": [],
   "source": [
    "df_txt = pd.read_table('../data/my_table.txt')\n",
    "df_txt"
   ]
  },
  {
   "cell_type": "code",
   "execution_count": null,
   "metadata": {},
   "outputs": [],
   "source": [
    "df_excel = pd.read_excel('../data/my_excel.xlsx')\n",
    "df_excel"
   ]
  },
  {
   "cell_type": "markdown",
   "metadata": {},
   "source": [
    "这里有一些常用的公共参数，`header=None`表示第一行不作为列名，`index_col`表示把某一列或几列作为索引，索引的内容将会在第三章进行详述，`usecols`表示读取列的集合，默认读取所有的列，`parse_dates`表示需要转化为时间的列，关于时间序列的有关内容将在第十章讲解，`nrows`表示读取的数据行数。上面这些参数在上述的三个函数里都可以使用。"
   ]
  },
  {
   "cell_type": "code",
   "execution_count": null,
   "metadata": {},
   "outputs": [],
   "source": [
    "pd.read_table('../data/my_table.txt', header=None)"
   ]
  },
  {
   "cell_type": "code",
   "execution_count": null,
   "metadata": {},
   "outputs": [],
   "source": [
    "pd.read_csv('../data/my_csv.csv', index_col=['col1', 'col2'])"
   ]
  },
  {
   "cell_type": "code",
   "execution_count": null,
   "metadata": {},
   "outputs": [],
   "source": [
    "pd.read_table('../data/my_table.txt', usecols=['col1', 'col2'])"
   ]
  },
  {
   "cell_type": "code",
   "execution_count": null,
   "metadata": {},
   "outputs": [],
   "source": [
    "pd.read_csv('../data/my_csv.csv', parse_dates=['col5'])"
   ]
  },
  {
   "cell_type": "code",
   "execution_count": null,
   "metadata": {},
   "outputs": [],
   "source": [
    "pd.read_excel('../data/my_excel.xlsx', nrows=2)"
   ]
  },
  {
   "cell_type": "markdown",
   "metadata": {},
   "source": [
    "在读取`txt`文件时，经常遇到分隔符非空格的情况，`read_table`有一个分割参数`sep`，它使得用户可以自定义分割符号，进行`txt`数据的读取。例如，下面的读取的表以`||||`为分割："
   ]
  },
  {
   "cell_type": "code",
   "execution_count": null,
   "metadata": {},
   "outputs": [],
   "source": [
    "pd.read_table('../data/my_table_special_sep.txt')"
   ]
  },
  {
   "cell_type": "markdown",
   "metadata": {},
   "source": [
    "上面的结果显然不是理想的，这时可以使用`sep`，同时需要指定引擎为`python`："
   ]
  },
  {
   "cell_type": "code",
   "execution_count": null,
   "metadata": {},
   "outputs": [],
   "source": [
    "pd.read_table('../data/my_table_special_sep.txt', sep=' \\|\\|\\|\\| ', engine='python')"
   ]
  },
  {
   "cell_type": "code",
   "execution_count": null,
   "metadata": {},
   "outputs": [],
   "source": [
    "pd.read_table('../data/my_table_special_sep.txt', sep=r' \\|\\|\\|\\| ', engine='python')"
   ]
  },
  {
   "cell_type": "markdown",
   "metadata": {},
   "source": [
    "这里用 raw string 没有效果"
   ]
  },
  {
   "cell_type": "markdown",
   "metadata": {},
   "source": [
    "#### 【WARNING】`sep`是正则参数\n",
    "\n",
    "在使用`read_table`的时候需要注意，参数`sep`中使用的是正则表达式，因此需要对`|`进行转义变成`\\|`，否则无法读取到正确的结果。有关正则表达式的基本内容可以参考第八章或者其他相关资料。\n",
    "\n",
    "#### 【END】\n",
    "\n",
    "### 2. 数据写入\n",
    "\n",
    "一般在数据写入中，最常用的操作是把`index`设置为`False`，特别当索引没有特殊意义的时候，这样的行为能把索引在保存的时候去除。"
   ]
  },
  {
   "cell_type": "code",
   "execution_count": null,
   "metadata": {},
   "outputs": [],
   "source": [
    "df_csv.to_csv('../data/my_csv_saved.csv', index=False)\n",
    "df_excel.to_excel('../data/my_excel_saved.xlsx', index=False)"
   ]
  },
  {
   "cell_type": "markdown",
   "metadata": {},
   "source": [
    "`pandas`中没有定义`to_table`函数，但是`to_csv`可以保存为`txt`文件，并且允许自定义分隔符，常用制表符`\\t`分割："
   ]
  },
  {
   "cell_type": "code",
   "execution_count": null,
   "metadata": {},
   "outputs": [],
   "source": [
    "df_txt.to_csv('../data/my_txt_saved.txt', sep='\\t', index=False)"
   ]
  },
  {
   "cell_type": "markdown",
   "metadata": {},
   "source": [
    "如果想要把表格快速转换为`markdown`和`latex`语言，可以使用`to_markdown`和`to_latex`函数，此处需要安装`tabulate`包。"
   ]
  },
  {
   "cell_type": "code",
   "execution_count": null,
   "metadata": {},
   "outputs": [],
   "source": [
    "print(df_csv.to_markdown())"
   ]
  },
  {
   "cell_type": "code",
   "execution_count": null,
   "metadata": {},
   "outputs": [],
   "source": [
    "result = df_csv.to_latex()\n",
    "type(result)"
   ]
  },
  {
   "cell_type": "code",
   "execution_count": null,
   "metadata": {},
   "outputs": [],
   "source": [
    "with open('df_csv_to_latex.txt', 'w') as f:\n",
    "    f.write(result)"
   ]
  },
  {
   "cell_type": "code",
   "execution_count": null,
   "metadata": {},
   "outputs": [],
   "source": [
    "pwd"
   ]
  },
  {
   "cell_type": "code",
   "execution_count": null,
   "metadata": {},
   "outputs": [],
   "source": [
    "print(df_csv.to_latex())"
   ]
  },
  {
   "cell_type": "markdown",
   "metadata": {},
   "source": [
    "## 二、基本数据结构\n",
    "`pandas`中具有两种基本的数据存储结构，存储一维`values`的`Series`和存储二维`values`的`DataFrame`，在这两种结构上定义了很多的属性和方法。\n",
    "\n",
    "### 1. Series\n",
    "`Series`一般由四个部分组成，分别是序列的值`data`、索引`index`、存储类型`dtype`、序列的名字`name`。其中，索引也可以指定它的名字，默认为空。"
   ]
  },
  {
   "cell_type": "code",
   "execution_count": null,
   "metadata": {},
   "outputs": [],
   "source": [
    "s = pd.Series(data = [100, 'a', {'dic1':5}],\n",
    "              index = pd.Index(['id1', 20, 'third'], name='my_idx'),\n",
    "              dtype = 'object',\n",
    "              name = 'my_name')\n",
    "s"
   ]
  },
  {
   "cell_type": "markdown",
   "metadata": {},
   "source": [
    "#### 【NOTE】`object`类型\n",
    "\n",
    "`object`代表了一种混合类型，正如上面的例子中存储了整数、字符串以及`Python`的字典数据结构。此外，目前`pandas`把纯字符串序列也默认认为是一种`object`类型的序列，但它也可以用`string`类型存储，文本序列的内容会在第八章中讨论。\n",
    "\n",
    "#### 【END】\n",
    "\n",
    "对于这些属性，可以通过 . 的方式来获取："
   ]
  },
  {
   "cell_type": "code",
   "execution_count": null,
   "metadata": {},
   "outputs": [],
   "source": [
    "s.values"
   ]
  },
  {
   "cell_type": "code",
   "execution_count": null,
   "metadata": {},
   "outputs": [],
   "source": [
    "s.index"
   ]
  },
  {
   "cell_type": "code",
   "execution_count": null,
   "metadata": {},
   "outputs": [],
   "source": [
    "s.dtype"
   ]
  },
  {
   "cell_type": "code",
   "execution_count": null,
   "metadata": {},
   "outputs": [],
   "source": [
    "s.name"
   ]
  },
  {
   "cell_type": "markdown",
   "metadata": {},
   "source": [
    "利用`.shape`可以获取序列的长度："
   ]
  },
  {
   "cell_type": "code",
   "execution_count": null,
   "metadata": {},
   "outputs": [],
   "source": [
    "s.shape"
   ]
  },
  {
   "cell_type": "markdown",
   "metadata": {},
   "source": [
    "索引是`pandas`中最重要的概念之一，它将在第三章中被详细地讨论。如果想要取出单个索引对应的值，可以通过`[index_item]`可以取出。"
   ]
  },
  {
   "cell_type": "markdown",
   "metadata": {},
   "source": [
    "### 2. DataFrame\n",
    "`DataFrame`在`Series`的基础上增加了列索引，一个数据框可以由二维的`data`与行列索引来构造："
   ]
  },
  {
   "cell_type": "code",
   "execution_count": null,
   "metadata": {},
   "outputs": [],
   "source": [
    "data = [[1, 'a', 1.2], [2, 'b', 2.2], [3, 'c', 3.2]]\n",
    "df = pd.DataFrame(data = data,\n",
    "                  index = ['row_%d'%i for i in range(3)],\n",
    "                  columns=['col_0', 'col_1', 'col_2'])\n",
    "df"
   ]
  },
  {
   "cell_type": "markdown",
   "metadata": {},
   "source": [
    "但一般而言，更多的时候会采用从列索引名到数据的映射来构造数据框，同时再加上行索引："
   ]
  },
  {
   "cell_type": "code",
   "execution_count": null,
   "metadata": {},
   "outputs": [],
   "source": [
    "list('abc')"
   ]
  },
  {
   "cell_type": "code",
   "execution_count": null,
   "metadata": {},
   "outputs": [],
   "source": [
    "df = pd.DataFrame(data = {'col_0': [1,2,3],\n",
    "                          'col_1':list('abc'),\n",
    "                          'col_2': [1.2, 2.2, 3.2]},\n",
    "                  index = ['row_%d'%i for i in range(3)])\n",
    "df"
   ]
  },
  {
   "cell_type": "markdown",
   "metadata": {},
   "source": [
    "由于这种映射关系，在`DataFrame`中可以用`[col_name]`与`[col_list]`来取出相应的列与由多个列组成的表，结果分别为`Series`和`DataFrame`："
   ]
  },
  {
   "cell_type": "code",
   "execution_count": null,
   "metadata": {},
   "outputs": [],
   "source": [
    "df['col_0']"
   ]
  },
  {
   "cell_type": "code",
   "execution_count": null,
   "metadata": {},
   "outputs": [],
   "source": [
    "df[['col_0', 'col_1']]"
   ]
  },
  {
   "cell_type": "markdown",
   "metadata": {},
   "source": [
    "与`Series`类似，在数据框中同样可以取出相应的属性："
   ]
  },
  {
   "cell_type": "code",
   "execution_count": null,
   "metadata": {},
   "outputs": [],
   "source": [
    "df.values"
   ]
  },
  {
   "cell_type": "code",
   "execution_count": null,
   "metadata": {},
   "outputs": [],
   "source": [
    "df.index"
   ]
  },
  {
   "cell_type": "code",
   "execution_count": null,
   "metadata": {},
   "outputs": [],
   "source": [
    "df.columns"
   ]
  },
  {
   "cell_type": "code",
   "execution_count": null,
   "metadata": {},
   "outputs": [],
   "source": [
    "df.dtypes # 返回的是值为相应列数据类型的Series"
   ]
  },
  {
   "cell_type": "code",
   "execution_count": null,
   "metadata": {},
   "outputs": [],
   "source": [
    "df.shape"
   ]
  },
  {
   "cell_type": "markdown",
   "metadata": {},
   "source": [
    "通过`.T`可以把`DataFrame`进行转置："
   ]
  },
  {
   "cell_type": "code",
   "execution_count": null,
   "metadata": {},
   "outputs": [],
   "source": [
    "df.T"
   ]
  },
  {
   "cell_type": "markdown",
   "metadata": {},
   "source": [
    "## 三、常用基本函数\n",
    "为了进行举例说明，在接下来的部分和其余章节都将会使用一份`learn_pandas.csv`的虚拟数据集，它记录了四所学校学生的体测个人信息。"
   ]
  },
  {
   "cell_type": "code",
   "execution_count": null,
   "metadata": {},
   "outputs": [],
   "source": [
    "import pandas as pd"
   ]
  },
  {
   "cell_type": "code",
   "execution_count": null,
   "metadata": {},
   "outputs": [],
   "source": [
    "df = pd.read_csv('../data/learn_pandas.csv')\n",
    "df.columns"
   ]
  },
  {
   "cell_type": "code",
   "execution_count": null,
   "metadata": {},
   "outputs": [],
   "source": [
    "df"
   ]
  },
  {
   "cell_type": "markdown",
   "metadata": {},
   "source": [
    "上述列名依次代表学校、年级、姓名、性别、身高、体重、是否为转系生、体测场次、测试时间、1000米成绩，本章只需使用其中的前七列。"
   ]
  },
  {
   "cell_type": "code",
   "execution_count": null,
   "metadata": {},
   "outputs": [],
   "source": [
    "df = df[df.columns[:7]]"
   ]
  },
  {
   "cell_type": "code",
   "execution_count": null,
   "metadata": {},
   "outputs": [],
   "source": [
    "df"
   ]
  },
  {
   "cell_type": "markdown",
   "metadata": {},
   "source": [
    "### 1. 汇总函数\n",
    "`head, tail`函数分别表示返回表或者序列的前`n`行和后`n`行，其中`n`默认为5："
   ]
  },
  {
   "cell_type": "code",
   "execution_count": null,
   "metadata": {},
   "outputs": [],
   "source": [
    "df.head(2)"
   ]
  },
  {
   "cell_type": "code",
   "execution_count": null,
   "metadata": {},
   "outputs": [],
   "source": [
    "df.tail(3)"
   ]
  },
  {
   "cell_type": "markdown",
   "metadata": {},
   "source": [
    "`info, describe`分别返回表的信息概况和表中数值列对应的主要统计量 ："
   ]
  },
  {
   "cell_type": "code",
   "execution_count": null,
   "metadata": {},
   "outputs": [],
   "source": [
    "df.info()"
   ]
  },
  {
   "cell_type": "code",
   "execution_count": null,
   "metadata": {},
   "outputs": [],
   "source": [
    "df.describe()"
   ]
  },
  {
   "cell_type": "markdown",
   "metadata": {},
   "source": [
    "#### 【NOTE】更全面的数据汇总\n",
    "\n",
    "`info, describe`只能实现较少信息的展示，如果想要对一份数据集进行全面且有效的观察，特别是在列较多的情况下，推荐使用[pandas-profiling](https://pandas-profiling.github.io/pandas-profiling/docs/)包，它将在第十一章被再次提到。\n",
    "\n",
    "#### 【END】\n",
    "\n",
    "### 2. 特征统计函数\n",
    "在`Series`和`DataFrame`上定义了许多统计函数，最常见的是`sum, mean, median, var, std, max, min`。例如，选出身高和体重列进行演示："
   ]
  },
  {
   "cell_type": "code",
   "execution_count": null,
   "metadata": {},
   "outputs": [],
   "source": [
    "df_demo = df[['Height', 'Weight']]\n",
    "df_demo.mean()"
   ]
  },
  {
   "cell_type": "code",
   "execution_count": null,
   "metadata": {},
   "outputs": [],
   "source": [
    "df_demo.max()"
   ]
  },
  {
   "cell_type": "markdown",
   "metadata": {},
   "source": [
    "此外，需要介绍的是`quantile, count, idxmax`这三个函数，它们分别返回的是分位数、非缺失值个数、最大值对应的索引："
   ]
  },
  {
   "cell_type": "code",
   "execution_count": null,
   "metadata": {},
   "outputs": [],
   "source": [
    "df_demo.quantile(0.75)"
   ]
  },
  {
   "cell_type": "code",
   "execution_count": null,
   "metadata": {},
   "outputs": [],
   "source": [
    "df_demo.count()"
   ]
  },
  {
   "cell_type": "code",
   "execution_count": null,
   "metadata": {},
   "outputs": [],
   "source": [
    "df_demo.idxmax() # idxmin是对应的函数"
   ]
  },
  {
   "cell_type": "code",
   "execution_count": null,
   "metadata": {},
   "outputs": [],
   "source": [
    "df_demo"
   ]
  },
  {
   "cell_type": "markdown",
   "metadata": {},
   "source": [
    "上面这些所有的函数，由于操作后返回的是标量，所以又称为聚合函数，它们有一个公共参数`axis`，默认为0代表逐列聚合，如果设置为1则表示逐行聚合："
   ]
  },
  {
   "cell_type": "code",
   "execution_count": null,
   "metadata": {},
   "outputs": [],
   "source": [
    "df_demo.mean(axis=1).head() # 在这个数据集上体重和身高的均值并没有意义"
   ]
  },
  {
   "cell_type": "code",
   "execution_count": null,
   "metadata": {},
   "outputs": [],
   "source": [
    "df_demo.mean(axis=0).head() # 在这个数据集上体重和身高的均值并没有意义"
   ]
  },
  {
   "cell_type": "markdown",
   "metadata": {},
   "source": [
    "### 3. 唯一值函数\n",
    "对序列使用`unique`和`nunique`可以分别得到其唯一值组成的列表和唯一值的个数："
   ]
  },
  {
   "cell_type": "code",
   "execution_count": null,
   "metadata": {},
   "outputs": [],
   "source": [
    "df['School']"
   ]
  },
  {
   "cell_type": "code",
   "execution_count": null,
   "metadata": {},
   "outputs": [],
   "source": [
    "df['School'].unique()"
   ]
  },
  {
   "cell_type": "code",
   "execution_count": null,
   "metadata": {},
   "outputs": [],
   "source": [
    "df['School'].nunique()"
   ]
  },
  {
   "cell_type": "markdown",
   "metadata": {},
   "source": [
    "`value_counts`可以得到唯一值和其对应出现的频数："
   ]
  },
  {
   "cell_type": "code",
   "execution_count": null,
   "metadata": {},
   "outputs": [],
   "source": [
    "df['School'].value_counts()"
   ]
  },
  {
   "cell_type": "code",
   "execution_count": null,
   "metadata": {},
   "outputs": [],
   "source": [
    "df['Name'].value_counts()"
   ]
  },
  {
   "cell_type": "markdown",
   "metadata": {},
   "source": [
    "如果想要观察多个列组合的唯一值，可以使用`drop_duplicates`。其中的关键参数是`keep`，默认值`first`表示每个组合保留第一次出现的所在行，`last`表示保留最后一次出现的所在行，`False`表示把所有重复组合所在的行剔除。"
   ]
  },
  {
   "cell_type": "code",
   "execution_count": null,
   "metadata": {},
   "outputs": [],
   "source": [
    "df_demo = df[['Gender','Transfer','Name']]\n",
    "df_demo"
   ]
  },
  {
   "cell_type": "code",
   "execution_count": null,
   "metadata": {},
   "outputs": [],
   "source": [
    "df_demo.drop_duplicates(['Gender', 'Transfer'])"
   ]
  },
  {
   "cell_type": "code",
   "execution_count": null,
   "metadata": {},
   "outputs": [],
   "source": [
    "df_demo.drop_duplicates(['Gender', 'Transfer'], keep='last')"
   ]
  },
  {
   "cell_type": "code",
   "execution_count": null,
   "metadata": {},
   "outputs": [],
   "source": [
    "df_demo"
   ]
  },
  {
   "cell_type": "code",
   "execution_count": null,
   "metadata": {},
   "outputs": [],
   "source": [
    "df_demo.drop_duplicates(['Name', 'Gender'], keep=False).head() # 保留只出现过一次的性别和姓名组合"
   ]
  },
  {
   "cell_type": "code",
   "execution_count": null,
   "metadata": {},
   "outputs": [],
   "source": [
    "df_demo.drop_duplicates(['Name', 'Gender'], keep=False)"
   ]
  },
  {
   "cell_type": "code",
   "execution_count": null,
   "metadata": {},
   "outputs": [],
   "source": [
    "df_demo.drop_duplicates(['Name', 'Gender'], keep='first')"
   ]
  },
  {
   "cell_type": "code",
   "execution_count": null,
   "metadata": {},
   "outputs": [],
   "source": [
    "df_demo.drop_duplicates(['Name', 'Gender'], keep='last')"
   ]
  },
  {
   "cell_type": "code",
   "execution_count": null,
   "metadata": {},
   "outputs": [],
   "source": [
    "df['School']"
   ]
  },
  {
   "cell_type": "code",
   "execution_count": null,
   "metadata": {},
   "outputs": [],
   "source": [
    "type(df['School'])"
   ]
  },
  {
   "cell_type": "code",
   "execution_count": null,
   "metadata": {},
   "outputs": [],
   "source": [
    "df['School'].drop_duplicates() # 在Series上也可以使用"
   ]
  },
  {
   "cell_type": "code",
   "execution_count": null,
   "metadata": {},
   "outputs": [],
   "source": [
    "df['Name']"
   ]
  },
  {
   "cell_type": "code",
   "execution_count": null,
   "metadata": {},
   "outputs": [],
   "source": [
    "df['Name'].drop_duplicates()"
   ]
  },
  {
   "cell_type": "code",
   "execution_count": null,
   "metadata": {},
   "outputs": [],
   "source": [
    "df['Name'].drop_duplicates(keep=False)"
   ]
  },
  {
   "cell_type": "markdown",
   "metadata": {},
   "source": [
    "此外，`duplicated`和`drop_duplicates`的功能类似，但前者返回了是否为唯一值的布尔列表，其`keep`参数与后者一致。其返回的序列，把重复元素设为`True`，否则为`False`。 `drop_duplicates`等价于把`duplicated`为`True`的对应行剔除。"
   ]
  },
  {
   "cell_type": "code",
   "execution_count": null,
   "metadata": {},
   "outputs": [],
   "source": [
    "df_demo.duplicated(['Gender', 'Transfer']).head()"
   ]
  },
  {
   "cell_type": "code",
   "execution_count": null,
   "metadata": {},
   "outputs": [],
   "source": [
    "df_demo.duplicated(['Gender', 'Transfer'])"
   ]
  },
  {
   "cell_type": "code",
   "execution_count": null,
   "metadata": {},
   "outputs": [],
   "source": [
    "df_demo.drop_duplicates(['Gender', 'Transfer'])"
   ]
  },
  {
   "cell_type": "code",
   "execution_count": null,
   "metadata": {},
   "outputs": [],
   "source": [
    "df['School'].duplicated().head() # 在Series上也可以使用"
   ]
  },
  {
   "cell_type": "markdown",
   "metadata": {},
   "source": [
    "### 4. 替换函数\n",
    "一般而言，替换操作是针对某一个列进行的，因此下面的例子都以`Series`举例。`pandas`中的替换函数可以归纳为三类：映射替换、逻辑替换、数值替换。其中映射替换包含`replace`方法、第八章中的`str.replace`方法以及第九章中的`cat.codes`方法，此处介绍`replace`的用法。\n",
    "\n",
    "在`replace`中，可以通过字典构造，或者传入两个列表来进行替换："
   ]
  },
  {
   "cell_type": "code",
   "execution_count": null,
   "metadata": {},
   "outputs": [],
   "source": [
    "df"
   ]
  },
  {
   "cell_type": "code",
   "execution_count": null,
   "metadata": {},
   "outputs": [],
   "source": [
    "df['Gender'].replace({'Female':0, 'Male':1}).head()"
   ]
  },
  {
   "cell_type": "code",
   "execution_count": null,
   "metadata": {},
   "outputs": [],
   "source": [
    "df['Gender'].replace(['Female', 'Male'], [0, 1]).head()"
   ]
  },
  {
   "cell_type": "markdown",
   "metadata": {},
   "source": [
    "另外，`replace`还有一种特殊的方向替换，指定`method`参数为`ffill`则为用前面一个最近的未被替换的值进行替换，`bfill`则使用后面最近的未被替换的值进行替换。从下面的例子可以看到，它们的结果是不同的："
   ]
  },
  {
   "cell_type": "code",
   "execution_count": null,
   "metadata": {},
   "outputs": [],
   "source": [
    "s = pd.Series(['a', 1, 'b', 2, 1, 1, 'a'])\n",
    "s.replace([1, 2], method='ffill')"
   ]
  },
  {
   "cell_type": "code",
   "execution_count": null,
   "metadata": {},
   "outputs": [],
   "source": [
    "s.replace([1, 2], method='bfill')"
   ]
  },
  {
   "cell_type": "markdown",
   "metadata": {},
   "source": [
    "#### 【WARNING】正则替换请使用`str.replace`\n",
    "\n",
    "虽然对于`replace`而言可以使用正则替换，但是当前版本下对于`string`类型的正则替换还存在`bug`，因此如有此需求，请选择`str.replace`进行替换操作，具体的方式将在第八章中讲解。\n",
    "\n",
    "#### 【END】\n",
    "\n",
    "逻辑替换包括了`where`和`mask`，这两个函数是完全对称的：`where`函数在传入条件为`False`的对应行进行替换，而`mask`在传入条件为`True`的对应行进行替换，当不指定替换值时，替换为缺失值。"
   ]
  },
  {
   "cell_type": "code",
   "execution_count": null,
   "metadata": {},
   "outputs": [],
   "source": [
    "s = pd.Series([-1, 1.2345, 100, -50])\n",
    "s.where(s<0)"
   ]
  },
  {
   "cell_type": "code",
   "execution_count": null,
   "metadata": {},
   "outputs": [],
   "source": [
    "s.where(s<0, 100)"
   ]
  },
  {
   "cell_type": "code",
   "execution_count": null,
   "metadata": {},
   "outputs": [],
   "source": [
    "s.mask(s<0)"
   ]
  },
  {
   "cell_type": "code",
   "execution_count": null,
   "metadata": {},
   "outputs": [],
   "source": [
    "s.mask(s<0, -50)"
   ]
  },
  {
   "cell_type": "markdown",
   "metadata": {},
   "source": [
    "需要注意的是，传入的条件只需是与被调用的`Series`索引一致的布尔序列即可："
   ]
  },
  {
   "cell_type": "code",
   "execution_count": null,
   "metadata": {},
   "outputs": [],
   "source": [
    "s_condition= pd.Series([True,False,False,True],index=s.index)\n",
    "s.mask(s_condition, -50)"
   ]
  },
  {
   "cell_type": "markdown",
   "metadata": {},
   "source": [
    "数值替换包含了`round, abs, clip`方法，它们分别表示按照给定精度四舍五入、取绝对值和截断："
   ]
  },
  {
   "cell_type": "code",
   "execution_count": null,
   "metadata": {},
   "outputs": [],
   "source": [
    "s = pd.Series([-1, 1.2345, 100, -50])\n",
    "s.round(2)"
   ]
  },
  {
   "cell_type": "code",
   "execution_count": null,
   "metadata": {},
   "outputs": [],
   "source": [
    "s.abs()"
   ]
  },
  {
   "cell_type": "code",
   "execution_count": null,
   "metadata": {},
   "outputs": [],
   "source": [
    "s.clip(0, 2) # 前两个数分别表示上下截断边界"
   ]
  },
  {
   "cell_type": "markdown",
   "metadata": {},
   "source": [
    "#### 【练一练】\n",
    "\n",
    "在 clip 中，超过边界的只能截断为边界值，如果要把超出边界的替换为自定义的值，应当如何做？"
   ]
  },
  {
   "cell_type": "code",
   "execution_count": null,
   "metadata": {},
   "outputs": [],
   "source": [
    "t = s.clip(0, 2)\n",
    "t.mask(t==0.0, 'low')\n",
    "t.mask(t==2, 'large')"
   ]
  },
  {
   "cell_type": "code",
   "execution_count": null,
   "metadata": {},
   "outputs": [],
   "source": [
    "t[0] == 0.0"
   ]
  },
  {
   "cell_type": "markdown",
   "metadata": {},
   "source": [
    "#### 【END】\n",
    "\n",
    "### 5. 排序函数\n",
    "排序共有两种方式，其一为值排序，其二为索引排序，对应的函数是`sort_values`和`sort_index`。\n",
    "\n",
    "为了演示排序函数，下面先利用`set_index`方法把年级和姓名两列作为索引，多级索引的内容和索引设置的方法将在第三章进行详细讲解。"
   ]
  },
  {
   "cell_type": "code",
   "execution_count": null,
   "metadata": {},
   "outputs": [],
   "source": [
    "df_demo = df[['Grade', 'Name', 'Height', 'Weight']].set_index(['Grade','Name'])\n",
    "df_demo.head(3)"
   ]
  },
  {
   "cell_type": "code",
   "execution_count": null,
   "metadata": {},
   "outputs": [],
   "source": [
    "df_demo"
   ]
  },
  {
   "cell_type": "markdown",
   "metadata": {},
   "source": [
    "对身高进行排序，默认参数`ascending=True`为升序："
   ]
  },
  {
   "cell_type": "code",
   "execution_count": null,
   "metadata": {},
   "outputs": [],
   "source": [
    "df_demo.sort_values('Height').head()"
   ]
  },
  {
   "cell_type": "code",
   "execution_count": null,
   "metadata": {},
   "outputs": [],
   "source": [
    "df_demo.sort_values('Height', ascending=False).head()"
   ]
  },
  {
   "cell_type": "markdown",
   "metadata": {},
   "source": [
    "在排序中，经常遇到多列排序的问题，比如在体重相同的情况下，对身高进行排序，并且保持身高降序排列，体重升序排列："
   ]
  },
  {
   "cell_type": "code",
   "execution_count": null,
   "metadata": {},
   "outputs": [],
   "source": [
    "df_demo.sort_values(['Weight','Height'],ascending=[True,False]).head()"
   ]
  },
  {
   "cell_type": "markdown",
   "metadata": {},
   "source": [
    "索引排序的用法和值排序完全一致，只不过元素的值在索引中，此时需要指定索引层的名字或者层号，用参数`level`表示。另外，需要注意的是字符串的排列顺序由字母顺序决定。"
   ]
  },
  {
   "cell_type": "code",
   "execution_count": null,
   "metadata": {},
   "outputs": [],
   "source": [
    "df_demo.sort_index(level=['Grade','Name'],ascending=[True,False]).head()"
   ]
  },
  {
   "cell_type": "code",
   "execution_count": null,
   "metadata": {},
   "outputs": [],
   "source": [
    "df_demo.sort_index(level=['Grade','Name'],ascending=[True,False])"
   ]
  },
  {
   "cell_type": "markdown",
   "metadata": {},
   "source": [
    "### 6. apply方法\n",
    "`apply`方法常用于`DataFrame`的行迭代或者列迭代，它的`axis`含义与第2小节中的统计聚合函数一致，`apply`的参数往往是一个以序列为输入的函数。例如对于`.mean()`，使用`apply`可以如下地写出："
   ]
  },
  {
   "cell_type": "code",
   "execution_count": null,
   "metadata": {},
   "outputs": [],
   "source": [
    "df_demo = df[['Height', 'Weight']]\n",
    "def my_mean(x):\n",
    "    res = x.mean()\n",
    "    return res\n",
    "df_demo.apply(my_mean)"
   ]
  },
  {
   "cell_type": "markdown",
   "metadata": {},
   "source": [
    "同样的，可以利用`lambda`表达式使得书写简洁，这里的`x`就指代被调用的`df_demo`表中逐个输入的序列："
   ]
  },
  {
   "cell_type": "code",
   "execution_count": null,
   "metadata": {},
   "outputs": [],
   "source": [
    "df_demo.apply(lambda x:x.mean())"
   ]
  },
  {
   "cell_type": "markdown",
   "metadata": {},
   "source": [
    "若指定`axis=1`，那么每次传入函数的就是行元素组成的`Series`，其结果与之前的逐行均值结果一致。"
   ]
  },
  {
   "cell_type": "code",
   "execution_count": null,
   "metadata": {},
   "outputs": [],
   "source": [
    "df_demo.apply(lambda x:x.mean(), axis=1).head()"
   ]
  },
  {
   "cell_type": "markdown",
   "metadata": {},
   "source": [
    "这里再举一个例子：`mad`函数返回的是一个序列中偏离该序列均值的绝对值大小的均值，例如序列1,3,7,10中，均值为5.25，每一个元素偏离的绝对值为4.25,2.25,1.75,4.75，这个偏离序列的均值为3.25。现在利用`apply`计算升高和体重的`mad`指标："
   ]
  },
  {
   "cell_type": "code",
   "execution_count": null,
   "metadata": {},
   "outputs": [],
   "source": [
    "df_demo.apply(lambda x:(x-x.mean()).abs().mean())"
   ]
  },
  {
   "cell_type": "markdown",
   "metadata": {},
   "source": [
    "这与使用内置的`mad`函数计算结果一致："
   ]
  },
  {
   "cell_type": "code",
   "execution_count": null,
   "metadata": {},
   "outputs": [],
   "source": [
    "df_demo.mad()"
   ]
  },
  {
   "cell_type": "markdown",
   "metadata": {},
   "source": [
    "#### 【WARNING】谨慎使用`apply`\n",
    "\n",
    "得益于传入自定义函数的处理，`apply`的自由度很高，但这是以性能为代价的。一般而言，使用`pandas`的内置函数处理和`apply`来处理同一个任务，其速度会相差较多，因此只有在确实存在自定义需求的情境下才考虑使用`apply`。\n",
    "\n",
    "#### 【END】\n",
    "\n",
    "## 四、窗口对象\n",
    "`pandas`中有3类窗口，分别是滑动窗口`rolling`、扩张窗口`expanding`以及指数加权窗口`ewm`。需要说明的是，以日期偏置为窗口大小的滑动窗口将在第十章讨论，指数加权窗口见本章练习。\n",
    "\n",
    "### 1. 滑窗对象\n",
    "要使用滑窗函数，就必须先要对一个序列使用`.rolling`得到滑窗对象，其最重要的参数为窗口大小`window`。"
   ]
  },
  {
   "cell_type": "code",
   "execution_count": null,
   "metadata": {},
   "outputs": [],
   "source": [
    "s = pd.Series([1,2,3,4,5])\n",
    "roller = s.rolling(window = 3)\n",
    "roller"
   ]
  },
  {
   "cell_type": "markdown",
   "metadata": {},
   "source": [
    "在得到了滑窗对象后，能够使用相应的聚合函数进行计算，需要注意的是窗口包含当前行所在的元素，例如在第四个位置进行均值运算时，应当计算(2+3+4)/3，而不是(1+2+3)/3："
   ]
  },
  {
   "cell_type": "code",
   "execution_count": null,
   "metadata": {},
   "outputs": [],
   "source": [
    "roller.mean()"
   ]
  },
  {
   "cell_type": "code",
   "execution_count": null,
   "metadata": {},
   "outputs": [],
   "source": [
    "roller.sum()"
   ]
  },
  {
   "cell_type": "markdown",
   "metadata": {},
   "source": [
    "对于滑动相关系数或滑动协方差的计算，可以如下写出："
   ]
  },
  {
   "cell_type": "code",
   "execution_count": null,
   "metadata": {},
   "outputs": [],
   "source": [
    "s2 = pd.Series([1,2,6,16,30])\n",
    "roller.cov(s2)"
   ]
  },
  {
   "cell_type": "code",
   "execution_count": null,
   "metadata": {},
   "outputs": [],
   "source": [
    "roller.corr(s2)"
   ]
  },
  {
   "cell_type": "markdown",
   "metadata": {},
   "source": [
    "此外，还支持使用`apply`传入自定义函数，其传入值是对应窗口的`Series`，例如上述的均值函数可以等效表示："
   ]
  },
  {
   "cell_type": "code",
   "execution_count": null,
   "metadata": {},
   "outputs": [],
   "source": [
    "roller.apply(lambda x:x.mean())"
   ]
  },
  {
   "cell_type": "markdown",
   "metadata": {},
   "source": [
    "`shift, diff, pct_change`是一组类滑窗函数，它们的公共参数为`periods=n`，默认为1，分别表示取向前第`n`个元素的值、与向前第`n`个元素做差（与`Numpy`中不同，后者表示`n`阶差分）、与向前第`n`个元素相比计算增长率。这里的`n`可以为负，表示反方向的类似操作。"
   ]
  },
  {
   "cell_type": "code",
   "execution_count": null,
   "metadata": {},
   "outputs": [],
   "source": [
    "s = pd.Series([1,3,6,10,15])\n",
    "s.shift(2)"
   ]
  },
  {
   "cell_type": "code",
   "execution_count": null,
   "metadata": {},
   "outputs": [],
   "source": [
    "s.diff(3)"
   ]
  },
  {
   "cell_type": "code",
   "execution_count": null,
   "metadata": {},
   "outputs": [],
   "source": [
    "s.pct_change()"
   ]
  },
  {
   "cell_type": "code",
   "execution_count": null,
   "metadata": {},
   "outputs": [],
   "source": [
    "s.shift(-1)"
   ]
  },
  {
   "cell_type": "code",
   "execution_count": null,
   "metadata": {},
   "outputs": [],
   "source": [
    "s.diff(-2)"
   ]
  },
  {
   "cell_type": "code",
   "execution_count": null,
   "metadata": {},
   "outputs": [],
   "source": [
    "s"
   ]
  },
  {
   "cell_type": "code",
   "execution_count": null,
   "metadata": {},
   "outputs": [],
   "source": [
    "import numpy as np\n",
    "np.diff(s)"
   ]
  },
  {
   "cell_type": "code",
   "execution_count": null,
   "metadata": {},
   "outputs": [],
   "source": [
    "np.diff(s, n=2)"
   ]
  },
  {
   "cell_type": "markdown",
   "metadata": {},
   "source": [
    "将其视作类滑窗函数的原因是，它们的功能可以用窗口大小为`n+1`的`rolling`方法等价代替："
   ]
  },
  {
   "cell_type": "code",
   "execution_count": null,
   "metadata": {},
   "outputs": [],
   "source": [
    "s.shift(2)"
   ]
  },
  {
   "cell_type": "code",
   "execution_count": null,
   "metadata": {},
   "outputs": [],
   "source": [
    "s"
   ]
  },
  {
   "cell_type": "code",
   "execution_count": null,
   "metadata": {},
   "outputs": [],
   "source": [
    "s.rolling(3).apply(lambda x:list(x)[0]) # s.shift(2)"
   ]
  },
  {
   "cell_type": "code",
   "execution_count": null,
   "metadata": {},
   "outputs": [],
   "source": [
    "s.rolling(3).apply(lambda x:list(x)[2])"
   ]
  },
  {
   "cell_type": "code",
   "execution_count": null,
   "metadata": {},
   "outputs": [],
   "source": [
    "s.diff(3)"
   ]
  },
  {
   "cell_type": "code",
   "execution_count": null,
   "metadata": {},
   "outputs": [],
   "source": [
    " s.rolling(4).apply(lambda x:list(x)[-1]-list(x)[0]) # s.diff(3)"
   ]
  },
  {
   "cell_type": "code",
   "execution_count": null,
   "metadata": {},
   "outputs": [],
   "source": [
    "def my_pct(x):\n",
    "    L = list(x)\n",
    "    return L[-1]/L[0]-1\n",
    "s.rolling(2).apply(my_pct) # s.pct_change()"
   ]
  },
  {
   "cell_type": "markdown",
   "metadata": {},
   "source": [
    "#### 【练一练】\n",
    "\n",
    "`rolling`对象的默认窗口方向都是向前的，某些情况下用户需要向后的窗口，例如对1,2,3设定向后窗口为2的`sum`操作，结果为3,5,NaN，此时应该如何实现向后的滑窗操作？\n",
    "\n",
    "> 先将数组反转，进行 rolling 操作，再将结果反转。"
   ]
  },
  {
   "cell_type": "code",
   "execution_count": null,
   "metadata": {},
   "outputs": [],
   "source": [
    "s = pd.Series([1, 2, 3])\n",
    "s"
   ]
  },
  {
   "cell_type": "code",
   "execution_count": null,
   "metadata": {},
   "outputs": [],
   "source": [
    "s2 = s.sort_index(ascending=False)"
   ]
  },
  {
   "cell_type": "code",
   "execution_count": null,
   "metadata": {},
   "outputs": [],
   "source": [
    "rol = s2.rolling(2)"
   ]
  },
  {
   "cell_type": "code",
   "execution_count": null,
   "metadata": {},
   "outputs": [],
   "source": [
    "rol.mean()"
   ]
  },
  {
   "cell_type": "code",
   "execution_count": null,
   "metadata": {},
   "outputs": [],
   "source": [
    "rol.sum()"
   ]
  },
  {
   "cell_type": "markdown",
   "metadata": {},
   "source": [
    "#### 【END】\n",
    "\n",
    "### 2. 扩张窗口\n",
    "扩张窗口又称累计窗口，可以理解为一个动态长度的窗口，其窗口的大小就是从序列开始处到具体操作的对应位置，其使用的聚合函数会作用于这些逐步扩张的窗口上。具体地说，设序列为a1, a2, a3, a4，则其每个位置对应的窗口即\\[a1\\]、\\[a1, a2\\]、\\[a1, a2, a3\\]、\\[a1, a2, a3, a4\\]。"
   ]
  },
  {
   "cell_type": "code",
   "execution_count": 2,
   "metadata": {},
   "outputs": [],
   "source": [
    "import pandas as pd\n",
    "import numpy as np"
   ]
  },
  {
   "cell_type": "code",
   "execution_count": 3,
   "metadata": {},
   "outputs": [
    {
     "data": {
      "text/plain": [
       "0    1.000000\n",
       "1    2.000000\n",
       "2    3.333333\n",
       "3    5.000000\n",
       "dtype: float64"
      ]
     },
     "execution_count": 3,
     "metadata": {},
     "output_type": "execute_result"
    }
   ],
   "source": [
    "s = pd.Series([1, 3, 6, 10])\n",
    "s.expanding().mean()"
   ]
  },
  {
   "cell_type": "markdown",
   "metadata": {},
   "source": [
    "#### 【练一练】\n",
    "\n",
    "`cummax, cumsum, cumprod`函数是典型的类扩张窗口函数，请使用`expanding`对象依次实现它们。\n"
   ]
  },
  {
   "cell_type": "code",
   "execution_count": 4,
   "metadata": {},
   "outputs": [
    {
     "data": {
      "text/plain": [
       "0     1\n",
       "1     3\n",
       "2     6\n",
       "3    10\n",
       "dtype: int64"
      ]
     },
     "execution_count": 4,
     "metadata": {},
     "output_type": "execute_result"
    }
   ],
   "source": [
    "s.cummax()"
   ]
  },
  {
   "cell_type": "code",
   "execution_count": 7,
   "metadata": {},
   "outputs": [
    {
     "data": {
      "text/plain": [
       "0     1.0\n",
       "1     3.0\n",
       "2     6.0\n",
       "3    10.0\n",
       "dtype: float64"
      ]
     },
     "execution_count": 7,
     "metadata": {},
     "output_type": "execute_result"
    }
   ],
   "source": [
    "s.expanding().max()"
   ]
  },
  {
   "cell_type": "code",
   "execution_count": 5,
   "metadata": {},
   "outputs": [
    {
     "data": {
      "text/plain": [
       "0     1\n",
       "1     4\n",
       "2    10\n",
       "3    20\n",
       "dtype: int64"
      ]
     },
     "execution_count": 5,
     "metadata": {},
     "output_type": "execute_result"
    }
   ],
   "source": [
    "s.cumsum()"
   ]
  },
  {
   "cell_type": "code",
   "execution_count": 8,
   "metadata": {},
   "outputs": [
    {
     "data": {
      "text/plain": [
       "0     1.0\n",
       "1     4.0\n",
       "2    10.0\n",
       "3    20.0\n",
       "dtype: float64"
      ]
     },
     "execution_count": 8,
     "metadata": {},
     "output_type": "execute_result"
    }
   ],
   "source": [
    "s.expanding().sum()"
   ]
  },
  {
   "cell_type": "code",
   "execution_count": 14,
   "metadata": {},
   "outputs": [
    {
     "data": {
      "text/plain": [
       "0      1\n",
       "1      3\n",
       "2     18\n",
       "3    180\n",
       "dtype: int64"
      ]
     },
     "execution_count": 14,
     "metadata": {},
     "output_type": "execute_result"
    }
   ],
   "source": [
    "s.cumprod()"
   ]
  },
  {
   "cell_type": "code",
   "execution_count": 16,
   "metadata": {},
   "outputs": [],
   "source": [
    "def prod(s):\n",
    "    # 输入pandas series\n",
    "    r = 1\n",
    "    for num in s:\n",
    "        r *= num\n",
    "    return r"
   ]
  },
  {
   "cell_type": "code",
   "execution_count": 17,
   "metadata": {},
   "outputs": [
    {
     "data": {
      "text/plain": [
       "0      1.0\n",
       "1      3.0\n",
       "2     18.0\n",
       "3    180.0\n",
       "dtype: float64"
      ]
     },
     "execution_count": 17,
     "metadata": {},
     "output_type": "execute_result"
    }
   ],
   "source": [
    "s.expanding().apply(prod)"
   ]
  },
  {
   "cell_type": "code",
   "execution_count": null,
   "metadata": {},
   "outputs": [],
   "source": []
  },
  {
   "cell_type": "code",
   "execution_count": null,
   "metadata": {},
   "outputs": [],
   "source": []
  },
  {
   "cell_type": "markdown",
   "metadata": {},
   "source": [
    "#### 【END】\n",
    "\n",
    "## 五、练习\n",
    "### Ex1：口袋妖怪数据集\n",
    "现有一份口袋妖怪的数据集，下面进行一些背景说明：\n",
    "\n",
    "* `#`代表全国图鉴编号，不同行存在相同数字则表示为该妖怪的不同状态\n",
    "\n",
    "* 妖怪具有单属性和双属性两种，对于单属性的妖怪，`Type 2`为缺失值\n",
    "* `Total, HP, Attack, Defense, Sp. Atk, Sp. Def, Speed`分别代表种族值、体力、物攻、防御、特攻、特防、速度，其中种族值为后6项之和"
   ]
  },
  {
   "cell_type": "code",
   "execution_count": 1,
   "metadata": {},
   "outputs": [],
   "source": [
    "import pandas as pd\n",
    "import numpy as np"
   ]
  },
  {
   "cell_type": "code",
   "execution_count": 2,
   "metadata": {},
   "outputs": [
    {
     "data": {
      "text/html": [
       "<div>\n",
       "<style scoped>\n",
       "    .dataframe tbody tr th:only-of-type {\n",
       "        vertical-align: middle;\n",
       "    }\n",
       "\n",
       "    .dataframe tbody tr th {\n",
       "        vertical-align: top;\n",
       "    }\n",
       "\n",
       "    .dataframe thead th {\n",
       "        text-align: right;\n",
       "    }\n",
       "</style>\n",
       "<table border=\"1\" class=\"dataframe\">\n",
       "  <thead>\n",
       "    <tr style=\"text-align: right;\">\n",
       "      <th></th>\n",
       "      <th>#</th>\n",
       "      <th>Name</th>\n",
       "      <th>Type 1</th>\n",
       "      <th>Type 2</th>\n",
       "      <th>Total</th>\n",
       "      <th>HP</th>\n",
       "      <th>Attack</th>\n",
       "      <th>Defense</th>\n",
       "      <th>Sp. Atk</th>\n",
       "      <th>Sp. Def</th>\n",
       "      <th>Speed</th>\n",
       "    </tr>\n",
       "  </thead>\n",
       "  <tbody>\n",
       "    <tr>\n",
       "      <th>0</th>\n",
       "      <td>1</td>\n",
       "      <td>Bulbasaur</td>\n",
       "      <td>Grass</td>\n",
       "      <td>Poison</td>\n",
       "      <td>318</td>\n",
       "      <td>45</td>\n",
       "      <td>49</td>\n",
       "      <td>49</td>\n",
       "      <td>65</td>\n",
       "      <td>65</td>\n",
       "      <td>45</td>\n",
       "    </tr>\n",
       "    <tr>\n",
       "      <th>1</th>\n",
       "      <td>2</td>\n",
       "      <td>Ivysaur</td>\n",
       "      <td>Grass</td>\n",
       "      <td>Poison</td>\n",
       "      <td>405</td>\n",
       "      <td>60</td>\n",
       "      <td>62</td>\n",
       "      <td>63</td>\n",
       "      <td>80</td>\n",
       "      <td>80</td>\n",
       "      <td>60</td>\n",
       "    </tr>\n",
       "    <tr>\n",
       "      <th>2</th>\n",
       "      <td>3</td>\n",
       "      <td>Venusaur</td>\n",
       "      <td>Grass</td>\n",
       "      <td>Poison</td>\n",
       "      <td>525</td>\n",
       "      <td>80</td>\n",
       "      <td>82</td>\n",
       "      <td>83</td>\n",
       "      <td>100</td>\n",
       "      <td>100</td>\n",
       "      <td>80</td>\n",
       "    </tr>\n",
       "  </tbody>\n",
       "</table>\n",
       "</div>"
      ],
      "text/plain": [
       "   #       Name Type 1  Type 2  Total  HP  Attack  Defense  Sp. Atk  Sp. Def  \\\n",
       "0  1  Bulbasaur  Grass  Poison    318  45      49       49       65       65   \n",
       "1  2    Ivysaur  Grass  Poison    405  60      62       63       80       80   \n",
       "2  3   Venusaur  Grass  Poison    525  80      82       83      100      100   \n",
       "\n",
       "   Speed  \n",
       "0     45  \n",
       "1     60  \n",
       "2     80  "
      ]
     },
     "execution_count": 2,
     "metadata": {},
     "output_type": "execute_result"
    }
   ],
   "source": [
    "df = pd.read_csv('../data/pokemon.csv')\n",
    "df.head(3)"
   ]
  },
  {
   "cell_type": "code",
   "execution_count": 3,
   "metadata": {},
   "outputs": [
    {
     "data": {
      "text/html": [
       "<div>\n",
       "<style scoped>\n",
       "    .dataframe tbody tr th:only-of-type {\n",
       "        vertical-align: middle;\n",
       "    }\n",
       "\n",
       "    .dataframe tbody tr th {\n",
       "        vertical-align: top;\n",
       "    }\n",
       "\n",
       "    .dataframe thead th {\n",
       "        text-align: right;\n",
       "    }\n",
       "</style>\n",
       "<table border=\"1\" class=\"dataframe\">\n",
       "  <thead>\n",
       "    <tr style=\"text-align: right;\">\n",
       "      <th></th>\n",
       "      <th>#</th>\n",
       "      <th>Name</th>\n",
       "      <th>Type 1</th>\n",
       "      <th>Type 2</th>\n",
       "      <th>Total</th>\n",
       "      <th>HP</th>\n",
       "      <th>Attack</th>\n",
       "      <th>Defense</th>\n",
       "      <th>Sp. Atk</th>\n",
       "      <th>Sp. Def</th>\n",
       "      <th>Speed</th>\n",
       "    </tr>\n",
       "  </thead>\n",
       "  <tbody>\n",
       "    <tr>\n",
       "      <th>0</th>\n",
       "      <td>1</td>\n",
       "      <td>Bulbasaur</td>\n",
       "      <td>Grass</td>\n",
       "      <td>Poison</td>\n",
       "      <td>318</td>\n",
       "      <td>45</td>\n",
       "      <td>49</td>\n",
       "      <td>49</td>\n",
       "      <td>65</td>\n",
       "      <td>65</td>\n",
       "      <td>45</td>\n",
       "    </tr>\n",
       "    <tr>\n",
       "      <th>1</th>\n",
       "      <td>2</td>\n",
       "      <td>Ivysaur</td>\n",
       "      <td>Grass</td>\n",
       "      <td>Poison</td>\n",
       "      <td>405</td>\n",
       "      <td>60</td>\n",
       "      <td>62</td>\n",
       "      <td>63</td>\n",
       "      <td>80</td>\n",
       "      <td>80</td>\n",
       "      <td>60</td>\n",
       "    </tr>\n",
       "    <tr>\n",
       "      <th>2</th>\n",
       "      <td>3</td>\n",
       "      <td>Venusaur</td>\n",
       "      <td>Grass</td>\n",
       "      <td>Poison</td>\n",
       "      <td>525</td>\n",
       "      <td>80</td>\n",
       "      <td>82</td>\n",
       "      <td>83</td>\n",
       "      <td>100</td>\n",
       "      <td>100</td>\n",
       "      <td>80</td>\n",
       "    </tr>\n",
       "    <tr>\n",
       "      <th>3</th>\n",
       "      <td>3</td>\n",
       "      <td>VenusaurMega Venusaur</td>\n",
       "      <td>Grass</td>\n",
       "      <td>Poison</td>\n",
       "      <td>625</td>\n",
       "      <td>80</td>\n",
       "      <td>100</td>\n",
       "      <td>123</td>\n",
       "      <td>122</td>\n",
       "      <td>120</td>\n",
       "      <td>80</td>\n",
       "    </tr>\n",
       "    <tr>\n",
       "      <th>4</th>\n",
       "      <td>4</td>\n",
       "      <td>Charmander</td>\n",
       "      <td>Fire</td>\n",
       "      <td>NaN</td>\n",
       "      <td>309</td>\n",
       "      <td>39</td>\n",
       "      <td>52</td>\n",
       "      <td>43</td>\n",
       "      <td>60</td>\n",
       "      <td>50</td>\n",
       "      <td>65</td>\n",
       "    </tr>\n",
       "    <tr>\n",
       "      <th>...</th>\n",
       "      <td>...</td>\n",
       "      <td>...</td>\n",
       "      <td>...</td>\n",
       "      <td>...</td>\n",
       "      <td>...</td>\n",
       "      <td>...</td>\n",
       "      <td>...</td>\n",
       "      <td>...</td>\n",
       "      <td>...</td>\n",
       "      <td>...</td>\n",
       "      <td>...</td>\n",
       "    </tr>\n",
       "    <tr>\n",
       "      <th>795</th>\n",
       "      <td>719</td>\n",
       "      <td>Diancie</td>\n",
       "      <td>Rock</td>\n",
       "      <td>Fairy</td>\n",
       "      <td>600</td>\n",
       "      <td>50</td>\n",
       "      <td>100</td>\n",
       "      <td>150</td>\n",
       "      <td>100</td>\n",
       "      <td>150</td>\n",
       "      <td>50</td>\n",
       "    </tr>\n",
       "    <tr>\n",
       "      <th>796</th>\n",
       "      <td>719</td>\n",
       "      <td>DiancieMega Diancie</td>\n",
       "      <td>Rock</td>\n",
       "      <td>Fairy</td>\n",
       "      <td>700</td>\n",
       "      <td>50</td>\n",
       "      <td>160</td>\n",
       "      <td>110</td>\n",
       "      <td>160</td>\n",
       "      <td>110</td>\n",
       "      <td>110</td>\n",
       "    </tr>\n",
       "    <tr>\n",
       "      <th>797</th>\n",
       "      <td>720</td>\n",
       "      <td>HoopaHoopa Confined</td>\n",
       "      <td>Psychic</td>\n",
       "      <td>Ghost</td>\n",
       "      <td>600</td>\n",
       "      <td>80</td>\n",
       "      <td>110</td>\n",
       "      <td>60</td>\n",
       "      <td>150</td>\n",
       "      <td>130</td>\n",
       "      <td>70</td>\n",
       "    </tr>\n",
       "    <tr>\n",
       "      <th>798</th>\n",
       "      <td>720</td>\n",
       "      <td>HoopaHoopa Unbound</td>\n",
       "      <td>Psychic</td>\n",
       "      <td>Dark</td>\n",
       "      <td>680</td>\n",
       "      <td>80</td>\n",
       "      <td>160</td>\n",
       "      <td>60</td>\n",
       "      <td>170</td>\n",
       "      <td>130</td>\n",
       "      <td>80</td>\n",
       "    </tr>\n",
       "    <tr>\n",
       "      <th>799</th>\n",
       "      <td>721</td>\n",
       "      <td>Volcanion</td>\n",
       "      <td>Fire</td>\n",
       "      <td>Water</td>\n",
       "      <td>600</td>\n",
       "      <td>80</td>\n",
       "      <td>110</td>\n",
       "      <td>120</td>\n",
       "      <td>130</td>\n",
       "      <td>90</td>\n",
       "      <td>70</td>\n",
       "    </tr>\n",
       "  </tbody>\n",
       "</table>\n",
       "<p>800 rows × 11 columns</p>\n",
       "</div>"
      ],
      "text/plain": [
       "       #                   Name   Type 1  Type 2  Total  HP  Attack  Defense  \\\n",
       "0      1              Bulbasaur    Grass  Poison    318  45      49       49   \n",
       "1      2                Ivysaur    Grass  Poison    405  60      62       63   \n",
       "2      3               Venusaur    Grass  Poison    525  80      82       83   \n",
       "3      3  VenusaurMega Venusaur    Grass  Poison    625  80     100      123   \n",
       "4      4             Charmander     Fire     NaN    309  39      52       43   \n",
       "..   ...                    ...      ...     ...    ...  ..     ...      ...   \n",
       "795  719                Diancie     Rock   Fairy    600  50     100      150   \n",
       "796  719    DiancieMega Diancie     Rock   Fairy    700  50     160      110   \n",
       "797  720    HoopaHoopa Confined  Psychic   Ghost    600  80     110       60   \n",
       "798  720     HoopaHoopa Unbound  Psychic    Dark    680  80     160       60   \n",
       "799  721              Volcanion     Fire   Water    600  80     110      120   \n",
       "\n",
       "     Sp. Atk  Sp. Def  Speed  \n",
       "0         65       65     45  \n",
       "1         80       80     60  \n",
       "2        100      100     80  \n",
       "3        122      120     80  \n",
       "4         60       50     65  \n",
       "..       ...      ...    ...  \n",
       "795      100      150     50  \n",
       "796      160      110    110  \n",
       "797      150      130     70  \n",
       "798      170      130     80  \n",
       "799      130       90     70  \n",
       "\n",
       "[800 rows x 11 columns]"
      ]
     },
     "execution_count": 3,
     "metadata": {},
     "output_type": "execute_result"
    }
   ],
   "source": [
    "df"
   ]
  },
  {
   "cell_type": "markdown",
   "metadata": {},
   "source": [
    "**1** 对`HP, Attack, Defense, Sp. Atk, Sp. Def, Speed`进行加总，验证是否为`Total`值。"
   ]
  },
  {
   "cell_type": "code",
   "execution_count": 4,
   "metadata": {},
   "outputs": [],
   "source": [
    "t1 = df['Total']\n",
    "t2 = df.iloc[:, 5:]"
   ]
  },
  {
   "cell_type": "code",
   "execution_count": 5,
   "metadata": {},
   "outputs": [
    {
     "data": {
      "text/html": [
       "<div>\n",
       "<style scoped>\n",
       "    .dataframe tbody tr th:only-of-type {\n",
       "        vertical-align: middle;\n",
       "    }\n",
       "\n",
       "    .dataframe tbody tr th {\n",
       "        vertical-align: top;\n",
       "    }\n",
       "\n",
       "    .dataframe thead th {\n",
       "        text-align: right;\n",
       "    }\n",
       "</style>\n",
       "<table border=\"1\" class=\"dataframe\">\n",
       "  <thead>\n",
       "    <tr style=\"text-align: right;\">\n",
       "      <th></th>\n",
       "      <th>HP</th>\n",
       "      <th>Attack</th>\n",
       "      <th>Defense</th>\n",
       "      <th>Sp. Atk</th>\n",
       "      <th>Sp. Def</th>\n",
       "      <th>Speed</th>\n",
       "    </tr>\n",
       "  </thead>\n",
       "  <tbody>\n",
       "    <tr>\n",
       "      <th>0</th>\n",
       "      <td>45</td>\n",
       "      <td>49</td>\n",
       "      <td>49</td>\n",
       "      <td>65</td>\n",
       "      <td>65</td>\n",
       "      <td>45</td>\n",
       "    </tr>\n",
       "    <tr>\n",
       "      <th>1</th>\n",
       "      <td>60</td>\n",
       "      <td>62</td>\n",
       "      <td>63</td>\n",
       "      <td>80</td>\n",
       "      <td>80</td>\n",
       "      <td>60</td>\n",
       "    </tr>\n",
       "    <tr>\n",
       "      <th>2</th>\n",
       "      <td>80</td>\n",
       "      <td>82</td>\n",
       "      <td>83</td>\n",
       "      <td>100</td>\n",
       "      <td>100</td>\n",
       "      <td>80</td>\n",
       "    </tr>\n",
       "    <tr>\n",
       "      <th>3</th>\n",
       "      <td>80</td>\n",
       "      <td>100</td>\n",
       "      <td>123</td>\n",
       "      <td>122</td>\n",
       "      <td>120</td>\n",
       "      <td>80</td>\n",
       "    </tr>\n",
       "    <tr>\n",
       "      <th>4</th>\n",
       "      <td>39</td>\n",
       "      <td>52</td>\n",
       "      <td>43</td>\n",
       "      <td>60</td>\n",
       "      <td>50</td>\n",
       "      <td>65</td>\n",
       "    </tr>\n",
       "    <tr>\n",
       "      <th>...</th>\n",
       "      <td>...</td>\n",
       "      <td>...</td>\n",
       "      <td>...</td>\n",
       "      <td>...</td>\n",
       "      <td>...</td>\n",
       "      <td>...</td>\n",
       "    </tr>\n",
       "    <tr>\n",
       "      <th>795</th>\n",
       "      <td>50</td>\n",
       "      <td>100</td>\n",
       "      <td>150</td>\n",
       "      <td>100</td>\n",
       "      <td>150</td>\n",
       "      <td>50</td>\n",
       "    </tr>\n",
       "    <tr>\n",
       "      <th>796</th>\n",
       "      <td>50</td>\n",
       "      <td>160</td>\n",
       "      <td>110</td>\n",
       "      <td>160</td>\n",
       "      <td>110</td>\n",
       "      <td>110</td>\n",
       "    </tr>\n",
       "    <tr>\n",
       "      <th>797</th>\n",
       "      <td>80</td>\n",
       "      <td>110</td>\n",
       "      <td>60</td>\n",
       "      <td>150</td>\n",
       "      <td>130</td>\n",
       "      <td>70</td>\n",
       "    </tr>\n",
       "    <tr>\n",
       "      <th>798</th>\n",
       "      <td>80</td>\n",
       "      <td>160</td>\n",
       "      <td>60</td>\n",
       "      <td>170</td>\n",
       "      <td>130</td>\n",
       "      <td>80</td>\n",
       "    </tr>\n",
       "    <tr>\n",
       "      <th>799</th>\n",
       "      <td>80</td>\n",
       "      <td>110</td>\n",
       "      <td>120</td>\n",
       "      <td>130</td>\n",
       "      <td>90</td>\n",
       "      <td>70</td>\n",
       "    </tr>\n",
       "  </tbody>\n",
       "</table>\n",
       "<p>800 rows × 6 columns</p>\n",
       "</div>"
      ],
      "text/plain": [
       "     HP  Attack  Defense  Sp. Atk  Sp. Def  Speed\n",
       "0    45      49       49       65       65     45\n",
       "1    60      62       63       80       80     60\n",
       "2    80      82       83      100      100     80\n",
       "3    80     100      123      122      120     80\n",
       "4    39      52       43       60       50     65\n",
       "..   ..     ...      ...      ...      ...    ...\n",
       "795  50     100      150      100      150     50\n",
       "796  50     160      110      160      110    110\n",
       "797  80     110       60      150      130     70\n",
       "798  80     160       60      170      130     80\n",
       "799  80     110      120      130       90     70\n",
       "\n",
       "[800 rows x 6 columns]"
      ]
     },
     "execution_count": 5,
     "metadata": {},
     "output_type": "execute_result"
    }
   ],
   "source": [
    "t2"
   ]
  },
  {
   "cell_type": "code",
   "execution_count": 6,
   "metadata": {},
   "outputs": [
    {
     "data": {
      "text/plain": [
       "False"
      ]
     },
     "execution_count": 6,
     "metadata": {},
     "output_type": "execute_result"
    }
   ],
   "source": [
    "False in (t2.sum(1) == t1)"
   ]
  },
  {
   "cell_type": "markdown",
   "metadata": {},
   "source": [
    "**2** 对于`#`重复的妖怪只保留第一条记录，解决以下问题：\n",
    "\n",
    "* 求第一属性的种类数量和前三多数量对应的种类\n",
    "* 求第一属性和第二属性的组合种类\n",
    "* 求尚未出现过的属性组合"
   ]
  },
  {
   "cell_type": "code",
   "execution_count": 7,
   "metadata": {},
   "outputs": [
    {
     "data": {
      "text/html": [
       "<div>\n",
       "<style scoped>\n",
       "    .dataframe tbody tr th:only-of-type {\n",
       "        vertical-align: middle;\n",
       "    }\n",
       "\n",
       "    .dataframe tbody tr th {\n",
       "        vertical-align: top;\n",
       "    }\n",
       "\n",
       "    .dataframe thead th {\n",
       "        text-align: right;\n",
       "    }\n",
       "</style>\n",
       "<table border=\"1\" class=\"dataframe\">\n",
       "  <thead>\n",
       "    <tr style=\"text-align: right;\">\n",
       "      <th></th>\n",
       "      <th>#</th>\n",
       "      <th>Name</th>\n",
       "      <th>Type 1</th>\n",
       "      <th>Type 2</th>\n",
       "      <th>Total</th>\n",
       "      <th>HP</th>\n",
       "      <th>Attack</th>\n",
       "      <th>Defense</th>\n",
       "      <th>Sp. Atk</th>\n",
       "      <th>Sp. Def</th>\n",
       "      <th>Speed</th>\n",
       "    </tr>\n",
       "  </thead>\n",
       "  <tbody>\n",
       "    <tr>\n",
       "      <th>0</th>\n",
       "      <td>1</td>\n",
       "      <td>Bulbasaur</td>\n",
       "      <td>Grass</td>\n",
       "      <td>Poison</td>\n",
       "      <td>318</td>\n",
       "      <td>45</td>\n",
       "      <td>49</td>\n",
       "      <td>49</td>\n",
       "      <td>65</td>\n",
       "      <td>65</td>\n",
       "      <td>45</td>\n",
       "    </tr>\n",
       "    <tr>\n",
       "      <th>1</th>\n",
       "      <td>2</td>\n",
       "      <td>Ivysaur</td>\n",
       "      <td>Grass</td>\n",
       "      <td>Poison</td>\n",
       "      <td>405</td>\n",
       "      <td>60</td>\n",
       "      <td>62</td>\n",
       "      <td>63</td>\n",
       "      <td>80</td>\n",
       "      <td>80</td>\n",
       "      <td>60</td>\n",
       "    </tr>\n",
       "    <tr>\n",
       "      <th>2</th>\n",
       "      <td>3</td>\n",
       "      <td>Venusaur</td>\n",
       "      <td>Grass</td>\n",
       "      <td>Poison</td>\n",
       "      <td>525</td>\n",
       "      <td>80</td>\n",
       "      <td>82</td>\n",
       "      <td>83</td>\n",
       "      <td>100</td>\n",
       "      <td>100</td>\n",
       "      <td>80</td>\n",
       "    </tr>\n",
       "    <tr>\n",
       "      <th>4</th>\n",
       "      <td>4</td>\n",
       "      <td>Charmander</td>\n",
       "      <td>Fire</td>\n",
       "      <td>NaN</td>\n",
       "      <td>309</td>\n",
       "      <td>39</td>\n",
       "      <td>52</td>\n",
       "      <td>43</td>\n",
       "      <td>60</td>\n",
       "      <td>50</td>\n",
       "      <td>65</td>\n",
       "    </tr>\n",
       "    <tr>\n",
       "      <th>5</th>\n",
       "      <td>5</td>\n",
       "      <td>Charmeleon</td>\n",
       "      <td>Fire</td>\n",
       "      <td>NaN</td>\n",
       "      <td>405</td>\n",
       "      <td>58</td>\n",
       "      <td>64</td>\n",
       "      <td>58</td>\n",
       "      <td>80</td>\n",
       "      <td>65</td>\n",
       "      <td>80</td>\n",
       "    </tr>\n",
       "    <tr>\n",
       "      <th>...</th>\n",
       "      <td>...</td>\n",
       "      <td>...</td>\n",
       "      <td>...</td>\n",
       "      <td>...</td>\n",
       "      <td>...</td>\n",
       "      <td>...</td>\n",
       "      <td>...</td>\n",
       "      <td>...</td>\n",
       "      <td>...</td>\n",
       "      <td>...</td>\n",
       "      <td>...</td>\n",
       "    </tr>\n",
       "    <tr>\n",
       "      <th>793</th>\n",
       "      <td>717</td>\n",
       "      <td>Yveltal</td>\n",
       "      <td>Dark</td>\n",
       "      <td>Flying</td>\n",
       "      <td>680</td>\n",
       "      <td>126</td>\n",
       "      <td>131</td>\n",
       "      <td>95</td>\n",
       "      <td>131</td>\n",
       "      <td>98</td>\n",
       "      <td>99</td>\n",
       "    </tr>\n",
       "    <tr>\n",
       "      <th>794</th>\n",
       "      <td>718</td>\n",
       "      <td>Zygarde50% Forme</td>\n",
       "      <td>Dragon</td>\n",
       "      <td>Ground</td>\n",
       "      <td>600</td>\n",
       "      <td>108</td>\n",
       "      <td>100</td>\n",
       "      <td>121</td>\n",
       "      <td>81</td>\n",
       "      <td>95</td>\n",
       "      <td>95</td>\n",
       "    </tr>\n",
       "    <tr>\n",
       "      <th>795</th>\n",
       "      <td>719</td>\n",
       "      <td>Diancie</td>\n",
       "      <td>Rock</td>\n",
       "      <td>Fairy</td>\n",
       "      <td>600</td>\n",
       "      <td>50</td>\n",
       "      <td>100</td>\n",
       "      <td>150</td>\n",
       "      <td>100</td>\n",
       "      <td>150</td>\n",
       "      <td>50</td>\n",
       "    </tr>\n",
       "    <tr>\n",
       "      <th>797</th>\n",
       "      <td>720</td>\n",
       "      <td>HoopaHoopa Confined</td>\n",
       "      <td>Psychic</td>\n",
       "      <td>Ghost</td>\n",
       "      <td>600</td>\n",
       "      <td>80</td>\n",
       "      <td>110</td>\n",
       "      <td>60</td>\n",
       "      <td>150</td>\n",
       "      <td>130</td>\n",
       "      <td>70</td>\n",
       "    </tr>\n",
       "    <tr>\n",
       "      <th>799</th>\n",
       "      <td>721</td>\n",
       "      <td>Volcanion</td>\n",
       "      <td>Fire</td>\n",
       "      <td>Water</td>\n",
       "      <td>600</td>\n",
       "      <td>80</td>\n",
       "      <td>110</td>\n",
       "      <td>120</td>\n",
       "      <td>130</td>\n",
       "      <td>90</td>\n",
       "      <td>70</td>\n",
       "    </tr>\n",
       "  </tbody>\n",
       "</table>\n",
       "<p>721 rows × 11 columns</p>\n",
       "</div>"
      ],
      "text/plain": [
       "       #                 Name   Type 1  Type 2  Total   HP  Attack  Defense  \\\n",
       "0      1            Bulbasaur    Grass  Poison    318   45      49       49   \n",
       "1      2              Ivysaur    Grass  Poison    405   60      62       63   \n",
       "2      3             Venusaur    Grass  Poison    525   80      82       83   \n",
       "4      4           Charmander     Fire     NaN    309   39      52       43   \n",
       "5      5           Charmeleon     Fire     NaN    405   58      64       58   \n",
       "..   ...                  ...      ...     ...    ...  ...     ...      ...   \n",
       "793  717              Yveltal     Dark  Flying    680  126     131       95   \n",
       "794  718     Zygarde50% Forme   Dragon  Ground    600  108     100      121   \n",
       "795  719              Diancie     Rock   Fairy    600   50     100      150   \n",
       "797  720  HoopaHoopa Confined  Psychic   Ghost    600   80     110       60   \n",
       "799  721            Volcanion     Fire   Water    600   80     110      120   \n",
       "\n",
       "     Sp. Atk  Sp. Def  Speed  \n",
       "0         65       65     45  \n",
       "1         80       80     60  \n",
       "2        100      100     80  \n",
       "4         60       50     65  \n",
       "5         80       65     80  \n",
       "..       ...      ...    ...  \n",
       "793      131       98     99  \n",
       "794       81       95     95  \n",
       "795      100      150     50  \n",
       "797      150      130     70  \n",
       "799      130       90     70  \n",
       "\n",
       "[721 rows x 11 columns]"
      ]
     },
     "execution_count": 7,
     "metadata": {},
     "output_type": "execute_result"
    }
   ],
   "source": [
    "df2 = df.drop_duplicates(['#'], keep='first')  # 去重\n",
    "df2"
   ]
  },
  {
   "cell_type": "code",
   "execution_count": 8,
   "metadata": {},
   "outputs": [
    {
     "data": {
      "text/plain": [
       "18"
      ]
     },
     "execution_count": 8,
     "metadata": {},
     "output_type": "execute_result"
    }
   ],
   "source": [
    "df2['Type 1'].nunique()  #第一属性的种类数量"
   ]
  },
  {
   "cell_type": "code",
   "execution_count": 9,
   "metadata": {},
   "outputs": [
    {
     "data": {
      "text/plain": [
       "Water     105\n",
       "Normal     93\n",
       "Grass      66\n",
       "Name: Type 1, dtype: int64"
      ]
     },
     "execution_count": 9,
     "metadata": {},
     "output_type": "execute_result"
    }
   ],
   "source": [
    "df2['Type 1'].value_counts()[: 3]  # 前三多数量对应的种类"
   ]
  },
  {
   "cell_type": "code",
   "execution_count": 160,
   "metadata": {},
   "outputs": [],
   "source": [
    "# 分出单属性妖怪和多属性妖怪\n",
    "df_type1 = df2[df2['Type 2'].isna()]\n",
    "df_type2 = df2[df2['Type 2'].notna()]"
   ]
  },
  {
   "cell_type": "code",
   "execution_count": 161,
   "metadata": {},
   "outputs": [
    {
     "data": {
      "text/html": [
       "<div>\n",
       "<style scoped>\n",
       "    .dataframe tbody tr th:only-of-type {\n",
       "        vertical-align: middle;\n",
       "    }\n",
       "\n",
       "    .dataframe tbody tr th {\n",
       "        vertical-align: top;\n",
       "    }\n",
       "\n",
       "    .dataframe thead th {\n",
       "        text-align: right;\n",
       "    }\n",
       "</style>\n",
       "<table border=\"1\" class=\"dataframe\">\n",
       "  <thead>\n",
       "    <tr style=\"text-align: right;\">\n",
       "      <th></th>\n",
       "      <th>#</th>\n",
       "      <th>Name</th>\n",
       "      <th>Type 1</th>\n",
       "      <th>Type 2</th>\n",
       "      <th>Total</th>\n",
       "      <th>HP</th>\n",
       "      <th>Attack</th>\n",
       "      <th>Defense</th>\n",
       "      <th>Sp. Atk</th>\n",
       "      <th>Sp. Def</th>\n",
       "      <th>Speed</th>\n",
       "    </tr>\n",
       "  </thead>\n",
       "  <tbody>\n",
       "    <tr>\n",
       "      <th>4</th>\n",
       "      <td>4</td>\n",
       "      <td>Charmander</td>\n",
       "      <td>Fire</td>\n",
       "      <td>NaN</td>\n",
       "      <td>309</td>\n",
       "      <td>39</td>\n",
       "      <td>52</td>\n",
       "      <td>43</td>\n",
       "      <td>60</td>\n",
       "      <td>50</td>\n",
       "      <td>65</td>\n",
       "    </tr>\n",
       "    <tr>\n",
       "      <th>5</th>\n",
       "      <td>5</td>\n",
       "      <td>Charmeleon</td>\n",
       "      <td>Fire</td>\n",
       "      <td>NaN</td>\n",
       "      <td>405</td>\n",
       "      <td>58</td>\n",
       "      <td>64</td>\n",
       "      <td>58</td>\n",
       "      <td>80</td>\n",
       "      <td>65</td>\n",
       "      <td>80</td>\n",
       "    </tr>\n",
       "    <tr>\n",
       "      <th>9</th>\n",
       "      <td>7</td>\n",
       "      <td>Squirtle</td>\n",
       "      <td>Water</td>\n",
       "      <td>NaN</td>\n",
       "      <td>314</td>\n",
       "      <td>44</td>\n",
       "      <td>48</td>\n",
       "      <td>65</td>\n",
       "      <td>50</td>\n",
       "      <td>64</td>\n",
       "      <td>43</td>\n",
       "    </tr>\n",
       "    <tr>\n",
       "      <th>10</th>\n",
       "      <td>8</td>\n",
       "      <td>Wartortle</td>\n",
       "      <td>Water</td>\n",
       "      <td>NaN</td>\n",
       "      <td>405</td>\n",
       "      <td>59</td>\n",
       "      <td>63</td>\n",
       "      <td>80</td>\n",
       "      <td>65</td>\n",
       "      <td>80</td>\n",
       "      <td>58</td>\n",
       "    </tr>\n",
       "    <tr>\n",
       "      <th>11</th>\n",
       "      <td>9</td>\n",
       "      <td>Blastoise</td>\n",
       "      <td>Water</td>\n",
       "      <td>NaN</td>\n",
       "      <td>530</td>\n",
       "      <td>79</td>\n",
       "      <td>83</td>\n",
       "      <td>100</td>\n",
       "      <td>85</td>\n",
       "      <td>105</td>\n",
       "      <td>78</td>\n",
       "    </tr>\n",
       "    <tr>\n",
       "      <th>...</th>\n",
       "      <td>...</td>\n",
       "      <td>...</td>\n",
       "      <td>...</td>\n",
       "      <td>...</td>\n",
       "      <td>...</td>\n",
       "      <td>...</td>\n",
       "      <td>...</td>\n",
       "      <td>...</td>\n",
       "      <td>...</td>\n",
       "      <td>...</td>\n",
       "      <td>...</td>\n",
       "    </tr>\n",
       "    <tr>\n",
       "      <th>775</th>\n",
       "      <td>705</td>\n",
       "      <td>Sliggoo</td>\n",
       "      <td>Dragon</td>\n",
       "      <td>NaN</td>\n",
       "      <td>452</td>\n",
       "      <td>68</td>\n",
       "      <td>75</td>\n",
       "      <td>53</td>\n",
       "      <td>83</td>\n",
       "      <td>113</td>\n",
       "      <td>60</td>\n",
       "    </tr>\n",
       "    <tr>\n",
       "      <th>776</th>\n",
       "      <td>706</td>\n",
       "      <td>Goodra</td>\n",
       "      <td>Dragon</td>\n",
       "      <td>NaN</td>\n",
       "      <td>600</td>\n",
       "      <td>90</td>\n",
       "      <td>100</td>\n",
       "      <td>70</td>\n",
       "      <td>110</td>\n",
       "      <td>150</td>\n",
       "      <td>80</td>\n",
       "    </tr>\n",
       "    <tr>\n",
       "      <th>788</th>\n",
       "      <td>712</td>\n",
       "      <td>Bergmite</td>\n",
       "      <td>Ice</td>\n",
       "      <td>NaN</td>\n",
       "      <td>304</td>\n",
       "      <td>55</td>\n",
       "      <td>69</td>\n",
       "      <td>85</td>\n",
       "      <td>32</td>\n",
       "      <td>35</td>\n",
       "      <td>28</td>\n",
       "    </tr>\n",
       "    <tr>\n",
       "      <th>789</th>\n",
       "      <td>713</td>\n",
       "      <td>Avalugg</td>\n",
       "      <td>Ice</td>\n",
       "      <td>NaN</td>\n",
       "      <td>514</td>\n",
       "      <td>95</td>\n",
       "      <td>117</td>\n",
       "      <td>184</td>\n",
       "      <td>44</td>\n",
       "      <td>46</td>\n",
       "      <td>28</td>\n",
       "    </tr>\n",
       "    <tr>\n",
       "      <th>792</th>\n",
       "      <td>716</td>\n",
       "      <td>Xerneas</td>\n",
       "      <td>Fairy</td>\n",
       "      <td>NaN</td>\n",
       "      <td>680</td>\n",
       "      <td>126</td>\n",
       "      <td>131</td>\n",
       "      <td>95</td>\n",
       "      <td>131</td>\n",
       "      <td>98</td>\n",
       "      <td>99</td>\n",
       "    </tr>\n",
       "  </tbody>\n",
       "</table>\n",
       "<p>371 rows × 11 columns</p>\n",
       "</div>"
      ],
      "text/plain": [
       "       #        Name  Type 1 Type 2  Total   HP  Attack  Defense  Sp. Atk  \\\n",
       "4      4  Charmander    Fire    NaN    309   39      52       43       60   \n",
       "5      5  Charmeleon    Fire    NaN    405   58      64       58       80   \n",
       "9      7    Squirtle   Water    NaN    314   44      48       65       50   \n",
       "10     8   Wartortle   Water    NaN    405   59      63       80       65   \n",
       "11     9   Blastoise   Water    NaN    530   79      83      100       85   \n",
       "..   ...         ...     ...    ...    ...  ...     ...      ...      ...   \n",
       "775  705     Sliggoo  Dragon    NaN    452   68      75       53       83   \n",
       "776  706      Goodra  Dragon    NaN    600   90     100       70      110   \n",
       "788  712    Bergmite     Ice    NaN    304   55      69       85       32   \n",
       "789  713     Avalugg     Ice    NaN    514   95     117      184       44   \n",
       "792  716     Xerneas   Fairy    NaN    680  126     131       95      131   \n",
       "\n",
       "     Sp. Def  Speed  \n",
       "4         50     65  \n",
       "5         65     80  \n",
       "9         64     43  \n",
       "10        80     58  \n",
       "11       105     78  \n",
       "..       ...    ...  \n",
       "775      113     60  \n",
       "776      150     80  \n",
       "788       35     28  \n",
       "789       46     28  \n",
       "792       98     99  \n",
       "\n",
       "[371 rows x 11 columns]"
      ]
     },
     "execution_count": 161,
     "metadata": {},
     "output_type": "execute_result"
    }
   ],
   "source": [
    "df_type1"
   ]
  },
  {
   "cell_type": "code",
   "execution_count": 162,
   "metadata": {},
   "outputs": [
    {
     "data": {
      "text/html": [
       "<div>\n",
       "<style scoped>\n",
       "    .dataframe tbody tr th:only-of-type {\n",
       "        vertical-align: middle;\n",
       "    }\n",
       "\n",
       "    .dataframe tbody tr th {\n",
       "        vertical-align: top;\n",
       "    }\n",
       "\n",
       "    .dataframe thead th {\n",
       "        text-align: right;\n",
       "    }\n",
       "</style>\n",
       "<table border=\"1\" class=\"dataframe\">\n",
       "  <thead>\n",
       "    <tr style=\"text-align: right;\">\n",
       "      <th></th>\n",
       "      <th>#</th>\n",
       "      <th>Name</th>\n",
       "      <th>Type 1</th>\n",
       "      <th>Type 2</th>\n",
       "      <th>Total</th>\n",
       "      <th>HP</th>\n",
       "      <th>Attack</th>\n",
       "      <th>Defense</th>\n",
       "      <th>Sp. Atk</th>\n",
       "      <th>Sp. Def</th>\n",
       "      <th>Speed</th>\n",
       "    </tr>\n",
       "  </thead>\n",
       "  <tbody>\n",
       "    <tr>\n",
       "      <th>0</th>\n",
       "      <td>1</td>\n",
       "      <td>Bulbasaur</td>\n",
       "      <td>Grass</td>\n",
       "      <td>Poison</td>\n",
       "      <td>318</td>\n",
       "      <td>45</td>\n",
       "      <td>49</td>\n",
       "      <td>49</td>\n",
       "      <td>65</td>\n",
       "      <td>65</td>\n",
       "      <td>45</td>\n",
       "    </tr>\n",
       "    <tr>\n",
       "      <th>1</th>\n",
       "      <td>2</td>\n",
       "      <td>Ivysaur</td>\n",
       "      <td>Grass</td>\n",
       "      <td>Poison</td>\n",
       "      <td>405</td>\n",
       "      <td>60</td>\n",
       "      <td>62</td>\n",
       "      <td>63</td>\n",
       "      <td>80</td>\n",
       "      <td>80</td>\n",
       "      <td>60</td>\n",
       "    </tr>\n",
       "    <tr>\n",
       "      <th>2</th>\n",
       "      <td>3</td>\n",
       "      <td>Venusaur</td>\n",
       "      <td>Grass</td>\n",
       "      <td>Poison</td>\n",
       "      <td>525</td>\n",
       "      <td>80</td>\n",
       "      <td>82</td>\n",
       "      <td>83</td>\n",
       "      <td>100</td>\n",
       "      <td>100</td>\n",
       "      <td>80</td>\n",
       "    </tr>\n",
       "    <tr>\n",
       "      <th>6</th>\n",
       "      <td>6</td>\n",
       "      <td>Charizard</td>\n",
       "      <td>Fire</td>\n",
       "      <td>Flying</td>\n",
       "      <td>534</td>\n",
       "      <td>78</td>\n",
       "      <td>84</td>\n",
       "      <td>78</td>\n",
       "      <td>109</td>\n",
       "      <td>85</td>\n",
       "      <td>100</td>\n",
       "    </tr>\n",
       "    <tr>\n",
       "      <th>15</th>\n",
       "      <td>12</td>\n",
       "      <td>Butterfree</td>\n",
       "      <td>Bug</td>\n",
       "      <td>Flying</td>\n",
       "      <td>395</td>\n",
       "      <td>60</td>\n",
       "      <td>45</td>\n",
       "      <td>50</td>\n",
       "      <td>90</td>\n",
       "      <td>80</td>\n",
       "      <td>70</td>\n",
       "    </tr>\n",
       "    <tr>\n",
       "      <th>...</th>\n",
       "      <td>...</td>\n",
       "      <td>...</td>\n",
       "      <td>...</td>\n",
       "      <td>...</td>\n",
       "      <td>...</td>\n",
       "      <td>...</td>\n",
       "      <td>...</td>\n",
       "      <td>...</td>\n",
       "      <td>...</td>\n",
       "      <td>...</td>\n",
       "      <td>...</td>\n",
       "    </tr>\n",
       "    <tr>\n",
       "      <th>793</th>\n",
       "      <td>717</td>\n",
       "      <td>Yveltal</td>\n",
       "      <td>Dark</td>\n",
       "      <td>Flying</td>\n",
       "      <td>680</td>\n",
       "      <td>126</td>\n",
       "      <td>131</td>\n",
       "      <td>95</td>\n",
       "      <td>131</td>\n",
       "      <td>98</td>\n",
       "      <td>99</td>\n",
       "    </tr>\n",
       "    <tr>\n",
       "      <th>794</th>\n",
       "      <td>718</td>\n",
       "      <td>Zygarde50% Forme</td>\n",
       "      <td>Dragon</td>\n",
       "      <td>Ground</td>\n",
       "      <td>600</td>\n",
       "      <td>108</td>\n",
       "      <td>100</td>\n",
       "      <td>121</td>\n",
       "      <td>81</td>\n",
       "      <td>95</td>\n",
       "      <td>95</td>\n",
       "    </tr>\n",
       "    <tr>\n",
       "      <th>795</th>\n",
       "      <td>719</td>\n",
       "      <td>Diancie</td>\n",
       "      <td>Rock</td>\n",
       "      <td>Fairy</td>\n",
       "      <td>600</td>\n",
       "      <td>50</td>\n",
       "      <td>100</td>\n",
       "      <td>150</td>\n",
       "      <td>100</td>\n",
       "      <td>150</td>\n",
       "      <td>50</td>\n",
       "    </tr>\n",
       "    <tr>\n",
       "      <th>797</th>\n",
       "      <td>720</td>\n",
       "      <td>HoopaHoopa Confined</td>\n",
       "      <td>Psychic</td>\n",
       "      <td>Ghost</td>\n",
       "      <td>600</td>\n",
       "      <td>80</td>\n",
       "      <td>110</td>\n",
       "      <td>60</td>\n",
       "      <td>150</td>\n",
       "      <td>130</td>\n",
       "      <td>70</td>\n",
       "    </tr>\n",
       "    <tr>\n",
       "      <th>799</th>\n",
       "      <td>721</td>\n",
       "      <td>Volcanion</td>\n",
       "      <td>Fire</td>\n",
       "      <td>Water</td>\n",
       "      <td>600</td>\n",
       "      <td>80</td>\n",
       "      <td>110</td>\n",
       "      <td>120</td>\n",
       "      <td>130</td>\n",
       "      <td>90</td>\n",
       "      <td>70</td>\n",
       "    </tr>\n",
       "  </tbody>\n",
       "</table>\n",
       "<p>350 rows × 11 columns</p>\n",
       "</div>"
      ],
      "text/plain": [
       "       #                 Name   Type 1  Type 2  Total   HP  Attack  Defense  \\\n",
       "0      1            Bulbasaur    Grass  Poison    318   45      49       49   \n",
       "1      2              Ivysaur    Grass  Poison    405   60      62       63   \n",
       "2      3             Venusaur    Grass  Poison    525   80      82       83   \n",
       "6      6            Charizard     Fire  Flying    534   78      84       78   \n",
       "15    12           Butterfree      Bug  Flying    395   60      45       50   \n",
       "..   ...                  ...      ...     ...    ...  ...     ...      ...   \n",
       "793  717              Yveltal     Dark  Flying    680  126     131       95   \n",
       "794  718     Zygarde50% Forme   Dragon  Ground    600  108     100      121   \n",
       "795  719              Diancie     Rock   Fairy    600   50     100      150   \n",
       "797  720  HoopaHoopa Confined  Psychic   Ghost    600   80     110       60   \n",
       "799  721            Volcanion     Fire   Water    600   80     110      120   \n",
       "\n",
       "     Sp. Atk  Sp. Def  Speed  \n",
       "0         65       65     45  \n",
       "1         80       80     60  \n",
       "2        100      100     80  \n",
       "6        109       85    100  \n",
       "15        90       80     70  \n",
       "..       ...      ...    ...  \n",
       "793      131       98     99  \n",
       "794       81       95     95  \n",
       "795      100      150     50  \n",
       "797      150      130     70  \n",
       "799      130       90     70  \n",
       "\n",
       "[350 rows x 11 columns]"
      ]
     },
     "execution_count": 162,
     "metadata": {},
     "output_type": "execute_result"
    }
   ],
   "source": [
    "df_type2"
   ]
  },
  {
   "cell_type": "code",
   "execution_count": 13,
   "metadata": {},
   "outputs": [
    {
     "data": {
      "text/html": [
       "<div>\n",
       "<style scoped>\n",
       "    .dataframe tbody tr th:only-of-type {\n",
       "        vertical-align: middle;\n",
       "    }\n",
       "\n",
       "    .dataframe tbody tr th {\n",
       "        vertical-align: top;\n",
       "    }\n",
       "\n",
       "    .dataframe thead th {\n",
       "        text-align: right;\n",
       "    }\n",
       "</style>\n",
       "<table border=\"1\" class=\"dataframe\">\n",
       "  <thead>\n",
       "    <tr style=\"text-align: right;\">\n",
       "      <th></th>\n",
       "      <th>#</th>\n",
       "      <th>Name</th>\n",
       "      <th>Type 1</th>\n",
       "      <th>Type 2</th>\n",
       "      <th>Total</th>\n",
       "      <th>HP</th>\n",
       "      <th>Attack</th>\n",
       "      <th>Defense</th>\n",
       "      <th>Sp. Atk</th>\n",
       "      <th>Sp. Def</th>\n",
       "      <th>Speed</th>\n",
       "    </tr>\n",
       "  </thead>\n",
       "  <tbody>\n",
       "    <tr>\n",
       "      <th>0</th>\n",
       "      <td>1</td>\n",
       "      <td>Bulbasaur</td>\n",
       "      <td>Grass</td>\n",
       "      <td>Poison</td>\n",
       "      <td>318</td>\n",
       "      <td>45</td>\n",
       "      <td>49</td>\n",
       "      <td>49</td>\n",
       "      <td>65</td>\n",
       "      <td>65</td>\n",
       "      <td>45</td>\n",
       "    </tr>\n",
       "    <tr>\n",
       "      <th>4</th>\n",
       "      <td>4</td>\n",
       "      <td>Charmander</td>\n",
       "      <td>Fire</td>\n",
       "      <td>NaN</td>\n",
       "      <td>309</td>\n",
       "      <td>39</td>\n",
       "      <td>52</td>\n",
       "      <td>43</td>\n",
       "      <td>60</td>\n",
       "      <td>50</td>\n",
       "      <td>65</td>\n",
       "    </tr>\n",
       "    <tr>\n",
       "      <th>6</th>\n",
       "      <td>6</td>\n",
       "      <td>Charizard</td>\n",
       "      <td>Fire</td>\n",
       "      <td>Flying</td>\n",
       "      <td>534</td>\n",
       "      <td>78</td>\n",
       "      <td>84</td>\n",
       "      <td>78</td>\n",
       "      <td>109</td>\n",
       "      <td>85</td>\n",
       "      <td>100</td>\n",
       "    </tr>\n",
       "    <tr>\n",
       "      <th>9</th>\n",
       "      <td>7</td>\n",
       "      <td>Squirtle</td>\n",
       "      <td>Water</td>\n",
       "      <td>NaN</td>\n",
       "      <td>314</td>\n",
       "      <td>44</td>\n",
       "      <td>48</td>\n",
       "      <td>65</td>\n",
       "      <td>50</td>\n",
       "      <td>64</td>\n",
       "      <td>43</td>\n",
       "    </tr>\n",
       "    <tr>\n",
       "      <th>13</th>\n",
       "      <td>10</td>\n",
       "      <td>Caterpie</td>\n",
       "      <td>Bug</td>\n",
       "      <td>NaN</td>\n",
       "      <td>195</td>\n",
       "      <td>45</td>\n",
       "      <td>30</td>\n",
       "      <td>35</td>\n",
       "      <td>20</td>\n",
       "      <td>20</td>\n",
       "      <td>45</td>\n",
       "    </tr>\n",
       "    <tr>\n",
       "      <th>...</th>\n",
       "      <td>...</td>\n",
       "      <td>...</td>\n",
       "      <td>...</td>\n",
       "      <td>...</td>\n",
       "      <td>...</td>\n",
       "      <td>...</td>\n",
       "      <td>...</td>\n",
       "      <td>...</td>\n",
       "      <td>...</td>\n",
       "      <td>...</td>\n",
       "      <td>...</td>\n",
       "    </tr>\n",
       "    <tr>\n",
       "      <th>773</th>\n",
       "      <td>703</td>\n",
       "      <td>Carbink</td>\n",
       "      <td>Rock</td>\n",
       "      <td>Fairy</td>\n",
       "      <td>500</td>\n",
       "      <td>50</td>\n",
       "      <td>50</td>\n",
       "      <td>150</td>\n",
       "      <td>50</td>\n",
       "      <td>150</td>\n",
       "      <td>50</td>\n",
       "    </tr>\n",
       "    <tr>\n",
       "      <th>778</th>\n",
       "      <td>708</td>\n",
       "      <td>Phantump</td>\n",
       "      <td>Ghost</td>\n",
       "      <td>Grass</td>\n",
       "      <td>309</td>\n",
       "      <td>43</td>\n",
       "      <td>70</td>\n",
       "      <td>48</td>\n",
       "      <td>50</td>\n",
       "      <td>60</td>\n",
       "      <td>38</td>\n",
       "    </tr>\n",
       "    <tr>\n",
       "      <th>790</th>\n",
       "      <td>714</td>\n",
       "      <td>Noibat</td>\n",
       "      <td>Flying</td>\n",
       "      <td>Dragon</td>\n",
       "      <td>245</td>\n",
       "      <td>40</td>\n",
       "      <td>30</td>\n",
       "      <td>35</td>\n",
       "      <td>45</td>\n",
       "      <td>40</td>\n",
       "      <td>55</td>\n",
       "    </tr>\n",
       "    <tr>\n",
       "      <th>797</th>\n",
       "      <td>720</td>\n",
       "      <td>HoopaHoopa Confined</td>\n",
       "      <td>Psychic</td>\n",
       "      <td>Ghost</td>\n",
       "      <td>600</td>\n",
       "      <td>80</td>\n",
       "      <td>110</td>\n",
       "      <td>60</td>\n",
       "      <td>150</td>\n",
       "      <td>130</td>\n",
       "      <td>70</td>\n",
       "    </tr>\n",
       "    <tr>\n",
       "      <th>799</th>\n",
       "      <td>721</td>\n",
       "      <td>Volcanion</td>\n",
       "      <td>Fire</td>\n",
       "      <td>Water</td>\n",
       "      <td>600</td>\n",
       "      <td>80</td>\n",
       "      <td>110</td>\n",
       "      <td>120</td>\n",
       "      <td>130</td>\n",
       "      <td>90</td>\n",
       "      <td>70</td>\n",
       "    </tr>\n",
       "  </tbody>\n",
       "</table>\n",
       "<p>143 rows × 11 columns</p>\n",
       "</div>"
      ],
      "text/plain": [
       "       #                 Name   Type 1  Type 2  Total  HP  Attack  Defense  \\\n",
       "0      1            Bulbasaur    Grass  Poison    318  45      49       49   \n",
       "4      4           Charmander     Fire     NaN    309  39      52       43   \n",
       "6      6            Charizard     Fire  Flying    534  78      84       78   \n",
       "9      7             Squirtle    Water     NaN    314  44      48       65   \n",
       "13    10             Caterpie      Bug     NaN    195  45      30       35   \n",
       "..   ...                  ...      ...     ...    ...  ..     ...      ...   \n",
       "773  703              Carbink     Rock   Fairy    500  50      50      150   \n",
       "778  708             Phantump    Ghost   Grass    309  43      70       48   \n",
       "790  714               Noibat   Flying  Dragon    245  40      30       35   \n",
       "797  720  HoopaHoopa Confined  Psychic   Ghost    600  80     110       60   \n",
       "799  721            Volcanion     Fire   Water    600  80     110      120   \n",
       "\n",
       "     Sp. Atk  Sp. Def  Speed  \n",
       "0         65       65     45  \n",
       "4         60       50     65  \n",
       "6        109       85    100  \n",
       "9         50       64     43  \n",
       "13        20       20     45  \n",
       "..       ...      ...    ...  \n",
       "773       50      150     50  \n",
       "778       50       60     38  \n",
       "790       45       40     55  \n",
       "797      150      130     70  \n",
       "799      130       90     70  \n",
       "\n",
       "[143 rows x 11 columns]"
      ]
     },
     "execution_count": 13,
     "metadata": {},
     "output_type": "execute_result"
    }
   ],
   "source": [
    "df2.drop_duplicates(['Type 1', 'Type 2'])  # 第一属性和第二属性的组合种类"
   ]
  },
  {
   "cell_type": "code",
   "execution_count": 14,
   "metadata": {},
   "outputs": [],
   "source": [
    "comb = df_type2.drop_duplicates(['Type 1', 'Type 2'])  # 具有两种属性的口袋妖怪，两种属性的组合"
   ]
  },
  {
   "cell_type": "code",
   "execution_count": 15,
   "metadata": {},
   "outputs": [
    {
     "data": {
      "text/html": [
       "<div>\n",
       "<style scoped>\n",
       "    .dataframe tbody tr th:only-of-type {\n",
       "        vertical-align: middle;\n",
       "    }\n",
       "\n",
       "    .dataframe tbody tr th {\n",
       "        vertical-align: top;\n",
       "    }\n",
       "\n",
       "    .dataframe thead th {\n",
       "        text-align: right;\n",
       "    }\n",
       "</style>\n",
       "<table border=\"1\" class=\"dataframe\">\n",
       "  <thead>\n",
       "    <tr style=\"text-align: right;\">\n",
       "      <th></th>\n",
       "      <th>#</th>\n",
       "      <th>Name</th>\n",
       "      <th>Type 1</th>\n",
       "      <th>Type 2</th>\n",
       "      <th>Total</th>\n",
       "      <th>HP</th>\n",
       "      <th>Attack</th>\n",
       "      <th>Defense</th>\n",
       "      <th>Sp. Atk</th>\n",
       "      <th>Sp. Def</th>\n",
       "      <th>Speed</th>\n",
       "    </tr>\n",
       "  </thead>\n",
       "  <tbody>\n",
       "    <tr>\n",
       "      <th>0</th>\n",
       "      <td>1</td>\n",
       "      <td>Bulbasaur</td>\n",
       "      <td>Grass</td>\n",
       "      <td>Poison</td>\n",
       "      <td>318</td>\n",
       "      <td>45</td>\n",
       "      <td>49</td>\n",
       "      <td>49</td>\n",
       "      <td>65</td>\n",
       "      <td>65</td>\n",
       "      <td>45</td>\n",
       "    </tr>\n",
       "    <tr>\n",
       "      <th>6</th>\n",
       "      <td>6</td>\n",
       "      <td>Charizard</td>\n",
       "      <td>Fire</td>\n",
       "      <td>Flying</td>\n",
       "      <td>534</td>\n",
       "      <td>78</td>\n",
       "      <td>84</td>\n",
       "      <td>78</td>\n",
       "      <td>109</td>\n",
       "      <td>85</td>\n",
       "      <td>100</td>\n",
       "    </tr>\n",
       "    <tr>\n",
       "      <th>15</th>\n",
       "      <td>12</td>\n",
       "      <td>Butterfree</td>\n",
       "      <td>Bug</td>\n",
       "      <td>Flying</td>\n",
       "      <td>395</td>\n",
       "      <td>60</td>\n",
       "      <td>45</td>\n",
       "      <td>50</td>\n",
       "      <td>90</td>\n",
       "      <td>80</td>\n",
       "      <td>70</td>\n",
       "    </tr>\n",
       "    <tr>\n",
       "      <th>16</th>\n",
       "      <td>13</td>\n",
       "      <td>Weedle</td>\n",
       "      <td>Bug</td>\n",
       "      <td>Poison</td>\n",
       "      <td>195</td>\n",
       "      <td>40</td>\n",
       "      <td>35</td>\n",
       "      <td>30</td>\n",
       "      <td>20</td>\n",
       "      <td>20</td>\n",
       "      <td>50</td>\n",
       "    </tr>\n",
       "    <tr>\n",
       "      <th>20</th>\n",
       "      <td>16</td>\n",
       "      <td>Pidgey</td>\n",
       "      <td>Normal</td>\n",
       "      <td>Flying</td>\n",
       "      <td>251</td>\n",
       "      <td>40</td>\n",
       "      <td>45</td>\n",
       "      <td>40</td>\n",
       "      <td>35</td>\n",
       "      <td>35</td>\n",
       "      <td>56</td>\n",
       "    </tr>\n",
       "    <tr>\n",
       "      <th>...</th>\n",
       "      <td>...</td>\n",
       "      <td>...</td>\n",
       "      <td>...</td>\n",
       "      <td>...</td>\n",
       "      <td>...</td>\n",
       "      <td>...</td>\n",
       "      <td>...</td>\n",
       "      <td>...</td>\n",
       "      <td>...</td>\n",
       "      <td>...</td>\n",
       "      <td>...</td>\n",
       "    </tr>\n",
       "    <tr>\n",
       "      <th>773</th>\n",
       "      <td>703</td>\n",
       "      <td>Carbink</td>\n",
       "      <td>Rock</td>\n",
       "      <td>Fairy</td>\n",
       "      <td>500</td>\n",
       "      <td>50</td>\n",
       "      <td>50</td>\n",
       "      <td>150</td>\n",
       "      <td>50</td>\n",
       "      <td>150</td>\n",
       "      <td>50</td>\n",
       "    </tr>\n",
       "    <tr>\n",
       "      <th>778</th>\n",
       "      <td>708</td>\n",
       "      <td>Phantump</td>\n",
       "      <td>Ghost</td>\n",
       "      <td>Grass</td>\n",
       "      <td>309</td>\n",
       "      <td>43</td>\n",
       "      <td>70</td>\n",
       "      <td>48</td>\n",
       "      <td>50</td>\n",
       "      <td>60</td>\n",
       "      <td>38</td>\n",
       "    </tr>\n",
       "    <tr>\n",
       "      <th>790</th>\n",
       "      <td>714</td>\n",
       "      <td>Noibat</td>\n",
       "      <td>Flying</td>\n",
       "      <td>Dragon</td>\n",
       "      <td>245</td>\n",
       "      <td>40</td>\n",
       "      <td>30</td>\n",
       "      <td>35</td>\n",
       "      <td>45</td>\n",
       "      <td>40</td>\n",
       "      <td>55</td>\n",
       "    </tr>\n",
       "    <tr>\n",
       "      <th>797</th>\n",
       "      <td>720</td>\n",
       "      <td>HoopaHoopa Confined</td>\n",
       "      <td>Psychic</td>\n",
       "      <td>Ghost</td>\n",
       "      <td>600</td>\n",
       "      <td>80</td>\n",
       "      <td>110</td>\n",
       "      <td>60</td>\n",
       "      <td>150</td>\n",
       "      <td>130</td>\n",
       "      <td>70</td>\n",
       "    </tr>\n",
       "    <tr>\n",
       "      <th>799</th>\n",
       "      <td>721</td>\n",
       "      <td>Volcanion</td>\n",
       "      <td>Fire</td>\n",
       "      <td>Water</td>\n",
       "      <td>600</td>\n",
       "      <td>80</td>\n",
       "      <td>110</td>\n",
       "      <td>120</td>\n",
       "      <td>130</td>\n",
       "      <td>90</td>\n",
       "      <td>70</td>\n",
       "    </tr>\n",
       "  </tbody>\n",
       "</table>\n",
       "<p>125 rows × 11 columns</p>\n",
       "</div>"
      ],
      "text/plain": [
       "       #                 Name   Type 1  Type 2  Total  HP  Attack  Defense  \\\n",
       "0      1            Bulbasaur    Grass  Poison    318  45      49       49   \n",
       "6      6            Charizard     Fire  Flying    534  78      84       78   \n",
       "15    12           Butterfree      Bug  Flying    395  60      45       50   \n",
       "16    13               Weedle      Bug  Poison    195  40      35       30   \n",
       "20    16               Pidgey   Normal  Flying    251  40      45       40   \n",
       "..   ...                  ...      ...     ...    ...  ..     ...      ...   \n",
       "773  703              Carbink     Rock   Fairy    500  50      50      150   \n",
       "778  708             Phantump    Ghost   Grass    309  43      70       48   \n",
       "790  714               Noibat   Flying  Dragon    245  40      30       35   \n",
       "797  720  HoopaHoopa Confined  Psychic   Ghost    600  80     110       60   \n",
       "799  721            Volcanion     Fire   Water    600  80     110      120   \n",
       "\n",
       "     Sp. Atk  Sp. Def  Speed  \n",
       "0         65       65     45  \n",
       "6        109       85    100  \n",
       "15        90       80     70  \n",
       "16        20       20     50  \n",
       "20        35       35     56  \n",
       "..       ...      ...    ...  \n",
       "773       50      150     50  \n",
       "778       50       60     38  \n",
       "790       45       40     55  \n",
       "797      150      130     70  \n",
       "799      130       90     70  \n",
       "\n",
       "[125 rows x 11 columns]"
      ]
     },
     "execution_count": 15,
     "metadata": {},
     "output_type": "execute_result"
    }
   ],
   "source": [
    "comb"
   ]
  },
  {
   "cell_type": "code",
   "execution_count": 16,
   "metadata": {},
   "outputs": [],
   "source": [
    "type1_1 = df2['Type 1'].drop_duplicates()\n",
    "type2_1 = df2['Type 2'].drop_duplicates()"
   ]
  },
  {
   "cell_type": "code",
   "execution_count": 17,
   "metadata": {},
   "outputs": [],
   "source": [
    "type1_2 = df_type2['Type 1'].drop_duplicates()\n",
    "type2_2 = df_type2['Type 2'].drop_duplicates()"
   ]
  },
  {
   "cell_type": "code",
   "execution_count": 18,
   "metadata": {},
   "outputs": [
    {
     "name": "stdout",
     "output_type": "stream",
     "text": [
      "['Bug', 'Dark', 'Dragon', 'Electric', 'Fairy', 'Fighting', 'Fire', 'Flying', 'Ghost', 'Grass', 'Ground', 'Ice', 'Normal', 'Poison', 'Psychic', 'Rock', 'Steel', 'Water']\n",
      "['Bug', 'Dark', 'Dragon', 'Electric', 'Fairy', 'Fighting', 'Fire', 'Flying', 'Ghost', 'Grass', 'Ground', 'Ice', 'Normal', 'Poison', 'Psychic', 'Rock', 'Steel', 'Water']\n"
     ]
    }
   ],
   "source": [
    "print(list(type1_1.sort_values()))\n",
    "print(list(type1_2.sort_values()))"
   ]
  },
  {
   "cell_type": "code",
   "execution_count": 19,
   "metadata": {},
   "outputs": [
    {
     "name": "stdout",
     "output_type": "stream",
     "text": [
      "['Bug', 'Dark', 'Dragon', 'Electric', 'Fairy', 'Fighting', 'Fire', 'Flying', 'Ghost', 'Grass', 'Ground', 'Ice', 'Normal', 'Poison', 'Psychic', 'Rock', 'Steel', 'Water', nan]\n",
      "['Bug', 'Dark', 'Dragon', 'Electric', 'Fairy', 'Fighting', 'Fire', 'Flying', 'Ghost', 'Grass', 'Ground', 'Ice', 'Normal', 'Poison', 'Psychic', 'Rock', 'Steel', 'Water']\n"
     ]
    }
   ],
   "source": [
    "print(list(type2_1.sort_values()))\n",
    "print(list(type2_2.sort_values()))"
   ]
  },
  {
   "cell_type": "code",
   "execution_count": 20,
   "metadata": {},
   "outputs": [
    {
     "name": "stdout",
     "output_type": "stream",
     "text": [
      "['Bug', 'Dark', 'Dragon', 'Electric', 'Fairy', 'Fighting', 'Fire', 'Flying', 'Ghost', 'Grass', 'Ground', 'Ice', 'Normal', 'Poison', 'Psychic', 'Rock', 'Steel', 'Water']\n",
      "['Bug', 'Dark', 'Dragon', 'Electric', 'Fairy', 'Fighting', 'Fire', 'Flying', 'Ghost', 'Grass', 'Ground', 'Ice', 'Normal', 'Poison', 'Psychic', 'Rock', 'Steel', 'Water']\n"
     ]
    }
   ],
   "source": [
    "print(list(type1_2.sort_values()))\n",
    "print(list(type2_2.sort_values()))"
   ]
  },
  {
   "cell_type": "code",
   "execution_count": 21,
   "metadata": {},
   "outputs": [
    {
     "name": "stdout",
     "output_type": "stream",
     "text": [
      "['Bug', 'Dark', 'Dragon', 'Electric', 'Fairy', 'Fighting', 'Fire', 'Flying', 'Ghost', 'Grass', 'Ground', 'Ice', 'Normal', 'Poison', 'Psychic', 'Rock', 'Steel', 'Water']\n",
      "['Bug', 'Dark', 'Dragon', 'Electric', 'Fairy', 'Fighting', 'Fire', 'Flying', 'Ghost', 'Grass', 'Ground', 'Ice', 'Normal', 'Poison', 'Psychic', 'Rock', 'Steel', 'Water', nan]\n"
     ]
    }
   ],
   "source": [
    "print(list(type1_1.sort_values()))\n",
    "print(list(type2_1.sort_values()))"
   ]
  },
  {
   "cell_type": "code",
   "execution_count": 22,
   "metadata": {},
   "outputs": [],
   "source": [
    "combs = comb[['Type 1', 'Type 2']].values"
   ]
  },
  {
   "cell_type": "code",
   "execution_count": 23,
   "metadata": {},
   "outputs": [
    {
     "data": {
      "text/plain": [
       "array([['Grass', 'Poison'],\n",
       "       ['Fire', 'Flying'],\n",
       "       ['Bug', 'Flying'],\n",
       "       ['Bug', 'Poison'],\n",
       "       ['Flying', 'Normal'],\n",
       "       ['Ground', 'Poison'],\n",
       "       ['Fairy', 'Normal'],\n",
       "       ['Flying', 'Poison'],\n",
       "       ['Bug', 'Grass'],\n",
       "       ['Fighting', 'Water'],\n",
       "       ['Poison', 'Water'],\n",
       "       ['Ground', 'Rock'],\n",
       "       ['Psychic', 'Water'],\n",
       "       ['Electric', 'Steel'],\n",
       "       ['Ice', 'Water'],\n",
       "       ['Ghost', 'Poison'],\n",
       "       ['Grass', 'Psychic'],\n",
       "       ['Ground', 'Rock'],\n",
       "       ['Fairy', 'Psychic'],\n",
       "       ['Ice', 'Psychic'],\n",
       "       ['Flying', 'Water'],\n",
       "       ['Rock', 'Water'],\n",
       "       ['Flying', 'Rock'],\n",
       "       ['Flying', 'Ice'],\n",
       "       ['Electric', 'Flying'],\n",
       "       ['Dragon', 'Flying'],\n",
       "       ['Electric', 'Water'],\n",
       "       ['Fairy', 'Flying'],\n",
       "       ['Flying', 'Psychic'],\n",
       "       ['Fairy', 'Water'],\n",
       "       ['Flying', 'Grass'],\n",
       "       ['Ground', 'Water'],\n",
       "       ['Dark', 'Flying'],\n",
       "       ['Normal', 'Psychic'],\n",
       "       ['Bug', 'Steel'],\n",
       "       ['Flying', 'Ground'],\n",
       "       ['Ground', 'Steel'],\n",
       "       ['Bug', 'Rock'],\n",
       "       ['Bug', 'Fighting'],\n",
       "       ['Dark', 'Ice'],\n",
       "       ['Fire', 'Rock'],\n",
       "       ['Ground', 'Ice'],\n",
       "       ['Rock', 'Water'],\n",
       "       ['Flying', 'Steel'],\n",
       "       ['Dark', 'Fire'],\n",
       "       ['Dragon', 'Water'],\n",
       "       ['Dark', 'Rock'],\n",
       "       ['Grass', 'Psychic'],\n",
       "       ['Fighting', 'Fire'],\n",
       "       ['Grass', 'Water'],\n",
       "       ['Dark', 'Grass'],\n",
       "       ['Bug', 'Water'],\n",
       "       ['Fighting', 'Grass'],\n",
       "       ['Bug', 'Ground'],\n",
       "       ['Bug', 'Ghost'],\n",
       "       ['Dark', 'Ghost'],\n",
       "       ['Fairy', 'Steel'],\n",
       "       ['Rock', 'Steel'],\n",
       "       ['Fighting', 'Psychic'],\n",
       "       ['Dark', 'Water'],\n",
       "       ['Fire', 'Ground'],\n",
       "       ['Dragon', 'Ground'],\n",
       "       ['Psychic', 'Rock'],\n",
       "       ['Ground', 'Psychic'],\n",
       "       ['Grass', 'Rock'],\n",
       "       ['Bug', 'Rock'],\n",
       "       ['Ice', 'Water'],\n",
       "       ['Psychic', 'Steel'],\n",
       "       ['Dragon', 'Psychic'],\n",
       "       ['Grass', 'Ground'],\n",
       "       ['Steel', 'Water'],\n",
       "       ['Normal', 'Water'],\n",
       "       ['Rock', 'Steel'],\n",
       "       ['Flying', 'Ghost'],\n",
       "       ['Dark', 'Poison'],\n",
       "       ['Dark', 'Ghost'],\n",
       "       ['Dragon', 'Ground'],\n",
       "       ['Fighting', 'Steel'],\n",
       "       ['Bug', 'Poison'],\n",
       "       ['Fighting', 'Poison'],\n",
       "       ['Grass', 'Ice'],\n",
       "       ['Fighting', 'Psychic'],\n",
       "       ['Ghost', 'Ice'],\n",
       "       ['Electric', 'Ghost'],\n",
       "       ['Dragon', 'Steel'],\n",
       "       ['Fire', 'Steel'],\n",
       "       ['Dragon', 'Ghost'],\n",
       "       ['Fire', 'Psychic'],\n",
       "       ['Ground', 'Steel'],\n",
       "       ['Fairy', 'Grass'],\n",
       "       ['Dark', 'Ground'],\n",
       "       ['Dark', 'Fighting'],\n",
       "       ['Grass', 'Normal'],\n",
       "       ['Ghost', 'Water'],\n",
       "       ['Bug', 'Electric'],\n",
       "       ['Grass', 'Steel'],\n",
       "       ['Fire', 'Ghost'],\n",
       "       ['Electric', 'Ground'],\n",
       "       ['Ghost', 'Ground'],\n",
       "       ['Dark', 'Steel'],\n",
       "       ['Dark', 'Dragon'],\n",
       "       ['Bug', 'Fire'],\n",
       "       ['Fighting', 'Steel'],\n",
       "       ['Fighting', 'Rock'],\n",
       "       ['Dragon', 'Fire'],\n",
       "       ['Dragon', 'Electric'],\n",
       "       ['Dragon', 'Ice'],\n",
       "       ['Fire', 'Psychic'],\n",
       "       ['Ground', 'Normal'],\n",
       "       ['Fire', 'Normal'],\n",
       "       ['Dark', 'Fighting'],\n",
       "       ['Ghost', 'Steel'],\n",
       "       ['Dark', 'Psychic'],\n",
       "       ['Poison', 'Water'],\n",
       "       ['Dragon', 'Poison'],\n",
       "       ['Electric', 'Normal'],\n",
       "       ['Dragon', 'Rock'],\n",
       "       ['Ice', 'Rock'],\n",
       "       ['Fighting', 'Flying'],\n",
       "       ['Electric', 'Fairy'],\n",
       "       ['Fairy', 'Rock'],\n",
       "       ['Ghost', 'Grass'],\n",
       "       ['Dragon', 'Flying'],\n",
       "       ['Ghost', 'Psychic'],\n",
       "       ['Fire', 'Water']], dtype=object)"
      ]
     },
     "execution_count": 23,
     "metadata": {},
     "output_type": "execute_result"
    }
   ],
   "source": [
    "np.sort(combs)"
   ]
  },
  {
   "cell_type": "code",
   "execution_count": 24,
   "metadata": {},
   "outputs": [
    {
     "data": {
      "text/plain": [
       "(125, 2)"
      ]
     },
     "execution_count": 24,
     "metadata": {},
     "output_type": "execute_result"
    }
   ],
   "source": [
    "combs.shape"
   ]
  },
  {
   "cell_type": "code",
   "execution_count": 25,
   "metadata": {},
   "outputs": [],
   "source": [
    "# 尚未出现过的属性组合\n",
    "new_comb = []\n",
    "lst = type1_2.values\n",
    "for i in range(len(lst)):\n",
    "    for j in range(i+1, len(lst)):\n",
    "        if [lst[i], lst[j]] not in combs:\n",
    "            new_comb.append([lst[i], lst[j]])"
   ]
  },
  {
   "cell_type": "code",
   "execution_count": 26,
   "metadata": {},
   "outputs": [
    {
     "data": {
      "text/plain": [
       "[]"
      ]
     },
     "execution_count": 26,
     "metadata": {},
     "output_type": "execute_result"
    }
   ],
   "source": [
    "new_comb"
   ]
  },
  {
   "cell_type": "code",
   "execution_count": 41,
   "metadata": {},
   "outputs": [],
   "source": [
    "new_comb = []\n",
    "full = []\n",
    "lst = type1_2.values\n",
    "for i in range(len(lst)):\n",
    "    for j in range(i+1, len(lst)):\n",
    "        full.append([lst[i], lst[j]])"
   ]
  },
  {
   "cell_type": "code",
   "execution_count": 42,
   "metadata": {},
   "outputs": [
    {
     "data": {
      "text/html": [
       "<div>\n",
       "<style scoped>\n",
       "    .dataframe tbody tr th:only-of-type {\n",
       "        vertical-align: middle;\n",
       "    }\n",
       "\n",
       "    .dataframe tbody tr th {\n",
       "        vertical-align: top;\n",
       "    }\n",
       "\n",
       "    .dataframe thead th {\n",
       "        text-align: right;\n",
       "    }\n",
       "</style>\n",
       "<table border=\"1\" class=\"dataframe\">\n",
       "  <thead>\n",
       "    <tr style=\"text-align: right;\">\n",
       "      <th></th>\n",
       "      <th>0</th>\n",
       "      <th>1</th>\n",
       "    </tr>\n",
       "  </thead>\n",
       "  <tbody>\n",
       "    <tr>\n",
       "      <th>0</th>\n",
       "      <td>Grass</td>\n",
       "      <td>Fire</td>\n",
       "    </tr>\n",
       "    <tr>\n",
       "      <th>1</th>\n",
       "      <td>Grass</td>\n",
       "      <td>Bug</td>\n",
       "    </tr>\n",
       "    <tr>\n",
       "      <th>2</th>\n",
       "      <td>Grass</td>\n",
       "      <td>Normal</td>\n",
       "    </tr>\n",
       "    <tr>\n",
       "      <th>3</th>\n",
       "      <td>Grass</td>\n",
       "      <td>Poison</td>\n",
       "    </tr>\n",
       "    <tr>\n",
       "      <th>4</th>\n",
       "      <td>Grass</td>\n",
       "      <td>Water</td>\n",
       "    </tr>\n",
       "    <tr>\n",
       "      <th>...</th>\n",
       "      <td>...</td>\n",
       "      <td>...</td>\n",
       "    </tr>\n",
       "    <tr>\n",
       "      <th>148</th>\n",
       "      <td>Dark</td>\n",
       "      <td>Fighting</td>\n",
       "    </tr>\n",
       "    <tr>\n",
       "      <th>149</th>\n",
       "      <td>Dark</td>\n",
       "      <td>Flying</td>\n",
       "    </tr>\n",
       "    <tr>\n",
       "      <th>150</th>\n",
       "      <td>Steel</td>\n",
       "      <td>Fighting</td>\n",
       "    </tr>\n",
       "    <tr>\n",
       "      <th>151</th>\n",
       "      <td>Steel</td>\n",
       "      <td>Flying</td>\n",
       "    </tr>\n",
       "    <tr>\n",
       "      <th>152</th>\n",
       "      <td>Fighting</td>\n",
       "      <td>Flying</td>\n",
       "    </tr>\n",
       "  </tbody>\n",
       "</table>\n",
       "<p>153 rows × 2 columns</p>\n",
       "</div>"
      ],
      "text/plain": [
       "            0         1\n",
       "0       Grass      Fire\n",
       "1       Grass       Bug\n",
       "2       Grass    Normal\n",
       "3       Grass    Poison\n",
       "4       Grass     Water\n",
       "..        ...       ...\n",
       "148      Dark  Fighting\n",
       "149      Dark    Flying\n",
       "150     Steel  Fighting\n",
       "151     Steel    Flying\n",
       "152  Fighting    Flying\n",
       "\n",
       "[153 rows x 2 columns]"
      ]
     },
     "execution_count": 42,
     "metadata": {},
     "output_type": "execute_result"
    }
   ],
   "source": [
    "d = pd.DataFrame(full)\n",
    "d"
   ]
  },
  {
   "cell_type": "code",
   "execution_count": 59,
   "metadata": {},
   "outputs": [
    {
     "data": {
      "text/html": [
       "<div>\n",
       "<style scoped>\n",
       "    .dataframe tbody tr th:only-of-type {\n",
       "        vertical-align: middle;\n",
       "    }\n",
       "\n",
       "    .dataframe tbody tr th {\n",
       "        vertical-align: top;\n",
       "    }\n",
       "\n",
       "    .dataframe thead th {\n",
       "        text-align: right;\n",
       "    }\n",
       "</style>\n",
       "<table border=\"1\" class=\"dataframe\">\n",
       "  <thead>\n",
       "    <tr style=\"text-align: right;\">\n",
       "      <th></th>\n",
       "      <th>0</th>\n",
       "      <th>1</th>\n",
       "    </tr>\n",
       "  </thead>\n",
       "  <tbody>\n",
       "    <tr>\n",
       "      <th>0</th>\n",
       "      <td>Grass</td>\n",
       "      <td>Fire</td>\n",
       "    </tr>\n",
       "    <tr>\n",
       "      <th>1</th>\n",
       "      <td>Grass</td>\n",
       "      <td>Bug</td>\n",
       "    </tr>\n",
       "    <tr>\n",
       "      <th>2</th>\n",
       "      <td>Grass</td>\n",
       "      <td>Normal</td>\n",
       "    </tr>\n",
       "    <tr>\n",
       "      <th>3</th>\n",
       "      <td>Grass</td>\n",
       "      <td>Poison</td>\n",
       "    </tr>\n",
       "    <tr>\n",
       "      <th>4</th>\n",
       "      <td>Grass</td>\n",
       "      <td>Water</td>\n",
       "    </tr>\n",
       "    <tr>\n",
       "      <th>...</th>\n",
       "      <td>...</td>\n",
       "      <td>...</td>\n",
       "    </tr>\n",
       "    <tr>\n",
       "      <th>148</th>\n",
       "      <td>Dark</td>\n",
       "      <td>Fighting</td>\n",
       "    </tr>\n",
       "    <tr>\n",
       "      <th>149</th>\n",
       "      <td>Dark</td>\n",
       "      <td>Flying</td>\n",
       "    </tr>\n",
       "    <tr>\n",
       "      <th>150</th>\n",
       "      <td>Steel</td>\n",
       "      <td>Fighting</td>\n",
       "    </tr>\n",
       "    <tr>\n",
       "      <th>151</th>\n",
       "      <td>Steel</td>\n",
       "      <td>Flying</td>\n",
       "    </tr>\n",
       "    <tr>\n",
       "      <th>152</th>\n",
       "      <td>Fighting</td>\n",
       "      <td>Flying</td>\n",
       "    </tr>\n",
       "  </tbody>\n",
       "</table>\n",
       "<p>153 rows × 2 columns</p>\n",
       "</div>"
      ],
      "text/plain": [
       "            0         1\n",
       "0       Grass      Fire\n",
       "1       Grass       Bug\n",
       "2       Grass    Normal\n",
       "3       Grass    Poison\n",
       "4       Grass     Water\n",
       "..        ...       ...\n",
       "148      Dark  Fighting\n",
       "149      Dark    Flying\n",
       "150     Steel  Fighting\n",
       "151     Steel    Flying\n",
       "152  Fighting    Flying\n",
       "\n",
       "[153 rows x 2 columns]"
      ]
     },
     "execution_count": 59,
     "metadata": {},
     "output_type": "execute_result"
    }
   ],
   "source": [
    "d.drop_duplicates([0, 1])"
   ]
  },
  {
   "cell_type": "markdown",
   "metadata": {},
   "source": [
    "参考答案"
   ]
  },
  {
   "cell_type": "code",
   "execution_count": 27,
   "metadata": {},
   "outputs": [
    {
     "data": {
      "text/plain": [
       "143"
      ]
     },
     "execution_count": 27,
     "metadata": {},
     "output_type": "execute_result"
    }
   ],
   "source": [
    "dp_dup = df.drop_duplicates('#', keep='first')\n",
    "attr_dup = dp_dup.drop_duplicates(['Type 1', 'Type 2'])\n",
    "attr_dup.shape[0]"
   ]
  },
  {
   "cell_type": "code",
   "execution_count": 28,
   "metadata": {},
   "outputs": [],
   "source": [
    "L_full = [' '.join([i, j]) if i!=j else i for j in dp_dup['Type 1'].unique() for i in dp_dup['Type 1'].unique()]"
   ]
  },
  {
   "cell_type": "code",
   "execution_count": 29,
   "metadata": {},
   "outputs": [
    {
     "data": {
      "text/plain": [
       "['Grass',\n",
       " 'Fire Grass',\n",
       " 'Water Grass',\n",
       " 'Bug Grass',\n",
       " 'Normal Grass',\n",
       " 'Poison Grass',\n",
       " 'Electric Grass',\n",
       " 'Ground Grass',\n",
       " 'Fairy Grass',\n",
       " 'Fighting Grass',\n",
       " 'Psychic Grass',\n",
       " 'Rock Grass',\n",
       " 'Ghost Grass',\n",
       " 'Ice Grass',\n",
       " 'Dragon Grass',\n",
       " 'Dark Grass',\n",
       " 'Steel Grass',\n",
       " 'Flying Grass',\n",
       " 'Grass Fire',\n",
       " 'Fire',\n",
       " 'Water Fire',\n",
       " 'Bug Fire',\n",
       " 'Normal Fire',\n",
       " 'Poison Fire',\n",
       " 'Electric Fire',\n",
       " 'Ground Fire',\n",
       " 'Fairy Fire',\n",
       " 'Fighting Fire',\n",
       " 'Psychic Fire',\n",
       " 'Rock Fire',\n",
       " 'Ghost Fire',\n",
       " 'Ice Fire',\n",
       " 'Dragon Fire',\n",
       " 'Dark Fire',\n",
       " 'Steel Fire',\n",
       " 'Flying Fire',\n",
       " 'Grass Water',\n",
       " 'Fire Water',\n",
       " 'Water',\n",
       " 'Bug Water',\n",
       " 'Normal Water',\n",
       " 'Poison Water',\n",
       " 'Electric Water',\n",
       " 'Ground Water',\n",
       " 'Fairy Water',\n",
       " 'Fighting Water',\n",
       " 'Psychic Water',\n",
       " 'Rock Water',\n",
       " 'Ghost Water',\n",
       " 'Ice Water',\n",
       " 'Dragon Water',\n",
       " 'Dark Water',\n",
       " 'Steel Water',\n",
       " 'Flying Water',\n",
       " 'Grass Bug',\n",
       " 'Fire Bug',\n",
       " 'Water Bug',\n",
       " 'Bug',\n",
       " 'Normal Bug',\n",
       " 'Poison Bug',\n",
       " 'Electric Bug',\n",
       " 'Ground Bug',\n",
       " 'Fairy Bug',\n",
       " 'Fighting Bug',\n",
       " 'Psychic Bug',\n",
       " 'Rock Bug',\n",
       " 'Ghost Bug',\n",
       " 'Ice Bug',\n",
       " 'Dragon Bug',\n",
       " 'Dark Bug',\n",
       " 'Steel Bug',\n",
       " 'Flying Bug',\n",
       " 'Grass Normal',\n",
       " 'Fire Normal',\n",
       " 'Water Normal',\n",
       " 'Bug Normal',\n",
       " 'Normal',\n",
       " 'Poison Normal',\n",
       " 'Electric Normal',\n",
       " 'Ground Normal',\n",
       " 'Fairy Normal',\n",
       " 'Fighting Normal',\n",
       " 'Psychic Normal',\n",
       " 'Rock Normal',\n",
       " 'Ghost Normal',\n",
       " 'Ice Normal',\n",
       " 'Dragon Normal',\n",
       " 'Dark Normal',\n",
       " 'Steel Normal',\n",
       " 'Flying Normal',\n",
       " 'Grass Poison',\n",
       " 'Fire Poison',\n",
       " 'Water Poison',\n",
       " 'Bug Poison',\n",
       " 'Normal Poison',\n",
       " 'Poison',\n",
       " 'Electric Poison',\n",
       " 'Ground Poison',\n",
       " 'Fairy Poison',\n",
       " 'Fighting Poison',\n",
       " 'Psychic Poison',\n",
       " 'Rock Poison',\n",
       " 'Ghost Poison',\n",
       " 'Ice Poison',\n",
       " 'Dragon Poison',\n",
       " 'Dark Poison',\n",
       " 'Steel Poison',\n",
       " 'Flying Poison',\n",
       " 'Grass Electric',\n",
       " 'Fire Electric',\n",
       " 'Water Electric',\n",
       " 'Bug Electric',\n",
       " 'Normal Electric',\n",
       " 'Poison Electric',\n",
       " 'Electric',\n",
       " 'Ground Electric',\n",
       " 'Fairy Electric',\n",
       " 'Fighting Electric',\n",
       " 'Psychic Electric',\n",
       " 'Rock Electric',\n",
       " 'Ghost Electric',\n",
       " 'Ice Electric',\n",
       " 'Dragon Electric',\n",
       " 'Dark Electric',\n",
       " 'Steel Electric',\n",
       " 'Flying Electric',\n",
       " 'Grass Ground',\n",
       " 'Fire Ground',\n",
       " 'Water Ground',\n",
       " 'Bug Ground',\n",
       " 'Normal Ground',\n",
       " 'Poison Ground',\n",
       " 'Electric Ground',\n",
       " 'Ground',\n",
       " 'Fairy Ground',\n",
       " 'Fighting Ground',\n",
       " 'Psychic Ground',\n",
       " 'Rock Ground',\n",
       " 'Ghost Ground',\n",
       " 'Ice Ground',\n",
       " 'Dragon Ground',\n",
       " 'Dark Ground',\n",
       " 'Steel Ground',\n",
       " 'Flying Ground',\n",
       " 'Grass Fairy',\n",
       " 'Fire Fairy',\n",
       " 'Water Fairy',\n",
       " 'Bug Fairy',\n",
       " 'Normal Fairy',\n",
       " 'Poison Fairy',\n",
       " 'Electric Fairy',\n",
       " 'Ground Fairy',\n",
       " 'Fairy',\n",
       " 'Fighting Fairy',\n",
       " 'Psychic Fairy',\n",
       " 'Rock Fairy',\n",
       " 'Ghost Fairy',\n",
       " 'Ice Fairy',\n",
       " 'Dragon Fairy',\n",
       " 'Dark Fairy',\n",
       " 'Steel Fairy',\n",
       " 'Flying Fairy',\n",
       " 'Grass Fighting',\n",
       " 'Fire Fighting',\n",
       " 'Water Fighting',\n",
       " 'Bug Fighting',\n",
       " 'Normal Fighting',\n",
       " 'Poison Fighting',\n",
       " 'Electric Fighting',\n",
       " 'Ground Fighting',\n",
       " 'Fairy Fighting',\n",
       " 'Fighting',\n",
       " 'Psychic Fighting',\n",
       " 'Rock Fighting',\n",
       " 'Ghost Fighting',\n",
       " 'Ice Fighting',\n",
       " 'Dragon Fighting',\n",
       " 'Dark Fighting',\n",
       " 'Steel Fighting',\n",
       " 'Flying Fighting',\n",
       " 'Grass Psychic',\n",
       " 'Fire Psychic',\n",
       " 'Water Psychic',\n",
       " 'Bug Psychic',\n",
       " 'Normal Psychic',\n",
       " 'Poison Psychic',\n",
       " 'Electric Psychic',\n",
       " 'Ground Psychic',\n",
       " 'Fairy Psychic',\n",
       " 'Fighting Psychic',\n",
       " 'Psychic',\n",
       " 'Rock Psychic',\n",
       " 'Ghost Psychic',\n",
       " 'Ice Psychic',\n",
       " 'Dragon Psychic',\n",
       " 'Dark Psychic',\n",
       " 'Steel Psychic',\n",
       " 'Flying Psychic',\n",
       " 'Grass Rock',\n",
       " 'Fire Rock',\n",
       " 'Water Rock',\n",
       " 'Bug Rock',\n",
       " 'Normal Rock',\n",
       " 'Poison Rock',\n",
       " 'Electric Rock',\n",
       " 'Ground Rock',\n",
       " 'Fairy Rock',\n",
       " 'Fighting Rock',\n",
       " 'Psychic Rock',\n",
       " 'Rock',\n",
       " 'Ghost Rock',\n",
       " 'Ice Rock',\n",
       " 'Dragon Rock',\n",
       " 'Dark Rock',\n",
       " 'Steel Rock',\n",
       " 'Flying Rock',\n",
       " 'Grass Ghost',\n",
       " 'Fire Ghost',\n",
       " 'Water Ghost',\n",
       " 'Bug Ghost',\n",
       " 'Normal Ghost',\n",
       " 'Poison Ghost',\n",
       " 'Electric Ghost',\n",
       " 'Ground Ghost',\n",
       " 'Fairy Ghost',\n",
       " 'Fighting Ghost',\n",
       " 'Psychic Ghost',\n",
       " 'Rock Ghost',\n",
       " 'Ghost',\n",
       " 'Ice Ghost',\n",
       " 'Dragon Ghost',\n",
       " 'Dark Ghost',\n",
       " 'Steel Ghost',\n",
       " 'Flying Ghost',\n",
       " 'Grass Ice',\n",
       " 'Fire Ice',\n",
       " 'Water Ice',\n",
       " 'Bug Ice',\n",
       " 'Normal Ice',\n",
       " 'Poison Ice',\n",
       " 'Electric Ice',\n",
       " 'Ground Ice',\n",
       " 'Fairy Ice',\n",
       " 'Fighting Ice',\n",
       " 'Psychic Ice',\n",
       " 'Rock Ice',\n",
       " 'Ghost Ice',\n",
       " 'Ice',\n",
       " 'Dragon Ice',\n",
       " 'Dark Ice',\n",
       " 'Steel Ice',\n",
       " 'Flying Ice',\n",
       " 'Grass Dragon',\n",
       " 'Fire Dragon',\n",
       " 'Water Dragon',\n",
       " 'Bug Dragon',\n",
       " 'Normal Dragon',\n",
       " 'Poison Dragon',\n",
       " 'Electric Dragon',\n",
       " 'Ground Dragon',\n",
       " 'Fairy Dragon',\n",
       " 'Fighting Dragon',\n",
       " 'Psychic Dragon',\n",
       " 'Rock Dragon',\n",
       " 'Ghost Dragon',\n",
       " 'Ice Dragon',\n",
       " 'Dragon',\n",
       " 'Dark Dragon',\n",
       " 'Steel Dragon',\n",
       " 'Flying Dragon',\n",
       " 'Grass Dark',\n",
       " 'Fire Dark',\n",
       " 'Water Dark',\n",
       " 'Bug Dark',\n",
       " 'Normal Dark',\n",
       " 'Poison Dark',\n",
       " 'Electric Dark',\n",
       " 'Ground Dark',\n",
       " 'Fairy Dark',\n",
       " 'Fighting Dark',\n",
       " 'Psychic Dark',\n",
       " 'Rock Dark',\n",
       " 'Ghost Dark',\n",
       " 'Ice Dark',\n",
       " 'Dragon Dark',\n",
       " 'Dark',\n",
       " 'Steel Dark',\n",
       " 'Flying Dark',\n",
       " 'Grass Steel',\n",
       " 'Fire Steel',\n",
       " 'Water Steel',\n",
       " 'Bug Steel',\n",
       " 'Normal Steel',\n",
       " 'Poison Steel',\n",
       " 'Electric Steel',\n",
       " 'Ground Steel',\n",
       " 'Fairy Steel',\n",
       " 'Fighting Steel',\n",
       " 'Psychic Steel',\n",
       " 'Rock Steel',\n",
       " 'Ghost Steel',\n",
       " 'Ice Steel',\n",
       " 'Dragon Steel',\n",
       " 'Dark Steel',\n",
       " 'Steel',\n",
       " 'Flying Steel',\n",
       " 'Grass Flying',\n",
       " 'Fire Flying',\n",
       " 'Water Flying',\n",
       " 'Bug Flying',\n",
       " 'Normal Flying',\n",
       " 'Poison Flying',\n",
       " 'Electric Flying',\n",
       " 'Ground Flying',\n",
       " 'Fairy Flying',\n",
       " 'Fighting Flying',\n",
       " 'Psychic Flying',\n",
       " 'Rock Flying',\n",
       " 'Ghost Flying',\n",
       " 'Ice Flying',\n",
       " 'Dragon Flying',\n",
       " 'Dark Flying',\n",
       " 'Steel Flying',\n",
       " 'Flying']"
      ]
     },
     "execution_count": 29,
     "metadata": {},
     "output_type": "execute_result"
    }
   ],
   "source": [
    "L_full"
   ]
  },
  {
   "cell_type": "code",
   "execution_count": 30,
   "metadata": {},
   "outputs": [
    {
     "data": {
      "text/plain": [
       "324"
      ]
     },
     "execution_count": 30,
     "metadata": {},
     "output_type": "execute_result"
    }
   ],
   "source": [
    "len(L_full)"
   ]
  },
  {
   "cell_type": "code",
   "execution_count": 31,
   "metadata": {},
   "outputs": [],
   "source": [
    "L_part = [' '.join([i, j]) if type(j)!=float else i for i, j in zip(attr_dup['Type 1'], attr_dup['Type 2'])]"
   ]
  },
  {
   "cell_type": "code",
   "execution_count": 32,
   "metadata": {},
   "outputs": [
    {
     "data": {
      "text/plain": [
       "['Grass Poison',\n",
       " 'Fire',\n",
       " 'Fire Flying',\n",
       " 'Water',\n",
       " 'Bug',\n",
       " 'Bug Flying',\n",
       " 'Bug Poison',\n",
       " 'Normal Flying',\n",
       " 'Normal',\n",
       " 'Poison',\n",
       " 'Electric',\n",
       " 'Ground',\n",
       " 'Poison Ground',\n",
       " 'Fairy',\n",
       " 'Normal Fairy',\n",
       " 'Poison Flying',\n",
       " 'Bug Grass',\n",
       " 'Fighting',\n",
       " 'Water Fighting',\n",
       " 'Psychic',\n",
       " 'Water Poison',\n",
       " 'Rock Ground',\n",
       " 'Water Psychic',\n",
       " 'Electric Steel',\n",
       " 'Water Ice',\n",
       " 'Ghost Poison',\n",
       " 'Grass Psychic',\n",
       " 'Ground Rock',\n",
       " 'Grass',\n",
       " 'Psychic Fairy',\n",
       " 'Ice Psychic',\n",
       " 'Water Flying',\n",
       " 'Rock Water',\n",
       " 'Rock Flying',\n",
       " 'Ice Flying',\n",
       " 'Electric Flying',\n",
       " 'Dragon',\n",
       " 'Dragon Flying',\n",
       " 'Water Electric',\n",
       " 'Fairy Flying',\n",
       " 'Psychic Flying',\n",
       " 'Water Fairy',\n",
       " 'Rock',\n",
       " 'Grass Flying',\n",
       " 'Water Ground',\n",
       " 'Dark',\n",
       " 'Dark Flying',\n",
       " 'Ghost',\n",
       " 'Normal Psychic',\n",
       " 'Bug Steel',\n",
       " 'Ground Flying',\n",
       " 'Steel Ground',\n",
       " 'Bug Rock',\n",
       " 'Bug Fighting',\n",
       " 'Dark Ice',\n",
       " 'Fire Rock',\n",
       " 'Ice Ground',\n",
       " 'Water Rock',\n",
       " 'Steel Flying',\n",
       " 'Dark Fire',\n",
       " 'Water Dragon',\n",
       " 'Rock Dark',\n",
       " 'Psychic Grass',\n",
       " 'Fire Fighting',\n",
       " 'Water Grass',\n",
       " 'Grass Dark',\n",
       " 'Bug Water',\n",
       " 'Grass Fighting',\n",
       " 'Bug Ground',\n",
       " 'Bug Ghost',\n",
       " 'Dark Ghost',\n",
       " 'Steel Fairy',\n",
       " 'Steel Rock',\n",
       " 'Fighting Psychic',\n",
       " 'Water Dark',\n",
       " 'Fire Ground',\n",
       " 'Ground Dragon',\n",
       " 'Rock Psychic',\n",
       " 'Ground Psychic',\n",
       " 'Rock Grass',\n",
       " 'Rock Bug',\n",
       " 'Ice',\n",
       " 'Ice Water',\n",
       " 'Steel Psychic',\n",
       " 'Steel',\n",
       " 'Dragon Psychic',\n",
       " 'Grass Ground',\n",
       " 'Water Steel',\n",
       " 'Normal Water',\n",
       " 'Rock Steel',\n",
       " 'Ghost Flying',\n",
       " 'Poison Dark',\n",
       " 'Ghost Dark',\n",
       " 'Dragon Ground',\n",
       " 'Fighting Steel',\n",
       " 'Poison Bug',\n",
       " 'Poison Fighting',\n",
       " 'Grass Ice',\n",
       " 'Psychic Fighting',\n",
       " 'Ice Ghost',\n",
       " 'Electric Ghost',\n",
       " 'Steel Dragon',\n",
       " 'Fire Steel',\n",
       " 'Ghost Dragon',\n",
       " 'Psychic Fire',\n",
       " 'Ground Steel',\n",
       " 'Grass Fairy',\n",
       " 'Ground Dark',\n",
       " 'Dark Fighting',\n",
       " 'Normal Grass',\n",
       " 'Water Ghost',\n",
       " 'Bug Electric',\n",
       " 'Grass Steel',\n",
       " 'Ghost Fire',\n",
       " 'Ground Electric',\n",
       " 'Ground Ghost',\n",
       " 'Dark Steel',\n",
       " 'Dark Dragon',\n",
       " 'Bug Fire',\n",
       " 'Steel Fighting',\n",
       " 'Rock Fighting',\n",
       " 'Flying',\n",
       " 'Dragon Fire',\n",
       " 'Dragon Electric',\n",
       " 'Dragon Ice',\n",
       " 'Fire Psychic',\n",
       " 'Normal Ground',\n",
       " 'Fire Normal',\n",
       " 'Fighting Dark',\n",
       " 'Steel Ghost',\n",
       " 'Dark Psychic',\n",
       " 'Poison Water',\n",
       " 'Poison Dragon',\n",
       " 'Electric Normal',\n",
       " 'Rock Dragon',\n",
       " 'Rock Ice',\n",
       " 'Fighting Flying',\n",
       " 'Electric Fairy',\n",
       " 'Rock Fairy',\n",
       " 'Ghost Grass',\n",
       " 'Flying Dragon',\n",
       " 'Psychic Ghost',\n",
       " 'Fire Water']"
      ]
     },
     "execution_count": 32,
     "metadata": {},
     "output_type": "execute_result"
    }
   ],
   "source": [
    "L_part"
   ]
  },
  {
   "cell_type": "code",
   "execution_count": 33,
   "metadata": {},
   "outputs": [
    {
     "data": {
      "text/plain": [
       "143"
      ]
     },
     "execution_count": 33,
     "metadata": {},
     "output_type": "execute_result"
    }
   ],
   "source": [
    "len(L_part)"
   ]
  },
  {
   "cell_type": "code",
   "execution_count": 34,
   "metadata": {},
   "outputs": [],
   "source": [
    "res = set(L_full).difference(set(L_part))"
   ]
  },
  {
   "cell_type": "code",
   "execution_count": 35,
   "metadata": {},
   "outputs": [
    {
     "data": {
      "text/plain": [
       "{'Bug Dark',\n",
       " 'Bug Dragon',\n",
       " 'Bug Fairy',\n",
       " 'Bug Ice',\n",
       " 'Bug Normal',\n",
       " 'Bug Psychic',\n",
       " 'Dark Bug',\n",
       " 'Dark Electric',\n",
       " 'Dark Fairy',\n",
       " 'Dark Grass',\n",
       " 'Dark Ground',\n",
       " 'Dark Normal',\n",
       " 'Dark Poison',\n",
       " 'Dark Rock',\n",
       " 'Dark Water',\n",
       " 'Dragon Bug',\n",
       " 'Dragon Dark',\n",
       " 'Dragon Fairy',\n",
       " 'Dragon Fighting',\n",
       " 'Dragon Ghost',\n",
       " 'Dragon Grass',\n",
       " 'Dragon Normal',\n",
       " 'Dragon Poison',\n",
       " 'Dragon Rock',\n",
       " 'Dragon Steel',\n",
       " 'Dragon Water',\n",
       " 'Electric Bug',\n",
       " 'Electric Dark',\n",
       " 'Electric Dragon',\n",
       " 'Electric Fighting',\n",
       " 'Electric Fire',\n",
       " 'Electric Grass',\n",
       " 'Electric Ground',\n",
       " 'Electric Ice',\n",
       " 'Electric Poison',\n",
       " 'Electric Psychic',\n",
       " 'Electric Rock',\n",
       " 'Electric Water',\n",
       " 'Fairy Bug',\n",
       " 'Fairy Dark',\n",
       " 'Fairy Dragon',\n",
       " 'Fairy Electric',\n",
       " 'Fairy Fighting',\n",
       " 'Fairy Fire',\n",
       " 'Fairy Ghost',\n",
       " 'Fairy Grass',\n",
       " 'Fairy Ground',\n",
       " 'Fairy Ice',\n",
       " 'Fairy Normal',\n",
       " 'Fairy Poison',\n",
       " 'Fairy Psychic',\n",
       " 'Fairy Rock',\n",
       " 'Fairy Steel',\n",
       " 'Fairy Water',\n",
       " 'Fighting Bug',\n",
       " 'Fighting Dragon',\n",
       " 'Fighting Electric',\n",
       " 'Fighting Fairy',\n",
       " 'Fighting Fire',\n",
       " 'Fighting Ghost',\n",
       " 'Fighting Grass',\n",
       " 'Fighting Ground',\n",
       " 'Fighting Ice',\n",
       " 'Fighting Normal',\n",
       " 'Fighting Poison',\n",
       " 'Fighting Rock',\n",
       " 'Fighting Water',\n",
       " 'Fire Bug',\n",
       " 'Fire Dark',\n",
       " 'Fire Dragon',\n",
       " 'Fire Electric',\n",
       " 'Fire Fairy',\n",
       " 'Fire Ghost',\n",
       " 'Fire Grass',\n",
       " 'Fire Ice',\n",
       " 'Fire Poison',\n",
       " 'Flying Bug',\n",
       " 'Flying Dark',\n",
       " 'Flying Electric',\n",
       " 'Flying Fairy',\n",
       " 'Flying Fighting',\n",
       " 'Flying Fire',\n",
       " 'Flying Ghost',\n",
       " 'Flying Grass',\n",
       " 'Flying Ground',\n",
       " 'Flying Ice',\n",
       " 'Flying Normal',\n",
       " 'Flying Poison',\n",
       " 'Flying Psychic',\n",
       " 'Flying Rock',\n",
       " 'Flying Steel',\n",
       " 'Flying Water',\n",
       " 'Ghost Bug',\n",
       " 'Ghost Electric',\n",
       " 'Ghost Fairy',\n",
       " 'Ghost Fighting',\n",
       " 'Ghost Ground',\n",
       " 'Ghost Ice',\n",
       " 'Ghost Normal',\n",
       " 'Ghost Psychic',\n",
       " 'Ghost Rock',\n",
       " 'Ghost Steel',\n",
       " 'Ghost Water',\n",
       " 'Grass Bug',\n",
       " 'Grass Dragon',\n",
       " 'Grass Electric',\n",
       " 'Grass Fire',\n",
       " 'Grass Ghost',\n",
       " 'Grass Normal',\n",
       " 'Grass Rock',\n",
       " 'Grass Water',\n",
       " 'Ground Bug',\n",
       " 'Ground Fairy',\n",
       " 'Ground Fighting',\n",
       " 'Ground Fire',\n",
       " 'Ground Grass',\n",
       " 'Ground Ice',\n",
       " 'Ground Normal',\n",
       " 'Ground Poison',\n",
       " 'Ground Water',\n",
       " 'Ice Bug',\n",
       " 'Ice Dark',\n",
       " 'Ice Dragon',\n",
       " 'Ice Electric',\n",
       " 'Ice Fairy',\n",
       " 'Ice Fighting',\n",
       " 'Ice Fire',\n",
       " 'Ice Grass',\n",
       " 'Ice Normal',\n",
       " 'Ice Poison',\n",
       " 'Ice Rock',\n",
       " 'Ice Steel',\n",
       " 'Normal Bug',\n",
       " 'Normal Dark',\n",
       " 'Normal Dragon',\n",
       " 'Normal Electric',\n",
       " 'Normal Fighting',\n",
       " 'Normal Fire',\n",
       " 'Normal Ghost',\n",
       " 'Normal Ice',\n",
       " 'Normal Poison',\n",
       " 'Normal Rock',\n",
       " 'Normal Steel',\n",
       " 'Poison Electric',\n",
       " 'Poison Fairy',\n",
       " 'Poison Fire',\n",
       " 'Poison Ghost',\n",
       " 'Poison Grass',\n",
       " 'Poison Ice',\n",
       " 'Poison Normal',\n",
       " 'Poison Psychic',\n",
       " 'Poison Rock',\n",
       " 'Poison Steel',\n",
       " 'Psychic Bug',\n",
       " 'Psychic Dark',\n",
       " 'Psychic Dragon',\n",
       " 'Psychic Electric',\n",
       " 'Psychic Ground',\n",
       " 'Psychic Ice',\n",
       " 'Psychic Normal',\n",
       " 'Psychic Poison',\n",
       " 'Psychic Rock',\n",
       " 'Psychic Steel',\n",
       " 'Psychic Water',\n",
       " 'Rock Electric',\n",
       " 'Rock Fire',\n",
       " 'Rock Ghost',\n",
       " 'Rock Normal',\n",
       " 'Rock Poison',\n",
       " 'Steel Bug',\n",
       " 'Steel Dark',\n",
       " 'Steel Electric',\n",
       " 'Steel Fire',\n",
       " 'Steel Grass',\n",
       " 'Steel Ice',\n",
       " 'Steel Normal',\n",
       " 'Steel Poison',\n",
       " 'Steel Water',\n",
       " 'Water Bug',\n",
       " 'Water Fire',\n",
       " 'Water Normal'}"
      ]
     },
     "execution_count": 35,
     "metadata": {},
     "output_type": "execute_result"
    }
   ],
   "source": [
    "res"
   ]
  },
  {
   "cell_type": "code",
   "execution_count": 36,
   "metadata": {},
   "outputs": [
    {
     "data": {
      "text/plain": [
       "181"
      ]
     },
     "execution_count": 36,
     "metadata": {},
     "output_type": "execute_result"
    }
   ],
   "source": [
    "len(res)"
   ]
  },
  {
   "cell_type": "code",
   "execution_count": 37,
   "metadata": {},
   "outputs": [],
   "source": [
    "combs2 = [' '.join(item) for item in combs]"
   ]
  },
  {
   "cell_type": "code",
   "execution_count": 38,
   "metadata": {},
   "outputs": [
    {
     "data": {
      "text/plain": [
       "['Grass Poison',\n",
       " 'Fire Flying',\n",
       " 'Bug Flying',\n",
       " 'Bug Poison',\n",
       " 'Normal Flying',\n",
       " 'Poison Ground',\n",
       " 'Normal Fairy',\n",
       " 'Poison Flying',\n",
       " 'Bug Grass',\n",
       " 'Water Fighting',\n",
       " 'Water Poison',\n",
       " 'Rock Ground',\n",
       " 'Water Psychic',\n",
       " 'Electric Steel',\n",
       " 'Water Ice',\n",
       " 'Ghost Poison',\n",
       " 'Grass Psychic',\n",
       " 'Ground Rock',\n",
       " 'Psychic Fairy',\n",
       " 'Ice Psychic',\n",
       " 'Water Flying',\n",
       " 'Rock Water',\n",
       " 'Rock Flying',\n",
       " 'Ice Flying',\n",
       " 'Electric Flying',\n",
       " 'Dragon Flying',\n",
       " 'Water Electric',\n",
       " 'Fairy Flying',\n",
       " 'Psychic Flying',\n",
       " 'Water Fairy',\n",
       " 'Grass Flying',\n",
       " 'Water Ground',\n",
       " 'Dark Flying',\n",
       " 'Normal Psychic',\n",
       " 'Bug Steel',\n",
       " 'Ground Flying',\n",
       " 'Steel Ground',\n",
       " 'Bug Rock',\n",
       " 'Bug Fighting',\n",
       " 'Dark Ice',\n",
       " 'Fire Rock',\n",
       " 'Ice Ground',\n",
       " 'Water Rock',\n",
       " 'Steel Flying',\n",
       " 'Dark Fire',\n",
       " 'Water Dragon',\n",
       " 'Rock Dark',\n",
       " 'Psychic Grass',\n",
       " 'Fire Fighting',\n",
       " 'Water Grass',\n",
       " 'Grass Dark',\n",
       " 'Bug Water',\n",
       " 'Grass Fighting',\n",
       " 'Bug Ground',\n",
       " 'Bug Ghost',\n",
       " 'Dark Ghost',\n",
       " 'Steel Fairy',\n",
       " 'Steel Rock',\n",
       " 'Fighting Psychic',\n",
       " 'Water Dark',\n",
       " 'Fire Ground',\n",
       " 'Ground Dragon',\n",
       " 'Rock Psychic',\n",
       " 'Ground Psychic',\n",
       " 'Rock Grass',\n",
       " 'Rock Bug',\n",
       " 'Ice Water',\n",
       " 'Steel Psychic',\n",
       " 'Dragon Psychic',\n",
       " 'Grass Ground',\n",
       " 'Water Steel',\n",
       " 'Normal Water',\n",
       " 'Rock Steel',\n",
       " 'Ghost Flying',\n",
       " 'Poison Dark',\n",
       " 'Ghost Dark',\n",
       " 'Dragon Ground',\n",
       " 'Fighting Steel',\n",
       " 'Poison Bug',\n",
       " 'Poison Fighting',\n",
       " 'Grass Ice',\n",
       " 'Psychic Fighting',\n",
       " 'Ice Ghost',\n",
       " 'Electric Ghost',\n",
       " 'Steel Dragon',\n",
       " 'Fire Steel',\n",
       " 'Ghost Dragon',\n",
       " 'Psychic Fire',\n",
       " 'Ground Steel',\n",
       " 'Grass Fairy',\n",
       " 'Ground Dark',\n",
       " 'Dark Fighting',\n",
       " 'Normal Grass',\n",
       " 'Water Ghost',\n",
       " 'Bug Electric',\n",
       " 'Grass Steel',\n",
       " 'Ghost Fire',\n",
       " 'Ground Electric',\n",
       " 'Ground Ghost',\n",
       " 'Dark Steel',\n",
       " 'Dark Dragon',\n",
       " 'Bug Fire',\n",
       " 'Steel Fighting',\n",
       " 'Rock Fighting',\n",
       " 'Dragon Fire',\n",
       " 'Dragon Electric',\n",
       " 'Dragon Ice',\n",
       " 'Fire Psychic',\n",
       " 'Normal Ground',\n",
       " 'Fire Normal',\n",
       " 'Fighting Dark',\n",
       " 'Steel Ghost',\n",
       " 'Dark Psychic',\n",
       " 'Poison Water',\n",
       " 'Poison Dragon',\n",
       " 'Electric Normal',\n",
       " 'Rock Dragon',\n",
       " 'Rock Ice',\n",
       " 'Fighting Flying',\n",
       " 'Electric Fairy',\n",
       " 'Rock Fairy',\n",
       " 'Ghost Grass',\n",
       " 'Flying Dragon',\n",
       " 'Psychic Ghost',\n",
       " 'Fire Water']"
      ]
     },
     "execution_count": 38,
     "metadata": {},
     "output_type": "execute_result"
    }
   ],
   "source": [
    "combs2"
   ]
  },
  {
   "cell_type": "code",
   "execution_count": 39,
   "metadata": {},
   "outputs": [
    {
     "data": {
      "text/plain": [
       "125"
      ]
     },
     "execution_count": 39,
     "metadata": {},
     "output_type": "execute_result"
    }
   ],
   "source": [
    "len(combs2)"
   ]
  },
  {
   "cell_type": "code",
   "execution_count": 89,
   "metadata": {},
   "outputs": [
    {
     "data": {
      "text/plain": [
       "[['Grass', 'Fire'],\n",
       " ['Grass', 'Bug'],\n",
       " ['Grass', 'Normal'],\n",
       " ['Grass', 'Poison'],\n",
       " ['Grass', 'Water'],\n",
       " ['Grass', 'Rock'],\n",
       " ['Grass', 'Electric'],\n",
       " ['Grass', 'Ghost'],\n",
       " ['Grass', 'Ground'],\n",
       " ['Grass', 'Psychic'],\n",
       " ['Grass', 'Ice'],\n",
       " ['Grass', 'Dragon'],\n",
       " ['Grass', 'Fairy'],\n",
       " ['Grass', 'Dark'],\n",
       " ['Grass', 'Steel'],\n",
       " ['Grass', 'Fighting'],\n",
       " ['Grass', 'Flying'],\n",
       " ['Fire', 'Bug'],\n",
       " ['Fire', 'Normal'],\n",
       " ['Fire', 'Poison'],\n",
       " ['Fire', 'Water'],\n",
       " ['Fire', 'Rock'],\n",
       " ['Fire', 'Electric'],\n",
       " ['Fire', 'Ghost'],\n",
       " ['Fire', 'Ground'],\n",
       " ['Fire', 'Psychic'],\n",
       " ['Fire', 'Ice'],\n",
       " ['Fire', 'Dragon'],\n",
       " ['Fire', 'Fairy'],\n",
       " ['Fire', 'Dark'],\n",
       " ['Fire', 'Steel'],\n",
       " ['Fire', 'Fighting'],\n",
       " ['Fire', 'Flying'],\n",
       " ['Bug', 'Normal'],\n",
       " ['Bug', 'Poison'],\n",
       " ['Bug', 'Water'],\n",
       " ['Bug', 'Rock'],\n",
       " ['Bug', 'Electric'],\n",
       " ['Bug', 'Ghost'],\n",
       " ['Bug', 'Ground'],\n",
       " ['Bug', 'Psychic'],\n",
       " ['Bug', 'Ice'],\n",
       " ['Bug', 'Dragon'],\n",
       " ['Bug', 'Fairy'],\n",
       " ['Bug', 'Dark'],\n",
       " ['Bug', 'Steel'],\n",
       " ['Bug', 'Fighting'],\n",
       " ['Bug', 'Flying'],\n",
       " ['Normal', 'Poison'],\n",
       " ['Normal', 'Water'],\n",
       " ['Normal', 'Rock'],\n",
       " ['Normal', 'Electric'],\n",
       " ['Normal', 'Ghost'],\n",
       " ['Normal', 'Ground'],\n",
       " ['Normal', 'Psychic'],\n",
       " ['Normal', 'Ice'],\n",
       " ['Normal', 'Dragon'],\n",
       " ['Normal', 'Fairy'],\n",
       " ['Normal', 'Dark'],\n",
       " ['Normal', 'Steel'],\n",
       " ['Normal', 'Fighting'],\n",
       " ['Normal', 'Flying'],\n",
       " ['Poison', 'Water'],\n",
       " ['Poison', 'Rock'],\n",
       " ['Poison', 'Electric'],\n",
       " ['Poison', 'Ghost'],\n",
       " ['Poison', 'Ground'],\n",
       " ['Poison', 'Psychic'],\n",
       " ['Poison', 'Ice'],\n",
       " ['Poison', 'Dragon'],\n",
       " ['Poison', 'Fairy'],\n",
       " ['Poison', 'Dark'],\n",
       " ['Poison', 'Steel'],\n",
       " ['Poison', 'Fighting'],\n",
       " ['Poison', 'Flying'],\n",
       " ['Water', 'Rock'],\n",
       " ['Water', 'Electric'],\n",
       " ['Water', 'Ghost'],\n",
       " ['Water', 'Ground'],\n",
       " ['Water', 'Psychic'],\n",
       " ['Water', 'Ice'],\n",
       " ['Water', 'Dragon'],\n",
       " ['Water', 'Fairy'],\n",
       " ['Water', 'Dark'],\n",
       " ['Water', 'Steel'],\n",
       " ['Water', 'Fighting'],\n",
       " ['Water', 'Flying'],\n",
       " ['Rock', 'Electric'],\n",
       " ['Rock', 'Ghost'],\n",
       " ['Rock', 'Ground'],\n",
       " ['Rock', 'Psychic'],\n",
       " ['Rock', 'Ice'],\n",
       " ['Rock', 'Dragon'],\n",
       " ['Rock', 'Fairy'],\n",
       " ['Rock', 'Dark'],\n",
       " ['Rock', 'Steel'],\n",
       " ['Rock', 'Fighting'],\n",
       " ['Rock', 'Flying'],\n",
       " ['Electric', 'Ghost'],\n",
       " ['Electric', 'Ground'],\n",
       " ['Electric', 'Psychic'],\n",
       " ['Electric', 'Ice'],\n",
       " ['Electric', 'Dragon'],\n",
       " ['Electric', 'Fairy'],\n",
       " ['Electric', 'Dark'],\n",
       " ['Electric', 'Steel'],\n",
       " ['Electric', 'Fighting'],\n",
       " ['Electric', 'Flying'],\n",
       " ['Ghost', 'Ground'],\n",
       " ['Ghost', 'Psychic'],\n",
       " ['Ghost', 'Ice'],\n",
       " ['Ghost', 'Dragon'],\n",
       " ['Ghost', 'Fairy'],\n",
       " ['Ghost', 'Dark'],\n",
       " ['Ghost', 'Steel'],\n",
       " ['Ghost', 'Fighting'],\n",
       " ['Ghost', 'Flying'],\n",
       " ['Ground', 'Psychic'],\n",
       " ['Ground', 'Ice'],\n",
       " ['Ground', 'Dragon'],\n",
       " ['Ground', 'Fairy'],\n",
       " ['Ground', 'Dark'],\n",
       " ['Ground', 'Steel'],\n",
       " ['Ground', 'Fighting'],\n",
       " ['Ground', 'Flying'],\n",
       " ['Psychic', 'Ice'],\n",
       " ['Psychic', 'Dragon'],\n",
       " ['Psychic', 'Fairy'],\n",
       " ['Psychic', 'Dark'],\n",
       " ['Psychic', 'Steel'],\n",
       " ['Psychic', 'Fighting'],\n",
       " ['Psychic', 'Flying'],\n",
       " ['Ice', 'Dragon'],\n",
       " ['Ice', 'Fairy'],\n",
       " ['Ice', 'Dark'],\n",
       " ['Ice', 'Steel'],\n",
       " ['Ice', 'Fighting'],\n",
       " ['Ice', 'Flying'],\n",
       " ['Dragon', 'Fairy'],\n",
       " ['Dragon', 'Dark'],\n",
       " ['Dragon', 'Steel'],\n",
       " ['Dragon', 'Fighting'],\n",
       " ['Dragon', 'Flying'],\n",
       " ['Fairy', 'Dark'],\n",
       " ['Fairy', 'Steel'],\n",
       " ['Fairy', 'Fighting'],\n",
       " ['Fairy', 'Flying'],\n",
       " ['Dark', 'Steel'],\n",
       " ['Dark', 'Fighting'],\n",
       " ['Dark', 'Flying'],\n",
       " ['Steel', 'Fighting'],\n",
       " ['Steel', 'Flying'],\n",
       " ['Fighting', 'Flying']]"
      ]
     },
     "execution_count": 89,
     "metadata": {},
     "output_type": "execute_result"
    }
   ],
   "source": [
    "full"
   ]
  },
  {
   "cell_type": "code",
   "execution_count": 91,
   "metadata": {},
   "outputs": [],
   "source": [
    "full_t = np.array(full[:])\n",
    "for i in range(full_t.shape[0]):\n",
    "    if full_t[i][0] > full_t[i][1]:\n",
    "        tmp = full_t[i][0]\n",
    "        full_t[i][0] = full_t[i][1]\n",
    "        full_t[i][1] = tmp"
   ]
  },
  {
   "cell_type": "code",
   "execution_count": 92,
   "metadata": {},
   "outputs": [
    {
     "data": {
      "text/html": [
       "<div>\n",
       "<style scoped>\n",
       "    .dataframe tbody tr th:only-of-type {\n",
       "        vertical-align: middle;\n",
       "    }\n",
       "\n",
       "    .dataframe tbody tr th {\n",
       "        vertical-align: top;\n",
       "    }\n",
       "\n",
       "    .dataframe thead th {\n",
       "        text-align: right;\n",
       "    }\n",
       "</style>\n",
       "<table border=\"1\" class=\"dataframe\">\n",
       "  <thead>\n",
       "    <tr style=\"text-align: right;\">\n",
       "      <th></th>\n",
       "      <th>0</th>\n",
       "      <th>1</th>\n",
       "    </tr>\n",
       "  </thead>\n",
       "  <tbody>\n",
       "    <tr>\n",
       "      <th>40</th>\n",
       "      <td>Bug</td>\n",
       "      <td>Psychic</td>\n",
       "    </tr>\n",
       "    <tr>\n",
       "      <th>36</th>\n",
       "      <td>Bug</td>\n",
       "      <td>Rock</td>\n",
       "    </tr>\n",
       "    <tr>\n",
       "      <th>35</th>\n",
       "      <td>Bug</td>\n",
       "      <td>Water</td>\n",
       "    </tr>\n",
       "    <tr>\n",
       "      <th>34</th>\n",
       "      <td>Bug</td>\n",
       "      <td>Poison</td>\n",
       "    </tr>\n",
       "    <tr>\n",
       "      <th>33</th>\n",
       "      <td>Bug</td>\n",
       "      <td>Normal</td>\n",
       "    </tr>\n",
       "    <tr>\n",
       "      <th>...</th>\n",
       "      <td>...</td>\n",
       "      <td>...</td>\n",
       "    </tr>\n",
       "    <tr>\n",
       "      <th>129</th>\n",
       "      <td>Psychic</td>\n",
       "      <td>Steel</td>\n",
       "    </tr>\n",
       "    <tr>\n",
       "      <th>79</th>\n",
       "      <td>Psychic</td>\n",
       "      <td>Water</td>\n",
       "    </tr>\n",
       "    <tr>\n",
       "      <th>95</th>\n",
       "      <td>Rock</td>\n",
       "      <td>Steel</td>\n",
       "    </tr>\n",
       "    <tr>\n",
       "      <th>75</th>\n",
       "      <td>Rock</td>\n",
       "      <td>Water</td>\n",
       "    </tr>\n",
       "    <tr>\n",
       "      <th>84</th>\n",
       "      <td>Steel</td>\n",
       "      <td>Water</td>\n",
       "    </tr>\n",
       "  </tbody>\n",
       "</table>\n",
       "<p>153 rows × 2 columns</p>\n",
       "</div>"
      ],
      "text/plain": [
       "           0        1\n",
       "40       Bug  Psychic\n",
       "36       Bug     Rock\n",
       "35       Bug    Water\n",
       "34       Bug   Poison\n",
       "33       Bug   Normal\n",
       "..       ...      ...\n",
       "129  Psychic    Steel\n",
       "79   Psychic    Water\n",
       "95      Rock    Steel\n",
       "75      Rock    Water\n",
       "84     Steel    Water\n",
       "\n",
       "[153 rows x 2 columns]"
      ]
     },
     "execution_count": 92,
     "metadata": {},
     "output_type": "execute_result"
    }
   ],
   "source": [
    "test_td = pd.DataFrame(full_t)\n",
    "test_td.sort_values(0)"
   ]
  },
  {
   "cell_type": "code",
   "execution_count": 93,
   "metadata": {},
   "outputs": [
    {
     "data": {
      "text/html": [
       "<div>\n",
       "<style scoped>\n",
       "    .dataframe tbody tr th:only-of-type {\n",
       "        vertical-align: middle;\n",
       "    }\n",
       "\n",
       "    .dataframe tbody tr th {\n",
       "        vertical-align: top;\n",
       "    }\n",
       "\n",
       "    .dataframe thead th {\n",
       "        text-align: right;\n",
       "    }\n",
       "</style>\n",
       "<table border=\"1\" class=\"dataframe\">\n",
       "  <thead>\n",
       "    <tr style=\"text-align: right;\">\n",
       "      <th></th>\n",
       "      <th>0</th>\n",
       "      <th>1</th>\n",
       "    </tr>\n",
       "  </thead>\n",
       "  <tbody>\n",
       "    <tr>\n",
       "      <th>0</th>\n",
       "      <td>Fire</td>\n",
       "      <td>Grass</td>\n",
       "    </tr>\n",
       "    <tr>\n",
       "      <th>1</th>\n",
       "      <td>Bug</td>\n",
       "      <td>Grass</td>\n",
       "    </tr>\n",
       "    <tr>\n",
       "      <th>2</th>\n",
       "      <td>Grass</td>\n",
       "      <td>Normal</td>\n",
       "    </tr>\n",
       "    <tr>\n",
       "      <th>3</th>\n",
       "      <td>Grass</td>\n",
       "      <td>Poison</td>\n",
       "    </tr>\n",
       "    <tr>\n",
       "      <th>4</th>\n",
       "      <td>Grass</td>\n",
       "      <td>Water</td>\n",
       "    </tr>\n",
       "    <tr>\n",
       "      <th>...</th>\n",
       "      <td>...</td>\n",
       "      <td>...</td>\n",
       "    </tr>\n",
       "    <tr>\n",
       "      <th>148</th>\n",
       "      <td>Dark</td>\n",
       "      <td>Fighting</td>\n",
       "    </tr>\n",
       "    <tr>\n",
       "      <th>149</th>\n",
       "      <td>Dark</td>\n",
       "      <td>Flying</td>\n",
       "    </tr>\n",
       "    <tr>\n",
       "      <th>150</th>\n",
       "      <td>Fighting</td>\n",
       "      <td>Steel</td>\n",
       "    </tr>\n",
       "    <tr>\n",
       "      <th>151</th>\n",
       "      <td>Flying</td>\n",
       "      <td>Steel</td>\n",
       "    </tr>\n",
       "    <tr>\n",
       "      <th>152</th>\n",
       "      <td>Fighting</td>\n",
       "      <td>Flying</td>\n",
       "    </tr>\n",
       "  </tbody>\n",
       "</table>\n",
       "<p>153 rows × 2 columns</p>\n",
       "</div>"
      ],
      "text/plain": [
       "            0         1\n",
       "0        Fire     Grass\n",
       "1         Bug     Grass\n",
       "2       Grass    Normal\n",
       "3       Grass    Poison\n",
       "4       Grass     Water\n",
       "..        ...       ...\n",
       "148      Dark  Fighting\n",
       "149      Dark    Flying\n",
       "150  Fighting     Steel\n",
       "151    Flying     Steel\n",
       "152  Fighting    Flying\n",
       "\n",
       "[153 rows x 2 columns]"
      ]
     },
     "execution_count": 93,
     "metadata": {},
     "output_type": "execute_result"
    }
   ],
   "source": [
    "test_td.drop_duplicates([0, 1])"
   ]
  },
  {
   "cell_type": "code",
   "execution_count": 176,
   "metadata": {},
   "outputs": [],
   "source": [
    "m = resu.to_numpy()"
   ]
  },
  {
   "cell_type": "code",
   "execution_count": 177,
   "metadata": {},
   "outputs": [],
   "source": [
    "m = [ ' '.join(item) for item in m]"
   ]
  },
  {
   "cell_type": "code",
   "execution_count": 181,
   "metadata": {},
   "outputs": [
    {
     "data": {
      "text/plain": [
       "109"
      ]
     },
     "execution_count": 181,
     "metadata": {},
     "output_type": "execute_result"
    }
   ],
   "source": []
  },
  {
   "cell_type": "code",
   "execution_count": 44,
   "metadata": {},
   "outputs": [
    {
     "data": {
      "text/plain": [
       "['Grass Fire',\n",
       " 'Grass Bug',\n",
       " 'Grass Normal',\n",
       " 'Grass Poison',\n",
       " 'Grass Water',\n",
       " 'Grass Rock',\n",
       " 'Grass Electric',\n",
       " 'Grass Ghost',\n",
       " 'Grass Ground',\n",
       " 'Grass Psychic',\n",
       " 'Grass Ice',\n",
       " 'Grass Dragon',\n",
       " 'Grass Fairy',\n",
       " 'Grass Dark',\n",
       " 'Grass Steel',\n",
       " 'Grass Fighting',\n",
       " 'Grass Flying',\n",
       " 'Fire Bug',\n",
       " 'Fire Normal',\n",
       " 'Fire Poison',\n",
       " 'Fire Water',\n",
       " 'Fire Rock',\n",
       " 'Fire Electric',\n",
       " 'Fire Ghost',\n",
       " 'Fire Ground',\n",
       " 'Fire Psychic',\n",
       " 'Fire Ice',\n",
       " 'Fire Dragon',\n",
       " 'Fire Fairy',\n",
       " 'Fire Dark',\n",
       " 'Fire Steel',\n",
       " 'Fire Fighting',\n",
       " 'Fire Flying',\n",
       " 'Bug Normal',\n",
       " 'Bug Poison',\n",
       " 'Bug Water',\n",
       " 'Bug Rock',\n",
       " 'Bug Electric',\n",
       " 'Bug Ghost',\n",
       " 'Bug Ground',\n",
       " 'Bug Psychic',\n",
       " 'Bug Ice',\n",
       " 'Bug Dragon',\n",
       " 'Bug Fairy',\n",
       " 'Bug Dark',\n",
       " 'Bug Steel',\n",
       " 'Bug Fighting',\n",
       " 'Bug Flying',\n",
       " 'Normal Poison',\n",
       " 'Normal Water',\n",
       " 'Normal Rock',\n",
       " 'Normal Electric',\n",
       " 'Normal Ghost',\n",
       " 'Normal Ground',\n",
       " 'Normal Psychic',\n",
       " 'Normal Ice',\n",
       " 'Normal Dragon',\n",
       " 'Normal Fairy',\n",
       " 'Normal Dark',\n",
       " 'Normal Steel',\n",
       " 'Normal Fighting',\n",
       " 'Normal Flying',\n",
       " 'Poison Water',\n",
       " 'Poison Rock',\n",
       " 'Poison Electric',\n",
       " 'Poison Ghost',\n",
       " 'Poison Ground',\n",
       " 'Poison Psychic',\n",
       " 'Poison Ice',\n",
       " 'Poison Dragon',\n",
       " 'Poison Fairy',\n",
       " 'Poison Dark',\n",
       " 'Poison Steel',\n",
       " 'Poison Fighting',\n",
       " 'Poison Flying',\n",
       " 'Water Rock',\n",
       " 'Water Electric',\n",
       " 'Water Ghost',\n",
       " 'Water Ground',\n",
       " 'Water Psychic',\n",
       " 'Water Ice',\n",
       " 'Water Dragon',\n",
       " 'Water Fairy',\n",
       " 'Water Dark',\n",
       " 'Water Steel',\n",
       " 'Water Fighting',\n",
       " 'Water Flying',\n",
       " 'Rock Electric',\n",
       " 'Rock Ghost',\n",
       " 'Rock Ground',\n",
       " 'Rock Psychic',\n",
       " 'Rock Ice',\n",
       " 'Rock Dragon',\n",
       " 'Rock Fairy',\n",
       " 'Rock Dark',\n",
       " 'Rock Steel',\n",
       " 'Rock Fighting',\n",
       " 'Rock Flying',\n",
       " 'Electric Ghost',\n",
       " 'Electric Ground',\n",
       " 'Electric Psychic',\n",
       " 'Electric Ice',\n",
       " 'Electric Dragon',\n",
       " 'Electric Fairy',\n",
       " 'Electric Dark',\n",
       " 'Electric Steel',\n",
       " 'Electric Fighting',\n",
       " 'Electric Flying',\n",
       " 'Ghost Ground',\n",
       " 'Ghost Psychic',\n",
       " 'Ghost Ice',\n",
       " 'Ghost Dragon',\n",
       " 'Ghost Fairy',\n",
       " 'Ghost Dark',\n",
       " 'Ghost Steel',\n",
       " 'Ghost Fighting',\n",
       " 'Ghost Flying',\n",
       " 'Ground Psychic',\n",
       " 'Ground Ice',\n",
       " 'Ground Dragon',\n",
       " 'Ground Fairy',\n",
       " 'Ground Dark',\n",
       " 'Ground Steel',\n",
       " 'Ground Fighting',\n",
       " 'Ground Flying',\n",
       " 'Psychic Ice',\n",
       " 'Psychic Dragon',\n",
       " 'Psychic Fairy',\n",
       " 'Psychic Dark',\n",
       " 'Psychic Steel',\n",
       " 'Psychic Fighting',\n",
       " 'Psychic Flying',\n",
       " 'Ice Dragon',\n",
       " 'Ice Fairy',\n",
       " 'Ice Dark',\n",
       " 'Ice Steel',\n",
       " 'Ice Fighting',\n",
       " 'Ice Flying',\n",
       " 'Dragon Fairy',\n",
       " 'Dragon Dark',\n",
       " 'Dragon Steel',\n",
       " 'Dragon Fighting',\n",
       " 'Dragon Flying',\n",
       " 'Fairy Dark',\n",
       " 'Fairy Steel',\n",
       " 'Fairy Fighting',\n",
       " 'Fairy Flying',\n",
       " 'Dark Steel',\n",
       " 'Dark Fighting',\n",
       " 'Dark Flying',\n",
       " 'Steel Fighting',\n",
       " 'Steel Flying',\n",
       " 'Fighting Flying']"
      ]
     },
     "execution_count": 44,
     "metadata": {},
     "output_type": "execute_result"
    }
   ],
   "source": [
    "full2 = [' '.join(item) for item in full]\n",
    "full2"
   ]
  },
  {
   "cell_type": "code",
   "execution_count": 60,
   "metadata": {},
   "outputs": [
    {
     "data": {
      "text/plain": [
       "125"
      ]
     },
     "execution_count": 60,
     "metadata": {},
     "output_type": "execute_result"
    }
   ],
   "source": [
    "len(combs2)"
   ]
  },
  {
   "cell_type": "code",
   "execution_count": 46,
   "metadata": {},
   "outputs": [
    {
     "name": "stdout",
     "output_type": "stream",
     "text": [
      "['Grass Fire', 'Grass Bug', 'Grass Normal', 'Grass Water', 'Grass Rock', 'Grass Electric', 'Grass Ghost', 'Grass Dragon', 'Fire Bug', 'Fire Poison', 'Fire Electric', 'Fire Ghost', 'Fire Ice', 'Fire Dragon', 'Fire Fairy', 'Fire Dark', 'Bug Normal', 'Bug Psychic', 'Bug Ice', 'Bug Dragon', 'Bug Fairy', 'Bug Dark', 'Normal Poison', 'Normal Rock', 'Normal Electric', 'Normal Ghost', 'Normal Ice', 'Normal Dragon', 'Normal Dark', 'Normal Steel', 'Normal Fighting', 'Poison Rock', 'Poison Electric', 'Poison Ghost', 'Poison Psychic', 'Poison Ice', 'Poison Fairy', 'Poison Steel', 'Rock Electric', 'Rock Ghost', 'Electric Ground', 'Electric Psychic', 'Electric Ice', 'Electric Dragon', 'Electric Dark', 'Electric Fighting', 'Ghost Ground', 'Ghost Psychic', 'Ghost Ice', 'Ghost Fairy', 'Ghost Steel', 'Ghost Fighting', 'Ground Ice', 'Ground Fairy', 'Ground Fighting', 'Psychic Ice', 'Psychic Dragon', 'Psychic Dark', 'Psychic Steel', 'Ice Dragon', 'Ice Fairy', 'Ice Dark', 'Ice Steel', 'Ice Fighting', 'Dragon Fairy', 'Dragon Dark', 'Dragon Steel', 'Dragon Fighting', 'Fairy Dark', 'Fairy Steel', 'Fairy Fighting']\n"
     ]
    }
   ],
   "source": [
    "new_comb = []\n",
    "for item in full2:\n",
    "    if item not in combs2:\n",
    "        new_comb.append(item)\n",
    "        \n",
    "print(new_comb)"
   ]
  },
  {
   "cell_type": "code",
   "execution_count": 47,
   "metadata": {},
   "outputs": [
    {
     "data": {
      "text/plain": [
       "71"
      ]
     },
     "execution_count": 47,
     "metadata": {},
     "output_type": "execute_result"
    }
   ],
   "source": [
    "len(new_comb)"
   ]
  },
  {
   "cell_type": "code",
   "execution_count": 48,
   "metadata": {},
   "outputs": [
    {
     "data": {
      "text/plain": [
       "71"
      ]
     },
     "execution_count": 48,
     "metadata": {},
     "output_type": "execute_result"
    }
   ],
   "source": [
    "res = set(full2).difference(set(combs2))\n",
    "len(res)"
   ]
  },
  {
   "cell_type": "code",
   "execution_count": 94,
   "metadata": {},
   "outputs": [
    {
     "data": {
      "text/plain": [
       "82"
      ]
     },
     "execution_count": 94,
     "metadata": {},
     "output_type": "execute_result"
    }
   ],
   "source": [
    "res2 = set(full2).intersection(set(combs2))\n",
    "len(res2)"
   ]
  },
  {
   "cell_type": "code",
   "execution_count": 159,
   "metadata": {},
   "outputs": [
    {
     "data": {
      "text/plain": [
       "196"
      ]
     },
     "execution_count": 159,
     "metadata": {},
     "output_type": "execute_result"
    }
   ],
   "source": [
    "uni = set(full2).union(set(combs2))\n",
    "len(uni)"
   ]
  },
  {
   "cell_type": "code",
   "execution_count": 183,
   "metadata": {},
   "outputs": [
    {
     "data": {
      "text/plain": [
       "125"
      ]
     },
     "execution_count": 183,
     "metadata": {},
     "output_type": "execute_result"
    }
   ],
   "source": [
    "len(m)"
   ]
  },
  {
   "cell_type": "code",
   "execution_count": 184,
   "metadata": {},
   "outputs": [
    {
     "data": {
      "text/plain": [
       "{'Bug Fire',\n",
       " 'Bug Grass',\n",
       " 'Dark Dragon',\n",
       " 'Dark Fire',\n",
       " 'Dark Ghost',\n",
       " 'Dark Grass',\n",
       " 'Dark Ground',\n",
       " 'Dark Ice',\n",
       " 'Dark Poison',\n",
       " 'Dark Psychic',\n",
       " 'Dark Rock',\n",
       " 'Dark Water',\n",
       " 'Dragon Electric',\n",
       " 'Dragon Fire',\n",
       " 'Dragon Ghost',\n",
       " 'Dragon Ground',\n",
       " 'Dragon Ice',\n",
       " 'Dragon Poison',\n",
       " 'Dragon Psychic',\n",
       " 'Dragon Rock',\n",
       " 'Dragon Water',\n",
       " 'Electric Normal',\n",
       " 'Electric Water',\n",
       " 'Fairy Grass',\n",
       " 'Fairy Normal',\n",
       " 'Fairy Psychic',\n",
       " 'Fairy Rock',\n",
       " 'Fairy Water',\n",
       " 'Fighting Fire',\n",
       " 'Fighting Grass',\n",
       " 'Fighting Poison',\n",
       " 'Fighting Psychic',\n",
       " 'Fighting Rock',\n",
       " 'Fighting Steel',\n",
       " 'Fighting Water',\n",
       " 'Flying Ghost',\n",
       " 'Flying Grass',\n",
       " 'Flying Ground',\n",
       " 'Flying Ice',\n",
       " 'Flying Normal',\n",
       " 'Flying Poison',\n",
       " 'Flying Psychic',\n",
       " 'Flying Rock',\n",
       " 'Flying Steel',\n",
       " 'Flying Water',\n",
       " 'Ghost Grass',\n",
       " 'Ghost Poison',\n",
       " 'Ghost Water',\n",
       " 'Ground Normal',\n",
       " 'Ground Poison',\n",
       " 'Ground Rock',\n",
       " 'Ground Water',\n",
       " 'Ice Psychic',\n",
       " 'Ice Rock',\n",
       " 'Ice Water',\n",
       " 'Psychic Rock',\n",
       " 'Psychic Water',\n",
       " 'Rock Water',\n",
       " 'Steel Water'}"
      ]
     },
     "execution_count": 184,
     "metadata": {},
     "output_type": "execute_result"
    }
   ],
   "source": [
    "z = set(m).difference(set(full2))\n",
    "z"
   ]
  },
  {
   "cell_type": "code",
   "execution_count": 167,
   "metadata": {},
   "outputs": [
    {
     "data": {
      "text/plain": [
       "['Grass Fire',\n",
       " 'Grass Bug',\n",
       " 'Grass Normal',\n",
       " 'Grass Poison',\n",
       " 'Grass Water',\n",
       " 'Grass Rock',\n",
       " 'Grass Electric',\n",
       " 'Grass Ghost',\n",
       " 'Grass Ground',\n",
       " 'Grass Psychic',\n",
       " 'Grass Ice',\n",
       " 'Grass Dragon',\n",
       " 'Grass Fairy',\n",
       " 'Grass Dark',\n",
       " 'Grass Steel',\n",
       " 'Grass Fighting',\n",
       " 'Grass Flying',\n",
       " 'Fire Bug',\n",
       " 'Fire Normal',\n",
       " 'Fire Poison',\n",
       " 'Fire Water',\n",
       " 'Fire Rock',\n",
       " 'Fire Electric',\n",
       " 'Fire Ghost',\n",
       " 'Fire Ground',\n",
       " 'Fire Psychic',\n",
       " 'Fire Ice',\n",
       " 'Fire Dragon',\n",
       " 'Fire Fairy',\n",
       " 'Fire Dark',\n",
       " 'Fire Steel',\n",
       " 'Fire Fighting',\n",
       " 'Fire Flying',\n",
       " 'Bug Normal',\n",
       " 'Bug Poison',\n",
       " 'Bug Water',\n",
       " 'Bug Rock',\n",
       " 'Bug Electric',\n",
       " 'Bug Ghost',\n",
       " 'Bug Ground',\n",
       " 'Bug Psychic',\n",
       " 'Bug Ice',\n",
       " 'Bug Dragon',\n",
       " 'Bug Fairy',\n",
       " 'Bug Dark',\n",
       " 'Bug Steel',\n",
       " 'Bug Fighting',\n",
       " 'Bug Flying',\n",
       " 'Normal Poison',\n",
       " 'Normal Water',\n",
       " 'Normal Rock',\n",
       " 'Normal Electric',\n",
       " 'Normal Ghost',\n",
       " 'Normal Ground',\n",
       " 'Normal Psychic',\n",
       " 'Normal Ice',\n",
       " 'Normal Dragon',\n",
       " 'Normal Fairy',\n",
       " 'Normal Dark',\n",
       " 'Normal Steel',\n",
       " 'Normal Fighting',\n",
       " 'Normal Flying',\n",
       " 'Poison Water',\n",
       " 'Poison Rock',\n",
       " 'Poison Electric',\n",
       " 'Poison Ghost',\n",
       " 'Poison Ground',\n",
       " 'Poison Psychic',\n",
       " 'Poison Ice',\n",
       " 'Poison Dragon',\n",
       " 'Poison Fairy',\n",
       " 'Poison Dark',\n",
       " 'Poison Steel',\n",
       " 'Poison Fighting',\n",
       " 'Poison Flying',\n",
       " 'Water Rock',\n",
       " 'Water Electric',\n",
       " 'Water Ghost',\n",
       " 'Water Ground',\n",
       " 'Water Psychic',\n",
       " 'Water Ice',\n",
       " 'Water Dragon',\n",
       " 'Water Fairy',\n",
       " 'Water Dark',\n",
       " 'Water Steel',\n",
       " 'Water Fighting',\n",
       " 'Water Flying',\n",
       " 'Rock Electric',\n",
       " 'Rock Ghost',\n",
       " 'Rock Ground',\n",
       " 'Rock Psychic',\n",
       " 'Rock Ice',\n",
       " 'Rock Dragon',\n",
       " 'Rock Fairy',\n",
       " 'Rock Dark',\n",
       " 'Rock Steel',\n",
       " 'Rock Fighting',\n",
       " 'Rock Flying',\n",
       " 'Electric Ghost',\n",
       " 'Electric Ground',\n",
       " 'Electric Psychic',\n",
       " 'Electric Ice',\n",
       " 'Electric Dragon',\n",
       " 'Electric Fairy',\n",
       " 'Electric Dark',\n",
       " 'Electric Steel',\n",
       " 'Electric Fighting',\n",
       " 'Electric Flying',\n",
       " 'Ghost Ground',\n",
       " 'Ghost Psychic',\n",
       " 'Ghost Ice',\n",
       " 'Ghost Dragon',\n",
       " 'Ghost Fairy',\n",
       " 'Ghost Dark',\n",
       " 'Ghost Steel',\n",
       " 'Ghost Fighting',\n",
       " 'Ghost Flying',\n",
       " 'Ground Psychic',\n",
       " 'Ground Ice',\n",
       " 'Ground Dragon',\n",
       " 'Ground Fairy',\n",
       " 'Ground Dark',\n",
       " 'Ground Steel',\n",
       " 'Ground Fighting',\n",
       " 'Ground Flying',\n",
       " 'Psychic Ice',\n",
       " 'Psychic Dragon',\n",
       " 'Psychic Fairy',\n",
       " 'Psychic Dark',\n",
       " 'Psychic Steel',\n",
       " 'Psychic Fighting',\n",
       " 'Psychic Flying',\n",
       " 'Ice Dragon',\n",
       " 'Ice Fairy',\n",
       " 'Ice Dark',\n",
       " 'Ice Steel',\n",
       " 'Ice Fighting',\n",
       " 'Ice Flying',\n",
       " 'Dragon Fairy',\n",
       " 'Dragon Dark',\n",
       " 'Dragon Steel',\n",
       " 'Dragon Fighting',\n",
       " 'Dragon Flying',\n",
       " 'Fairy Dark',\n",
       " 'Fairy Steel',\n",
       " 'Fairy Fighting',\n",
       " 'Fairy Flying',\n",
       " 'Dark Steel',\n",
       " 'Dark Fighting',\n",
       " 'Dark Flying',\n",
       " 'Steel Fighting',\n",
       " 'Steel Flying',\n",
       " 'Fighting Flying']"
      ]
     },
     "execution_count": 167,
     "metadata": {},
     "output_type": "execute_result"
    }
   ],
   "source": [
    "full2"
   ]
  },
  {
   "cell_type": "code",
   "execution_count": 146,
   "metadata": {},
   "outputs": [],
   "source": [
    "test = comb[['Type 1', 'Type 2']]"
   ]
  },
  {
   "cell_type": "code",
   "execution_count": 147,
   "metadata": {},
   "outputs": [
    {
     "data": {
      "text/html": [
       "<div>\n",
       "<style scoped>\n",
       "    .dataframe tbody tr th:only-of-type {\n",
       "        vertical-align: middle;\n",
       "    }\n",
       "\n",
       "    .dataframe tbody tr th {\n",
       "        vertical-align: top;\n",
       "    }\n",
       "\n",
       "    .dataframe thead th {\n",
       "        text-align: right;\n",
       "    }\n",
       "</style>\n",
       "<table border=\"1\" class=\"dataframe\">\n",
       "  <thead>\n",
       "    <tr style=\"text-align: right;\">\n",
       "      <th></th>\n",
       "      <th>Type 1</th>\n",
       "      <th>Type 2</th>\n",
       "    </tr>\n",
       "  </thead>\n",
       "  <tbody>\n",
       "    <tr>\n",
       "      <th>0</th>\n",
       "      <td>Grass</td>\n",
       "      <td>Poison</td>\n",
       "    </tr>\n",
       "    <tr>\n",
       "      <th>6</th>\n",
       "      <td>Fire</td>\n",
       "      <td>Flying</td>\n",
       "    </tr>\n",
       "    <tr>\n",
       "      <th>15</th>\n",
       "      <td>Bug</td>\n",
       "      <td>Flying</td>\n",
       "    </tr>\n",
       "    <tr>\n",
       "      <th>16</th>\n",
       "      <td>Bug</td>\n",
       "      <td>Poison</td>\n",
       "    </tr>\n",
       "    <tr>\n",
       "      <th>20</th>\n",
       "      <td>Normal</td>\n",
       "      <td>Flying</td>\n",
       "    </tr>\n",
       "    <tr>\n",
       "      <th>...</th>\n",
       "      <td>...</td>\n",
       "      <td>...</td>\n",
       "    </tr>\n",
       "    <tr>\n",
       "      <th>773</th>\n",
       "      <td>Rock</td>\n",
       "      <td>Fairy</td>\n",
       "    </tr>\n",
       "    <tr>\n",
       "      <th>778</th>\n",
       "      <td>Ghost</td>\n",
       "      <td>Grass</td>\n",
       "    </tr>\n",
       "    <tr>\n",
       "      <th>790</th>\n",
       "      <td>Flying</td>\n",
       "      <td>Dragon</td>\n",
       "    </tr>\n",
       "    <tr>\n",
       "      <th>797</th>\n",
       "      <td>Psychic</td>\n",
       "      <td>Ghost</td>\n",
       "    </tr>\n",
       "    <tr>\n",
       "      <th>799</th>\n",
       "      <td>Fire</td>\n",
       "      <td>Water</td>\n",
       "    </tr>\n",
       "  </tbody>\n",
       "</table>\n",
       "<p>125 rows × 2 columns</p>\n",
       "</div>"
      ],
      "text/plain": [
       "      Type 1  Type 2\n",
       "0      Grass  Poison\n",
       "6       Fire  Flying\n",
       "15       Bug  Flying\n",
       "16       Bug  Poison\n",
       "20    Normal  Flying\n",
       "..       ...     ...\n",
       "773     Rock   Fairy\n",
       "778    Ghost   Grass\n",
       "790   Flying  Dragon\n",
       "797  Psychic   Ghost\n",
       "799     Fire   Water\n",
       "\n",
       "[125 rows x 2 columns]"
      ]
     },
     "execution_count": 147,
     "metadata": {},
     "output_type": "execute_result"
    }
   ],
   "source": [
    "test"
   ]
  },
  {
   "cell_type": "code",
   "execution_count": 148,
   "metadata": {},
   "outputs": [
    {
     "data": {
      "text/html": [
       "<div>\n",
       "<style scoped>\n",
       "    .dataframe tbody tr th:only-of-type {\n",
       "        vertical-align: middle;\n",
       "    }\n",
       "\n",
       "    .dataframe tbody tr th {\n",
       "        vertical-align: top;\n",
       "    }\n",
       "\n",
       "    .dataframe thead th {\n",
       "        text-align: right;\n",
       "    }\n",
       "</style>\n",
       "<table border=\"1\" class=\"dataframe\">\n",
       "  <thead>\n",
       "    <tr style=\"text-align: right;\">\n",
       "      <th></th>\n",
       "      <th>Type 1</th>\n",
       "      <th>Type 2</th>\n",
       "    </tr>\n",
       "  </thead>\n",
       "  <tbody>\n",
       "    <tr>\n",
       "      <th>0</th>\n",
       "      <td>Grass</td>\n",
       "      <td>Poison</td>\n",
       "    </tr>\n",
       "    <tr>\n",
       "      <th>6</th>\n",
       "      <td>Fire</td>\n",
       "      <td>Flying</td>\n",
       "    </tr>\n",
       "    <tr>\n",
       "      <th>15</th>\n",
       "      <td>Bug</td>\n",
       "      <td>Flying</td>\n",
       "    </tr>\n",
       "    <tr>\n",
       "      <th>16</th>\n",
       "      <td>Bug</td>\n",
       "      <td>Poison</td>\n",
       "    </tr>\n",
       "    <tr>\n",
       "      <th>20</th>\n",
       "      <td>Normal</td>\n",
       "      <td>Flying</td>\n",
       "    </tr>\n",
       "    <tr>\n",
       "      <th>...</th>\n",
       "      <td>...</td>\n",
       "      <td>...</td>\n",
       "    </tr>\n",
       "    <tr>\n",
       "      <th>773</th>\n",
       "      <td>Rock</td>\n",
       "      <td>Fairy</td>\n",
       "    </tr>\n",
       "    <tr>\n",
       "      <th>778</th>\n",
       "      <td>Ghost</td>\n",
       "      <td>Grass</td>\n",
       "    </tr>\n",
       "    <tr>\n",
       "      <th>790</th>\n",
       "      <td>Flying</td>\n",
       "      <td>Dragon</td>\n",
       "    </tr>\n",
       "    <tr>\n",
       "      <th>797</th>\n",
       "      <td>Psychic</td>\n",
       "      <td>Ghost</td>\n",
       "    </tr>\n",
       "    <tr>\n",
       "      <th>799</th>\n",
       "      <td>Fire</td>\n",
       "      <td>Water</td>\n",
       "    </tr>\n",
       "  </tbody>\n",
       "</table>\n",
       "<p>125 rows × 2 columns</p>\n",
       "</div>"
      ],
      "text/plain": [
       "      Type 1  Type 2\n",
       "0      Grass  Poison\n",
       "6       Fire  Flying\n",
       "15       Bug  Flying\n",
       "16       Bug  Poison\n",
       "20    Normal  Flying\n",
       "..       ...     ...\n",
       "773     Rock   Fairy\n",
       "778    Ghost   Grass\n",
       "790   Flying  Dragon\n",
       "797  Psychic   Ghost\n",
       "799     Fire   Water\n",
       "\n",
       "[125 rows x 2 columns]"
      ]
     },
     "execution_count": 148,
     "metadata": {},
     "output_type": "execute_result"
    }
   ],
   "source": [
    "test.drop_duplicates(['Type 1', 'Type 2'])"
   ]
  },
  {
   "cell_type": "code",
   "execution_count": 149,
   "metadata": {},
   "outputs": [],
   "source": [
    "test2 = test.values"
   ]
  },
  {
   "cell_type": "code",
   "execution_count": 150,
   "metadata": {},
   "outputs": [
    {
     "data": {
      "text/plain": [
       "(125, 2)"
      ]
     },
     "execution_count": 150,
     "metadata": {},
     "output_type": "execute_result"
    }
   ],
   "source": [
    "test2.shape"
   ]
  },
  {
   "cell_type": "code",
   "execution_count": 151,
   "metadata": {},
   "outputs": [],
   "source": [
    "for i in range(test2.shape[0]):\n",
    "    if test2[i][0] > test2[i][1]:\n",
    "        tmp = test2[i][0]\n",
    "        test2[i][0] = test2[i][1]\n",
    "        test2[i][1] = tmp"
   ]
  },
  {
   "cell_type": "code",
   "execution_count": 140,
   "metadata": {},
   "outputs": [
    {
     "data": {
      "text/plain": [
       "array([['Rock', 'Fairy'],\n",
       "       ['Ghost', 'Grass'],\n",
       "       ['Flying', 'Dragon'],\n",
       "       ['Psychic', 'Ghost'],\n",
       "       ['Fire', 'Water']], dtype=object)"
      ]
     },
     "execution_count": 140,
     "metadata": {},
     "output_type": "execute_result"
    }
   ],
   "source": [
    "test2[120: 125]"
   ]
  },
  {
   "cell_type": "code",
   "execution_count": 141,
   "metadata": {},
   "outputs": [
    {
     "name": "stdout",
     "output_type": "stream",
     "text": [
      "[['Fairy' 'Rock']\n",
      " ['Ghost' 'Grass']\n",
      " ['Dragon' 'Flying']\n",
      " ['Ghost' 'Psychic']\n",
      " ['Fire' 'Water']]\n"
     ]
    }
   ],
   "source": [
    "\n",
    "for i in range(120, 125):\n",
    "    if test2[i][0] > test2[i][1]:\n",
    "        tmp = test2[i][0]\n",
    "        test2[i][0] = test2[i][1]\n",
    "        test2[i][1] = tmp\n",
    "        \n",
    "print(test2[120: 125])"
   ]
  },
  {
   "cell_type": "code",
   "execution_count": 152,
   "metadata": {},
   "outputs": [
    {
     "data": {
      "text/plain": [
       "125"
      ]
     },
     "execution_count": 152,
     "metadata": {},
     "output_type": "execute_result"
    }
   ],
   "source": [
    "len(test2)"
   ]
  },
  {
   "cell_type": "code",
   "execution_count": 172,
   "metadata": {},
   "outputs": [
    {
     "data": {
      "text/plain": [
       "array([['Grass', 'Poison'],\n",
       "       ['Fire', 'Flying'],\n",
       "       ['Bug', 'Flying'],\n",
       "       ['Bug', 'Poison'],\n",
       "       ['Flying', 'Normal'],\n",
       "       ['Ground', 'Poison'],\n",
       "       ['Fairy', 'Normal'],\n",
       "       ['Flying', 'Poison'],\n",
       "       ['Bug', 'Grass'],\n",
       "       ['Fighting', 'Water'],\n",
       "       ['Poison', 'Water'],\n",
       "       ['Ground', 'Rock'],\n",
       "       ['Psychic', 'Water'],\n",
       "       ['Electric', 'Steel'],\n",
       "       ['Ice', 'Water'],\n",
       "       ['Ghost', 'Poison'],\n",
       "       ['Grass', 'Psychic'],\n",
       "       ['Ground', 'Rock'],\n",
       "       ['Fairy', 'Psychic'],\n",
       "       ['Ice', 'Psychic'],\n",
       "       ['Flying', 'Water'],\n",
       "       ['Rock', 'Water'],\n",
       "       ['Flying', 'Rock'],\n",
       "       ['Flying', 'Ice'],\n",
       "       ['Electric', 'Flying'],\n",
       "       ['Dragon', 'Flying'],\n",
       "       ['Electric', 'Water'],\n",
       "       ['Fairy', 'Flying'],\n",
       "       ['Flying', 'Psychic'],\n",
       "       ['Fairy', 'Water'],\n",
       "       ['Flying', 'Grass'],\n",
       "       ['Ground', 'Water'],\n",
       "       ['Dark', 'Flying'],\n",
       "       ['Normal', 'Psychic'],\n",
       "       ['Bug', 'Steel'],\n",
       "       ['Flying', 'Ground'],\n",
       "       ['Ground', 'Steel'],\n",
       "       ['Bug', 'Rock'],\n",
       "       ['Bug', 'Fighting'],\n",
       "       ['Dark', 'Ice'],\n",
       "       ['Fire', 'Rock'],\n",
       "       ['Ground', 'Ice'],\n",
       "       ['Rock', 'Water'],\n",
       "       ['Flying', 'Steel'],\n",
       "       ['Dark', 'Fire'],\n",
       "       ['Dragon', 'Water'],\n",
       "       ['Dark', 'Rock'],\n",
       "       ['Grass', 'Psychic'],\n",
       "       ['Fighting', 'Fire'],\n",
       "       ['Grass', 'Water'],\n",
       "       ['Dark', 'Grass'],\n",
       "       ['Bug', 'Water'],\n",
       "       ['Fighting', 'Grass'],\n",
       "       ['Bug', 'Ground'],\n",
       "       ['Bug', 'Ghost'],\n",
       "       ['Dark', 'Ghost'],\n",
       "       ['Fairy', 'Steel'],\n",
       "       ['Rock', 'Steel'],\n",
       "       ['Fighting', 'Psychic'],\n",
       "       ['Dark', 'Water'],\n",
       "       ['Fire', 'Ground'],\n",
       "       ['Dragon', 'Ground'],\n",
       "       ['Psychic', 'Rock'],\n",
       "       ['Ground', 'Psychic'],\n",
       "       ['Grass', 'Rock'],\n",
       "       ['Bug', 'Rock'],\n",
       "       ['Ice', 'Water'],\n",
       "       ['Psychic', 'Steel'],\n",
       "       ['Dragon', 'Psychic'],\n",
       "       ['Grass', 'Ground'],\n",
       "       ['Steel', 'Water'],\n",
       "       ['Normal', 'Water'],\n",
       "       ['Rock', 'Steel'],\n",
       "       ['Flying', 'Ghost'],\n",
       "       ['Dark', 'Poison'],\n",
       "       ['Dark', 'Ghost'],\n",
       "       ['Dragon', 'Ground'],\n",
       "       ['Fighting', 'Steel'],\n",
       "       ['Bug', 'Poison'],\n",
       "       ['Fighting', 'Poison'],\n",
       "       ['Grass', 'Ice'],\n",
       "       ['Fighting', 'Psychic'],\n",
       "       ['Ghost', 'Ice'],\n",
       "       ['Electric', 'Ghost'],\n",
       "       ['Dragon', 'Steel'],\n",
       "       ['Fire', 'Steel'],\n",
       "       ['Dragon', 'Ghost'],\n",
       "       ['Fire', 'Psychic'],\n",
       "       ['Ground', 'Steel'],\n",
       "       ['Fairy', 'Grass'],\n",
       "       ['Dark', 'Ground'],\n",
       "       ['Dark', 'Fighting'],\n",
       "       ['Grass', 'Normal'],\n",
       "       ['Ghost', 'Water'],\n",
       "       ['Bug', 'Electric'],\n",
       "       ['Grass', 'Steel'],\n",
       "       ['Fire', 'Ghost'],\n",
       "       ['Electric', 'Ground'],\n",
       "       ['Ghost', 'Ground'],\n",
       "       ['Dark', 'Steel'],\n",
       "       ['Dark', 'Dragon'],\n",
       "       ['Bug', 'Fire'],\n",
       "       ['Fighting', 'Steel'],\n",
       "       ['Fighting', 'Rock'],\n",
       "       ['Dragon', 'Fire'],\n",
       "       ['Dragon', 'Electric'],\n",
       "       ['Dragon', 'Ice'],\n",
       "       ['Fire', 'Psychic'],\n",
       "       ['Ground', 'Normal'],\n",
       "       ['Fire', 'Normal'],\n",
       "       ['Dark', 'Fighting'],\n",
       "       ['Ghost', 'Steel'],\n",
       "       ['Dark', 'Psychic'],\n",
       "       ['Poison', 'Water'],\n",
       "       ['Dragon', 'Poison'],\n",
       "       ['Electric', 'Normal'],\n",
       "       ['Dragon', 'Rock'],\n",
       "       ['Ice', 'Rock'],\n",
       "       ['Fighting', 'Flying'],\n",
       "       ['Electric', 'Fairy'],\n",
       "       ['Fairy', 'Rock'],\n",
       "       ['Ghost', 'Grass'],\n",
       "       ['Dragon', 'Flying'],\n",
       "       ['Ghost', 'Psychic'],\n",
       "       ['Fire', 'Water']], dtype=object)"
      ]
     },
     "execution_count": 172,
     "metadata": {},
     "output_type": "execute_result"
    }
   ],
   "source": []
  },
  {
   "cell_type": "code",
   "execution_count": 74,
   "metadata": {},
   "outputs": [],
   "source": [
    "test3 = test2[:]\n",
    "for i in range(test3.shape[0]):\n",
    "    if test3[i][0] > test3[i][1]:\n",
    "        tmp = test3[i][0]\n",
    "        test3[i][0] = test3[i][1]\n",
    "        test3[i][1] = tmp"
   ]
  },
  {
   "cell_type": "code",
   "execution_count": 75,
   "metadata": {},
   "outputs": [
    {
     "data": {
      "text/plain": [
       "array([['Grass', 'Poison'],\n",
       "       ['Fire', 'Flying'],\n",
       "       ['Bug', 'Flying'],\n",
       "       ['Bug', 'Poison'],\n",
       "       ['Flying', 'Normal'],\n",
       "       ['Ground', 'Poison'],\n",
       "       ['Fairy', 'Normal'],\n",
       "       ['Flying', 'Poison'],\n",
       "       ['Bug', 'Grass'],\n",
       "       ['Fighting', 'Water'],\n",
       "       ['Poison', 'Water'],\n",
       "       ['Ground', 'Rock'],\n",
       "       ['Psychic', 'Water'],\n",
       "       ['Electric', 'Steel'],\n",
       "       ['Ice', 'Water'],\n",
       "       ['Ghost', 'Poison'],\n",
       "       ['Grass', 'Psychic'],\n",
       "       ['Ground', 'Rock'],\n",
       "       ['Fairy', 'Psychic'],\n",
       "       ['Ice', 'Psychic'],\n",
       "       ['Flying', 'Water'],\n",
       "       ['Rock', 'Water'],\n",
       "       ['Flying', 'Rock'],\n",
       "       ['Flying', 'Ice'],\n",
       "       ['Electric', 'Flying'],\n",
       "       ['Dragon', 'Flying'],\n",
       "       ['Electric', 'Water'],\n",
       "       ['Fairy', 'Flying'],\n",
       "       ['Flying', 'Psychic'],\n",
       "       ['Fairy', 'Water'],\n",
       "       ['Flying', 'Grass'],\n",
       "       ['Ground', 'Water'],\n",
       "       ['Dark', 'Flying'],\n",
       "       ['Normal', 'Psychic'],\n",
       "       ['Bug', 'Steel'],\n",
       "       ['Flying', 'Ground'],\n",
       "       ['Ground', 'Steel'],\n",
       "       ['Bug', 'Rock'],\n",
       "       ['Bug', 'Fighting'],\n",
       "       ['Dark', 'Ice'],\n",
       "       ['Fire', 'Rock'],\n",
       "       ['Ground', 'Ice'],\n",
       "       ['Rock', 'Water'],\n",
       "       ['Flying', 'Steel'],\n",
       "       ['Dark', 'Fire'],\n",
       "       ['Dragon', 'Water'],\n",
       "       ['Dark', 'Rock'],\n",
       "       ['Grass', 'Psychic'],\n",
       "       ['Fighting', 'Fire'],\n",
       "       ['Grass', 'Water'],\n",
       "       ['Dark', 'Grass'],\n",
       "       ['Bug', 'Water'],\n",
       "       ['Fighting', 'Grass'],\n",
       "       ['Bug', 'Ground'],\n",
       "       ['Bug', 'Ghost'],\n",
       "       ['Dark', 'Ghost'],\n",
       "       ['Fairy', 'Steel'],\n",
       "       ['Rock', 'Steel'],\n",
       "       ['Fighting', 'Psychic'],\n",
       "       ['Dark', 'Water'],\n",
       "       ['Fire', 'Ground'],\n",
       "       ['Dragon', 'Ground'],\n",
       "       ['Psychic', 'Rock'],\n",
       "       ['Ground', 'Psychic'],\n",
       "       ['Grass', 'Rock'],\n",
       "       ['Bug', 'Rock'],\n",
       "       ['Ice', 'Water'],\n",
       "       ['Psychic', 'Steel'],\n",
       "       ['Dragon', 'Psychic'],\n",
       "       ['Grass', 'Ground'],\n",
       "       ['Steel', 'Water'],\n",
       "       ['Normal', 'Water'],\n",
       "       ['Rock', 'Steel'],\n",
       "       ['Flying', 'Ghost'],\n",
       "       ['Dark', 'Poison'],\n",
       "       ['Dark', 'Ghost'],\n",
       "       ['Dragon', 'Ground'],\n",
       "       ['Fighting', 'Steel'],\n",
       "       ['Bug', 'Poison'],\n",
       "       ['Fighting', 'Poison'],\n",
       "       ['Grass', 'Ice'],\n",
       "       ['Fighting', 'Psychic'],\n",
       "       ['Ghost', 'Ice'],\n",
       "       ['Electric', 'Ghost'],\n",
       "       ['Dragon', 'Steel'],\n",
       "       ['Fire', 'Steel'],\n",
       "       ['Dragon', 'Ghost'],\n",
       "       ['Fire', 'Psychic'],\n",
       "       ['Ground', 'Steel'],\n",
       "       ['Fairy', 'Grass'],\n",
       "       ['Dark', 'Ground'],\n",
       "       ['Dark', 'Fighting'],\n",
       "       ['Grass', 'Normal'],\n",
       "       ['Ghost', 'Water'],\n",
       "       ['Bug', 'Electric'],\n",
       "       ['Grass', 'Steel'],\n",
       "       ['Fire', 'Ghost'],\n",
       "       ['Electric', 'Ground'],\n",
       "       ['Ghost', 'Ground'],\n",
       "       ['Dark', 'Steel'],\n",
       "       ['Dark', 'Dragon'],\n",
       "       ['Bug', 'Fire'],\n",
       "       ['Fighting', 'Steel'],\n",
       "       ['Fighting', 'Rock'],\n",
       "       ['Dragon', 'Fire'],\n",
       "       ['Dragon', 'Electric'],\n",
       "       ['Dragon', 'Ice'],\n",
       "       ['Fire', 'Psychic'],\n",
       "       ['Ground', 'Normal'],\n",
       "       ['Fire', 'Normal'],\n",
       "       ['Dark', 'Fighting'],\n",
       "       ['Ghost', 'Steel'],\n",
       "       ['Dark', 'Psychic'],\n",
       "       ['Poison', 'Water'],\n",
       "       ['Dragon', 'Poison'],\n",
       "       ['Electric', 'Normal'],\n",
       "       ['Dragon', 'Rock'],\n",
       "       ['Ice', 'Rock'],\n",
       "       ['Fighting', 'Flying'],\n",
       "       ['Electric', 'Fairy'],\n",
       "       ['Fairy', 'Rock'],\n",
       "       ['Ghost', 'Grass'],\n",
       "       ['Dragon', 'Flying'],\n",
       "       ['Ghost', 'Psychic'],\n",
       "       ['Fire', 'Water']], dtype=object)"
      ]
     },
     "execution_count": 75,
     "metadata": {},
     "output_type": "execute_result"
    }
   ],
   "source": [
    "test3"
   ]
  },
  {
   "cell_type": "code",
   "execution_count": 76,
   "metadata": {},
   "outputs": [
    {
     "data": {
      "text/plain": [
       "125"
      ]
     },
     "execution_count": 76,
     "metadata": {},
     "output_type": "execute_result"
    }
   ],
   "source": [
    "len(test3)"
   ]
  },
  {
   "cell_type": "code",
   "execution_count": 153,
   "metadata": {},
   "outputs": [
    {
     "data": {
      "text/html": [
       "<div>\n",
       "<style scoped>\n",
       "    .dataframe tbody tr th:only-of-type {\n",
       "        vertical-align: middle;\n",
       "    }\n",
       "\n",
       "    .dataframe tbody tr th {\n",
       "        vertical-align: top;\n",
       "    }\n",
       "\n",
       "    .dataframe thead th {\n",
       "        text-align: right;\n",
       "    }\n",
       "</style>\n",
       "<table border=\"1\" class=\"dataframe\">\n",
       "  <thead>\n",
       "    <tr style=\"text-align: right;\">\n",
       "      <th></th>\n",
       "      <th>0</th>\n",
       "      <th>1</th>\n",
       "    </tr>\n",
       "  </thead>\n",
       "  <tbody>\n",
       "    <tr>\n",
       "      <th>37</th>\n",
       "      <td>Bug</td>\n",
       "      <td>Rock</td>\n",
       "    </tr>\n",
       "    <tr>\n",
       "      <th>34</th>\n",
       "      <td>Bug</td>\n",
       "      <td>Steel</td>\n",
       "    </tr>\n",
       "    <tr>\n",
       "      <th>51</th>\n",
       "      <td>Bug</td>\n",
       "      <td>Water</td>\n",
       "    </tr>\n",
       "    <tr>\n",
       "      <th>101</th>\n",
       "      <td>Bug</td>\n",
       "      <td>Fire</td>\n",
       "    </tr>\n",
       "    <tr>\n",
       "      <th>65</th>\n",
       "      <td>Bug</td>\n",
       "      <td>Rock</td>\n",
       "    </tr>\n",
       "    <tr>\n",
       "      <th>...</th>\n",
       "      <td>...</td>\n",
       "      <td>...</td>\n",
       "    </tr>\n",
       "    <tr>\n",
       "      <th>72</th>\n",
       "      <td>Rock</td>\n",
       "      <td>Steel</td>\n",
       "    </tr>\n",
       "    <tr>\n",
       "      <th>57</th>\n",
       "      <td>Rock</td>\n",
       "      <td>Steel</td>\n",
       "    </tr>\n",
       "    <tr>\n",
       "      <th>21</th>\n",
       "      <td>Rock</td>\n",
       "      <td>Water</td>\n",
       "    </tr>\n",
       "    <tr>\n",
       "      <th>42</th>\n",
       "      <td>Rock</td>\n",
       "      <td>Water</td>\n",
       "    </tr>\n",
       "    <tr>\n",
       "      <th>70</th>\n",
       "      <td>Steel</td>\n",
       "      <td>Water</td>\n",
       "    </tr>\n",
       "  </tbody>\n",
       "</table>\n",
       "<p>125 rows × 2 columns</p>\n",
       "</div>"
      ],
      "text/plain": [
       "         0      1\n",
       "37     Bug   Rock\n",
       "34     Bug  Steel\n",
       "51     Bug  Water\n",
       "101    Bug   Fire\n",
       "65     Bug   Rock\n",
       "..     ...    ...\n",
       "72    Rock  Steel\n",
       "57    Rock  Steel\n",
       "21    Rock  Water\n",
       "42    Rock  Water\n",
       "70   Steel  Water\n",
       "\n",
       "[125 rows x 2 columns]"
      ]
     },
     "execution_count": 153,
     "metadata": {},
     "output_type": "execute_result"
    }
   ],
   "source": [
    "resu = pd.DataFrame(test2)\n",
    "resu.sort_values(0)"
   ]
  },
  {
   "cell_type": "code",
   "execution_count": 154,
   "metadata": {},
   "outputs": [
    {
     "data": {
      "text/html": [
       "<div>\n",
       "<style scoped>\n",
       "    .dataframe tbody tr th:only-of-type {\n",
       "        vertical-align: middle;\n",
       "    }\n",
       "\n",
       "    .dataframe tbody tr th {\n",
       "        vertical-align: top;\n",
       "    }\n",
       "\n",
       "    .dataframe thead th {\n",
       "        text-align: right;\n",
       "    }\n",
       "</style>\n",
       "<table border=\"1\" class=\"dataframe\">\n",
       "  <thead>\n",
       "    <tr style=\"text-align: right;\">\n",
       "      <th></th>\n",
       "      <th>0</th>\n",
       "      <th>1</th>\n",
       "    </tr>\n",
       "  </thead>\n",
       "  <tbody>\n",
       "    <tr>\n",
       "      <th>0</th>\n",
       "      <td>Grass</td>\n",
       "      <td>Poison</td>\n",
       "    </tr>\n",
       "    <tr>\n",
       "      <th>1</th>\n",
       "      <td>Fire</td>\n",
       "      <td>Flying</td>\n",
       "    </tr>\n",
       "    <tr>\n",
       "      <th>2</th>\n",
       "      <td>Bug</td>\n",
       "      <td>Flying</td>\n",
       "    </tr>\n",
       "    <tr>\n",
       "      <th>3</th>\n",
       "      <td>Bug</td>\n",
       "      <td>Poison</td>\n",
       "    </tr>\n",
       "    <tr>\n",
       "      <th>4</th>\n",
       "      <td>Flying</td>\n",
       "      <td>Normal</td>\n",
       "    </tr>\n",
       "    <tr>\n",
       "      <th>...</th>\n",
       "      <td>...</td>\n",
       "      <td>...</td>\n",
       "    </tr>\n",
       "    <tr>\n",
       "      <th>119</th>\n",
       "      <td>Electric</td>\n",
       "      <td>Fairy</td>\n",
       "    </tr>\n",
       "    <tr>\n",
       "      <th>120</th>\n",
       "      <td>Fairy</td>\n",
       "      <td>Rock</td>\n",
       "    </tr>\n",
       "    <tr>\n",
       "      <th>121</th>\n",
       "      <td>Ghost</td>\n",
       "      <td>Grass</td>\n",
       "    </tr>\n",
       "    <tr>\n",
       "      <th>123</th>\n",
       "      <td>Ghost</td>\n",
       "      <td>Psychic</td>\n",
       "    </tr>\n",
       "    <tr>\n",
       "      <th>124</th>\n",
       "      <td>Fire</td>\n",
       "      <td>Water</td>\n",
       "    </tr>\n",
       "  </tbody>\n",
       "</table>\n",
       "<p>109 rows × 2 columns</p>\n",
       "</div>"
      ],
      "text/plain": [
       "            0        1\n",
       "0       Grass   Poison\n",
       "1        Fire   Flying\n",
       "2         Bug   Flying\n",
       "3         Bug   Poison\n",
       "4      Flying   Normal\n",
       "..        ...      ...\n",
       "119  Electric    Fairy\n",
       "120     Fairy     Rock\n",
       "121     Ghost    Grass\n",
       "123     Ghost  Psychic\n",
       "124      Fire    Water\n",
       "\n",
       "[109 rows x 2 columns]"
      ]
     },
     "execution_count": 154,
     "metadata": {},
     "output_type": "execute_result"
    }
   ],
   "source": [
    "resu.drop_duplicates([0, 1])"
   ]
  },
  {
   "cell_type": "code",
   "execution_count": 79,
   "metadata": {},
   "outputs": [
    {
     "data": {
      "text/html": [
       "<div>\n",
       "<style scoped>\n",
       "    .dataframe tbody tr th:only-of-type {\n",
       "        vertical-align: middle;\n",
       "    }\n",
       "\n",
       "    .dataframe tbody tr th {\n",
       "        vertical-align: top;\n",
       "    }\n",
       "\n",
       "    .dataframe thead th {\n",
       "        text-align: right;\n",
       "    }\n",
       "</style>\n",
       "<table border=\"1\" class=\"dataframe\">\n",
       "  <thead>\n",
       "    <tr style=\"text-align: right;\">\n",
       "      <th></th>\n",
       "      <th>0</th>\n",
       "      <th>1</th>\n",
       "    </tr>\n",
       "  </thead>\n",
       "  <tbody>\n",
       "    <tr>\n",
       "      <th>37</th>\n",
       "      <td>Bug</td>\n",
       "      <td>Rock</td>\n",
       "    </tr>\n",
       "    <tr>\n",
       "      <th>34</th>\n",
       "      <td>Bug</td>\n",
       "      <td>Steel</td>\n",
       "    </tr>\n",
       "    <tr>\n",
       "      <th>51</th>\n",
       "      <td>Bug</td>\n",
       "      <td>Water</td>\n",
       "    </tr>\n",
       "    <tr>\n",
       "      <th>101</th>\n",
       "      <td>Bug</td>\n",
       "      <td>Fire</td>\n",
       "    </tr>\n",
       "    <tr>\n",
       "      <th>65</th>\n",
       "      <td>Bug</td>\n",
       "      <td>Rock</td>\n",
       "    </tr>\n",
       "    <tr>\n",
       "      <th>...</th>\n",
       "      <td>...</td>\n",
       "      <td>...</td>\n",
       "    </tr>\n",
       "    <tr>\n",
       "      <th>72</th>\n",
       "      <td>Rock</td>\n",
       "      <td>Steel</td>\n",
       "    </tr>\n",
       "    <tr>\n",
       "      <th>57</th>\n",
       "      <td>Rock</td>\n",
       "      <td>Steel</td>\n",
       "    </tr>\n",
       "    <tr>\n",
       "      <th>21</th>\n",
       "      <td>Rock</td>\n",
       "      <td>Water</td>\n",
       "    </tr>\n",
       "    <tr>\n",
       "      <th>42</th>\n",
       "      <td>Rock</td>\n",
       "      <td>Water</td>\n",
       "    </tr>\n",
       "    <tr>\n",
       "      <th>70</th>\n",
       "      <td>Steel</td>\n",
       "      <td>Water</td>\n",
       "    </tr>\n",
       "  </tbody>\n",
       "</table>\n",
       "<p>125 rows × 2 columns</p>\n",
       "</div>"
      ],
      "text/plain": [
       "         0      1\n",
       "37     Bug   Rock\n",
       "34     Bug  Steel\n",
       "51     Bug  Water\n",
       "101    Bug   Fire\n",
       "65     Bug   Rock\n",
       "..     ...    ...\n",
       "72    Rock  Steel\n",
       "57    Rock  Steel\n",
       "21    Rock  Water\n",
       "42    Rock  Water\n",
       "70   Steel  Water\n",
       "\n",
       "[125 rows x 2 columns]"
      ]
     },
     "execution_count": 79,
     "metadata": {},
     "output_type": "execute_result"
    }
   ],
   "source": [
    "resu2 = pd.DataFrame(test3)\n",
    "resu2.sort_values(0)"
   ]
  },
  {
   "cell_type": "code",
   "execution_count": 81,
   "metadata": {},
   "outputs": [
    {
     "data": {
      "text/html": [
       "<div>\n",
       "<style scoped>\n",
       "    .dataframe tbody tr th:only-of-type {\n",
       "        vertical-align: middle;\n",
       "    }\n",
       "\n",
       "    .dataframe tbody tr th {\n",
       "        vertical-align: top;\n",
       "    }\n",
       "\n",
       "    .dataframe thead th {\n",
       "        text-align: right;\n",
       "    }\n",
       "</style>\n",
       "<table border=\"1\" class=\"dataframe\">\n",
       "  <thead>\n",
       "    <tr style=\"text-align: right;\">\n",
       "      <th></th>\n",
       "      <th>0</th>\n",
       "      <th>1</th>\n",
       "    </tr>\n",
       "  </thead>\n",
       "  <tbody>\n",
       "    <tr>\n",
       "      <th>0</th>\n",
       "      <td>Grass</td>\n",
       "      <td>Poison</td>\n",
       "    </tr>\n",
       "    <tr>\n",
       "      <th>1</th>\n",
       "      <td>Fire</td>\n",
       "      <td>Flying</td>\n",
       "    </tr>\n",
       "    <tr>\n",
       "      <th>2</th>\n",
       "      <td>Bug</td>\n",
       "      <td>Flying</td>\n",
       "    </tr>\n",
       "    <tr>\n",
       "      <th>3</th>\n",
       "      <td>Bug</td>\n",
       "      <td>Poison</td>\n",
       "    </tr>\n",
       "    <tr>\n",
       "      <th>4</th>\n",
       "      <td>Flying</td>\n",
       "      <td>Normal</td>\n",
       "    </tr>\n",
       "    <tr>\n",
       "      <th>...</th>\n",
       "      <td>...</td>\n",
       "      <td>...</td>\n",
       "    </tr>\n",
       "    <tr>\n",
       "      <th>119</th>\n",
       "      <td>Electric</td>\n",
       "      <td>Fairy</td>\n",
       "    </tr>\n",
       "    <tr>\n",
       "      <th>120</th>\n",
       "      <td>Fairy</td>\n",
       "      <td>Rock</td>\n",
       "    </tr>\n",
       "    <tr>\n",
       "      <th>121</th>\n",
       "      <td>Ghost</td>\n",
       "      <td>Grass</td>\n",
       "    </tr>\n",
       "    <tr>\n",
       "      <th>123</th>\n",
       "      <td>Ghost</td>\n",
       "      <td>Psychic</td>\n",
       "    </tr>\n",
       "    <tr>\n",
       "      <th>124</th>\n",
       "      <td>Fire</td>\n",
       "      <td>Water</td>\n",
       "    </tr>\n",
       "  </tbody>\n",
       "</table>\n",
       "<p>109 rows × 2 columns</p>\n",
       "</div>"
      ],
      "text/plain": [
       "            0        1\n",
       "0       Grass   Poison\n",
       "1        Fire   Flying\n",
       "2         Bug   Flying\n",
       "3         Bug   Poison\n",
       "4      Flying   Normal\n",
       "..        ...      ...\n",
       "119  Electric    Fairy\n",
       "120     Fairy     Rock\n",
       "121     Ghost    Grass\n",
       "123     Ghost  Psychic\n",
       "124      Fire    Water\n",
       "\n",
       "[109 rows x 2 columns]"
      ]
     },
     "execution_count": 81,
     "metadata": {},
     "output_type": "execute_result"
    }
   ],
   "source": [
    "resu2.drop_duplicates([0, 1])"
   ]
  },
  {
   "cell_type": "markdown",
   "metadata": {},
   "source": [
    "**3** 按照下述要求，构造`Series`：\n",
    "\n",
    "* 取出物攻，超过120的替换为`high`，不足50的替换为`low`，否则设为`mid`\n",
    "* 取出第一属性，分别用`replace`和`apply`替换所有字母为大写\n",
    "* 求每个妖怪六项能力的离差，即所有能力中偏离中位数最大的值，添加到`df`并从大到小排序"
   ]
  },
  {
   "cell_type": "code",
   "execution_count": 195,
   "metadata": {},
   "outputs": [
    {
     "data": {
      "text/html": [
       "<div>\n",
       "<style scoped>\n",
       "    .dataframe tbody tr th:only-of-type {\n",
       "        vertical-align: middle;\n",
       "    }\n",
       "\n",
       "    .dataframe tbody tr th {\n",
       "        vertical-align: top;\n",
       "    }\n",
       "\n",
       "    .dataframe thead th {\n",
       "        text-align: right;\n",
       "    }\n",
       "</style>\n",
       "<table border=\"1\" class=\"dataframe\">\n",
       "  <thead>\n",
       "    <tr style=\"text-align: right;\">\n",
       "      <th></th>\n",
       "      <th>#</th>\n",
       "      <th>Name</th>\n",
       "      <th>Type 1</th>\n",
       "      <th>Type 2</th>\n",
       "      <th>Total</th>\n",
       "      <th>HP</th>\n",
       "      <th>Attack</th>\n",
       "      <th>Defense</th>\n",
       "      <th>Sp. Atk</th>\n",
       "      <th>Sp. Def</th>\n",
       "      <th>Speed</th>\n",
       "    </tr>\n",
       "  </thead>\n",
       "  <tbody>\n",
       "    <tr>\n",
       "      <th>0</th>\n",
       "      <td>1</td>\n",
       "      <td>Bulbasaur</td>\n",
       "      <td>Grass</td>\n",
       "      <td>Poison</td>\n",
       "      <td>318</td>\n",
       "      <td>45</td>\n",
       "      <td>49</td>\n",
       "      <td>49</td>\n",
       "      <td>65</td>\n",
       "      <td>65</td>\n",
       "      <td>45</td>\n",
       "    </tr>\n",
       "    <tr>\n",
       "      <th>1</th>\n",
       "      <td>2</td>\n",
       "      <td>Ivysaur</td>\n",
       "      <td>Grass</td>\n",
       "      <td>Poison</td>\n",
       "      <td>405</td>\n",
       "      <td>60</td>\n",
       "      <td>62</td>\n",
       "      <td>63</td>\n",
       "      <td>80</td>\n",
       "      <td>80</td>\n",
       "      <td>60</td>\n",
       "    </tr>\n",
       "    <tr>\n",
       "      <th>2</th>\n",
       "      <td>3</td>\n",
       "      <td>Venusaur</td>\n",
       "      <td>Grass</td>\n",
       "      <td>Poison</td>\n",
       "      <td>525</td>\n",
       "      <td>80</td>\n",
       "      <td>82</td>\n",
       "      <td>83</td>\n",
       "      <td>100</td>\n",
       "      <td>100</td>\n",
       "      <td>80</td>\n",
       "    </tr>\n",
       "    <tr>\n",
       "      <th>3</th>\n",
       "      <td>3</td>\n",
       "      <td>VenusaurMega Venusaur</td>\n",
       "      <td>Grass</td>\n",
       "      <td>Poison</td>\n",
       "      <td>625</td>\n",
       "      <td>80</td>\n",
       "      <td>100</td>\n",
       "      <td>123</td>\n",
       "      <td>122</td>\n",
       "      <td>120</td>\n",
       "      <td>80</td>\n",
       "    </tr>\n",
       "    <tr>\n",
       "      <th>4</th>\n",
       "      <td>4</td>\n",
       "      <td>Charmander</td>\n",
       "      <td>Fire</td>\n",
       "      <td>NaN</td>\n",
       "      <td>309</td>\n",
       "      <td>39</td>\n",
       "      <td>52</td>\n",
       "      <td>43</td>\n",
       "      <td>60</td>\n",
       "      <td>50</td>\n",
       "      <td>65</td>\n",
       "    </tr>\n",
       "    <tr>\n",
       "      <th>...</th>\n",
       "      <td>...</td>\n",
       "      <td>...</td>\n",
       "      <td>...</td>\n",
       "      <td>...</td>\n",
       "      <td>...</td>\n",
       "      <td>...</td>\n",
       "      <td>...</td>\n",
       "      <td>...</td>\n",
       "      <td>...</td>\n",
       "      <td>...</td>\n",
       "      <td>...</td>\n",
       "    </tr>\n",
       "    <tr>\n",
       "      <th>795</th>\n",
       "      <td>719</td>\n",
       "      <td>Diancie</td>\n",
       "      <td>Rock</td>\n",
       "      <td>Fairy</td>\n",
       "      <td>600</td>\n",
       "      <td>50</td>\n",
       "      <td>100</td>\n",
       "      <td>150</td>\n",
       "      <td>100</td>\n",
       "      <td>150</td>\n",
       "      <td>50</td>\n",
       "    </tr>\n",
       "    <tr>\n",
       "      <th>796</th>\n",
       "      <td>719</td>\n",
       "      <td>DiancieMega Diancie</td>\n",
       "      <td>Rock</td>\n",
       "      <td>Fairy</td>\n",
       "      <td>700</td>\n",
       "      <td>50</td>\n",
       "      <td>high</td>\n",
       "      <td>110</td>\n",
       "      <td>160</td>\n",
       "      <td>110</td>\n",
       "      <td>110</td>\n",
       "    </tr>\n",
       "    <tr>\n",
       "      <th>797</th>\n",
       "      <td>720</td>\n",
       "      <td>HoopaHoopa Confined</td>\n",
       "      <td>Psychic</td>\n",
       "      <td>Ghost</td>\n",
       "      <td>600</td>\n",
       "      <td>80</td>\n",
       "      <td>110</td>\n",
       "      <td>60</td>\n",
       "      <td>150</td>\n",
       "      <td>130</td>\n",
       "      <td>70</td>\n",
       "    </tr>\n",
       "    <tr>\n",
       "      <th>798</th>\n",
       "      <td>720</td>\n",
       "      <td>HoopaHoopa Unbound</td>\n",
       "      <td>Psychic</td>\n",
       "      <td>Dark</td>\n",
       "      <td>680</td>\n",
       "      <td>80</td>\n",
       "      <td>high</td>\n",
       "      <td>60</td>\n",
       "      <td>170</td>\n",
       "      <td>130</td>\n",
       "      <td>80</td>\n",
       "    </tr>\n",
       "    <tr>\n",
       "      <th>799</th>\n",
       "      <td>721</td>\n",
       "      <td>Volcanion</td>\n",
       "      <td>Fire</td>\n",
       "      <td>Water</td>\n",
       "      <td>600</td>\n",
       "      <td>80</td>\n",
       "      <td>110</td>\n",
       "      <td>120</td>\n",
       "      <td>130</td>\n",
       "      <td>90</td>\n",
       "      <td>70</td>\n",
       "    </tr>\n",
       "  </tbody>\n",
       "</table>\n",
       "<p>800 rows × 11 columns</p>\n",
       "</div>"
      ],
      "text/plain": [
       "       #                   Name   Type 1  Type 2  Total  HP Attack  Defense  \\\n",
       "0      1              Bulbasaur    Grass  Poison    318  45     49       49   \n",
       "1      2                Ivysaur    Grass  Poison    405  60     62       63   \n",
       "2      3               Venusaur    Grass  Poison    525  80     82       83   \n",
       "3      3  VenusaurMega Venusaur    Grass  Poison    625  80    100      123   \n",
       "4      4             Charmander     Fire     NaN    309  39     52       43   \n",
       "..   ...                    ...      ...     ...    ...  ..    ...      ...   \n",
       "795  719                Diancie     Rock   Fairy    600  50    100      150   \n",
       "796  719    DiancieMega Diancie     Rock   Fairy    700  50   high      110   \n",
       "797  720    HoopaHoopa Confined  Psychic   Ghost    600  80    110       60   \n",
       "798  720     HoopaHoopa Unbound  Psychic    Dark    680  80   high       60   \n",
       "799  721              Volcanion     Fire   Water    600  80    110      120   \n",
       "\n",
       "     Sp. Atk  Sp. Def  Speed  \n",
       "0         65       65     45  \n",
       "1         80       80     60  \n",
       "2        100      100     80  \n",
       "3        122      120     80  \n",
       "4         60       50     65  \n",
       "..       ...      ...    ...  \n",
       "795      100      150     50  \n",
       "796      160      110    110  \n",
       "797      150      130     70  \n",
       "798      170      130     80  \n",
       "799      130       90     70  \n",
       "\n",
       "[800 rows x 11 columns]"
      ]
     },
     "execution_count": 195,
     "metadata": {},
     "output_type": "execute_result"
    }
   ],
   "source": [
    "df"
   ]
  },
  {
   "cell_type": "code",
   "execution_count": 10,
   "metadata": {},
   "outputs": [
    {
     "data": {
      "text/plain": [
       "0       49\n",
       "1       62\n",
       "2       82\n",
       "3      100\n",
       "4       52\n",
       "      ... \n",
       "795    100\n",
       "796    160\n",
       "797    110\n",
       "798    160\n",
       "799    110\n",
       "Name: Attack, Length: 800, dtype: int64"
      ]
     },
     "execution_count": 10,
     "metadata": {},
     "output_type": "execute_result"
    }
   ],
   "source": [
    "attac = df['Attack']\n",
    "attac"
   ]
  },
  {
   "cell_type": "code",
   "execution_count": 11,
   "metadata": {},
   "outputs": [
    {
     "data": {
      "text/plain": [
       "0       low\n",
       "1       mid\n",
       "2       mid\n",
       "3       mid\n",
       "4       mid\n",
       "       ... \n",
       "795     mid\n",
       "796    high\n",
       "797     mid\n",
       "798    high\n",
       "799     mid\n",
       "Name: Attack, Length: 800, dtype: object"
      ]
     },
     "execution_count": 11,
     "metadata": {},
     "output_type": "execute_result"
    }
   ],
   "source": [
    "attac.mask(attac>120, 'high').mask(attac<50, 'low').mask((attac>=50) & (attac<=120), 'mid')"
   ]
  },
  {
   "cell_type": "code",
   "execution_count": 9,
   "metadata": {},
   "outputs": [],
   "source": [
    "attr1 = df['Type 1']"
   ]
  },
  {
   "cell_type": "code",
   "execution_count": 12,
   "metadata": {},
   "outputs": [
    {
     "data": {
      "text/plain": [
       "0        GRASS\n",
       "1        GRASS\n",
       "2        GRASS\n",
       "3        GRASS\n",
       "4         FIRE\n",
       "        ...   \n",
       "795       ROCK\n",
       "796       ROCK\n",
       "797    PSYCHIC\n",
       "798    PSYCHIC\n",
       "799       FIRE\n",
       "Name: Type 1, Length: 800, dtype: object"
      ]
     },
     "execution_count": 12,
     "metadata": {},
     "output_type": "execute_result"
    }
   ],
   "source": [
    "attr1.replace({i: str.upper(i) for i in attr1})"
   ]
  },
  {
   "cell_type": "code",
   "execution_count": 15,
   "metadata": {},
   "outputs": [
    {
     "data": {
      "text/plain": [
       "0        GRASS\n",
       "1        GRASS\n",
       "2        GRASS\n",
       "3        GRASS\n",
       "4         FIRE\n",
       "        ...   \n",
       "795       ROCK\n",
       "796       ROCK\n",
       "797    PSYCHIC\n",
       "798    PSYCHIC\n",
       "799       FIRE\n",
       "Name: Type 1, Length: 800, dtype: object"
      ]
     },
     "execution_count": 15,
     "metadata": {},
     "output_type": "execute_result"
    }
   ],
   "source": [
    "attr1.apply(lambda tp: tp.upper())"
   ]
  },
  {
   "cell_type": "code",
   "execution_count": 20,
   "metadata": {},
   "outputs": [],
   "source": [
    "df['devi'] = df.iloc[:, 5:].max(1) - df.iloc[:, 5:].min(1)"
   ]
  },
  {
   "cell_type": "code",
   "execution_count": 23,
   "metadata": {},
   "outputs": [
    {
     "data": {
      "text/html": [
       "<div>\n",
       "<style scoped>\n",
       "    .dataframe tbody tr th:only-of-type {\n",
       "        vertical-align: middle;\n",
       "    }\n",
       "\n",
       "    .dataframe tbody tr th {\n",
       "        vertical-align: top;\n",
       "    }\n",
       "\n",
       "    .dataframe thead th {\n",
       "        text-align: right;\n",
       "    }\n",
       "</style>\n",
       "<table border=\"1\" class=\"dataframe\">\n",
       "  <thead>\n",
       "    <tr style=\"text-align: right;\">\n",
       "      <th></th>\n",
       "      <th>#</th>\n",
       "      <th>Name</th>\n",
       "      <th>Type 1</th>\n",
       "      <th>Type 2</th>\n",
       "      <th>Total</th>\n",
       "      <th>HP</th>\n",
       "      <th>Attack</th>\n",
       "      <th>Defense</th>\n",
       "      <th>Sp. Atk</th>\n",
       "      <th>Sp. Def</th>\n",
       "      <th>Speed</th>\n",
       "      <th>devi</th>\n",
       "    </tr>\n",
       "  </thead>\n",
       "  <tbody>\n",
       "    <tr>\n",
       "      <th>121</th>\n",
       "      <td>113</td>\n",
       "      <td>Chansey</td>\n",
       "      <td>Normal</td>\n",
       "      <td>NaN</td>\n",
       "      <td>450</td>\n",
       "      <td>250</td>\n",
       "      <td>5</td>\n",
       "      <td>5</td>\n",
       "      <td>35</td>\n",
       "      <td>105</td>\n",
       "      <td>50</td>\n",
       "      <td>245</td>\n",
       "    </tr>\n",
       "    <tr>\n",
       "      <th>261</th>\n",
       "      <td>242</td>\n",
       "      <td>Blissey</td>\n",
       "      <td>Normal</td>\n",
       "      <td>NaN</td>\n",
       "      <td>540</td>\n",
       "      <td>255</td>\n",
       "      <td>10</td>\n",
       "      <td>10</td>\n",
       "      <td>75</td>\n",
       "      <td>135</td>\n",
       "      <td>55</td>\n",
       "      <td>245</td>\n",
       "    </tr>\n",
       "    <tr>\n",
       "      <th>230</th>\n",
       "      <td>213</td>\n",
       "      <td>Shuckle</td>\n",
       "      <td>Bug</td>\n",
       "      <td>Rock</td>\n",
       "      <td>505</td>\n",
       "      <td>20</td>\n",
       "      <td>10</td>\n",
       "      <td>230</td>\n",
       "      <td>10</td>\n",
       "      <td>230</td>\n",
       "      <td>5</td>\n",
       "      <td>225</td>\n",
       "    </tr>\n",
       "    <tr>\n",
       "      <th>224</th>\n",
       "      <td>208</td>\n",
       "      <td>SteelixMega Steelix</td>\n",
       "      <td>Steel</td>\n",
       "      <td>Ground</td>\n",
       "      <td>610</td>\n",
       "      <td>75</td>\n",
       "      <td>125</td>\n",
       "      <td>230</td>\n",
       "      <td>55</td>\n",
       "      <td>95</td>\n",
       "      <td>30</td>\n",
       "      <td>200</td>\n",
       "    </tr>\n",
       "    <tr>\n",
       "      <th>333</th>\n",
       "      <td>306</td>\n",
       "      <td>AggronMega Aggron</td>\n",
       "      <td>Steel</td>\n",
       "      <td>NaN</td>\n",
       "      <td>630</td>\n",
       "      <td>70</td>\n",
       "      <td>140</td>\n",
       "      <td>230</td>\n",
       "      <td>60</td>\n",
       "      <td>80</td>\n",
       "      <td>50</td>\n",
       "      <td>180</td>\n",
       "    </tr>\n",
       "    <tr>\n",
       "      <th>...</th>\n",
       "      <td>...</td>\n",
       "      <td>...</td>\n",
       "      <td>...</td>\n",
       "      <td>...</td>\n",
       "      <td>...</td>\n",
       "      <td>...</td>\n",
       "      <td>...</td>\n",
       "      <td>...</td>\n",
       "      <td>...</td>\n",
       "      <td>...</td>\n",
       "      <td>...</td>\n",
       "      <td>...</td>\n",
       "    </tr>\n",
       "    <tr>\n",
       "      <th>396</th>\n",
       "      <td>362</td>\n",
       "      <td>Glalie</td>\n",
       "      <td>Ice</td>\n",
       "      <td>NaN</td>\n",
       "      <td>480</td>\n",
       "      <td>80</td>\n",
       "      <td>80</td>\n",
       "      <td>80</td>\n",
       "      <td>80</td>\n",
       "      <td>80</td>\n",
       "      <td>80</td>\n",
       "      <td>0</td>\n",
       "    </tr>\n",
       "    <tr>\n",
       "      <th>395</th>\n",
       "      <td>361</td>\n",
       "      <td>Snorunt</td>\n",
       "      <td>Ice</td>\n",
       "      <td>NaN</td>\n",
       "      <td>300</td>\n",
       "      <td>50</td>\n",
       "      <td>50</td>\n",
       "      <td>50</td>\n",
       "      <td>50</td>\n",
       "      <td>50</td>\n",
       "      <td>50</td>\n",
       "      <td>0</td>\n",
       "    </tr>\n",
       "    <tr>\n",
       "      <th>383</th>\n",
       "      <td>351</td>\n",
       "      <td>Castform</td>\n",
       "      <td>Normal</td>\n",
       "      <td>NaN</td>\n",
       "      <td>420</td>\n",
       "      <td>70</td>\n",
       "      <td>70</td>\n",
       "      <td>70</td>\n",
       "      <td>70</td>\n",
       "      <td>70</td>\n",
       "      <td>70</td>\n",
       "      <td>0</td>\n",
       "    </tr>\n",
       "    <tr>\n",
       "      <th>271</th>\n",
       "      <td>251</td>\n",
       "      <td>Celebi</td>\n",
       "      <td>Psychic</td>\n",
       "      <td>Grass</td>\n",
       "      <td>600</td>\n",
       "      <td>100</td>\n",
       "      <td>100</td>\n",
       "      <td>100</td>\n",
       "      <td>100</td>\n",
       "      <td>100</td>\n",
       "      <td>100</td>\n",
       "      <td>0</td>\n",
       "    </tr>\n",
       "    <tr>\n",
       "      <th>143</th>\n",
       "      <td>132</td>\n",
       "      <td>Ditto</td>\n",
       "      <td>Normal</td>\n",
       "      <td>NaN</td>\n",
       "      <td>288</td>\n",
       "      <td>48</td>\n",
       "      <td>48</td>\n",
       "      <td>48</td>\n",
       "      <td>48</td>\n",
       "      <td>48</td>\n",
       "      <td>48</td>\n",
       "      <td>0</td>\n",
       "    </tr>\n",
       "  </tbody>\n",
       "</table>\n",
       "<p>800 rows × 12 columns</p>\n",
       "</div>"
      ],
      "text/plain": [
       "       #                 Name   Type 1  Type 2  Total   HP  Attack  Defense  \\\n",
       "121  113              Chansey   Normal     NaN    450  250       5        5   \n",
       "261  242              Blissey   Normal     NaN    540  255      10       10   \n",
       "230  213              Shuckle      Bug    Rock    505   20      10      230   \n",
       "224  208  SteelixMega Steelix    Steel  Ground    610   75     125      230   \n",
       "333  306    AggronMega Aggron    Steel     NaN    630   70     140      230   \n",
       "..   ...                  ...      ...     ...    ...  ...     ...      ...   \n",
       "396  362               Glalie      Ice     NaN    480   80      80       80   \n",
       "395  361              Snorunt      Ice     NaN    300   50      50       50   \n",
       "383  351             Castform   Normal     NaN    420   70      70       70   \n",
       "271  251               Celebi  Psychic   Grass    600  100     100      100   \n",
       "143  132                Ditto   Normal     NaN    288   48      48       48   \n",
       "\n",
       "     Sp. Atk  Sp. Def  Speed  devi  \n",
       "121       35      105     50   245  \n",
       "261       75      135     55   245  \n",
       "230       10      230      5   225  \n",
       "224       55       95     30   200  \n",
       "333       60       80     50   180  \n",
       "..       ...      ...    ...   ...  \n",
       "396       80       80     80     0  \n",
       "395       50       50     50     0  \n",
       "383       70       70     70     0  \n",
       "271      100      100    100     0  \n",
       "143       48       48     48     0  \n",
       "\n",
       "[800 rows x 12 columns]"
      ]
     },
     "execution_count": 23,
     "metadata": {},
     "output_type": "execute_result"
    }
   ],
   "source": [
    "df.sort_values('devi', ascending=False)"
   ]
  },
  {
   "cell_type": "code",
   "execution_count": null,
   "metadata": {},
   "outputs": [],
   "source": []
  },
  {
   "cell_type": "code",
   "execution_count": null,
   "metadata": {},
   "outputs": [],
   "source": []
  },
  {
   "cell_type": "markdown",
   "metadata": {},
   "source": [
    "### Ex2：指数加权窗口\n",
    "1. 作为扩张窗口的`ewm`窗口\n",
    "\n",
    "在扩张窗口中，用户可以使用各类函数进行历史的累计指标统计，但这些内置的统计函数往往把窗口中的所有元素赋予了同样的权重。事实上，可以给出不同的权重来赋给窗口中的元素，指数加权窗口就是这样一种特殊的扩张窗口。\n",
    "\n",
    "其中，最重要的参数是`alpha`，它决定了默认情况下的窗口权重为$w_i=(1−\\alpha)^i,i\\in\\{0,1,...,t\\}$，其中$i=t$表示当前元素，$i=0$表示序列的第一个元素。\n",
    "\n",
    "从权重公式可以看出，离开当前值越远则权重越小，若记原序列为$x$，更新后的当前元素为$y_t$，此时通过加权公式归一化后可知：\n",
    "\n",
    "$$\n",
    "\\begin{split}y_t &=\\frac{\\sum_{i=0}^{t} w_i x_{t-i}}{\\sum_{i=0}^{t} w_i} \\\\\n",
    "&=\\frac{x_t + (1 - \\alpha)x_{t-1} + (1 - \\alpha)^2 x_{t-2} + ...\n",
    "+ (1 - \\alpha)^{t} x_{0}}{1 + (1 - \\alpha) + (1 - \\alpha)^2 + ...\n",
    "+ (1 - \\alpha)^{t}}\\\\\\end{split}\n",
    "$$\n",
    "\n",
    "对于`Series`而言，可以用`ewm`对象如下计算指数平滑后的序列："
   ]
  },
  {
   "cell_type": "code",
   "execution_count": 18,
   "metadata": {},
   "outputs": [
    {
     "data": {
      "text/plain": [
       "0   -1\n",
       "1   -1\n",
       "2   -2\n",
       "3   -2\n",
       "4   -2\n",
       "dtype: int32"
      ]
     },
     "execution_count": 18,
     "metadata": {},
     "output_type": "execute_result"
    }
   ],
   "source": [
    "np.random.seed(0)\n",
    "s = pd.Series(np.random.randint(-1,2,30).cumsum())\n",
    "s.head()"
   ]
  },
  {
   "cell_type": "code",
   "execution_count": 19,
   "metadata": {},
   "outputs": [
    {
     "data": {
      "text/plain": [
       "0    -1\n",
       "1    -1\n",
       "2    -2\n",
       "3    -2\n",
       "4    -2\n",
       "5    -1\n",
       "6    -2\n",
       "7    -1\n",
       "8    -2\n",
       "9    -3\n",
       "10   -4\n",
       "11   -3\n",
       "12   -3\n",
       "13   -2\n",
       "14   -1\n",
       "15   -2\n",
       "16   -2\n",
       "17   -2\n",
       "18   -2\n",
       "19   -2\n",
       "20   -3\n",
       "21   -3\n",
       "22   -4\n",
       "23   -5\n",
       "24   -5\n",
       "25   -4\n",
       "26   -5\n",
       "27   -4\n",
       "28   -5\n",
       "29   -5\n",
       "dtype: int32"
      ]
     },
     "execution_count": 19,
     "metadata": {},
     "output_type": "execute_result"
    }
   ],
   "source": [
    "s"
   ]
  },
  {
   "cell_type": "code",
   "execution_count": 20,
   "metadata": {},
   "outputs": [
    {
     "data": {
      "text/plain": [
       "0   -1.000000\n",
       "1   -1.000000\n",
       "2   -1.409836\n",
       "3   -1.609756\n",
       "4   -1.725845\n",
       "dtype: float64"
      ]
     },
     "execution_count": 20,
     "metadata": {},
     "output_type": "execute_result"
    }
   ],
   "source": [
    "s.ewm(alpha=0.2).mean().head()"
   ]
  },
  {
   "cell_type": "code",
   "execution_count": 24,
   "metadata": {},
   "outputs": [
    {
     "data": {
      "text/plain": [
       "30"
      ]
     },
     "execution_count": 24,
     "metadata": {},
     "output_type": "execute_result"
    }
   ],
   "source": [
    "s.shape[0]"
   ]
  },
  {
   "cell_type": "code",
   "execution_count": 21,
   "metadata": {},
   "outputs": [
    {
     "data": {
      "text/plain": [
       "0    -1.000000\n",
       "1    -1.000000\n",
       "2    -1.409836\n",
       "3    -1.609756\n",
       "4    -1.725845\n",
       "5    -1.529101\n",
       "6    -1.648273\n",
       "7    -1.492481\n",
       "8    -1.609720\n",
       "9    -1.921223\n",
       "10   -2.376048\n",
       "11   -2.510047\n",
       "12   -2.613738\n",
       "13   -2.485343\n",
       "14   -2.177441\n",
       "15   -2.140925\n",
       "16   -2.112091\n",
       "17   -2.089261\n",
       "18   -2.071148\n",
       "19   -2.056753\n",
       "20   -2.247158\n",
       "21   -2.398846\n",
       "22   -2.720978\n",
       "23   -3.178945\n",
       "24   -3.544537\n",
       "25   -3.635906\n",
       "26   -3.909386\n",
       "27   -3.927544\n",
       "28   -4.142368\n",
       "29   -4.314107\n",
       "dtype: float64"
      ]
     },
     "execution_count": 21,
     "metadata": {},
     "output_type": "execute_result"
    }
   ],
   "source": [
    "s.ewm(alpha=0.2).mean()"
   ]
  },
  {
   "cell_type": "code",
   "execution_count": 96,
   "metadata": {},
   "outputs": [],
   "source": [
    "def expo_wind(s, a=0.2):\n",
    "    # s, pandas series; a, 权重指数\n",
    "    expos = [(1-a)**t for t in range(s.shape[0])]\n",
    "    expos.reverse()\n",
    "    return np.array((expos * s)).sum() / np.array(expos).sum()"
   ]
  },
  {
   "cell_type": "code",
   "execution_count": 98,
   "metadata": {},
   "outputs": [
    {
     "data": {
      "text/plain": [
       "array([0.00154743, 0.00193428, 0.00241785, 0.00302231, 0.00377789,\n",
       "       0.00472237, 0.00590296, 0.0073787 , 0.00922337, 0.01152922,\n",
       "       0.01441152, 0.0180144 , 0.022518  , 0.0281475 , 0.03518437,\n",
       "       0.04398047, 0.05497558, 0.06871948, 0.08589935, 0.10737418,\n",
       "       0.13421773, 0.16777216, 0.2097152 , 0.262144  , 0.32768   ,\n",
       "       0.4096    , 0.512     , 0.64      , 0.8       , 1.        ])"
      ]
     },
     "execution_count": 98,
     "metadata": {},
     "output_type": "execute_result"
    }
   ],
   "source": [
    "(1-a) ** np.arange(s.shape[0])[::-1]"
   ]
  },
  {
   "cell_type": "code",
   "execution_count": 99,
   "metadata": {},
   "outputs": [
    {
     "data": {
      "text/plain": [
       "array([1.        , 0.8       , 0.64      , 0.512     , 0.4096    ,\n",
       "       0.32768   , 0.262144  , 0.2097152 , 0.16777216, 0.13421773,\n",
       "       0.10737418, 0.08589935, 0.06871948, 0.05497558, 0.04398047,\n",
       "       0.03518437, 0.0281475 , 0.022518  , 0.0180144 , 0.01441152,\n",
       "       0.01152922, 0.00922337, 0.0073787 , 0.00590296, 0.00472237,\n",
       "       0.00377789, 0.00302231, 0.00241785, 0.00193428, 0.00154743])"
      ]
     },
     "execution_count": 99,
     "metadata": {},
     "output_type": "execute_result"
    }
   ],
   "source": [
    "(1-a) ** np.arange(s.shape[0])"
   ]
  },
  {
   "cell_type": "code",
   "execution_count": 79,
   "metadata": {},
   "outputs": [
    {
     "data": {
      "text/plain": [
       "0    -1.000000\n",
       "1    -1.000000\n",
       "2    -1.409836\n",
       "3    -1.609756\n",
       "4    -1.725845\n",
       "5    -1.529101\n",
       "6    -1.648273\n",
       "7    -1.492481\n",
       "8    -1.609720\n",
       "9    -1.921223\n",
       "10   -2.376048\n",
       "11   -2.510047\n",
       "12   -2.613738\n",
       "13   -2.485343\n",
       "14   -2.177441\n",
       "15   -2.140925\n",
       "16   -2.112091\n",
       "17   -2.089261\n",
       "18   -2.071148\n",
       "19   -2.056753\n",
       "20   -2.247158\n",
       "21   -2.398846\n",
       "22   -2.720978\n",
       "23   -3.178945\n",
       "24   -3.544537\n",
       "25   -3.635906\n",
       "26   -3.909386\n",
       "27   -3.927544\n",
       "28   -4.142368\n",
       "29   -4.314107\n",
       "dtype: float64"
      ]
     },
     "execution_count": 79,
     "metadata": {},
     "output_type": "execute_result"
    }
   ],
   "source": [
    "s.expanding().apply(expo_wind)"
   ]
  },
  {
   "cell_type": "markdown",
   "metadata": {},
   "source": [
    "请用`expanding`窗口实现。\n",
    "\n",
    "2. 作为滑动窗口的`ewm`窗口\n",
    "\n",
    "从第1问中可以看到，`ewm`作为一种扩张窗口的特例，只能从序列的第一个元素开始加权。现在希望给定一个限制窗口`n`，只对包含自身的最近的`n`个元素作为窗口进行滑动加权平滑。请根据滑窗函数，给出新的`wi`与`yt`的更新公式，并通过`rolling`窗口实现这一功能。"
   ]
  },
  {
   "cell_type": "markdown",
   "metadata": {},
   "source": [
    "$$\n",
    "\\begin{split}y_t &=\\frac{\\sum_{i=0}^{n-1} w_i x_{t-i}}{\\sum_{i=0}^{n-1} w_i} \\\\\n",
    "&=\\frac{x_t + (1 - \\alpha)x_{t-1} + (1 - \\alpha)^2 x_{t-2} + ...\n",
    "+ (1 - \\alpha)^{n-1} x_{t-(n-1)}}{1 + (1 - \\alpha) + (1 - \\alpha)^2 + ...\n",
    "+ (1 - \\alpha)^{n-1}}\\\\\\end{split}\n",
    "$$"
   ]
  },
  {
   "cell_type": "code",
   "execution_count": 93,
   "metadata": {},
   "outputs": [],
   "source": [
    "n = 4\n",
    "roller = s.rolling(window=n)"
   ]
  },
  {
   "cell_type": "code",
   "execution_count": 94,
   "metadata": {},
   "outputs": [],
   "source": [
    "def expo_wind(s, a=0.2, n=n):\n",
    "    # s, pandas series; a, 权重指数; n, 滑动窗格长度\n",
    "    expos = [(1-a)**t for t in range(s.shape[0])][: n]\n",
    "    expos.reverse()\n",
    "    s = s[: n]\n",
    "    return np.array((expos * s)).sum() / np.array(expos).sum()"
   ]
  },
  {
   "cell_type": "code",
   "execution_count": 95,
   "metadata": {},
   "outputs": [
    {
     "data": {
      "text/plain": [
       "0          NaN\n",
       "1          NaN\n",
       "2          NaN\n",
       "3    -1.609756\n",
       "4    -1.826558\n",
       "5    -1.661247\n",
       "6    -1.728997\n",
       "7    -1.444444\n",
       "8    -1.555556\n",
       "9    -2.121951\n",
       "10   -2.775068\n",
       "11   -3.097561\n",
       "12   -3.216802\n",
       "13   -2.834688\n",
       "14   -2.051491\n",
       "15   -1.902439\n",
       "16   -1.783198\n",
       "17   -1.826558\n",
       "18   -2.000000\n",
       "19   -2.000000\n",
       "20   -2.338753\n",
       "21   -2.609756\n",
       "22   -3.165312\n",
       "23   -3.948509\n",
       "24   -4.436314\n",
       "25   -4.487805\n",
       "26   -4.728997\n",
       "27   -4.444444\n",
       "28   -4.555556\n",
       "29   -4.783198\n",
       "dtype: float64"
      ]
     },
     "execution_count": 95,
     "metadata": {},
     "output_type": "execute_result"
    }
   ],
   "source": [
    "roller.apply(expo_wind)"
   ]
  },
  {
   "cell_type": "code",
   "execution_count": null,
   "metadata": {},
   "outputs": [],
   "source": []
  }
 ],
 "metadata": {
  "kernelspec": {
   "display_name": "Python 3 (ipykernel)",
   "language": "python",
   "name": "python3"
  },
  "language_info": {
   "codemirror_mode": {
    "name": "ipython",
    "version": 3
   },
   "file_extension": ".py",
   "mimetype": "text/x-python",
   "name": "python",
   "nbconvert_exporter": "python",
   "pygments_lexer": "ipython3",
   "version": "3.9.12"
  },
  "latex_envs": {
   "LaTeX_envs_menu_present": true,
   "autoclose": false,
   "autocomplete": true,
   "bibliofile": "biblio.bib",
   "cite_by": "apalike",
   "current_citInitial": 1,
   "eqLabelWithNumbers": true,
   "eqNumInitial": 1,
   "hotkeys": {
    "equation": "Ctrl-E",
    "itemize": "Ctrl-I"
   },
   "labels_anchors": false,
   "latex_user_defs": false,
   "report_style_numbering": false,
   "user_envs_cfg": false
  },
  "toc": {
   "base_numbering": 1,
   "nav_menu": {},
   "number_sections": true,
   "sideBar": true,
   "skip_h1_title": true,
   "title_cell": "Table of Contents",
   "title_sidebar": "Contents",
   "toc_cell": false,
   "toc_position": {},
   "toc_section_display": true,
   "toc_window_display": false
  }
 },
 "nbformat": 4,
 "nbformat_minor": 2
}
