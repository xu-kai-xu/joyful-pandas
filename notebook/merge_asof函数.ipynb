{
 "cells": [
  {
   "cell_type": "code",
   "execution_count": null,
   "id": "927e4fdc",
   "metadata": {},
   "outputs": [],
   "source": []
  },
  {
   "cell_type": "code",
   "execution_count": null,
   "id": "7412d0a5",
   "metadata": {},
   "outputs": [],
   "source": [
    "target = pd.DataFrame(\n",
    "    {\n",
    "        \"Time\": df.index.shift(freq='-6H'),\n",
    "        \"Datetime\": df.index,\n",
    "    }\n",
    ")\n",
    "res = pd.merge_asof(\n",
    "    target,\n",
    "    df.reset_index().rename(columns={\"Datetime\": \"Time\"}),\n",
    "    left_on=\"Time\",\n",
    "    right_on=\"Time\",\n",
    "    direction=\"nearest\"\n",
    ").set_index(\"Datetime\").Radiation\n",
    "res"
   ]
  },
  {
   "cell_type": "code",
   "execution_count": null,
   "id": "301dd15a",
   "metadata": {},
   "outputs": [],
   "source": []
  }
 ],
 "metadata": {
  "kernelspec": {
   "display_name": "Python 3 (ipykernel)",
   "language": "python",
   "name": "python3"
  },
  "language_info": {
   "codemirror_mode": {
    "name": "ipython",
    "version": 3
   },
   "file_extension": ".py",
   "mimetype": "text/x-python",
   "name": "python",
   "nbconvert_exporter": "python",
   "pygments_lexer": "ipython3",
   "version": "3.9.12"
  }
 },
 "nbformat": 4,
 "nbformat_minor": 5
}
